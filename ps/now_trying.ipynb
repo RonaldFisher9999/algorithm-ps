{
 "cells": [
  {
   "cell_type": "code",
   "execution_count": 87,
   "id": "942cf397",
   "metadata": {},
   "outputs": [
    {
     "name": "stdout",
     "output_type": "stream",
     "text": [
      "55\n"
     ]
    }
   ],
   "source": [
    "# 달이 차오른다, 가자. https://www.acmicpc.net/problem/1194\n",
    "input = open(\"input.txt\").readline\n",
    "\n",
    "from collections import deque\n",
    "\n",
    "n, m = map(int, input().split())\n",
    "# graph = [input().rstrip() for _ in range(n)]\n",
    "graph = list()\n",
    "start = None\n",
    "for i in range(n):\n",
    "    row = list(input().rstrip())\n",
    "    if not start:\n",
    "        for j in range(m):\n",
    "            if row[j] == \"0\":\n",
    "                start = (i, j)\n",
    "                row[j] = \".\"\n",
    "    graph.append(row)\n",
    "\n",
    "def bfs(start, graph, n, m):\n",
    "    visited = [[[False for _ in range(1 << 6)] for _ in range(m)] for _ in range(n)]\n",
    "    # 열쇠보유상태, 이동횟수\n",
    "    state, step = 0, 0\n",
    "    q = deque([(start[0], start[1], state, step)])\n",
    "    dxy = [(0, 1), (0, -1), (1, 0), (-1, 0)]\n",
    "    \n",
    "    while q:\n",
    "        x, y, state, step = q.popleft()\n",
    "        for dx, dy in dxy:\n",
    "            nx, ny = x + dx, y + dy\n",
    "            new_state = state\n",
    "            # 범위 체크\n",
    "            if 0 <= nx < n and 0 <= ny < m:\n",
    "                now = graph[nx][ny]\n",
    "                # 출구\n",
    "                if now == \"1\":\n",
    "                    return step + 1\n",
    "                # 벽\n",
    "                if now == \"#\":\n",
    "                    continue\n",
    "                # 열쇠면 보유상태 업데이트\n",
    "                if now in \"abcdef\":\n",
    "                    new_state |= (1 << (\"abcdef\".index(now)))\n",
    "                # 문이면 보유상태 체크\n",
    "                if now in \"ABCDEF\":\n",
    "                    if not (state & (1 << (\"ABCDEF\".index(now)))):\n",
    "                        continue\n",
    "                # 방문처리\n",
    "                if not visited[nx][ny][new_state]:\n",
    "                    visited[nx][ny][new_state] = True\n",
    "                    q.append((nx, ny, new_state, step + 1))\n",
    "    # 출구 못 찾으면 -1    \n",
    "    return -1\n",
    "\n",
    "print(bfs(start, graph, n, m))"
   ]
  }
 ],
 "metadata": {
  "kernelspec": {
   "display_name": "Python 3 (ipykernel)",
   "language": "python",
   "name": "python3"
  },
  "language_info": {
   "codemirror_mode": {
    "name": "ipython",
    "version": 3
   },
   "file_extension": ".py",
   "mimetype": "text/x-python",
   "name": "python",
   "nbconvert_exporter": "python",
   "pygments_lexer": "ipython3",
   "version": "3.10.3"
  },
  "toc": {
   "base_numbering": 1,
   "nav_menu": {},
   "number_sections": true,
   "sideBar": true,
   "skip_h1_title": false,
   "title_cell": "Table of Contents",
   "title_sidebar": "Contents",
   "toc_cell": false,
   "toc_position": {},
   "toc_section_display": true,
   "toc_window_display": false
  },
  "varInspector": {
   "cols": {
    "lenName": 16,
    "lenType": 16,
    "lenVar": 40
   },
   "kernels_config": {
    "python": {
     "delete_cmd_postfix": "",
     "delete_cmd_prefix": "del ",
     "library": "var_list.py",
     "varRefreshCmd": "print(var_dic_list())"
    },
    "r": {
     "delete_cmd_postfix": ") ",
     "delete_cmd_prefix": "rm(",
     "library": "var_list.r",
     "varRefreshCmd": "cat(var_dic_list()) "
    }
   },
   "types_to_exclude": [
    "module",
    "function",
    "builtin_function_or_method",
    "instance",
    "_Feature"
   ],
   "window_display": false
  },
  "vscode": {
   "interpreter": {
    "hash": "dfacda2fdeeaacdd740fe5c66c89c97705c9508b64028ea0dce702e0ae9956cd"
   }
  }
 },
 "nbformat": 4,
 "nbformat_minor": 5
}
