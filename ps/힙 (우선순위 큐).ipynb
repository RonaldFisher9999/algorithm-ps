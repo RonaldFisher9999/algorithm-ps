{
 "cells": [
  {
   "cell_type": "markdown",
   "id": "08314e20",
   "metadata": {},
   "source": [
    "# 힙 (우선순위 큐)"
   ]
  },
  {
   "cell_type": "markdown",
   "id": "701b351e",
   "metadata": {},
   "source": [
    "## 백준 11279 최대 힙\n",
    "https://www.acmicpc.net/problem/11279"
   ]
  },
  {
   "cell_type": "code",
   "execution_count": null,
   "id": "3f999b5a",
   "metadata": {},
   "outputs": [],
   "source": [
    "import heapq\n",
    "\n",
    "q = []\n",
    "n = int(input())\n",
    "for _ in range(n) :\n",
    "    command = int(input())\n",
    "    if command == 0 :\n",
    "        if q :\n",
    "            print(-heapq.heappop(q))\n",
    "        else :\n",
    "            print(0)\n",
    "    else :\n",
    "        heapq.heappush(q, -command)"
   ]
  },
  {
   "cell_type": "markdown",
   "id": "2d074a9f",
   "metadata": {},
   "source": [
    "## 백준 1715 카드 정렬하기\n",
    "https://www.acmicpc.net/problem/1715"
   ]
  },
  {
   "cell_type": "code",
   "execution_count": null,
   "id": "ac428f32",
   "metadata": {},
   "outputs": [],
   "source": [
    "import heapq\n",
    "\n",
    "n = int(input())\n",
    "q = []\n",
    "for _ in range(n) :\n",
    "    size = int(input())\n",
    "    heapq.heappush(q, size)\n",
    "\n",
    "sol = 0\n",
    "# 10 15 18 20 30\n",
    "while len(q) > 1 :\n",
    "    size_now = 0\n",
    "    size_now += heapq.heappop(q)\n",
    "    size_now += heapq.heappop(q)\n",
    "    sol += size_now\n",
    "    heapq.heappush(q, size_now)\n",
    "\n",
    "print(sol)"
   ]
  },
  {
   "cell_type": "markdown",
   "id": "20a2d082",
   "metadata": {},
   "source": [
    "## 백준 1927 최소 힙\n",
    "https://www.acmicpc.net/problem/1927"
   ]
  },
  {
   "cell_type": "code",
   "execution_count": null,
   "id": "c8d7f401",
   "metadata": {},
   "outputs": [],
   "source": [
    "import heapq\n",
    "\n",
    "q = []\n",
    "n = int(input())\n",
    "for _ in range(n) :\n",
    "    command = int(input())\n",
    "    if command == 0 :\n",
    "        if q :\n",
    "            print(heapq.heappop(q))\n",
    "        else :\n",
    "            print(0)\n",
    "    else :\n",
    "        heapq.heappus(q, command)"
   ]
  },
  {
   "cell_type": "markdown",
   "id": "2c53d3f4",
   "metadata": {},
   "source": [
    "## 백준 11286 절댓값 힙\n",
    "https://www.acmicpc.net/problem/11286"
   ]
  },
  {
   "cell_type": "code",
   "execution_count": null,
   "id": "a7e4bab2",
   "metadata": {},
   "outputs": [],
   "source": [
    "import heapq\n",
    "\n",
    "q = []\n",
    "n = int(input())\n",
    "for _ in range(n) :\n",
    "    command = int(input())\n",
    "    if command == 0 :\n",
    "        if q :\n",
    "            print(heapq.heappop(q)[1])\n",
    "        else :\n",
    "            print(0)\n",
    "    else :\n",
    "        heapq.heappush(q, (abs(command), command))"
   ]
  },
  {
   "cell_type": "markdown",
   "id": "883db51b",
   "metadata": {},
   "source": [
    "## 백준 7662 이중 우선순위 큐\n",
    "https://www.acmicpc.net/problem/7662  \n",
    "프로그래머스 이중우선순위큐  \n",
    "https://school.programmers.co.kr/learn/courses/30/lessons/42628"
   ]
  },
  {
   "cell_type": "code",
   "execution_count": null,
   "id": "f2eed366",
   "metadata": {},
   "outputs": [],
   "source": [
    "import heapq\n",
    "\n",
    "t = int(input())\n",
    "for t_num in range(t) :\n",
    "    n = int(input())\n",
    "    maxh, minh = [], []\n",
    "    valid = [False] * n\n",
    "    for i in range(n) :\n",
    "        order = input().split()\n",
    "        if order[0] == 'I' :\n",
    "            heapq.heappush(maxh, (-int(order[1]), i))\n",
    "            heapq.heappush(minh, (int(order[1]), i))\n",
    "            valid[i] = True\n",
    "        else :  # order[0] == 'D'\n",
    "            # 최소값 삭제\n",
    "            if order[1] == '-1' :\n",
    "                # 최대값 삭제될 때 삭제되어서 valid[i] == False 인 값은 버림\n",
    "                while minh and not valid[minh[0][1]] :\n",
    "                    heapq.heappop(minh)\n",
    "                if minh :\n",
    "                    valid[minh[0][1]] = False\n",
    "                    heapq.heappop(minh)\n",
    "            # 최대값 삭제\n",
    "            else :\n",
    "                # 최소값 삭제될 때 삭제되어서 valid[i] == False 인 값은 버림\n",
    "                while maxh and not valid[maxh[0][1]] :\n",
    "                    heapq.heappop(maxh)\n",
    "                if maxh :\n",
    "                    valid[maxh[0][1]] = False\n",
    "                    heapq.heappop(maxh)\n",
    "    # valid == False인 값들 다 버림\n",
    "    while minh and not valid[minh[0][1]] :\n",
    "        heapq.heappop(minh)\n",
    "    while maxh and not valid[maxh[0][1]] :\n",
    "        heapq.heappop(maxh)\n",
    "    # 출력\n",
    "    if maxh :\n",
    "        print(-heapq.heappop(maxh)[0], heapq.heappop(minh)[0])\n",
    "    else :\n",
    "        print(\"EMPTY\")"
   ]
  },
  {
   "cell_type": "code",
   "execution_count": null,
   "id": "e97b3721",
   "metadata": {},
   "outputs": [],
   "source": [
    "# 프로그래머스 이중우선순위큐\n",
    "# https://school.programmers.co.kr/learn/courses/30/lessons/42628\n",
    "\n",
    "import heapq\n",
    "\n",
    "def solution(operations):\n",
    "    answer = []\n",
    "    n = len(operations)\n",
    "    maxh, minh = [], []\n",
    "    valid = [False] * n\n",
    "    for i in range(n) :\n",
    "        op = operations[i].split()\n",
    "        if op[0] == \"I\" :\n",
    "            heapq.heappush(maxh, (-int(op[1]), i))\n",
    "            heapq.heappush(minh, (int(op[1]), i))\n",
    "            valid[i] = True\n",
    "        else :\n",
    "            if op[1] == \"-1\" :\n",
    "                while minh and not valid[minh[0][1]] :\n",
    "                    heapq.heappop(minh)\n",
    "                if minh :\n",
    "                    valid[minh[0][1]] = False\n",
    "                    heapq.heappop(minh)\n",
    "            else :\n",
    "                while maxh and not valid[maxh[0][1]] :\n",
    "                    heapq.heappop(maxh)\n",
    "                if maxh :\n",
    "                    valid[maxh[0][1]] = False\n",
    "                    heapq.heappop(maxh)\n",
    "    while minh and not valid[minh[0][1]] :\n",
    "        heapq.heappop(minh)\n",
    "    while maxh and not valid[maxh[0][1]] :\n",
    "        heapq.heappop(maxh)\n",
    "    if maxh :\n",
    "        answer.append(-heapq.heappop(maxh)[0])\n",
    "        answer.append(heapq.heappop(minh)[0])\n",
    "    else :\n",
    "        answer = [0, 0]\n",
    "        \n",
    "    return answer\n",
    "\n",
    "operations = [\"I -45\", \"I 653\", \"D 1\", \"I -642\", \"I 45\", \"I 97\", \"D 1\", \"D -1\", \"I 333\"]\n",
    "# operations = [\"I 16\", \"I -5643\", \"D -1\", \"D 1\", \"D 1\", \"I 123\", \"D -1\"]\n",
    "print(solution(operations))"
   ]
  },
  {
   "cell_type": "markdown",
   "id": "6da2dd8c",
   "metadata": {},
   "source": [
    "## 프로그래머스 신입사원 교육\n",
    "https://school.programmers.co.kr/learn/courses/15009/lessons/121688"
   ]
  },
  {
   "cell_type": "code",
   "execution_count": null,
   "id": "445195c2",
   "metadata": {},
   "outputs": [],
   "source": [
    "import heapq\n",
    "\n",
    "def solution(ability, number):\n",
    "    answer = sum(ability)\n",
    "    heapq.heapify(ability)\n",
    "    while number :\n",
    "        upgrade = 0\n",
    "        upgrade += heapq.heappop(ability)\n",
    "        upgrade += heapq.heappop(ability)\n",
    "        answer += upgrade\n",
    "        heapq.heappush(ability, upgrade)\n",
    "        heapq.heappush(ability, upgrade)\n",
    "        number -= 1\n",
    "    return answer"
   ]
  },
  {
   "cell_type": "markdown",
   "id": "01c56f2b",
   "metadata": {},
   "source": [
    "## 프로그래머스 야근 지수\n",
    "https://school.programmers.co.kr/learn/courses/30/lessons/12927"
   ]
  },
  {
   "cell_type": "code",
   "execution_count": null,
   "id": "4f887f77",
   "metadata": {},
   "outputs": [],
   "source": [
    "import heapq\n",
    "\n",
    "def solution(n, works) :\n",
    "    if sum(works) <= n :\n",
    "        return 0\n",
    "    if len(works) == 1 :\n",
    "        return (works[0] - n) ** 2\n",
    "    q = [-w for w in works]\n",
    "    heapq.heapify(q)\n",
    "    max_1 = -heapq.heappop(q)\n",
    "    max_2 = -heapq.heappop(q)\n",
    "    while n > 0 :\n",
    "        # 현 최대값이 최대값이 아니게 될 때까지, n이 남아 있는 만큼 빼줌\n",
    "        sub = min(max_1 - max_2 + 1, n)\n",
    "        max_1 -= sub\n",
    "        heapq.heappush(q, -max_1)\n",
    "        max_1, max_2 = max_2, -heapq.heappop(q)\n",
    "        n -= sub\n",
    "    q.extend([-max_1, -max_2])\n",
    "    answer = sum(map(lambda x : x ** 2, q))\n",
    "    return answer"
   ]
  }
 ],
 "metadata": {
  "kernelspec": {
   "display_name": "Python 3 (ipykernel)",
   "language": "python",
   "name": "python3"
  },
  "language_info": {
   "codemirror_mode": {
    "name": "ipython",
    "version": 3
   },
   "file_extension": ".py",
   "mimetype": "text/x-python",
   "name": "python",
   "nbconvert_exporter": "python",
   "pygments_lexer": "ipython3",
   "version": "3.9.13"
  },
  "toc": {
   "base_numbering": 1,
   "nav_menu": {},
   "number_sections": true,
   "sideBar": true,
   "skip_h1_title": false,
   "title_cell": "Table of Contents",
   "title_sidebar": "Contents",
   "toc_cell": false,
   "toc_position": {},
   "toc_section_display": true,
   "toc_window_display": true
  },
  "varInspector": {
   "cols": {
    "lenName": 16,
    "lenType": 16,
    "lenVar": 40
   },
   "kernels_config": {
    "python": {
     "delete_cmd_postfix": "",
     "delete_cmd_prefix": "del ",
     "library": "var_list.py",
     "varRefreshCmd": "print(var_dic_list())"
    },
    "r": {
     "delete_cmd_postfix": ") ",
     "delete_cmd_prefix": "rm(",
     "library": "var_list.r",
     "varRefreshCmd": "cat(var_dic_list()) "
    }
   },
   "types_to_exclude": [
    "module",
    "function",
    "builtin_function_or_method",
    "instance",
    "_Feature"
   ],
   "window_display": false
  }
 },
 "nbformat": 4,
 "nbformat_minor": 5
}
