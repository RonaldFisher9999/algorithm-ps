{
 "cells": [
  {
   "cell_type": "markdown",
   "id": "679b9516",
   "metadata": {},
   "source": [
    "# 그리디"
   ]
  },
  {
   "cell_type": "markdown",
   "id": "7e21ed39",
   "metadata": {},
   "source": [
    "## 백준 1541 잃어버린 괄호\n",
    "https://www.acmicpc.net/problem/1541"
   ]
  },
  {
   "cell_type": "code",
   "execution_count": null,
   "id": "cf1ed1eb",
   "metadata": {},
   "outputs": [],
   "source": [
    "# 5(5-50)+40 같은 형태는 안됨\n",
    "\n",
    "expression = input().split(\"-\")\n",
    "# print(expression)\n",
    "# expression = ['10+30', '40+60', '5+20', '40', '10']\n",
    "result = sum(map(int, expression[0].split(\"+\")))\n",
    "# print(result)\n",
    "for term in expression[1:] :\n",
    "    term_sum = sum(map(int, term.split(\"+\")))\n",
    "    result -= term_sum\n",
    "\n",
    "print(result)"
   ]
  },
  {
   "cell_type": "markdown",
   "id": "401c58c5",
   "metadata": {},
   "source": [
    "## 백준 1931 회의실 배정\n",
    "https://www.acmicpc.net/problem/1931\n",
    "- 증명 : https://youtu.be/vw4gqeM4UGs\n",
    "- 끝나는 시간이 빠른 순으로 정렬, 끝나는 시간이 같으면 시작 시간이 빠른 순으로 정렬\n",
    "- (1, 2), (2, 2) 있을 때 시작 시간이 빠른 (1, 2)가 앞에 있어야 둘 다 회의 가능"
   ]
  },
  {
   "cell_type": "code",
   "execution_count": null,
   "id": "848306a0",
   "metadata": {},
   "outputs": [],
   "source": [
    "n = int(input())\n",
    "schedules = [tuple(map(int, input().split())) for _ in range(n)]\n",
    "# schedules = [(0, 6), (3, 5), (5, 7), (3, 8), (5, 9), (6, 10), (8, 11), (8, 12), (1, 4), (2, 13), (12, 14)]\n",
    "\n",
    "schedules.sort(key=lambda x : (x[1], x[0]))\n",
    "\n",
    "end = 0\n",
    "cnt = 0\n",
    "for i, j in schedules :\n",
    "    # 현재 마지막 회의 종료 시간 이후 가장 빠르게 시작하는 회의 선택\n",
    "    if i >= end :\n",
    "        # 회의 종료 시간 변경\n",
    "        end = j\n",
    "        cnt += 1\n",
    "print(cnt)"
   ]
  },
  {
   "cell_type": "markdown",
   "id": "c1954756",
   "metadata": {
    "ExecuteTime": {
     "end_time": "2023-02-02T00:28:59.166584Z",
     "start_time": "2023-02-02T00:28:59.156607Z"
    }
   },
   "source": [
    "## 백준 1083 소트\n",
    "https://www.acmicpc.net/problem/1083\n",
    "- 현재 인덱스 i부터 남은 s만큼의 범위에서 최대값 탐색\n",
    "- 그 최대값이 array[i]보다 크면 연속된 원소들을 교환하여 array[i]자리에 데려오고\n",
    "- 원소 교환한 횟수만큼 s에서 빼줌"
   ]
  },
  {
   "cell_type": "code",
   "execution_count": null,
   "id": "8a530436",
   "metadata": {},
   "outputs": [],
   "source": [
    "n = int(input())\n",
    "array = list(map(int, input().split()))\n",
    "# array = [19, 20, 17, 18, 15, 16, 13, 14, 11, 12]\n",
    "# array = [1, 5, 2, 3, 4]\n",
    "s = int(input())\n",
    "\n",
    "for i in range(n) :\n",
    "    if s == 0 :\n",
    "        break\n",
    "    else :\n",
    "        cur_max = max(array[i:i + s + 1])\n",
    "        if array[i] < cur_max and s > 0 :\n",
    "            idx = array.index(cur_max)\n",
    "            array[i + 1:idx + 1] = array[i:idx]\n",
    "            array[i] = cur_max\n",
    "            s -= idx - i\n",
    "        \n",
    "print(*array)"
   ]
  },
  {
   "cell_type": "markdown",
   "id": "4e6ec930",
   "metadata": {},
   "source": [
    "## 프로그래머스 구명 보트\n",
    "https://school.programmers.co.kr/learn/courses/30/lessons/42885"
   ]
  },
  {
   "cell_type": "code",
   "execution_count": null,
   "id": "e77365c1",
   "metadata": {},
   "outputs": [],
   "source": [
    "def solution(people, limit):\n",
    "    answer = 0\n",
    "    people.sort()\n",
    "    light = 0\n",
    "    heavy = len(people) - 1\n",
    "    while light <= end :\n",
    "        # 가장 가벼운 사람 + 무거운 사람으로 보트에 태울 수 있으면 태움\n",
    "        if people[light] + people[heavy] <= limit :\n",
    "            answer += 1\n",
    "            light += 1\n",
    "            heavy -= 1\n",
    "        # 안되면 무거운 사람만 보트에 태움\n",
    "        else :\n",
    "            heavy -= 1\n",
    "            answer += 1\n",
    "    return answer"
   ]
  },
  {
   "cell_type": "markdown",
   "id": "8701c38a",
   "metadata": {},
   "source": [
    "## 프로그래머스 단속카메라\n",
    "https://school.programmers.co.kr/learn/courses/30/lessons/42884\n",
    "- 차량 진출 지점 기준으로 정렬\n",
    "- 첫번재 차량의 진출 지점에 첫 카메라 설치\n",
    "- 이후 순서대로 차량의 진입/진출 지점을 검사\n",
    "- 카메라에 걸리지 않는 차가 있으면 해당 차의 진출 지점에 다음 카메라 설치"
   ]
  },
  {
   "cell_type": "code",
   "execution_count": null,
   "id": "8ffab4b5",
   "metadata": {},
   "outputs": [],
   "source": [
    "def solution(routes) :\n",
    "    routes.sort(key=lambda x : x[1])\n",
    "    camera = [routes[0][1]]\n",
    "    for i in range(1, len(routes)) :\n",
    "        if routes[i][0] <= camera[-1] <= routes[i][1] :\n",
    "            continue\n",
    "        else :\n",
    "            camera.append(routes[i][1])\n",
    "    return len(camera)"
   ]
  },
  {
   "cell_type": "markdown",
   "id": "b9af2e18",
   "metadata": {},
   "source": [
    "## 백준 1339 단어 수학\n",
    "https://www.acmicpc.net/problem/1339\n",
    "- 최대 자리수만 보고 정렬하면 오답  \n",
    "10  \n",
    "ABB  \n",
    "BB  \n",
    "BB  \n",
    "BB  \n",
    "BB  \n",
    "BB  \n",
    "BB  \n",
    "BB  \n",
    "BB  \n",
    "BB\n",
    "- 각 알파벳이 자리수에 따라 얼마나 나왔는지 기록(가중치 기록)  \n",
    "    ex) A가 천의 자리 3번, 십의 자리 1번, 일의 자리 1번 -> 3011\n",
    "- 가중치가 높은 순서로 정렬 후 앞에서부터 9, 8, 7... 차례로 곱해줌\n"
   ]
  },
  {
   "cell_type": "code",
   "execution_count": null,
   "id": "141b74df",
   "metadata": {},
   "outputs": [],
   "source": [
    "# f = open(\"input.txt\")\n",
    "# input = f.readline\n",
    "\n",
    "from collections import defaultdict\n",
    "\n",
    "n = int(input())\n",
    "alph_dict = defaultdict(int)\n",
    "for _ in range(n) :\n",
    "    num = input().rstrip()\n",
    "    for i in range(len(num)) :\n",
    "        alph_dict[num[i]] += 10 ** (len(num) - 1 - i)\n",
    "\n",
    "alph_dict = dict(sorted(alph_dict.items(), key=lambda x : x[1], reverse=True))\n",
    "\n",
    "sol = 0\n",
    "x = 9\n",
    "for alph in alph_dict :\n",
    "    sol += alph_dict[alph] * x\n",
    "    x -= 1\n",
    "print(sol)"
   ]
  },
  {
   "cell_type": "markdown",
   "id": "8d07c139",
   "metadata": {},
   "source": [
    "## 백준 13305 주유소\n",
    "https://www.acmicpc.net/problem/13305"
   ]
  },
  {
   "cell_type": "code",
   "execution_count": null,
   "id": "c8c880b9",
   "metadata": {},
   "outputs": [],
   "source": [
    "n = int(input())\n",
    "routes = list(map(int, input().split()))\n",
    "price = list(map(int, input().split()))\n",
    "price.pop()\n",
    "\n",
    "for i in range(n-2) :\n",
    "    if price[i+1] > price[i] :\n",
    "        price[i+1] = price[i]\n",
    "        \n",
    "print(sum([r * p for r, p in zip(routes, price)]))"
   ]
  },
  {
   "cell_type": "markdown",
   "id": "a4056d01",
   "metadata": {},
   "source": [
    "## 백준 1946 신입사원\n",
    "https://www.acmicpc.net/problem/1946"
   ]
  },
  {
   "cell_type": "code",
   "execution_count": null,
   "id": "ea5714bc",
   "metadata": {},
   "outputs": [],
   "source": [
    "t = int(input())\n",
    "for _ in range(t) :\n",
    "    n = int(input())\n",
    "    people = [tuple(map(int, input().split())) for _ in range(n)]\n",
    "    rank = sorted(people)\n",
    "    cnt = 0\n",
    "    min_rank = int(1e9)\n",
    "    for i in range(n) :\n",
    "        if min_rank < rank[i][1] :\n",
    "            continue\n",
    "        else :\n",
    "            cnt += 1\n",
    "            min_rank = rank[i][1]    \n",
    "    print(cnt)"
   ]
  },
  {
   "cell_type": "markdown",
   "id": "64d31b6a",
   "metadata": {},
   "source": [
    "## 백준 1202 보석도둑\n",
    "https://www.acmicpc.net/problem/1202\n",
    "- 용량이 작은 가방부터\n",
    "- 가방안에 넣을 수 있는 보석의 가치를 따로 우선순위 큐에 저장\n",
    "- 최대 가치의 보석을 가방에 넣어줌\n",
    "- 다음 가방에서 대상에 맞는 보석을 탐색할 때 큐에 남아있는 보석들은 이미 그 가방에 들어갈 수 있음"
   ]
  },
  {
   "cell_type": "code",
   "execution_count": null,
   "id": "a6661f7b",
   "metadata": {},
   "outputs": [],
   "source": [
    "import heapq\n",
    "\n",
    "n, k = map(int, input().split())\n",
    "jewels = list()\n",
    "for _ in range(n) :\n",
    "    jewels.append(tuple(map(int, input().split())))\n",
    "# 무게 역순으로 정렬(pop 하기 위해서)\n",
    "jewels.sort(reverse=True)\n",
    "\n",
    "bags = list()\n",
    "for _ in range(k) :\n",
    "    bag = int(input())\n",
    "    bags.append(bag)\n",
    "bags.sort()\n",
    "\n",
    "answer = 0\n",
    "q = list()\n",
    "for bag in bags :\n",
    "    while jewels and jewels[-1][0] <= bag :\n",
    "        # 현 가방에 들어갈 수 있는 보석 중 무게가 가벼운 보석부터 pop\n",
    "        weight, value = jewels.pop()\n",
    "        heapq.heappush(q, -value)\n",
    "    if not q :\n",
    "        continue\n",
    "    answer += -heapq.heappop(q)\n",
    "print(answer)"
   ]
  },
  {
   "cell_type": "markdown",
   "id": "da50b6e5",
   "metadata": {},
   "source": [
    "## 백준 1744 수 묶기\n",
    "https://www.acmicpc.net/problem/1744"
   ]
  },
  {
   "cell_type": "code",
   "execution_count": null,
   "id": "80361f94",
   "metadata": {},
   "outputs": [],
   "source": [
    "import heapq\n",
    "\n",
    "n = int(input())\n",
    "pos = list()\n",
    "neg = list()\n",
    "answer = 0\n",
    "for _ in range(n) :\n",
    "    num = int(input())\n",
    "    if num <= 0 :\n",
    "        heapq.heappush(neg, num)\n",
    "    elif num > 1 :\n",
    "        heapq.heappush(pos, -num)\n",
    "    else :\n",
    "        answer += 1\n",
    "        \n",
    "while len(neg) > 1 :\n",
    "    neg_1 = heapq.heappop(neg)\n",
    "    neg_2 = heapq.heappop(neg)\n",
    "    answer += neg_1 * neg_2\n",
    "if neg :\n",
    "    answer += neg[0]\n",
    "\n",
    "while len(pos) > 1 :\n",
    "    pos_1 = heapq.heappop(pos)\n",
    "    pos_2 = heapq.heappop(pos)\n",
    "    answer += pos_1 * pos_2\n",
    "if pos :\n",
    "    answer += -pos[0]\n",
    "\n",
    "print(answer)"
   ]
  },
  {
   "cell_type": "markdown",
   "id": "a10f0f00",
   "metadata": {},
   "source": [
    "## 백준 11000 강의실 배정\n",
    "https://www.acmicpc.net/problem/11000\n",
    "- 시작 시간 순으로 정렬\n",
    "- 강의실 별 끝나는 시간을 우선순위 큐에 저장"
   ]
  },
  {
   "cell_type": "code",
   "execution_count": null,
   "id": "fd3f8194",
   "metadata": {},
   "outputs": [],
   "source": [
    "# f = open(\"input.txt\")\n",
    "# input = f.readline\n",
    "\n",
    "import heapq\n",
    "\n",
    "n = int(input())\n",
    "classes = [tuple(map(int, input().split())) for _ in range(n)]\n",
    "classes.sort()\n",
    "# classes.sort(key=lambda x : (x[1], x[0]))\n",
    "# 반례 : [(2, 4), (1, 5), (5, 6), (4, 8)]\n",
    "\n",
    "ends = [classes[0][1]]\n",
    "\n",
    "for i in range(1, n) :\n",
    "    start, end = classes[i]\n",
    "    if start >= ends[0] :\n",
    "        heapq.heappop(ends)\n",
    "    heapq.heappush(ends, end)\n",
    "    \n",
    "print(len(ends))"
   ]
  },
  {
   "cell_type": "markdown",
   "id": "288d04dd",
   "metadata": {},
   "source": [
    "## 백준 2437 저울\n",
    "https://www.acmicpc.net/problem/2437"
   ]
  },
  {
   "cell_type": "code",
   "execution_count": null,
   "id": "33219a83",
   "metadata": {},
   "outputs": [],
   "source": [
    "n = int(input())\n",
    "weights = sorted(map(int, input().split()))\n",
    "\n",
    "max_w = 0\n",
    "answer = 0\n",
    "for i in range(n) :\n",
    "    if weights[i] > max_w + 1 :\n",
    "        break\n",
    "    else :\n",
    "        max_w += weights[i]\n",
    "print(max_w + 1)"
   ]
  },
  {
   "cell_type": "markdown",
   "id": "a576d1b8",
   "metadata": {},
   "source": [
    "## 백준 2212 센서\n",
    "https://www.acmicpc.net/problem/2212"
   ]
  },
  {
   "cell_type": "code",
   "execution_count": null,
   "id": "c80aaa74",
   "metadata": {},
   "outputs": [],
   "source": [
    "n = int(input())\n",
    "k = int(input())\n",
    "arr = sorted((map(int, input().split())))\n",
    "\n",
    "if k >= n :\n",
    "    print(0)\n",
    "else :\n",
    "    diff_q = list()\n",
    "    for i in range(1, n) :\n",
    "        diff_q.append(arr[i] - arr[i-1])\n",
    "    diff_q.sort()\n",
    "    answer = arr[-1] - arr[0]\n",
    "    for _ in range(k-1) :\n",
    "        answer -= diff_q.pop()\n",
    "    print(answer)"
   ]
  },
  {
   "cell_type": "markdown",
   "id": "2d3769f6",
   "metadata": {
    "ExecuteTime": {
     "end_time": "2023-02-20T09:46:41.851931Z",
     "start_time": "2023-02-20T09:46:41.841995Z"
    }
   },
   "source": [
    "## 백준 13904 과제\n",
    "https://www.acmicpc.net/problem/13904\n",
    "- 점수가 높은 순서대로 과제 정렬\n",
    "- 점수가 높은 과제부터 가능한 늦게(마감일에 가깝게) 제출"
   ]
  },
  {
   "cell_type": "code",
   "execution_count": null,
   "id": "52af77a8",
   "metadata": {},
   "outputs": [],
   "source": [
    "n = int(input())\n",
    "hw = []\n",
    "max_d = 0\n",
    "for _ in range(n) :\n",
    "    d, w = map(int, input().split())\n",
    "    hw.append((w, d))\n",
    "    max_d = max(max_d, d)\n",
    "hw.sort()\n",
    "\n",
    "arr = [0] * (max_d + 1)\n",
    "answer = 0\n",
    "while hw :\n",
    "    w, d = hw.pop()\n",
    "    for i in range(d, 0, -1) :\n",
    "        if arr[i] == 0 :\n",
    "            arr[i] = w\n",
    "            answer += w\n",
    "            break\n",
    "\n",
    "print(answer)"
   ]
  },
  {
   "cell_type": "markdown",
   "id": "bc00b6cd",
   "metadata": {},
   "source": [
    "- 우선순위 큐 사용\n",
    "- 마감일 빠른 순으로 정렬\n",
    "- 점수만을 저장하는 w_q 초기화\n",
    "- w_q의 길이가 현재 숙제의 마감일보다 작으면\n",
    "    - 현재 숙제는 무조건 할 수 있으므로 w_q에 w 추가\n",
    "- 그렇지 않으면 마감일이 겹치는 숙제가 있으므로\n",
    "    - 현재 w가 w_q의 가장 작은값보다 크면 w_q에 추가\n",
    "- w_q의 합 출력"
   ]
  },
  {
   "cell_type": "code",
   "execution_count": null,
   "id": "32e284a7",
   "metadata": {},
   "outputs": [],
   "source": [
    "import heapq\n",
    "\n",
    "n = int(input())\n",
    "hw = [tuple(map(int, input().split())) for _ in range(n)]\n",
    "hw.sort()\n",
    "\n",
    "w_q = []\n",
    "for d, w in hw :\n",
    "    if len(w_q) < d :\n",
    "        heapq.heappush(w_q, w)\n",
    "    else :\n",
    "        if w > w_q[0] :\n",
    "            heapq.heappop(w_q)\n",
    "            heapq.heappush(w_q, w)\n",
    "            \n",
    "print(sum(w_arr))"
   ]
  },
  {
   "cell_type": "markdown",
   "id": "ae62a039",
   "metadata": {},
   "source": [
    "## 백준 2109 순회강연\n",
    "https://www.acmicpc.net/problem/2109\n",
    "- 13904 와 같은 문제"
   ]
  },
  {
   "cell_type": "code",
   "execution_count": null,
   "id": "f415569e",
   "metadata": {},
   "outputs": [],
   "source": [
    "n = int(input())\n",
    "lecture = [tuple(map(int, input().split())) for _ in range(n)]\n",
    "lecture.sort(key=lambda x : x[1])\n",
    "\n",
    "p_arr = []\n",
    "for p, d in lecture :\n",
    "    if len(p_arr) < d :\n",
    "        heapq.heappush(p_arr, p)\n",
    "    else :\n",
    "        if p > p_arr[0] :\n",
    "            heapq.heappop(p_arr)\n",
    "            heapq.heappush(p_arr, p)\n",
    "            \n",
    "print(sum(p_arr))"
   ]
  },
  {
   "cell_type": "markdown",
   "id": "6be85e5b",
   "metadata": {},
   "source": [
    "## 백준 8980 택배\n",
    "https://www.acmicpc.net/problem/8980\n",
    "- 도착지점 순으로 정렬\n",
    "- truck : 트럭이 각 마을에서 상자를 싣고 출발할 때 남은 용량(초기값 = c)\n",
    "- 각 상자에 대해 상자가 용량을 차지하는 구간 `[x:y]` 에서 실을 수 있는 최대 용량으로 실어줌\n",
    "- 해당 구간 `[x:y]`에서 상자 실은 만큼 용량 감소"
   ]
  },
  {
   "cell_type": "code",
   "execution_count": null,
   "id": "d20a291e",
   "metadata": {},
   "outputs": [],
   "source": [
    "n, c = map(int, input().split())\n",
    "m = int(input())\n",
    "box_info = [tuple(map(int, input().split())) for _ in range(m)]\n",
    "# 도착지점 순으로 정렬\n",
    "box_info.sort(key=lambda x : x[1], reverse=True)\n",
    "\n",
    "answer = 0\n",
    "# 트럭이 각 마을에서 상자를 싣고 출발할 때 남은 용량\n",
    "truck = [c] * n\n",
    "while box_info :\n",
    "    x, y, w = box_info.pop()\n",
    "    # 상자가 용량을 차지하는 구간 [x:y]에서 실을 수 있는 최대 용량만큼 실어줌\n",
    "    load = min(min(truck[x:y]), w)\n",
    "    answer += load\n",
    "    # 해당 구간에서 상자 실은 만큼 용량 감소\n",
    "    for i in range(x, y) :\n",
    "        truck[i] -= load\n",
    "        \n",
    "print(answer)"
   ]
  },
  {
   "cell_type": "markdown",
   "id": "7eb42b31",
   "metadata": {},
   "source": [
    "## 백준 12904 A와 B\n",
    "https://www.acmicpc.net/problem/12904\n",
    "- t의 가장 마지막 문자를 확인한다.\n",
    "- A로 끝나면 A를 제거하고, B로 끝나면 B를 제거하고 뒤집는다.\n",
    "- t의 길이가 s와 같아질 때 두 문자열이 일치하면 답은 1, 아니면 답은 0"
   ]
  },
  {
   "cell_type": "code",
   "execution_count": null,
   "id": "dad16f0a",
   "metadata": {},
   "outputs": [],
   "source": [
    "s = input().rstrip()\n",
    "t = input().rstrip()\n",
    "\n",
    "answer = 0\n",
    "while True :\n",
    "    if t[-1] == \"A\" :\n",
    "        t = t[:-1]\n",
    "        if len(t) == len(s) :\n",
    "            if t == s :\n",
    "                answer = 1\n",
    "                break\n",
    "            else :\n",
    "                break\n",
    "        continue\n",
    "    if t[-1] == \"B\" :\n",
    "        t = t[:-1][::-1]\n",
    "        if len(t) == len(s) :\n",
    "            if t == s :\n",
    "                answer = 1\n",
    "                break\n",
    "            else :\n",
    "                break\n",
    "\n",
    "print(answer)"
   ]
  },
  {
   "cell_type": "markdown",
   "id": "503d1046",
   "metadata": {},
   "source": [
    "## 백준 1461 도서관\n",
    "https://www.acmicpc.net/problem/1461\n",
    "- 위치 음수, 양수 구분\n",
    "- 가장 먼 거리부터 같은 방향의 책 최대 m개씩 운반\n",
    "    - 책을 두고 다시 원점으로 돌아와야함\n",
    "    - 이동거리는 |가장 먼 위치| * 2\n",
    "- 가장 먼 위치의 책을 마지막에 옮긴다면 두고 다시 올 필요 없음"
   ]
  },
  {
   "cell_type": "code",
   "execution_count": null,
   "id": "e9b69eed",
   "metadata": {},
   "outputs": [],
   "source": [
    "n, m = map(int, input().split())\n",
    "books = sorted(map(int, input().split()))\n",
    "\n",
    "# 가장 먼 위치\n",
    "max_abs = max(abs(books[0]), books[-1])\n",
    "neg = list()\n",
    "pos = list()\n",
    "for book in books :\n",
    "    if book < 0 :\n",
    "        neg.append(-book)\n",
    "    else :\n",
    "        pos.append(book)\n",
    "pos.reverse()\n",
    "\n",
    "neg_sum = sum(neg[::m])\n",
    "pos_sum = sum(pos[::m])\n",
    "print((neg_sum + pos_sum) * 2 - max_abs)"
   ]
  },
  {
   "cell_type": "markdown",
   "id": "41f52a5f",
   "metadata": {},
   "source": [
    "## 백준 1781 컵라면\n",
    "https://www.acmicpc.net/problem/1781\n",
    "- 13904, 2109와 같은 문제"
   ]
  },
  {
   "cell_type": "code",
   "execution_count": null,
   "id": "729041fd",
   "metadata": {},
   "outputs": [],
   "source": [
    "import heapq\n",
    "\n",
    "n = int(input())\n",
    "problems = [tuple(map(int, input().split())) for _ in range(n)]\n",
    "problems.sort(key=lambda x:x[0])\n",
    "\n",
    "solve = []\n",
    "for p in problems :\n",
    "    deadline, reward = p\n",
    "    heapq.heappush(solve, reward)\n",
    "    # 다른 과제 deadline과 겹칠 때는 가장 보상이 적은 과제 제외\n",
    "    if len(solve) > deadline :\n",
    "        heapq.heappop(solve)\n",
    "        \n",
    "print(sum(solve))"
   ]
  },
  {
   "cell_type": "markdown",
   "id": "9bc1a2a8",
   "metadata": {},
   "source": [
    "## 백준 1826 연료 채우기 \n",
    "https://www.acmicpc.net/problem/1826\n",
    "- 도착점까지 거리만큼의 연료를 확보할 수 있으면 성공\n",
    "- 시작점에서 가까운 주유소부터 차례로 방문\n",
    "    - 도착점도 주유소로 취급해 리스트에 넣어준다.\n",
    "- 현재의 연료로 다음 주유소까지 갈 수 있으면 다음 주유소의 연료량을 최대큐에 넣는다.\n",
    "- 갈 수 없으면, 지나친 주유소에서 연료를 넣어야 한다.\n",
    "    - 다음 주유소까지 갈 수 있을 때까지 연료를 넣고 횟수를 세준다.\n",
    "- 연료를 다 넣었는데도 다음 주유소까지 갈 수 없으면 break하고 -1 출력"
   ]
  },
  {
   "cell_type": "code",
   "execution_count": null,
   "id": "37b32ed5",
   "metadata": {},
   "outputs": [],
   "source": [
    "import heapq \n",
    "\n",
    "n = int(input())\n",
    "stations = list()\n",
    "for _ in range(n) :\n",
    "    a, b = map(int, input().split())\n",
    "    stations.append((a, b))\n",
    "end, p = map(int, input().split())\n",
    "stations.append((end, 0))\n",
    "stations.sort()\n",
    "\n",
    "max_q = []\n",
    "fuel = p\n",
    "answer = 0\n",
    "for i in range(n+1) :\n",
    "    # 다음 주유소까지 갈 수 없으면 먼저 max_q에 저장된 연료 넣음\n",
    "    while fuel < stations[i][0] and max_q :\n",
    "        fuel += -heapq.heappop(max_q)\n",
    "        answer += 1\n",
    "    # 연료를 다 넣었는데도 다음 주유소 못 가면 break\n",
    "    if fuel < stations[i][0] :\n",
    "        answer = -1\n",
    "        break\n",
    "    # 갈 수 있으면 max_q에 연료 저장\n",
    "    heapq.heappush(max_q, -stations[i][1])\n",
    "    \n",
    "print(answer)"
   ]
  },
  {
   "cell_type": "markdown",
   "id": "25f002cb",
   "metadata": {},
   "source": [
    "## 백준 1700 멀티탭 스케줄링\n",
    "https://www.acmicpc.net/problem/1700\n",
    "- 전기용품 앞에서부터 순서대로 확인\n",
    "- 이미 멀티탭에 꽂혀있으면 continue\n",
    "- 꽂혀있지 않지만 멀티탭에 자리가 있으면 꽂아줌\n",
    "- 꽂혀있는걸 뽑아야 하면\n",
    "    - 현재 꽂힌 전기용품 중 가장 나중에 다시 사용할 전기용품을 뽑음\n",
    "    - 나중에 아예 사용하지 않을 전기용품이면 바로 뽑음"
   ]
  },
  {
   "cell_type": "code",
   "execution_count": null,
   "id": "bee92f22",
   "metadata": {},
   "outputs": [],
   "source": [
    "n, k = map(int, input().split())\n",
    "items = list(map(int, input().split()))\n",
    "\n",
    "def idx(arr, x) :\n",
    "    for i, j in enumerate(arr) :\n",
    "        if j == x :\n",
    "            return i\n",
    "    return len(arr)\n",
    "    \n",
    "using = list()\n",
    "cnt = 0\n",
    "for i in range(k) :\n",
    "    # 이미 꽂혀있으면 continue\n",
    "    if items[i] in using :\n",
    "        continue\n",
    "    # 멀티탭에 자리가 있으면 꽂음\n",
    "    if len(using) < n :\n",
    "        using.append(items[i])\n",
    "        continue\n",
    "    # 멀티탭에 꽂힌 아이템의 index\n",
    "    idx_u = -1\n",
    "    # 아직 안 꽂힌 배열에서 해당 아이템이 최초 등장하는 index\n",
    "    idx_i = -1\n",
    "    temp = -1\n",
    "    for j in range(n) :\n",
    "        temp = idx(items[i:], using[j])\n",
    "        if temp > idx_i :\n",
    "            idx_u = j\n",
    "            idx_i = temp\n",
    "        if idx_i == k - i :\n",
    "            break\n",
    "    using[idx_u] = items[i]\n",
    "    cnt += 1\n",
    "print(cnt)"
   ]
  },
  {
   "cell_type": "markdown",
   "id": "baa795c1",
   "metadata": {},
   "source": [
    "## 백준 2457 공주님의 정원 \n",
    "https://www.acmicpc.net/problem/2457\n",
    "- 시작 날짜 오름차순으로 정렬\n",
    "- 초기 start_m = 3, start_d = 1\n",
    "- start_m월, start_d일 이전에 피는 꽃들 이분탐색으로 찾아줌\n",
    "- 없으면 print(0)하고 break\n",
    "- start_m월, start_d일 이전에 피는 꽃들 중 가장 늦게까지 피어있는 꽃이 지는 날짜 구해줌\n",
    "    - end_m > 11이면 다 구했으므로 break"
   ]
  },
  {
   "cell_type": "code",
   "execution_count": null,
   "id": "2e46139d",
   "metadata": {},
   "outputs": [],
   "source": [
    "from bisect import bisect\n",
    "\n",
    "n = int(input())\n",
    "flowers = [tuple(map(int, input().split())) for _ in range(n)]\n",
    "flowers.sort(key=lambda x : (x[0], x[1]))\n",
    "# print(flowers)\n",
    "\n",
    "start_m, start_d = 3, 1\n",
    "end_m, end_d = 0, 0\n",
    "idx_now = 0\n",
    "idx_next = 0\n",
    "answer = 0\n",
    "while True :\n",
    "    # start_m월 start_d일 이전에 피는 꽃\n",
    "    idx_next = bisect(flowers[idx_now:], (start_m, start_d, 99, 99)) + idx_now\n",
    "#     print(f\"idx_next : {idx_next}\")\n",
    "    if idx_now == idx_next :\n",
    "        print(0)\n",
    "        break\n",
    "    # start_m월 start_d일 이전에 피는 꽃 중 가장 늦게까지 피는 꽃\n",
    "#     print(idx_now, idx_next)\n",
    "    end_m, end_d = sorted(flowers[idx_now:idx_next], key=lambda x : (-x[2], -x[3]))[0][2:]\n",
    "    answer += 1\n",
    "#     print(start_m, start_d, end_m, end_d)\n",
    "#     print(end_m, end_d)\n",
    "    if end_m > 11 :\n",
    "        print(answer)\n",
    "        break\n",
    "    start_m, start_d = end_m, end_d\n",
    "    idx_now = idx_next"
   ]
  },
  {
   "cell_type": "markdown",
   "id": "ebd653dc",
   "metadata": {},
   "source": [
    "## 백준 11497 통나무 건너뛰기\n",
    "https://www.acmicpc.net/problem/11497\n",
    "- 높이 순으로 정렬. 작은 순서대로 1, 2, ...\n",
    "- 최대 높이 차를 최소로 만드는 배열 : [1, 3, 5 ... (2k-1) ... (2k) ... 6, 4, 2]\n",
    "- max(arr[k+2] - arr[k]) for 1 <= k <= n-2\n",
    "- arr[2] - arr[1] < arr[3] - arr[1] 이 성립하고\n",
    "- arr[n] - arr[n-1] < arr[n] - arr[n-2] 도 성립\n"
   ]
  },
  {
   "cell_type": "code",
   "execution_count": null,
   "id": "0e5e25b6",
   "metadata": {},
   "outputs": [],
   "source": [
    "# input = open(\"input.txt\").readline\n",
    "\n",
    "t = int(input())\n",
    "\n",
    "for _ in range(t):\n",
    "    n = int(input())\n",
    "    arr = list(map(int, input().split()))\n",
    "    arr.sort()\n",
    "    answer = 0\n",
    "    for i in range(n-2):\n",
    "        answer = max(answer, arr[i+2] - arr[i])\n",
    "    print(answer)"
   ]
  },
  {
   "cell_type": "markdown",
   "id": "2f5f9fe6",
   "metadata": {},
   "source": [
    "## 프로그래머스 인사고과\n",
    "https://school.programmers.co.kr/learn/courses/30/lessons/152995\n",
    "- 처음에 원호 점수(t1, t2, t_sum) 따로 저장\n",
    "- scores를 근무 태도 점수(s1) 내림차순, 동료 평가 점수(s2) 오름차순 정렬\n",
    "- scores 앞에서부터 순회하면서\n",
    "- 현재 s1, s2 모두 t1, t2보다 큰 경우가 있으면 바로 -1 반환\n",
    "- max_s2에는 이전까지 나온 최대의 s2 값 저장\n",
    "- 현재 s2가 max_s2보다 작으면\n",
    "  - 현재 s1 보다 큰 (s1, max_s2) 점수 조합이 앞에서 나온것\n",
    "  - s1 내림차순, s2 오름차순으로 정렬했기 때문에 s1이 같으면서 max_s2인 경우는 존재하지 않음\n",
    "  - 따라서 현재의 (s1, s2)는 인센티브 받지 못해서 등수에 영향 x\n",
    "- s2가 max_s2보다 크거나 같은 경우에\n",
    "  - max_s2 갱신\n",
    "  - s1 + s2가 t_sum 보다 크면 등수에 1추가"
   ]
  },
  {
   "cell_type": "code",
   "execution_count": null,
   "id": "0e2abbe4",
   "metadata": {},
   "outputs": [],
   "source": [
    "def solution(scores):\n",
    "    t1, t2 = scores[0]\n",
    "    t_sum = t1 + t2\n",
    "    scores.sort(key=lambda x: (-x[0], x[1]))\n",
    "    # print(scores)\n",
    "    rank = 1\n",
    "    max_s2 = -1 # 두번째 점수(동료평가) 최대값\n",
    "    for s1, s2 in scores:\n",
    "        if t1 < s1 and t2 < s2:\n",
    "            return -1\n",
    "        if max_s2 <= s2:\n",
    "            max_s2 = s2\n",
    "            if t_sum < s1 + s2:\n",
    "                rank += 1\n",
    "    return rank"
   ]
  }
 ],
 "metadata": {
  "kernelspec": {
   "display_name": "Python 3 (ipykernel)",
   "language": "python",
   "name": "python3"
  },
  "language_info": {
   "codemirror_mode": {
    "name": "ipython",
    "version": 3
   },
   "file_extension": ".py",
   "mimetype": "text/x-python",
   "name": "python",
   "nbconvert_exporter": "python",
   "pygments_lexer": "ipython3",
   "version": "3.10.0"
  },
  "toc": {
   "base_numbering": 1,
   "nav_menu": {},
   "number_sections": true,
   "sideBar": true,
   "skip_h1_title": false,
   "title_cell": "Table of Contents",
   "title_sidebar": "Contents",
   "toc_cell": false,
   "toc_position": {
    "height": "calc(100% - 180px)",
    "left": "10px",
    "top": "150px",
    "width": "307.193px"
   },
   "toc_section_display": true,
   "toc_window_display": true
  },
  "varInspector": {
   "cols": {
    "lenName": 16,
    "lenType": 16,
    "lenVar": 40
   },
   "kernels_config": {
    "python": {
     "delete_cmd_postfix": "",
     "delete_cmd_prefix": "del ",
     "library": "var_list.py",
     "varRefreshCmd": "print(var_dic_list())"
    },
    "r": {
     "delete_cmd_postfix": ") ",
     "delete_cmd_prefix": "rm(",
     "library": "var_list.r",
     "varRefreshCmd": "cat(var_dic_list()) "
    }
   },
   "types_to_exclude": [
    "module",
    "function",
    "builtin_function_or_method",
    "instance",
    "_Feature"
   ],
   "window_display": false
  }
 },
 "nbformat": 4,
 "nbformat_minor": 5
}
