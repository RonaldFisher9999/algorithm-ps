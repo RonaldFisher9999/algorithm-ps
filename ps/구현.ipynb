{
 "cells": [
  {
   "cell_type": "markdown",
   "id": "3f78208c",
   "metadata": {},
   "source": [
    "# 구현"
   ]
  },
  {
   "cell_type": "markdown",
   "id": "e42cb922",
   "metadata": {},
   "source": [
    "## 백준 14719 빗물\n",
    "https://www.acmicpc.net/problem/14719"
   ]
  },
  {
   "cell_type": "code",
   "execution_count": 8,
   "id": "e2c21a4e",
   "metadata": {
    "ExecuteTime": {
     "end_time": "2023-02-02T04:23:57.672596Z",
     "start_time": "2023-02-02T04:23:57.666612Z"
    }
   },
   "outputs": [
    {
     "name": "stdout",
     "output_type": "stream",
     "text": [
      "6\n"
     ]
    }
   ],
   "source": [
    "# f = open(\"input.txt\")\n",
    "# input = f.readline\n",
    "\n",
    "h, w = map(int, input().split())\n",
    "blocks = list(map(int, input().split()))\n",
    "\n",
    "# idx 이후에 x보다 같거나 큰 값이 처음 나오는 위치와 idx 사이의 틈\n",
    "def next_same_great(idx, x) :\n",
    "    for j in range(idx+1, w) :\n",
    "        if blocks[j] - 1 >= x :\n",
    "            return j - idx - 1\n",
    "    return 0\n",
    "\n",
    "rain = 0\n",
    "for idx in range(w-1) :\n",
    "    if blocks[idx] > blocks[idx+1] :\n",
    "        for i in range(blocks[idx]) :\n",
    "            rain += next_same_great(idx, i)\n",
    "print(rain)"
   ]
  },
  {
   "cell_type": "markdown",
   "id": "ba35761f",
   "metadata": {},
   "source": [
    "## 백준 14503 로봇 청소기\n",
    "https://www.acmicpc.net/problem/14503"
   ]
  },
  {
   "cell_type": "code",
   "execution_count": null,
   "id": "6e026cc9",
   "metadata": {},
   "outputs": [],
   "source": [
    "n, m = map(int, input().split())\n",
    "r, c, d = map(int, input().split())\n",
    "graph = [list(map(int, input().split())) for _ in range(n)]\n",
    "\n",
    "answer = 0\n",
    "drc = [(-1, 0), (0, 1), (1, 0), (0, -1)]\n",
    "\n",
    "while True :\n",
    "    # 청소\n",
    "    if graph[r][c] == 0 :\n",
    "        graph[r][c] = 2\n",
    "        answer += 1\n",
    "    # 반시계방향으로 회전하며 청소 안 한 칸 탐색\n",
    "    for _ in range(4) :\n",
    "        d = (d - 1) % 4\n",
    "        dr, dc = drc[d]\n",
    "        nr, nc = r + dr, c + dc\n",
    "        # 청소 안 한 칸 있으면 전진\n",
    "        if 0 <= nr < n and 0 <= nc < m and graph[nr][nc] == 0 :\n",
    "            r, c = nr, nc\n",
    "            break\n",
    "    # 청소 안 한 칸 없으면\n",
    "    else :\n",
    "        dr, dc = drc[(d - 2) % 4]\n",
    "        nr, nc = r + dr, c + dc\n",
    "        # 후진이 가능하면 후진\n",
    "        if 0 <= nr < n and 0 <= nc < m and graph[nr][nc] != 1 :\n",
    "            r, c = nr, nc\n",
    "            continue\n",
    "        # 후진 안 되면 중단\n",
    "        else :\n",
    "            break\n",
    "\n",
    "print(answer)"
   ]
  },
  {
   "cell_type": "markdown",
   "id": "69cedaac",
   "metadata": {},
   "source": [
    "## 백준 3190 뱀\n",
    "https://www.acmicpc.net/problem/3190"
   ]
  },
  {
   "cell_type": "code",
   "execution_count": null,
   "id": "5b63c77f",
   "metadata": {},
   "outputs": [],
   "source": [
    "from collections import deque\n",
    "\n",
    "n = int(input())\n",
    "board = [[0] * (n + 1) for _ in range(n + 1)]\n",
    "k = int(input())\n",
    "for _ in range(k) :\n",
    "    x, y = map(int, input().split())\n",
    "    board[x][y] = 1\n",
    "\n",
    "l = int(input())\n",
    "rotate = deque()\n",
    "for _ in range(l) :\n",
    "    x, c = input().split()\n",
    "    rotate.append((int(x), c))\n",
    "\n",
    "time = 0\n",
    "# 몸 좌표\n",
    "snake = deque([(1, 1)])\n",
    "# 방향 (0 : 오른, 1 : 아래, 2 : 왼, 3 : 위)\n",
    "# D : 오른쪽, L : 왼쪽\n",
    "d = 0\n",
    "def change_dir(d) :\n",
    "    if rotate[0][1] == \"D\" :\n",
    "        d = (d + 1) % 4\n",
    "        return d\n",
    "    if rotate[0][1] == \"L\" :\n",
    "        d = (d - 1) % 4\n",
    "        return d\n",
    "\n",
    "def move(d, head) :\n",
    "    x, y = head\n",
    "    # 방향에 따라 머리 이동\n",
    "    if d == 0 :\n",
    "        y += 1\n",
    "    elif d == 1 :\n",
    "        x += 1\n",
    "    elif d == 2 :\n",
    "        y -= 1\n",
    "    elif d == 3 :\n",
    "        x -= 1\n",
    "    snake.appendleft((x, y))\n",
    "        \n",
    "def check(head) :\n",
    "    # 몸에 부딪혔는지 체크\n",
    "    if head in list(snake)[1:] :\n",
    "        return False\n",
    "    # 벽에 부딪혔는지 체크\n",
    "    x, y = head\n",
    "    if not 1 <= x < n+1 or not 1 <= y < n+1 :\n",
    "        return False\n",
    "    # 사과 있는지 체크\n",
    "    if board[x][y] == 1 :\n",
    "        board[x][y] = 0\n",
    "    else :\n",
    "        snake.pop()\n",
    "    return True\n",
    "\n",
    "while True :\n",
    "    # 방향 전환\n",
    "    if rotate and time == rotate[0][0] :\n",
    "        d = change_dir(d)\n",
    "        rotate.popleft()\n",
    "    # 이동\n",
    "    time += 1\n",
    "    move(d, snake[0])\n",
    "    # 게임 끝나는지, 사과 있는지 체크\n",
    "    if not check(snake[0]) :\n",
    "        break\n",
    "        \n",
    "print(time)"
   ]
  }
 ],
 "metadata": {
  "kernelspec": {
   "display_name": "Python 3 (ipykernel)",
   "language": "python",
   "name": "python3"
  },
  "language_info": {
   "codemirror_mode": {
    "name": "ipython",
    "version": 3
   },
   "file_extension": ".py",
   "mimetype": "text/x-python",
   "name": "python",
   "nbconvert_exporter": "python",
   "pygments_lexer": "ipython3",
   "version": "3.9.13"
  },
  "toc": {
   "base_numbering": 1,
   "nav_menu": {},
   "number_sections": true,
   "sideBar": true,
   "skip_h1_title": false,
   "title_cell": "Table of Contents",
   "title_sidebar": "Contents",
   "toc_cell": false,
   "toc_position": {},
   "toc_section_display": true,
   "toc_window_display": true
  },
  "varInspector": {
   "cols": {
    "lenName": 16,
    "lenType": 16,
    "lenVar": 40
   },
   "kernels_config": {
    "python": {
     "delete_cmd_postfix": "",
     "delete_cmd_prefix": "del ",
     "library": "var_list.py",
     "varRefreshCmd": "print(var_dic_list())"
    },
    "r": {
     "delete_cmd_postfix": ") ",
     "delete_cmd_prefix": "rm(",
     "library": "var_list.r",
     "varRefreshCmd": "cat(var_dic_list()) "
    }
   },
   "types_to_exclude": [
    "module",
    "function",
    "builtin_function_or_method",
    "instance",
    "_Feature"
   ],
   "window_display": false
  }
 },
 "nbformat": 4,
 "nbformat_minor": 5
}
