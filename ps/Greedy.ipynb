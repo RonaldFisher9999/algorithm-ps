{
 "cells": [
  {
   "cell_type": "markdown",
   "id": "679b9516",
   "metadata": {},
   "source": [
    "# 그리디"
   ]
  },
  {
   "cell_type": "markdown",
   "id": "7e21ed39",
   "metadata": {},
   "source": [
    "## 백준 1541 잃어버린 괄호\n",
    "https://www.acmicpc.net/problem/1541"
   ]
  },
  {
   "cell_type": "code",
   "execution_count": null,
   "id": "cf1ed1eb",
   "metadata": {},
   "outputs": [],
   "source": [
    "# 5(5-50)+40 같은 형태는 안됨\n",
    "\n",
    "expression = input().split(\"-\")\n",
    "# print(expression)\n",
    "# expression = ['10+30', '40+60', '5+20', '40', '10']\n",
    "result = sum(map(int, expression[0].split(\"+\")))\n",
    "# print(result)\n",
    "for term in expression[1:] :\n",
    "    term_sum = sum(map(int, term.split(\"+\")))\n",
    "    result -= term_sum\n",
    "\n",
    "print(result)"
   ]
  },
  {
   "cell_type": "markdown",
   "id": "401c58c5",
   "metadata": {},
   "source": [
    "## 백준 1931 회의실 배정\n",
    "https://www.acmicpc.net/problem/1931\n",
    "- 증명 : https://youtu.be/vw4gqeM4UGs\n",
    "- 끝나는 시간이 빠른 순으로 정렬, 끝나는 시간이 같으면 시작 시간이 빠른 순으로 정렬\n",
    "- (1, 2), (2, 2) 있을 때 시작 시간이 빠른 (1, 2)가 앞에 있어야 둘 다 회의 가능"
   ]
  },
  {
   "cell_type": "code",
   "execution_count": null,
   "id": "848306a0",
   "metadata": {},
   "outputs": [],
   "source": [
    "n = int(input())\n",
    "schedules = [tuple(map(int, input().split())) for _ in range(n)]\n",
    "# schedules = [(0, 6), (3, 5), (5, 7), (3, 8), (5, 9), (6, 10), (8, 11), (8, 12), (1, 4), (2, 13), (12, 14)]\n",
    "\n",
    "schedules.sort(key=lambda x : (x[1], x[0]))\n",
    "\n",
    "end = 0\n",
    "cnt = 0\n",
    "for i, j in schedules :\n",
    "    # 현재 마지막 회의 종료 시간 이후 가장 빠르게 시작하는 회의 선택\n",
    "    if i >= end :\n",
    "        # 회의 종료 시간 변경\n",
    "        end = j\n",
    "        cnt += 1\n",
    "print(cnt)"
   ]
  },
  {
   "cell_type": "markdown",
   "id": "c1954756",
   "metadata": {
    "ExecuteTime": {
     "end_time": "2023-02-02T00:28:59.166584Z",
     "start_time": "2023-02-02T00:28:59.156607Z"
    }
   },
   "source": [
    "## 백준 1083 소트\n",
    "https://www.acmicpc.net/problem/1083\n",
    "- 현재 인덱스 i부터 남은 s만큼의 범위에서 최대값 탐색\n",
    "- 그 최대값이 array[i]보다 크면 연속된 원소들을 교환하여 array[i]자리에 데려오고\n",
    "- 원소 교환한 횟수만큼 s에서 빼줌"
   ]
  },
  {
   "cell_type": "code",
   "execution_count": null,
   "id": "8a530436",
   "metadata": {},
   "outputs": [],
   "source": [
    "n = int(input())\n",
    "array = list(map(int, input().split()))\n",
    "# array = [19, 20, 17, 18, 15, 16, 13, 14, 11, 12]\n",
    "# array = [1, 5, 2, 3, 4]\n",
    "s = int(input())\n",
    "\n",
    "for i in range(n) :\n",
    "    if s == 0 :\n",
    "        break\n",
    "    else :\n",
    "        cur_max = max(array[i:i + s + 1])\n",
    "        if array[i] < cur_max and s > 0 :\n",
    "            idx = array.index(cur_max)\n",
    "            array[i + 1:idx + 1] = array[i:idx]\n",
    "            array[i] = cur_max\n",
    "            s -= idx - i\n",
    "        \n",
    "print(*array)"
   ]
  },
  {
   "cell_type": "markdown",
   "id": "4e6ec930",
   "metadata": {},
   "source": [
    "## 프로그래머스 구명 보트\n",
    "https://school.programmers.co.kr/learn/courses/30/lessons/42885"
   ]
  },
  {
   "cell_type": "code",
   "execution_count": null,
   "id": "e77365c1",
   "metadata": {},
   "outputs": [],
   "source": [
    "def solution(people, limit):\n",
    "    answer = 0\n",
    "    people.sort()\n",
    "    light = 0\n",
    "    heavy = len(people) - 1\n",
    "    while start <= end :\n",
    "        # 가장 가벼운 사람 + 무거운 사람으로 보트에 태울 수 있으면 태움\n",
    "        if people[light] + people[heavy] <= limit :\n",
    "            answer += 1\n",
    "            light += 1\n",
    "            heavy -= 1\n",
    "        # 안되면 무거운 사람만 보트에 태움\n",
    "        else :\n",
    "            heavy -= 1\n",
    "            answer += 1\n",
    "    return answer"
   ]
  },
  {
   "cell_type": "markdown",
   "id": "8701c38a",
   "metadata": {},
   "source": [
    "## 프로그래머스 단속카메라\n",
    "https://school.programmers.co.kr/learn/courses/30/lessons/42884\n",
    "- 차량 진출 지점 기준으로 정렬\n",
    "- 첫번재 차량의 진출 지점에 첫 카메라 설치\n",
    "- 이후 순서대로 차량의 진입/진출 지점을 검사\n",
    "- 카메라에 걸리지 않는 차가 있으면 해당 차의 진출 지점에 다음 카메라 설치"
   ]
  },
  {
   "cell_type": "code",
   "execution_count": null,
   "id": "8ffab4b5",
   "metadata": {},
   "outputs": [],
   "source": [
    "def solution(routes) :\n",
    "    routes.sort(key=lambda x : x[1])\n",
    "    camera = [routes[0][1]]\n",
    "    for i in range(1, len(routes)) :\n",
    "        if routes[i][0] <= camera[-1] <= routes[i][1] :\n",
    "            continue\n",
    "        else :\n",
    "            camera.append(routes[i][1])\n",
    "    return len(camera)"
   ]
  },
  {
   "cell_type": "markdown",
   "id": "b9af2e18",
   "metadata": {},
   "source": [
    "## 백준 1339 단어 수학\n",
    "https://www.acmicpc.net/problem/1339\n",
    "- 최대 자리수만 보고 정렬하면 오답  \n",
    "10  \n",
    "ABB  \n",
    "BB  \n",
    "BB  \n",
    "BB  \n",
    "BB  \n",
    "BB  \n",
    "BB  \n",
    "BB  \n",
    "BB  \n",
    "BB\n",
    "- 각 알파벳이 자리수에 따라 얼마나 나왔는지 기록(가중치 기록)  \n",
    "    ex) A가 천의 자리 3번, 십의 자리 1번, 일의 자리 1번 -> 3011\n",
    "- 가중치가 높은 순서로 정렬 후 앞에서부터 9, 8, 7... 차례로 곱해줌\n"
   ]
  },
  {
   "cell_type": "code",
   "execution_count": null,
   "id": "141b74df",
   "metadata": {},
   "outputs": [],
   "source": [
    "# f = open(\"input.txt\")\n",
    "# input = f.readline\n",
    "\n",
    "from collections import defaultdict\n",
    "\n",
    "n = int(input())\n",
    "alph_dict = defaultdict(int)\n",
    "for _ in range(n) :\n",
    "    num = input().rstrip()\n",
    "    for i in range(len(num)) :\n",
    "        alph_dict[num[i]] += 10 ** (len(num) - 1 - i)\n",
    "\n",
    "alph_dict = dict(sorted(alph_dict.items(), key=lambda x : x[1], reverse=True))\n",
    "\n",
    "sol = 0\n",
    "x = 9\n",
    "for alph in alph_dict :\n",
    "    sol += alph_dict[alph] * x\n",
    "    x -= 1\n",
    "print(sol)"
   ]
  },
  {
   "cell_type": "markdown",
   "id": "8d07c139",
   "metadata": {},
   "source": [
    "## 백준 13305 주유소\n",
    "https://www.acmicpc.net/problem/13305"
   ]
  },
  {
   "cell_type": "code",
   "execution_count": null,
   "id": "c8c880b9",
   "metadata": {},
   "outputs": [],
   "source": [
    "# f = open(\"input.txt\")\n",
    "# input = f.readline\n",
    "\n",
    "n = int(input())\n",
    "routes = list(map(int, input().split()))\n",
    "price = list(map(int, input().split()))\n",
    "price.pop()\n",
    "\n",
    "for i in range(n-2) :\n",
    "    if price[i+1] > price[i] :\n",
    "        price[i+1] = price[i]\n",
    "        \n",
    "print(sum([r * p for r, p in zip(routes, price)]))"
   ]
  },
  {
   "cell_type": "markdown",
   "id": "a4056d01",
   "metadata": {},
   "source": [
    "## 백준 1946 신입사원\n",
    "https://www.acmicpc.net/problem/1946"
   ]
  },
  {
   "cell_type": "code",
   "execution_count": null,
   "id": "ea5714bc",
   "metadata": {},
   "outputs": [],
   "source": [
    "# f = open(\"input.txt\")\n",
    "# input = f.readline\n",
    "\n",
    "t = int(input())\n",
    "for _ in range(t) :\n",
    "    n = int(input())\n",
    "    people = [tuple(map(int, input().split())) for _ in range(n)]\n",
    "    rank = sorted(people)\n",
    "    cnt = 0\n",
    "    min_rank = int(1e9)\n",
    "    for i in range(n) :\n",
    "        if min_rank < rank[i][1] :\n",
    "            continue\n",
    "        else :\n",
    "            cnt += 1\n",
    "            min_rank = rank[i][1]    \n",
    "    print(cnt)"
   ]
  },
  {
   "cell_type": "markdown",
   "id": "64d31b6a",
   "metadata": {},
   "source": [
    "## 백준 1202 보석도둑\n",
    "https://www.acmicpc.net/problem/1202\n",
    "- 용량이 작은 가방부터\n",
    "- 가방안에 넣을 수 있는 보석의 가치를 따로 우선순위 큐에 저장\n",
    "- 최대 가치의 보석을 가방에 넣어줌\n",
    "- 다음 가방에서 대상에 맞는 보석을 탐색할 때 큐에 남아있는 보석들은 이미 그 가방에 들어갈 수 있음"
   ]
  },
  {
   "cell_type": "code",
   "execution_count": null,
   "id": "a6661f7b",
   "metadata": {},
   "outputs": [],
   "source": [
    "# f = open(\"input.txt\")\n",
    "# input = f.readline\n",
    "\n",
    "import heapq\n",
    "\n",
    "n, k = map(int, input().split())\n",
    "jewels = list()\n",
    "for _ in range(n) :\n",
    "    jewels.append(tuple(map(int, input().split())))\n",
    "# 무게 역순으로 정렬(pop 하기 위해서)\n",
    "jewels.sort(reverse=True)\n",
    "\n",
    "bags = list()\n",
    "for _ in range(k) :\n",
    "    bag = int(input())\n",
    "    bags.append(bag)\n",
    "bags.sort()\n",
    "\n",
    "answer = 0\n",
    "q = list()\n",
    "for bag in bags :\n",
    "    while jewels and jewels[-1][0] <= bag :\n",
    "        # 현 가방에 들어갈 수 있는 보석 중 무게가 가벼운 보석부터 pop\n",
    "        weight, value = jewels.pop()\n",
    "        heapq.heappush(q, -value)\n",
    "    if not q :\n",
    "        continue\n",
    "    answer += -heapq.heappop(q)\n",
    "print(answer)"
   ]
  },
  {
   "cell_type": "markdown",
   "id": "da50b6e5",
   "metadata": {},
   "source": [
    "## 백준 1744 수 묶기\n",
    "https://www.acmicpc.net/problem/1744"
   ]
  },
  {
   "cell_type": "code",
   "execution_count": null,
   "id": "80361f94",
   "metadata": {},
   "outputs": [],
   "source": [
    "# f = open(\"input.txt\")\n",
    "# input = f.readline\n",
    "\n",
    "import heapq\n",
    "\n",
    "n = int(input())\n",
    "pos = list()\n",
    "neg = list()\n",
    "answer = 0\n",
    "for _ in range(n) :\n",
    "    num = int(input())\n",
    "    if num <= 0 :\n",
    "        heapq.heappush(neg, num)\n",
    "    elif num > 1 :\n",
    "        heapq.heappush(pos, -num)\n",
    "    else :\n",
    "        answer += 1\n",
    "        \n",
    "while len(neg) > 1 :\n",
    "    neg_1 = heapq.heappop(neg)\n",
    "    neg_2 = heapq.heappop(neg)\n",
    "    answer += neg_1 * neg_2\n",
    "if neg :\n",
    "    answer += neg[0]\n",
    "\n",
    "while len(pos) > 1 :\n",
    "    pos_1 = heapq.heappop(pos)\n",
    "    pos_2 = heapq.heappop(pos)\n",
    "    answer += pos_1 * pos_2\n",
    "if pos :\n",
    "    answer += -pos[0]\n",
    "\n",
    "print(answer)"
   ]
  },
  {
   "cell_type": "markdown",
   "id": "a10f0f00",
   "metadata": {},
   "source": [
    "## 백준 11000 강의실 배정\n",
    "https://www.acmicpc.net/problem/11000\n",
    "- 시작 시간 순으로 정렬\n",
    "- 강의실 별 끝나는 시간을 우선순위 큐에 저장"
   ]
  },
  {
   "cell_type": "code",
   "execution_count": null,
   "id": "fd3f8194",
   "metadata": {},
   "outputs": [],
   "source": [
    "# f = open(\"input.txt\")\n",
    "# input = f.readline\n",
    "\n",
    "import heapq\n",
    "\n",
    "n = int(input())\n",
    "classes = [tuple(map(int, input().split())) for _ in range(n)]\n",
    "classes.sort()\n",
    "# classes.sort(key=lambda x : (x[1], x[0]))\n",
    "# 반례 : [(2, 4), (1, 5), (5, 6), (4, 8)]\n",
    "\n",
    "ends = [classes[0][1]]\n",
    "\n",
    "for i in range(1, n) :\n",
    "    start, end = classes[i]\n",
    "    if start >= ends[0] :\n",
    "        heapq.heappop(ends)\n",
    "    heapq.heappush(ends, end)\n",
    "    \n",
    "print(len(ends))"
   ]
  },
  {
   "cell_type": "markdown",
   "id": "288d04dd",
   "metadata": {},
   "source": [
    "## 백준 2437 저울\n",
    "https://www.acmicpc.net/problem/2437"
   ]
  },
  {
   "cell_type": "code",
   "execution_count": null,
   "id": "33219a83",
   "metadata": {},
   "outputs": [],
   "source": [
    "# f = open(\"input.txt\")\n",
    "# input = f.readline\n",
    "\n",
    "n = int(input())\n",
    "weights = sorted(map(int, input().split()))\n",
    "\n",
    "max_w = 0\n",
    "answer = 0\n",
    "for i in range(n) :\n",
    "    if weights[i] > max_w + 1 :\n",
    "        break\n",
    "    else :\n",
    "        max_w += weights[i]\n",
    "print(max_w + 1)"
   ]
  },
  {
   "cell_type": "markdown",
   "id": "a576d1b8",
   "metadata": {},
   "source": [
    "## 백준 2212 센서\n",
    "https://www.acmicpc.net/problem/2212"
   ]
  },
  {
   "cell_type": "code",
   "execution_count": null,
   "id": "c80aaa74",
   "metadata": {},
   "outputs": [],
   "source": [
    "# f = open(\"input.txt\")\n",
    "# input = f.readline\n",
    "\n",
    "n = int(input())\n",
    "k = int(input())\n",
    "arr = sorted((map(int, input().split())))\n",
    "\n",
    "if k >= n :\n",
    "    print(0)\n",
    "else :\n",
    "    diff_q = list()\n",
    "    for i in range(1, n) :\n",
    "        diff_q.append(arr[i] - arr[i-1])\n",
    "    diff_q.sort()\n",
    "    answer = arr[-1] - arr[0]\n",
    "    for _ in range(k-1) :\n",
    "        answer -= diff_q.pop()\n",
    "    print(answer)"
   ]
  },
  {
   "cell_type": "markdown",
   "id": "2d3769f6",
   "metadata": {
    "ExecuteTime": {
     "end_time": "2023-02-20T09:46:41.851931Z",
     "start_time": "2023-02-20T09:46:41.841995Z"
    }
   },
   "source": [
    "## 백준 13904 과제\n",
    "https://www.acmicpc.net/problem/13904\n",
    "- 점수가 높은 순서대로 과제 정렬\n",
    "- 점수가 높은 과제부터 가능한 늦게(마감일에 가깝게) 제출"
   ]
  },
  {
   "cell_type": "code",
   "execution_count": null,
   "id": "52af77a8",
   "metadata": {},
   "outputs": [],
   "source": [
    "import heapq\n",
    "\n",
    "n = int(input())\n",
    "hw = []\n",
    "max_d = 0\n",
    "for _ in range(n) :\n",
    "    d, w = map(int, input().split())\n",
    "    hw.append((w, d))\n",
    "    max_d = max(max_d, d)\n",
    "hw.sort(key=lambda x : x[0])\n",
    "\n",
    "arr = [0] * (max_d + 1)\n",
    "answer = 0\n",
    "while hw :\n",
    "    w, d = hw.pop()\n",
    "    for i in range(d, 0, -1) :\n",
    "        if arr[i] == 0 :\n",
    "            arr[i] = w\n",
    "            answer += w\n",
    "            break\n",
    "\n",
    "print(answer)"
   ]
  },
  {
   "cell_type": "markdown",
   "id": "bc00b6cd",
   "metadata": {},
   "source": [
    "- 우선순위 큐 사용\n",
    "- 마감일 빠른 순으로 정렬\n",
    "- 점수만을 저장하는 w_q 초기화\n",
    "- w_q의 길이가 현재 숙제의 마감일보다 작으면\n",
    "    - 현재 숙제는 무조건 할 수 있으므로 w_q에 w 추가\n",
    "- 그렇지 않으면 마감일이 겹치는 숙제가 있으므로\n",
    "    - 현재 w가 w_q의 가장 작은값보다 크면 w_q에 추가\n",
    "- w_q의 합 출력"
   ]
  },
  {
   "cell_type": "code",
   "execution_count": null,
   "id": "32e284a7",
   "metadata": {},
   "outputs": [],
   "source": [
    "import heapq\n",
    "\n",
    "n = int(input())\n",
    "hw = [tuple(map(int, input().split())) for _ in range(n)]\n",
    "hw.sort()\n",
    "\n",
    "w_q = []\n",
    "for d, w in hw :\n",
    "    if len(w_q) < d :\n",
    "        heapq.heappush(w_q, w)\n",
    "    else :\n",
    "        if w > w_q[0] :\n",
    "            heapq.heappop(w_q)\n",
    "            heapq.heappush(w_q, w)\n",
    "            \n",
    "print(sum(w_arr))"
   ]
  },
  {
   "cell_type": "markdown",
   "id": "ae62a039",
   "metadata": {},
   "source": [
    "## 백준 2109 순회강연\n",
    "https://www.acmicpc.net/problem/2109\n",
    "- 13904 와 같은 문제"
   ]
  },
  {
   "cell_type": "code",
   "execution_count": null,
   "id": "f415569e",
   "metadata": {},
   "outputs": [],
   "source": [
    "n = int(input())\n",
    "lecture = [tuple(map(int, input().split())) for _ in range(n)]\n",
    "lecture.sort(key=lambda x : x[1])\n",
    "\n",
    "p_arr = []\n",
    "for p, d in lecture :\n",
    "    if len(p_arr) < d :\n",
    "        heapq.heappush(p_arr, p)\n",
    "    else :\n",
    "        if p > p_arr[0] :\n",
    "            heapq.heappop(p_arr)\n",
    "            heapq.heappush(p_arr, p)\n",
    "            \n",
    "print(sum(p_arr))"
   ]
  },
  {
   "cell_type": "markdown",
   "id": "6be85e5b",
   "metadata": {},
   "source": [
    "## 백준 8980 택배\n",
    "https://www.acmicpc.net/problem/8980\n",
    "- 도착지점 순으로 정렬\n",
    "- truck : 트럭이 각 마을에서 상자를 싣고 출발할 때 남은 용량(초기값 = c)\n",
    "- 각 상자에 대해 상자가 용량을 차지하는 구간 `[x:y]` 에서 실을 수 있는 최대 용량으로 실어줌\n",
    "- 해당 구간 `[x:y]`에서 상자 실은 만큼 용량 감소"
   ]
  },
  {
   "cell_type": "code",
   "execution_count": null,
   "id": "d20a291e",
   "metadata": {},
   "outputs": [],
   "source": [
    "n, c = map(int, input().split())\n",
    "m = int(input())\n",
    "box_info = [tuple(map(int, input().split())) for _ in range(m)]\n",
    "# 도착지점 순으로 정렬\n",
    "box_info.sort(key=lambda x : x[1], reverse=True)\n",
    "\n",
    "answer = 0\n",
    "# 트럭이 각 마을에서 상자를 싣고 출발할 때 남은 용량\n",
    "truck = [c] * n\n",
    "while box_info :\n",
    "    x, y, w = box_info.pop()\n",
    "    # 상자가 용량을 차지하는 구간 [x:y]에서 실을 수 있는 최대 용량만큼 실어줌\n",
    "    load = min(min(truck[x:y]), w)\n",
    "    answer += load\n",
    "    # 해당 구간에서 상자 실은 만큼 용량 감소\n",
    "    for i in range(x, y) :\n",
    "        truck[i] -= load\n",
    "        \n",
    "print(answer)"
   ]
  }
 ],
 "metadata": {
  "kernelspec": {
   "display_name": "Python 3 (ipykernel)",
   "language": "python",
   "name": "python3"
  },
  "language_info": {
   "codemirror_mode": {
    "name": "ipython",
    "version": 3
   },
   "file_extension": ".py",
   "mimetype": "text/x-python",
   "name": "python",
   "nbconvert_exporter": "python",
   "pygments_lexer": "ipython3",
   "version": "3.9.13"
  },
  "toc": {
   "base_numbering": 1,
   "nav_menu": {},
   "number_sections": true,
   "sideBar": true,
   "skip_h1_title": false,
   "title_cell": "Table of Contents",
   "title_sidebar": "Contents",
   "toc_cell": false,
   "toc_position": {},
   "toc_section_display": true,
   "toc_window_display": true
  },
  "varInspector": {
   "cols": {
    "lenName": 16,
    "lenType": 16,
    "lenVar": 40
   },
   "kernels_config": {
    "python": {
     "delete_cmd_postfix": "",
     "delete_cmd_prefix": "del ",
     "library": "var_list.py",
     "varRefreshCmd": "print(var_dic_list())"
    },
    "r": {
     "delete_cmd_postfix": ") ",
     "delete_cmd_prefix": "rm(",
     "library": "var_list.r",
     "varRefreshCmd": "cat(var_dic_list()) "
    }
   },
   "types_to_exclude": [
    "module",
    "function",
    "builtin_function_or_method",
    "instance",
    "_Feature"
   ],
   "window_display": false
  }
 },
 "nbformat": 4,
 "nbformat_minor": 5
}
