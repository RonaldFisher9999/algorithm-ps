{
 "cells": [
  {
   "cell_type": "markdown",
   "id": "fc5616b4",
   "metadata": {},
   "source": [
    "# 이분 탐색, 투 포인터\n",
    "- 엄청나게 넓은 범위에서 최적의 값을 탐색할 때 많이 사용"
   ]
  },
  {
   "cell_type": "markdown",
   "id": "e5ab25b2",
   "metadata": {},
   "source": [
    "## 프로그래머스 입국심사\n",
    "https://school.programmers.co.kr/learn/courses/30/lessons/43238\n",
    "- 총 시간이 주어졌을 때, 각각이 심사관이 심사할 수 있는 사람의 수를 모두 더한 값(total)과 n을 비교\n",
    "- total이 n보다 크면 시간을 줄이고, total이 n보다 작으면 시간을 늘려야 한다.\n",
    "- 이분 탐색으로 최소의 총 시간 탐색\n",
    "- n과 total이 같으면 end를 줄여주다가, n이 total을 역전하면 start가 최소값"
   ]
  },
  {
   "cell_type": "code",
   "execution_count": null,
   "id": "8aaf2575",
   "metadata": {},
   "outputs": [],
   "source": [
    "def bin_search(start, end, n, times) :\n",
    "    while start <= end :\n",
    "        mid = (start + end) // 2\n",
    "        total = sum(map(lambda x : mid // x, times))\n",
    "        if n <= total :   # 시간 줄여야함\n",
    "            end = mid - 1\n",
    "        else :              # 시간 늘려야함\n",
    "            start = mid + 1                \n",
    "    return start\n",
    "    \n",
    "def solution(n, times) :\n",
    "    if len(times) == 1 :\n",
    "        return times[0] * n\n",
    "    start = min(times)\n",
    "    end = max(times) * n\n",
    "    answer = bin_search(start, end, n, times)\n",
    "    return answer"
   ]
  },
  {
   "cell_type": "markdown",
   "id": "5e1536f0",
   "metadata": {},
   "source": [
    "## 백준 1654 랜선 자르기\n",
    "https://www.acmicpc.net/problem/1654"
   ]
  },
  {
   "cell_type": "code",
   "execution_count": null,
   "id": "10951d06",
   "metadata": {},
   "outputs": [],
   "source": [
    "# f = open(\"input.txt\")\n",
    "# input = f.readline\n",
    "\n",
    "n, m = map(int, input().split())\n",
    "lans = [int(input()) for _ in range(n)]\n",
    "\n",
    "start = 1\n",
    "end = max(lans)\n",
    "def bin_search(start, end) :\n",
    "    while start <= end :\n",
    "        mid = (start + end) // 2\n",
    "        total = sum(map(lambda x : x // mid, lans))\n",
    "        # 길이 늘려야함\n",
    "        if m <= total :\n",
    "            start = mid + 1\n",
    "        # 길이 줄여야함\n",
    "        else :\n",
    "            end = mid - 1\n",
    "    # 최대값 구하므로 end\n",
    "    return end\n",
    "\n",
    "print(bin_search(start, end))"
   ]
  },
  {
   "cell_type": "markdown",
   "id": "7626d10a",
   "metadata": {},
   "source": [
    "## 백준 2470 두 용액\n",
    "https://www.acmicpc.net/problem/2470\n",
    "- 2467 용액과 동일 https://www.acmicpc.net/problem/2467\n",
    "- 이 문제는 정렬을 먼저 해줘야하고, 용액은 정렬이 돼서 주어짐"
   ]
  },
  {
   "cell_type": "code",
   "execution_count": null,
   "id": "96b8e020",
   "metadata": {},
   "outputs": [],
   "source": [
    "n = int(input())\n",
    "arr = sorted(map(int, input().split()))\n",
    "\n",
    "if arr[0] >= 0 :\n",
    "    print(arr[0], arr[1])\n",
    "elif arr[-1] <= 0 :\n",
    "    print(arr[-2], arr[-1])\n",
    "else :\n",
    "    left = 0\n",
    "    right = n - 1\n",
    "    answer = list()\n",
    "    min_sum = int(1e10)\n",
    "    while left < right :\n",
    "        temp = arr[left] + arr[right]\n",
    "        if min_sum > abs(temp) :\n",
    "            answer = [arr[left], arr[right]]\n",
    "            if temp == 0 :\n",
    "                break\n",
    "            min_sum = abs(temp)\n",
    "        if temp > 0 :\n",
    "            right -= 1\n",
    "            continue\n",
    "        if temp < 0 :\n",
    "            left += 1\n",
    "            continue\n",
    "    print(*answer)"
   ]
  },
  {
   "cell_type": "markdown",
   "id": "a7c68fa5",
   "metadata": {},
   "source": [
    "## 백준 2473 세 용액\n",
    "https://www.acmicpc.net/problem/2473\n",
    "- 정렬 후 가장 작은 값 고정\n",
    "- 나머지 범위에서 두 개를 골라 합이 0에 가장 가깝게 탐색\n",
    "- 가장 작은 값 인덱스 하나씩 늘려가며 탐색\n",
    "- 시간복잡도 : $O(n^2)$"
   ]
  },
  {
   "cell_type": "code",
   "execution_count": null,
   "id": "dace5015",
   "metadata": {},
   "outputs": [],
   "source": [
    "n = int(input())\n",
    "arr = sorted(map(int, input().split()))\n",
    "min_sum = int(1e10)\n",
    "answer = list()\n",
    "if arr[0] >= 0 :\n",
    "    print(arr[0], arr[1], arr[2])\n",
    "elif arr[-1] <= 0 :\n",
    "    print(arr[-3], arr[-2], arr[-1])\n",
    "else :\n",
    "    for i in range(n - 2) :\n",
    "        least = arr[i]\n",
    "        left = i + 1\n",
    "        right = n - 1\n",
    "        while left < right :\n",
    "            temp = least + arr[left] + arr[right]\n",
    "            if min_sum > abs(temp) :\n",
    "                min_sum = abs(temp)\n",
    "                answer = [least, arr[left], arr[right]]\n",
    "                if temp == 0 :\n",
    "                    break\n",
    "            if temp < 0 :\n",
    "                left += 1\n",
    "                continue\n",
    "            if temp > 0 :\n",
    "                right -= 1\n",
    "        else :\n",
    "            continue\n",
    "        break\n",
    "    \n",
    "    print(*answer)"
   ]
  },
  {
   "cell_type": "markdown",
   "id": "03669d4e",
   "metadata": {},
   "source": [
    "## 백준 1092 배\n",
    "https://www.acmicpc.net/problem/1092\n",
    "- 정렬 후 가장 무거운 크레인부터 움직일 수 있는 가장 무거운 짐을 옮긴다.\n",
    "- 옮긴 짐은 pop으로 제거\n",
    "- 2중 for문을 돌아도 되지만 이분탐색으로 짐을 고르는게 훨씬 빠르다."
   ]
  },
  {
   "cell_type": "code",
   "execution_count": null,
   "id": "3ed6f298",
   "metadata": {},
   "outputs": [],
   "source": [
    "import bisect\n",
    "\n",
    "n = int(input())\n",
    "crane = sorted(map(int, input().split()))\n",
    "m = int(input())\n",
    "box = sorted(map(int, input().split()))\n",
    "\n",
    "answer = 0\n",
    "if crane[-1] < box[-1] :\n",
    "    answer = -1\n",
    "else :\n",
    "    while box :\n",
    "        for i in range(n - 1, -1, -1) :\n",
    "            idx = bisect.bisect(box, crane[i])\n",
    "            if idx > 0 :\n",
    "                box.pop(idx - 1)\n",
    "            else :\n",
    "                break\n",
    "        answer += 1\n",
    "print(answer)         "
   ]
  },
  {
   "cell_type": "markdown",
   "id": "0ae47861",
   "metadata": {},
   "source": [
    "## 백준 1208 부분수열의 합 2\n",
    "https://www.acmicpc.net/problem/1208\n",
    "- 배열을 왼쪽과 오른쪽으로 나눈다.\n",
    "- 각 배열에서 가능한 모든 부분집합의 합을 담은 배열 left_sum, right_sum을 생성한다. (비트연산자 사용)\n",
    "- left_sum은 오름차순, right_sum은 내림차순 정렬\n",
    "- 각 배열의 앞에서부터 포인터 left_idx, right_idx 시작\n",
    "- 합이 s보다 크면 left_idx에 +1, s보다 작으면 right_idx에 +1\n",
    "- 합이 s와 같은 경우에는\n",
    "    - 현재 포인터의 값과 중복된 값의 개수를 왼쪽과 오른쪽 모두에서 세준다.\n",
    "    - 그 결과를 곱해 answer에 더한다.\n",
    "    - 개수만큼 left_idx와 right_idx에 더하고 탐색 계속\n",
    "- 부분집합이 공집합인 경우에는 합이 0이 되므로 s가 0인 경우에 1을 뺀다. "
   ]
  },
  {
   "cell_type": "code",
   "execution_count": null,
   "id": "1f381de2",
   "metadata": {},
   "outputs": [],
   "source": [
    "n, s = map(int, input().split())\n",
    "arr = list(map(int, input().split()))\n",
    "\n",
    "left = arr[:n//2]\n",
    "right = arr[n//2:]\n",
    "\n",
    "def sub_sum(arr) :\n",
    "    m = len(arr)\n",
    "    arr_sum = list()\n",
    "    for i in range(1 << m) :\n",
    "        temp = 0\n",
    "        for j in range(m) :\n",
    "            if i & (1 << j) :\n",
    "                temp += arr[j]\n",
    "        arr_sum.append(temp)\n",
    "    return arr_sum\n",
    "    \n",
    "left_sum = sub_sum(left)\n",
    "right_sum = sub_sum(right)\n",
    "left_sum.sort()\n",
    "right_sum.sort(reverse=True)\n",
    "\n",
    "answer = 0\n",
    "left_idx = 0\n",
    "right_idx = 0\n",
    "while True :\n",
    "    if left_idx == len(left_sum) or right_idx == len(right_sum) :\n",
    "        break\n",
    "    temp = left_sum[left_idx] + right_sum[right_idx]\n",
    "    if temp > s :\n",
    "        right_idx += 1\n",
    "        continue\n",
    "    if temp < s :\n",
    "        left_idx += 1\n",
    "        continue\n",
    "    if temp == s :\n",
    "        left_cnt = 1\n",
    "        while left_idx + left_cnt < len(left_sum) and left_sum[left_idx] == left_sum[left_idx + left_cnt] :\n",
    "            left_cnt += 1\n",
    "        right_cnt = 1\n",
    "        while right_idx + right_cnt < len(right_sum) and right_sum[right_idx] == right_sum[right_idx + right_cnt] :\n",
    "            right_cnt += 1\n",
    "        answer += left_cnt * right_cnt\n",
    "        left_idx += left_cnt\n",
    "        right_idx += right_cnt\n",
    "\n",
    "if s == 0 :\n",
    "    answer -= 1\n",
    "print(answer)"
   ]
  }
 ],
 "metadata": {
  "kernelspec": {
   "display_name": "Python 3 (ipykernel)",
   "language": "python",
   "name": "python3"
  },
  "language_info": {
   "codemirror_mode": {
    "name": "ipython",
    "version": 3
   },
   "file_extension": ".py",
   "mimetype": "text/x-python",
   "name": "python",
   "nbconvert_exporter": "python",
   "pygments_lexer": "ipython3",
   "version": "3.9.13"
  },
  "toc": {
   "base_numbering": 1,
   "nav_menu": {},
   "number_sections": true,
   "sideBar": true,
   "skip_h1_title": false,
   "title_cell": "Table of Contents",
   "title_sidebar": "Contents",
   "toc_cell": false,
   "toc_position": {},
   "toc_section_display": true,
   "toc_window_display": true
  },
  "varInspector": {
   "cols": {
    "lenName": 16,
    "lenType": 16,
    "lenVar": 40
   },
   "kernels_config": {
    "python": {
     "delete_cmd_postfix": "",
     "delete_cmd_prefix": "del ",
     "library": "var_list.py",
     "varRefreshCmd": "print(var_dic_list())"
    },
    "r": {
     "delete_cmd_postfix": ") ",
     "delete_cmd_prefix": "rm(",
     "library": "var_list.r",
     "varRefreshCmd": "cat(var_dic_list()) "
    }
   },
   "types_to_exclude": [
    "module",
    "function",
    "builtin_function_or_method",
    "instance",
    "_Feature"
   ],
   "window_display": false
  }
 },
 "nbformat": 4,
 "nbformat_minor": 5
}
