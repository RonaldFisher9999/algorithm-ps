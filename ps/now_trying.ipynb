{
 "cells": [
  {
   "cell_type": "code",
   "execution_count": 27,
   "id": "189ad23f",
   "metadata": {
    "ExecuteTime": {
     "end_time": "2023-04-12T14:29:11.798166Z",
     "start_time": "2023-04-12T14:29:11.776730Z"
    }
   },
   "outputs": [
    {
     "name": "stdout",
     "output_type": "stream",
     "text": [
      "23\n"
     ]
    }
   ],
   "source": [
    "# 서강그라운드 https://www.acmicpc.net/problem/14938\n",
    "input = open(\"input.txt\").readline\n",
    "\n",
    "import heapq\n",
    "\n",
    "# n : 지역개수, m : 수색범위, r : 길 개수\n",
    "n, m, r = map(int, input().split())\n",
    "items = [0] + list(map(int, input().split()))\n",
    "graph = [[] for _ in range(n+1)]\n",
    "for _ in range(r) :\n",
    "    a, b, l = map(int, input().split())\n",
    "    graph[a].append((l, b))\n",
    "    graph[b].append((l, a))\n",
    "\n",
    "def dijkstra(start, n, m, graph, items) :\n",
    "    INF = 10 ** 5\n",
    "    dist = [INF] * (n+1)\n",
    "    dist[start] = 0\n",
    "    hq = []\n",
    "    heapq.heappush(hq, (dist[start], start))\n",
    "    while hq :\n",
    "        dist_now, now = heapq.heappop(hq)\n",
    "        if dist[now] < dist_now :\n",
    "            continue\n",
    "        for dist_now_near, near in graph[now] :\n",
    "            if dist[near] > dist_now + dist_now_near :\n",
    "                dist[near] = dist_now + dist_now_near\n",
    "                heapq.heappush(hq, (dist[near], near))\n",
    "    item_cnt = 0            \n",
    "    for node in range(1, n+1) :\n",
    "        if dist[node] <= m :\n",
    "            item_cnt += items[node]\n",
    "            \n",
    "    return item_cnt\n",
    "\n",
    "answer = 0\n",
    "for i in range(1, n+1) :\n",
    "    answer = max(answer, dijkstra(i, n, m, graph, items))\n",
    "    \n",
    "print(answer)"
   ]
  },
  {
   "cell_type": "code",
   "execution_count": 6,
   "id": "9fb17e1d",
   "metadata": {},
   "outputs": [
    {
     "name": "stdout",
     "output_type": "stream",
     "text": [
      "4 10\n",
      "0\n",
      "5 20\n",
      "0\n"
     ]
    }
   ],
   "source": []
  }
 ],
 "metadata": {
  "kernelspec": {
   "display_name": "Python 3 (ipykernel)",
   "language": "python",
   "name": "python3"
  },
  "language_info": {
   "codemirror_mode": {
    "name": "ipython",
    "version": 3
   },
   "file_extension": ".py",
   "mimetype": "text/x-python",
   "name": "python",
   "nbconvert_exporter": "python",
   "pygments_lexer": "ipython3",
   "version": "3.10.3"
  },
  "toc": {
   "base_numbering": 1,
   "nav_menu": {},
   "number_sections": true,
   "sideBar": true,
   "skip_h1_title": false,
   "title_cell": "Table of Contents",
   "title_sidebar": "Contents",
   "toc_cell": false,
   "toc_position": {},
   "toc_section_display": true,
   "toc_window_display": false
  },
  "varInspector": {
   "cols": {
    "lenName": 16,
    "lenType": 16,
    "lenVar": 40
   },
   "kernels_config": {
    "python": {
     "delete_cmd_postfix": "",
     "delete_cmd_prefix": "del ",
     "library": "var_list.py",
     "varRefreshCmd": "print(var_dic_list())"
    },
    "r": {
     "delete_cmd_postfix": ") ",
     "delete_cmd_prefix": "rm(",
     "library": "var_list.r",
     "varRefreshCmd": "cat(var_dic_list()) "
    }
   },
   "types_to_exclude": [
    "module",
    "function",
    "builtin_function_or_method",
    "instance",
    "_Feature"
   ],
   "window_display": false
  },
  "vscode": {
   "interpreter": {
    "hash": "dfacda2fdeeaacdd740fe5c66c89c97705c9508b64028ea0dce702e0ae9956cd"
   }
  }
 },
 "nbformat": 4,
 "nbformat_minor": 5
}
