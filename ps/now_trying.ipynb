{
 "cells": [
  {
   "cell_type": "markdown",
   "id": "389ad7ef",
   "metadata": {},
   "source": [
    "- 항상 `while low + 1 < high` 범위를 잡는다\n",
    "  - while문 빠져나와도 low < high 관계 유지\n",
    "- x : 목표값\n",
    "- check(x) : x에 대해 조건(범위)을 만족하는지 확인하는 함수\n",
    "- 결정경계\n",
    "  - check(x) True <--> False 바뀌는 지점\n",
    "  - 최대 x : T T T ... T F ... F F F -> T에서 F로 바뀌는 지점이 최대 x -> return low\n",
    "  - 최소 x : F F F ... F T ... T T T -> F에서 T로 바뀌는 지점이 최소 x -> return high\n",
    "- 초기 low, high 설정\n",
    "  - return low -> low는 가능한 최소값, high는 가능한 최대값+1\n",
    "  - return high -> low는 가능한 최소값-1, high는 가능한 최대값"
   ]
  },
  {
   "cell_type": "code",
   "execution_count": 32,
   "id": "45ea7c02",
   "metadata": {},
   "outputs": [
    {
     "name": "stdout",
     "output_type": "stream",
     "text": [
      "3\n"
     ]
    }
   ],
   "source": [
    "# 공유기 설치 https://www.acmicpc.net/problem/2110\n",
    "input = open(\"input.txt\").readline\n",
    "\n",
    "from bisect import bisect_left, bisect\n",
    "\n",
    "n, c = map(int, input().split())\n",
    "arr = [int(input()) for _ in range(n)]\n",
    "arr.sort()\n",
    "# print(n, c)\n",
    "# print(arr)\n",
    "def check(mid, arr, n, c):\n",
    "    cur_idx = 0\n",
    "    cnt = 1\n",
    "    while cnt < c:\n",
    "        next_idx = bisect(arr, arr[cur_idx] + mid)\n",
    "        if arr[cur_idx] + mid == arr[next_idx-1]:\n",
    "            next_idx -= 1\n",
    "        if next_idx < n:\n",
    "            cnt += 1\n",
    "            cur_idx = next_idx\n",
    "            continue\n",
    "        if next_idx == n:\n",
    "            break\n",
    "    if cnt == c:\n",
    "        return True\n",
    "    if cnt < c:\n",
    "        return False\n",
    "\n",
    "# 최대값\n",
    "def bin_search(arr, n, c):\n",
    "    low = 1\n",
    "    high = 1 + (arr[-1] - arr[0]) // (c - 1)\n",
    "    while low + 1 < high:\n",
    "        mid = (low + high) // 2\n",
    "        if check(mid, arr, n, c):\n",
    "            low = mid\n",
    "        else:\n",
    "            high = mid\n",
    "    return low\n",
    "\n",
    "print(bin_search(arr, n, c))"
   ]
  },
  {
   "cell_type": "code",
   "execution_count": 29,
   "id": "d7d9898e",
   "metadata": {},
   "outputs": [
    {
     "name": "stdout",
     "output_type": "stream",
     "text": [
      "5\n",
      "4\n"
     ]
    }
   ],
   "source": [
    "from bisect import bisect_left, bisect\n",
    "x = [1, 2, 4, 8, 9]\n",
    "a = 9\n",
    "print(bisect(x, a))\n",
    "print(bisect_left(x, a))"
   ]
  },
  {
   "cell_type": "code",
   "execution_count": 8,
   "id": "ee2c4d25",
   "metadata": {},
   "outputs": [
    {
     "name": "stdout",
     "output_type": "stream",
     "text": [
      "4 7\n",
      "[20, 15, 10, 17]\n",
      "15\n"
     ]
    }
   ],
   "source": [
    "# 나무 자르기 https://www.acmicpc.net/problem/2805\n",
    "input = open(\"input.txt\").readline\n",
    "\n",
    "n, m = map(int, input().split())\n",
    "arr = list(map(int, input().split()))\n",
    "print(n, m)\n",
    "print(arr)\n",
    "\n",
    "def check(mid, arr, m):\n",
    "    total = 0\n",
    "    for i in arr:\n",
    "        if i > mid:\n",
    "            total += i - mid\n",
    "    return total >= m\n",
    "\n",
    "def bin_search(arr, m):\n",
    "    low, high = -1, max(arr)\n",
    "    while low + 1 < high:\n",
    "        mid = (low + high) // 2\n",
    "        if check(mid, arr, m):\n",
    "            low = mid\n",
    "        else:\n",
    "            high = mid\n",
    "    return low\n",
    "\n",
    "print(bin_search(arr, m))"
   ]
  },
  {
   "cell_type": "code",
   "execution_count": 1,
   "id": "bb1fa11a",
   "metadata": {},
   "outputs": [
    {
     "name": "stdout",
     "output_type": "stream",
     "text": [
      "4 485\n",
      "[120, 110, 140, 150]\n",
      "127\n"
     ]
    }
   ],
   "source": [
    "# 예산 https://www.acmicpc.net/problem/2512\n",
    "input = open(\"input.txt\").readline\n",
    "\n",
    "n = int(input())\n",
    "arr = list(map(int, input().split()))\n",
    "m = int(input())\n",
    "print(n, m)\n",
    "print(arr)\n",
    "\n",
    "def check(mid, arr, m):\n",
    "    total = 0\n",
    "    for i in arr:\n",
    "        total += min(i, mid)\n",
    "    return total <= m\n",
    "\n",
    "def bin_search(arr, m):\n",
    "    low, high = 1, max(arr) + 1\n",
    "    while low + 1 < high:\n",
    "        mid = (low + high) // 2\n",
    "        if check(mid, arr, m):\n",
    "            low = mid\n",
    "        else:\n",
    "            high = mid\n",
    "    return low\n",
    "\n",
    "print(bin_search(arr, m))"
   ]
  }
 ],
 "metadata": {
  "kernelspec": {
   "display_name": "Python 3 (ipykernel)",
   "language": "python",
   "name": "python3"
  },
  "language_info": {
   "codemirror_mode": {
    "name": "ipython",
    "version": 3
   },
   "file_extension": ".py",
   "mimetype": "text/x-python",
   "name": "python",
   "nbconvert_exporter": "python",
   "pygments_lexer": "ipython3",
   "version": "3.10.3"
  },
  "toc": {
   "base_numbering": 1,
   "nav_menu": {},
   "number_sections": true,
   "sideBar": true,
   "skip_h1_title": false,
   "title_cell": "Table of Contents",
   "title_sidebar": "Contents",
   "toc_cell": false,
   "toc_position": {},
   "toc_section_display": true,
   "toc_window_display": false
  },
  "varInspector": {
   "cols": {
    "lenName": 16,
    "lenType": 16,
    "lenVar": 40
   },
   "kernels_config": {
    "python": {
     "delete_cmd_postfix": "",
     "delete_cmd_prefix": "del ",
     "library": "var_list.py",
     "varRefreshCmd": "print(var_dic_list())"
    },
    "r": {
     "delete_cmd_postfix": ") ",
     "delete_cmd_prefix": "rm(",
     "library": "var_list.r",
     "varRefreshCmd": "cat(var_dic_list()) "
    }
   },
   "types_to_exclude": [
    "module",
    "function",
    "builtin_function_or_method",
    "instance",
    "_Feature"
   ],
   "window_display": false
  },
  "vscode": {
   "interpreter": {
    "hash": "dfacda2fdeeaacdd740fe5c66c89c97705c9508b64028ea0dce702e0ae9956cd"
   }
  }
 },
 "nbformat": 4,
 "nbformat_minor": 5
}
