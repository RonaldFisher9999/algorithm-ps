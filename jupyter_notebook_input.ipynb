{
 "cells": [
  {
   "cell_type": "code",
   "execution_count": 2,
   "id": "ea38b519",
   "metadata": {
    "ExecuteTime": {
     "end_time": "2023-01-25T02:28:51.506905Z",
     "start_time": "2023-01-25T02:28:51.493943Z"
    }
   },
   "outputs": [
    {
     "name": "stdout",
     "output_type": "stream",
     "text": [
      "number of target in the array : 3\n"
     ]
    }
   ],
   "source": [
    "# 현 노트북과 같은 경로에 input.txt 파일 저장 (코랩도 동일)\n",
    "# 2차원 배열에 특정 숫자가 몇개나 포함되어 있는지 세는 코드\n",
    "# 첫번째 줄에 2차원 배열의 가로 길이 m, 세로 길이 n 입력\n",
    "# 두번째 줄부터 n+1 번째 줄까지 배열 입력\n",
    "# n+2 번째 줄에 개수를 셀 정수 target 입력\n",
    "# 4 3\n",
    "# 2 2 0 1\n",
    "# 0 1 1 0\n",
    "# 1 2 0 1\n",
    "# 2\n",
    "\n",
    "# 적당한 변수명에 저장\n",
    "f = open(\"input.txt\")\n",
    "# input 대신 자신이 알아볼 수 있는 함수명 지정 가능\n",
    "input = f.readline\n",
    "\n",
    "m, n = map(int, input().split())\n",
    "array = [list(map(int, input().split())) for _ in range(n)]\n",
    "target = int(input())\n",
    "cnt = 0\n",
    "for i in range(n) :\n",
    "    for j in range(m) :\n",
    "        if array[i][j] == target :\n",
    "            cnt += 1\n",
    "print(f\"number of target in the array : {cnt}\")"
   ]
  },
  {
   "cell_type": "code",
   "execution_count": null,
   "id": "1a045cad",
   "metadata": {},
   "outputs": [],
   "source": []
  },
  {
   "cell_type": "code",
   "execution_count": null,
   "id": "1980d157",
   "metadata": {},
   "outputs": [],
   "source": []
  }
 ],
 "metadata": {
  "kernelspec": {
   "display_name": "Python 3",
   "language": "python",
   "name": "python3"
  },
  "language_info": {
   "codemirror_mode": {
    "name": "ipython",
    "version": 3
   },
   "file_extension": ".py",
   "mimetype": "text/x-python",
   "name": "python",
   "nbconvert_exporter": "python",
   "pygments_lexer": "ipython3",
   "version": "3.9.13 (tags/v3.9.13:6de2ca5, May 17 2022, 16:36:42) [MSC v.1929 64 bit (AMD64)]"
  },
  "toc": {
   "base_numbering": 1,
   "nav_menu": {},
   "number_sections": true,
   "sideBar": true,
   "skip_h1_title": false,
   "title_cell": "Table of Contents",
   "title_sidebar": "Contents",
   "toc_cell": false,
   "toc_position": {},
   "toc_section_display": true,
   "toc_window_display": false
  },
  "varInspector": {
   "cols": {
    "lenName": 16,
    "lenType": 16,
    "lenVar": 40
   },
   "kernels_config": {
    "python": {
     "delete_cmd_postfix": "",
     "delete_cmd_prefix": "del ",
     "library": "var_list.py",
     "varRefreshCmd": "print(var_dic_list())"
    },
    "r": {
     "delete_cmd_postfix": ") ",
     "delete_cmd_prefix": "rm(",
     "library": "var_list.r",
     "varRefreshCmd": "cat(var_dic_list()) "
    }
   },
   "types_to_exclude": [
    "module",
    "function",
    "builtin_function_or_method",
    "instance",
    "_Feature"
   ],
   "window_display": false
  },
  "vscode": {
   "interpreter": {
    "hash": "c4b9ebf4ca459396e2ad1150752490c26670c1a037c08cad955a4425787bec2e"
   }
  }
 },
 "nbformat": 4,
 "nbformat_minor": 5
}
