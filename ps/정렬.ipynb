{
 "cells": [
  {
   "cell_type": "markdown",
   "id": "fcff7e1e",
   "metadata": {
    "ExecuteTime": {
     "end_time": "2023-02-02T00:56:36.038510Z",
     "start_time": "2023-02-02T00:56:35.923987Z"
    }
   },
   "source": [
    "# 정렬"
   ]
  },
  {
   "cell_type": "markdown",
   "id": "2983b2da",
   "metadata": {},
   "source": [
    "## 프로그래머스 베스트앨범\n",
    "https://school.programmers.co.kr/learn/courses/30/lessons/42579"
   ]
  },
  {
   "cell_type": "code",
   "execution_count": null,
   "id": "b3ee660c",
   "metadata": {},
   "outputs": [],
   "source": [
    "genres = [\"classic\", \"pop\", \"classic\", \"classic\", \"pop\"]\n",
    "plays = [500, 600, 150, 800, 2500]\n",
    "def solution(genres, plays) :\n",
    "    answer = []\n",
    "    g_sums = dict((x, [0, []]) for x in set(genres))\n",
    "    n = len(genres)\n",
    "    for i in range(n) :\n",
    "        g_sums[genres[i]][0] += plays[i]\n",
    "        g_sums[genres[i]][1].append((i, plays[i]))\n",
    "    g_sums = dict(sorted(g_sums.items(), key=lambda x : x[1][0], reverse=True))\n",
    "    for genre in g_sums :\n",
    "        g_sums[genre][1] = sorted(g_sums[genre][1], key=lambda x : (x[1], -x[0]))\n",
    "        cnt = 0\n",
    "        while g_sums[genre][1] :\n",
    "            answer.append(g_sums[genre][1].pop()[0])\n",
    "            cnt += 1\n",
    "            if cnt == 2 :\n",
    "                break\n",
    "    return answer\n",
    "\n",
    "print(solution(genres, plays))"
   ]
  },
  {
   "cell_type": "markdown",
   "id": "1d8fb6f6",
   "metadata": {},
   "source": [
    "## 프로그래머스 가장 큰 수\n",
    "https://school.programmers.co.kr/learn/courses/30/lessons/42746\n",
    "- 그냥 sort하면 3이 30 뒤에 옴\n",
    "- *3을 해서 비교하면 333 이 303030보다 앞에 옴\n",
    "- 최대 3자리까지 가능하므로 *3을 해서 자리수를 맞춰줌 (3이 330보다 앞에 오게 하려면 *3 필요)"
   ]
  },
  {
   "cell_type": "code",
   "execution_count": null,
   "id": "bdbe8dad",
   "metadata": {},
   "outputs": [],
   "source": [
    "def solution(numbers) :\n",
    "    numbers = sorted(map(str, numbers), key=lambda x : x*3, reverse=True)\n",
    "#     print(numbers)\n",
    "    return str(int(\"\".join(numbers)))\n",
    "# numbers = [3, 30, 34, 5, 9]\n",
    "numbers = [3, 330, 5, 9]\n",
    "print(solution(numbers))"
   ]
  }
 ],
 "metadata": {
  "kernelspec": {
   "display_name": "Python 3 (ipykernel)",
   "language": "python",
   "name": "python3"
  },
  "language_info": {
   "codemirror_mode": {
    "name": "ipython",
    "version": 3
   },
   "file_extension": ".py",
   "mimetype": "text/x-python",
   "name": "python",
   "nbconvert_exporter": "python",
   "pygments_lexer": "ipython3",
   "version": "3.9.13"
  },
  "toc": {
   "base_numbering": 1,
   "nav_menu": {},
   "number_sections": true,
   "sideBar": true,
   "skip_h1_title": false,
   "title_cell": "Table of Contents",
   "title_sidebar": "Contents",
   "toc_cell": false,
   "toc_position": {},
   "toc_section_display": true,
   "toc_window_display": true
  },
  "varInspector": {
   "cols": {
    "lenName": 16,
    "lenType": 16,
    "lenVar": 40
   },
   "kernels_config": {
    "python": {
     "delete_cmd_postfix": "",
     "delete_cmd_prefix": "del ",
     "library": "var_list.py",
     "varRefreshCmd": "print(var_dic_list())"
    },
    "r": {
     "delete_cmd_postfix": ") ",
     "delete_cmd_prefix": "rm(",
     "library": "var_list.r",
     "varRefreshCmd": "cat(var_dic_list()) "
    }
   },
   "types_to_exclude": [
    "module",
    "function",
    "builtin_function_or_method",
    "instance",
    "_Feature"
   ],
   "window_display": false
  }
 },
 "nbformat": 4,
 "nbformat_minor": 5
}
