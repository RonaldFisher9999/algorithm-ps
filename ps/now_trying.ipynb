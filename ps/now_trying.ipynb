{
 "cells": [
  {
   "cell_type": "code",
   "execution_count": 28,
   "id": "189ad23f",
   "metadata": {
    "ExecuteTime": {
     "end_time": "2023-04-12T14:29:11.798166Z",
     "start_time": "2023-04-12T14:29:11.776730Z"
    }
   },
   "outputs": [
    {
     "name": "stdout",
     "output_type": "stream",
     "text": [
      "0\n"
     ]
    }
   ],
   "source": [
    "# 빙산 https://www.acmicpc.net/problem/2573\n",
    "input = open(\"input.txt\").readline\n",
    "\n",
    "from collections import deque\n",
    "\n",
    "n, m = map(int, input().split())\n",
    "board = [list(map(int, input().split())) for _ in range(n)]\n",
    "# print(*board, sep=\"\\n\")\n",
    "\n",
    "def bfs(i, j) :\n",
    "    dxy = [(1, 0), (-1, 0), (0, 1), (0, -1)]\n",
    "    q = deque([(i, j)])\n",
    "    melt_cnt[(i, j)] = 0\n",
    "    while q :\n",
    "        x, y = q.popleft()\n",
    "        for dx, dy in dxy :\n",
    "            nx = x + dx\n",
    "            ny = y + dy\n",
    "            if 0 <= nx < n and 0 <= ny < m :\n",
    "                if board[nx][ny] == 0 :\n",
    "                    melt_cnt[(x, y)] += 1\n",
    "                    continue\n",
    "                if board[nx][ny] != 0 and (nx, ny) not in melt_cnt :\n",
    "                    melt_cnt[(nx, ny)] = 0\n",
    "                    q.append((nx, ny))\n",
    "    \n",
    "def check_splits() :                \n",
    "    splits = 0\n",
    "    for i in range(1, n-1) :\n",
    "        for j in range(1, m-1) :\n",
    "            if board[i][j] != 0 and (i, j) not in melt_cnt :\n",
    "                bfs(i, j)\n",
    "                splits += 1\n",
    "                if splits == 2 :\n",
    "                    return splits\n",
    "    return splits\n",
    "\n",
    "time = 0\n",
    "while True :\n",
    "    # splits : 현재 빙산 덩어리 개수\n",
    "    # 0이면 다 녹음, 2 이상이면 분리됨 -> break\n",
    "    # melt_cnt : (좌표 : 줄어드는 높이) dictionary\n",
    "    melt_cnt = dict()\n",
    "    splits = check_splits()\n",
    "    # print(f\"time : {time}, splits : {splits}\")\n",
    "    # print(melt_cnt)\n",
    "    if splits != 1 :\n",
    "        break\n",
    "    for x, y in melt_cnt :\n",
    "        board[x][y] -= melt_cnt[(x, y)]\n",
    "        board[x][y] = max(board[x][y], 0)\n",
    "    time += 1\n",
    "    \n",
    "if splits == 0 :\n",
    "    print(0)\n",
    "else :\n",
    "    print(time)\n"
   ]
  },
  {
   "cell_type": "code",
   "execution_count": 6,
   "id": "9fb17e1d",
   "metadata": {},
   "outputs": [
    {
     "name": "stdout",
     "output_type": "stream",
     "text": [
      "4 10\n",
      "0\n",
      "5 20\n",
      "0\n"
     ]
    }
   ],
   "source": [
    "a = {(4, 10) : 0, (5, 20) : 0}\n",
    "for x, y in a :\n",
    "    print(x, y)\n",
    "    print(a[(x,y)])"
   ]
  }
 ],
 "metadata": {
  "kernelspec": {
   "display_name": "Python 3 (ipykernel)",
   "language": "python",
   "name": "python3"
  },
  "language_info": {
   "codemirror_mode": {
    "name": "ipython",
    "version": 3
   },
   "file_extension": ".py",
   "mimetype": "text/x-python",
   "name": "python",
   "nbconvert_exporter": "python",
   "pygments_lexer": "ipython3",
   "version": "3.11.0"
  },
  "toc": {
   "base_numbering": 1,
   "nav_menu": {},
   "number_sections": true,
   "sideBar": true,
   "skip_h1_title": false,
   "title_cell": "Table of Contents",
   "title_sidebar": "Contents",
   "toc_cell": false,
   "toc_position": {},
   "toc_section_display": true,
   "toc_window_display": false
  },
  "varInspector": {
   "cols": {
    "lenName": 16,
    "lenType": 16,
    "lenVar": 40
   },
   "kernels_config": {
    "python": {
     "delete_cmd_postfix": "",
     "delete_cmd_prefix": "del ",
     "library": "var_list.py",
     "varRefreshCmd": "print(var_dic_list())"
    },
    "r": {
     "delete_cmd_postfix": ") ",
     "delete_cmd_prefix": "rm(",
     "library": "var_list.r",
     "varRefreshCmd": "cat(var_dic_list()) "
    }
   },
   "types_to_exclude": [
    "module",
    "function",
    "builtin_function_or_method",
    "instance",
    "_Feature"
   ],
   "window_display": false
  },
  "vscode": {
   "interpreter": {
    "hash": "dfacda2fdeeaacdd740fe5c66c89c97705c9508b64028ea0dce702e0ae9956cd"
   }
  }
 },
 "nbformat": 4,
 "nbformat_minor": 5
}
