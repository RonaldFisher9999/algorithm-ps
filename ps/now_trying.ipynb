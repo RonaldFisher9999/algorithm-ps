{
 "cells": [
  {
   "cell_type": "code",
   "execution_count": 33,
   "id": "b0287a55",
   "metadata": {},
   "outputs": [
    {
     "name": "stdout",
     "output_type": "stream",
     "text": [
      "6\n",
      "4\n",
      "4\n",
      "0\n",
      "4\n",
      "3\n",
      "3\n"
     ]
    }
   ],
   "source": [
    "# 텀 프로젝트   https://www.acmicpc.net/problem/9466\n",
    "input = open(\"input.txt\").readline\n",
    "\n",
    "import sys\n",
    "# input = sys.stdin.readline\n",
    "sys.setrecursionlimit(10**6)\n",
    "t = int(input())\n",
    "\n",
    "# 0 2 3 4 2 1\n",
    "def dfs(cur_node: int, visit_stack: list, visit_set: set):\n",
    "    global has_team\n",
    "    # 다음 노드\n",
    "    next_node = graph[cur_node]\n",
    "    # 현재 탐색에서 다음 노드 이미 방문했으면 팀 결성 탐색\n",
    "    if next_node in visit_set:\n",
    "        while visit_stack:\n",
    "            # 스택 거슬러 올라가면서 팀 있다고 체크\n",
    "            prev_node = visit_stack.pop()\n",
    "            has_team[prev_node] = 1\n",
    "            # 팀 완성되면 방문 스택에 남아 있는 노드는 팀 결성 불가\n",
    "            if prev_node == next_node:\n",
    "                for remain in visit_stack:\n",
    "                    has_team[remain] = 0\n",
    "                return\n",
    "    # 현재 탐색에서 다음 노드 방문한 적 없으면 스택에 추가하고 방문\n",
    "    if has_team[next_node] == -1:\n",
    "        visit_stack.append(next_node)\n",
    "        visit_set.add(next_node)\n",
    "        dfs(next_node, visit_stack, visit_set)\n",
    "        return\n",
    "    # 이전 탐색에서 방문해서 체크한 노드면 팀 결성 불가\n",
    "    else:\n",
    "        has_team[cur_node] = 0\n",
    "        return\n",
    "\n",
    "for _ in range(t):\n",
    "    n = int(input())\n",
    "    graph = [0] + list(map(int, input().split()))    \n",
    "    has_team = [-1] * (n+1) # -1: not visited, 0: no team, 1: has team\n",
    "    has_team[0] = 0\n",
    "    for cur_node in range(1, n+1):\n",
    "        # 방문 안했으면 dfs\n",
    "        if has_team[cur_node] == -1:\n",
    "            dfs(cur_node, [cur_node], {cur_node})\n",
    "    # print(has_team[1:])\n",
    "    print(n - sum(has_team))"
   ]
  },
  {
   "cell_type": "code",
   "execution_count": 34,
   "id": "c594a954",
   "metadata": {},
   "outputs": [
    {
     "data": {
      "text/plain": [
       "'\\n7\\n9\\n2 3 4 5 6 4 4 4 4\\n5\\n2 3 4 5 5\\n5\\n1 1 1 1 1\\n5\\n1 2 3 4 5\\n5\\n1 1 2 3 4\\n7\\n2 3 4 2 4 5 7\\n7\\n3 1 3 7 3 4 6\\n'"
      ]
     },
     "execution_count": 34,
     "metadata": {},
     "output_type": "execute_result"
    }
   ],
   "source": [
    "'''\n",
    "7\n",
    "9\n",
    "2 3 4 5 6 4 4 4 4\n",
    "5\n",
    "2 3 4 5 5\n",
    "5\n",
    "1 1 1 1 1\n",
    "5\n",
    "1 2 3 4 5\n",
    "5\n",
    "1 1 2 3 4\n",
    "7\n",
    "2 3 4 2 4 5 7\n",
    "7\n",
    "3 1 3 7 3 4 6\n",
    "'''"
   ]
  }
 ],
 "metadata": {
  "kernelspec": {
   "display_name": "Python 3 (ipykernel)",
   "language": "python",
   "name": "python3"
  },
  "language_info": {
   "codemirror_mode": {
    "name": "ipython",
    "version": 3
   },
   "file_extension": ".py",
   "mimetype": "text/x-python",
   "name": "python",
   "nbconvert_exporter": "python",
   "pygments_lexer": "ipython3",
   "version": "3.10.3"
  },
  "toc": {
   "base_numbering": 1,
   "nav_menu": {},
   "number_sections": true,
   "sideBar": true,
   "skip_h1_title": false,
   "title_cell": "Table of Contents",
   "title_sidebar": "Contents",
   "toc_cell": false,
   "toc_position": {},
   "toc_section_display": true,
   "toc_window_display": false
  },
  "varInspector": {
   "cols": {
    "lenName": 16,
    "lenType": 16,
    "lenVar": 40
   },
   "kernels_config": {
    "python": {
     "delete_cmd_postfix": "",
     "delete_cmd_prefix": "del ",
     "library": "var_list.py",
     "varRefreshCmd": "print(var_dic_list())"
    },
    "r": {
     "delete_cmd_postfix": ") ",
     "delete_cmd_prefix": "rm(",
     "library": "var_list.r",
     "varRefreshCmd": "cat(var_dic_list()) "
    }
   },
   "types_to_exclude": [
    "module",
    "function",
    "builtin_function_or_method",
    "instance",
    "_Feature"
   ],
   "window_display": false
  },
  "vscode": {
   "interpreter": {
    "hash": "dfacda2fdeeaacdd740fe5c66c89c97705c9508b64028ea0dce702e0ae9956cd"
   }
  }
 },
 "nbformat": 4,
 "nbformat_minor": 5
}
