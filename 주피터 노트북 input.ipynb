{
 "cells": [
  {
   "cell_type": "code",
   "execution_count": 3,
   "id": "ea38b519",
   "metadata": {
    "ExecuteTime": {
     "end_time": "2023-01-24T15:19:33.063152Z",
     "start_time": "2023-01-24T15:19:33.054998Z"
    }
   },
   "outputs": [
    {
     "name": "stdout",
     "output_type": "stream",
     "text": [
      "[[0, 2, 0, 1, 0], [1, 0, 1, 0, 0], [0, 0, 0, 0, 0], [2, 0, 0, 1, 1], [2, 2, 0, 1, 2]]\n",
      "[(0, 3), (1, 0), (1, 2), (3, 3), (3, 4), (4, 3)]\n",
      "[(0, 1), (3, 0), (4, 0), (4, 1), (4, 4)]\n"
     ]
    }
   ],
   "source": [
    "# https://www.acmicpc.net/problem/15686\n",
    "import sys\n",
    "\n",
    "sys.stdin = open(\"input.txt\")\n",
    "user_input = sys.stdin.readline\n",
    "\n",
    "n, m = map(int, user_input().split())\n",
    "graph = list()\n",
    "all_home = list()\n",
    "all_chic = list()\n",
    "for i in range(n) :\n",
    "    array = list(map(int, user_input().split()))\n",
    "    graph.append(array)\n",
    "    for j in range(n) :\n",
    "        if array[j] == 1 :\n",
    "            all_home.append((i, j))\n",
    "        elif array[j] == 2 :\n",
    "            all_chic.append((i, j))\n",
    "print(graph)\n",
    "print(all_home)\n",
    "print(all_chic)"
   ]
  },
  {
   "cell_type": "code",
   "execution_count": null,
   "id": "1a045cad",
   "metadata": {},
   "outputs": [],
   "source": []
  }
 ],
 "metadata": {
  "kernelspec": {
   "display_name": "Python 3 (ipykernel)",
   "language": "python",
   "name": "python3"
  },
  "language_info": {
   "codemirror_mode": {
    "name": "ipython",
    "version": 3
   },
   "file_extension": ".py",
   "mimetype": "text/x-python",
   "name": "python",
   "nbconvert_exporter": "python",
   "pygments_lexer": "ipython3",
   "version": "3.9.13"
  },
  "toc": {
   "base_numbering": 1,
   "nav_menu": {},
   "number_sections": true,
   "sideBar": true,
   "skip_h1_title": false,
   "title_cell": "Table of Contents",
   "title_sidebar": "Contents",
   "toc_cell": false,
   "toc_position": {},
   "toc_section_display": true,
   "toc_window_display": false
  },
  "varInspector": {
   "cols": {
    "lenName": 16,
    "lenType": 16,
    "lenVar": 40
   },
   "kernels_config": {
    "python": {
     "delete_cmd_postfix": "",
     "delete_cmd_prefix": "del ",
     "library": "var_list.py",
     "varRefreshCmd": "print(var_dic_list())"
    },
    "r": {
     "delete_cmd_postfix": ") ",
     "delete_cmd_prefix": "rm(",
     "library": "var_list.r",
     "varRefreshCmd": "cat(var_dic_list()) "
    }
   },
   "types_to_exclude": [
    "module",
    "function",
    "builtin_function_or_method",
    "instance",
    "_Feature"
   ],
   "window_display": false
  }
 },
 "nbformat": 4,
 "nbformat_minor": 5
}
