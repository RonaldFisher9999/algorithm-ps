{
 "cells": [
  {
   "cell_type": "code",
   "execution_count": 3,
   "id": "7a35661a",
   "metadata": {
    "ExecuteTime": {
     "end_time": "2023-02-03T04:15:09.551918Z",
     "start_time": "2023-02-03T04:15:09.541945Z"
    }
   },
   "outputs": [
    {
     "ename": "IndentationError",
     "evalue": "expected an indented block (2370667688.py, line 15)",
     "output_type": "error",
     "traceback": [
      "\u001b[1;36m  Cell \u001b[1;32mIn[3], line 15\u001b[1;36m\u001b[0m\n\u001b[1;33m    def check(x, y) :\u001b[0m\n\u001b[1;37m                     ^\u001b[0m\n\u001b[1;31mIndentationError\u001b[0m\u001b[1;31m:\u001b[0m expected an indented block\n"
     ]
    }
   ],
   "source": [
    "# 비숍 https://www.acmicpc.net/problem/1799\n",
    "\n",
    "input = open(\"input.txt\").readline\n",
    "\n",
    "n = int(input())\n",
    "arr = [list(map(int, input().split())) for _ in range(n)]\n",
    "# +1, +1 방향 대각선들\n",
    "to_rd = [0] * (2*n - 1)\n",
    "# +1, -1 방향 대각선들\n",
    "to_ld = [0] * (2*n - 1)\n",
    "\n",
    "i = 0\n",
    "j = n-1\n",
    "ni, nj = i, j\n",
    "cnt = 0\n",
    "for k in range(n-1) :\n",
    "    ni += k\n",
    "    nj += k\n",
    "    if ni < 0 or ni >= n or nj < 0 or nj >= n :\n",
    "        break\n",
    "    if not arr[ni][nj] :\n",
    "        \n",
    "\n",
    "def check(x, y) :\n",
    "    if to_rd[x - y + n-1] :\n",
    "        return False\n",
    "    if to_ld[x + y] :\n",
    "        return False\n",
    "    return True\n",
    "\n",
    "\n",
    "def place(x, y) :\n",
    "    arr[x][y] = 2\n",
    "    to_rd[x - y + n-1] = 1\n",
    "    to_ld[x + y] = 1\n",
    "\n",
    "def remove(x, y) :\n",
    "    arr[x][y] = 1\n",
    "    to_rd[x - y + n-1] = 0\n",
    "    to_ld[x + y] = 0\n",
    "\n",
    "# 탐색 종료 조건 어떻게?\n",
    "def back_track(x, y, now) :\n",
    "    global answer\n",
    "    # 모든 대각선이 다 찼을 때 -> 처음부터 아예 못 놓는 대각선은 어떻게 처리?\n",
    "    # 탐색 시작점부터 같은 row 끝까지 탐색        \n",
    "        for j in range(y+1, n) :\n",
    "            if arr[x][j] == 1 and check(x, j) :\n",
    "                place(x, j)\n",
    "                back_track(x, j, now+1)\n",
    "                remove(x, j)\n",
    "        # 탐색 시작점 다음 row부터 끝까지 탐색\n",
    "        for i in range(x+1, n) :\n",
    "            for j in range(n) :\n",
    "                if arr[i][j] == 1 and check(i, j) :\n",
    "                    place(i, j)\n",
    "                    back_track(i, j, now+1)\n",
    "                    remove(i, j)\n",
    "\n",
    "answer = 0\n",
    "for i in range(n) :\n",
    "    for j in range(n) :\n",
    "        # 놓을 수 있으면 놓고\n",
    "        if arr[i][j] == 1 and check(i, j) :\n",
    "            place(i ,j)\n",
    "            back_track(i, j, 1)\n",
    "            remove(i, j)\n",
    "# print(answer)"
   ]
  }
 ],
 "metadata": {
  "kernelspec": {
   "display_name": "Python 3 (ipykernel)",
   "language": "python",
   "name": "python3"
  },
  "language_info": {
   "codemirror_mode": {
    "name": "ipython",
    "version": 3
   },
   "file_extension": ".py",
   "mimetype": "text/x-python",
   "name": "python",
   "nbconvert_exporter": "python",
   "pygments_lexer": "ipython3",
   "version": "3.9.13"
  },
  "toc": {
   "base_numbering": 1,
   "nav_menu": {},
   "number_sections": true,
   "sideBar": true,
   "skip_h1_title": false,
   "title_cell": "Table of Contents",
   "title_sidebar": "Contents",
   "toc_cell": false,
   "toc_position": {},
   "toc_section_display": true,
   "toc_window_display": false
  },
  "varInspector": {
   "cols": {
    "lenName": 16,
    "lenType": 16,
    "lenVar": 40
   },
   "kernels_config": {
    "python": {
     "delete_cmd_postfix": "",
     "delete_cmd_prefix": "del ",
     "library": "var_list.py",
     "varRefreshCmd": "print(var_dic_list())"
    },
    "r": {
     "delete_cmd_postfix": ") ",
     "delete_cmd_prefix": "rm(",
     "library": "var_list.r",
     "varRefreshCmd": "cat(var_dic_list()) "
    }
   },
   "types_to_exclude": [
    "module",
    "function",
    "builtin_function_or_method",
    "instance",
    "_Feature"
   ],
   "window_display": false
  }
 },
 "nbformat": 4,
 "nbformat_minor": 5
}
