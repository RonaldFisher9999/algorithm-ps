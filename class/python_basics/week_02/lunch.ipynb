{
 "cells": [
  {
   "cell_type": "code",
   "execution_count": 1,
   "metadata": {},
   "outputs": [],
   "source": [
    "import random\n",
    "class Lunch() :\n",
    "    def __init__(self, all_stu, now_stu) :\n",
    "        all_stu = ['고영진','구본웅','김성용','김하늘','김하림', \n",
    "                   '김현아','민경현','배이경','서동훈','송준우',\n",
    "                   '심현재','유창재','윤민영','윤태영','이민호',\n",
    "                   '이성섭','이성우','이영아','이예슬','임수형',\n",
    "                   '임혜진','정선재','정현아','진익근','최태호',\n",
    "                   '최홍준','하정호','허주혁']\n",
    "        self.all_stu = all_stu\n",
    "        students_set = set()\n",
    "        file = None\n",
    "        try :\n",
    "            students_set = set(open(\"students_set.txt\", \"r\").read().split())\n",
    "        except :\n",
    "            file = open(\"students_set.txt\", \"w\")\n",
    "            for s in self.all_stu :\n",
    "                file.write(f\"{s} \")\n",
    "            file.close()\n",
    "            students_set = set(open(\"students_set.txt\", \"r\").read().split())\n",
    "        self.now_stu = students_set"
   ]
  },
  {
   "cell_type": "code",
   "execution_count": 4,
   "metadata": {},
   "outputs": [
    {
     "ename": "TypeError",
     "evalue": "__init__() missing 2 required positional arguments: 'all_stu' and 'now_stu'",
     "output_type": "error",
     "traceback": [
      "\u001b[1;31m---------------------------------------------------------------------------\u001b[0m",
      "\u001b[1;31mTypeError\u001b[0m                                 Traceback (most recent call last)",
      "Cell \u001b[1;32mIn[4], line 1\u001b[0m\n\u001b[1;32m----> 1\u001b[0m lun \u001b[39m=\u001b[39m Lunch()\n",
      "\u001b[1;31mTypeError\u001b[0m: __init__() missing 2 required positional arguments: 'all_stu' and 'now_stu'"
     ]
    }
   ],
   "source": [
    "lun = Lunch()"
   ]
  },
  {
   "cell_type": "code",
   "execution_count": null,
   "metadata": {},
   "outputs": [],
   "source": []
  }
 ],
 "metadata": {
  "kernelspec": {
   "display_name": "Python 3",
   "language": "python",
   "name": "python3"
  },
  "language_info": {
   "codemirror_mode": {
    "name": "ipython",
    "version": 3
   },
   "file_extension": ".py",
   "mimetype": "text/x-python",
   "name": "python",
   "nbconvert_exporter": "python",
   "pygments_lexer": "ipython3",
   "version": "3.9.13 (tags/v3.9.13:6de2ca5, May 17 2022, 16:36:42) [MSC v.1929 64 bit (AMD64)]"
  },
  "orig_nbformat": 4,
  "vscode": {
   "interpreter": {
    "hash": "c4b9ebf4ca459396e2ad1150752490c26670c1a037c08cad955a4425787bec2e"
   }
  }
 },
 "nbformat": 4,
 "nbformat_minor": 2
}
