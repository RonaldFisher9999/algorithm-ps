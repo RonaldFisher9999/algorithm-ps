{
 "cells": [
  {
   "cell_type": "code",
   "execution_count": 10,
   "id": "0206fa16",
   "metadata": {
    "ExecuteTime": {
     "end_time": "2023-03-05T16:40:17.425718Z",
     "start_time": "2023-03-05T16:40:17.415364Z"
    }
   },
   "outputs": [
    {
     "name": "stdout",
     "output_type": "stream",
     "text": [
      "11\n"
     ]
    }
   ],
   "source": [
    "# 트리의 지름 https://www.acmicpc.net/problem/1167\n",
    "input = open(\"input.txt\").readline\n",
    "\n",
    "v = int(input())\n",
    "tree = [[] for _ in range(v + 1)]\n",
    "for _ in range(v) :\n",
    "    arr = list(map(int, input().split()))\n",
    "    for i in range(len(arr)//2 - 1) :\n",
    "        tree[arr[0]].append((arr[2*i+1], arr[2*i+2]))\n",
    "\n",
    "def get_farthest(start) :\n",
    "    node = start\n",
    "    max_dist = 0\n",
    "    visited = [0] * (v + 1)\n",
    "    visited[start] = 1\n",
    "    to_visit = [(start, 0)]\n",
    "    while to_visit :\n",
    "        now, now_dist = to_visit.pop()\n",
    "        for child, dist in tree[now] :\n",
    "            if not visited[child] :\n",
    "                visited[child] = 1\n",
    "                child_dist = now_dist + dist\n",
    "                to_visit.append((child, child_dist))\n",
    "                if max_dist < child_dist :\n",
    "                    max_dist = child_dist\n",
    "                    node = child\n",
    "    return node, max_dist\n",
    "\n",
    "# 임의의 정점(1)에서 가장 먼 정점 x 구하기\n",
    "x = get_farthest(1)[0]\n",
    "# x에서 가장 먼 정점까지의 거리 구하기\n",
    "print(get_farthest(x)[1])"
   ]
  }
 ],
 "metadata": {
  "kernelspec": {
   "display_name": "Python 3 (ipykernel)",
   "language": "python",
   "name": "python3"
  },
  "language_info": {
   "codemirror_mode": {
    "name": "ipython",
    "version": 3
   },
   "file_extension": ".py",
   "mimetype": "text/x-python",
   "name": "python",
   "nbconvert_exporter": "python",
   "pygments_lexer": "ipython3",
   "version": "3.9.13"
  },
  "toc": {
   "base_numbering": 1,
   "nav_menu": {},
   "number_sections": true,
   "sideBar": true,
   "skip_h1_title": false,
   "title_cell": "Table of Contents",
   "title_sidebar": "Contents",
   "toc_cell": false,
   "toc_position": {},
   "toc_section_display": true,
   "toc_window_display": false
  },
  "varInspector": {
   "cols": {
    "lenName": 16,
    "lenType": 16,
    "lenVar": 40
   },
   "kernels_config": {
    "python": {
     "delete_cmd_postfix": "",
     "delete_cmd_prefix": "del ",
     "library": "var_list.py",
     "varRefreshCmd": "print(var_dic_list())"
    },
    "r": {
     "delete_cmd_postfix": ") ",
     "delete_cmd_prefix": "rm(",
     "library": "var_list.r",
     "varRefreshCmd": "cat(var_dic_list()) "
    }
   },
   "types_to_exclude": [
    "module",
    "function",
    "builtin_function_or_method",
    "instance",
    "_Feature"
   ],
   "window_display": false
  },
  "vscode": {
   "interpreter": {
    "hash": "dfacda2fdeeaacdd740fe5c66c89c97705c9508b64028ea0dce702e0ae9956cd"
   }
  }
 },
 "nbformat": 4,
 "nbformat_minor": 5
}
