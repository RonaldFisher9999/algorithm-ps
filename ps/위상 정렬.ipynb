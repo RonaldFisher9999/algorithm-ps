{
 "cells": [
  {
   "cell_type": "markdown",
   "id": "27cc0f6f",
   "metadata": {},
   "source": [
    "# 위상 정렬"
   ]
  },
  {
   "cell_type": "markdown",
   "id": "fb20dc48",
   "metadata": {},
   "source": [
    "## 백준 2252 줄 세우기\n",
    "https://www.acmicpc.net/problem/2252\n",
    "- 간선 정보 입력받으면서 indegree 값 저장\n",
    "- indegree 0인 노드들 스택에 삽입\n",
    "- 스택에서 꺼낸 노드 결과에 저장\n",
    "- 스택에서 꺼낸 노드에 연결된 다른 노드들 indegree 값 1씩 감소\n",
    "    - indegree 값 0 되면 스택에 추가"
   ]
  },
  {
   "cell_type": "code",
   "execution_count": null,
   "id": "8af9ea74",
   "metadata": {},
   "outputs": [],
   "source": [
    "n, m = map(int, input().split())\n",
    "\n",
    "graph = [[] for _ in range(n+1)]\n",
    "indegree = [0] * (n+1)\n",
    "for _ in range(m) :\n",
    "    a, b = map(int, input().split())\n",
    "    graph[a].append(b)\n",
    "    indegree[b] += 1\n",
    "\n",
    "def topology_sort() :\n",
    "    result = list()\n",
    "    stack = list()\n",
    "    for i in range(1, n+1) :\n",
    "        if indegree[i] == 0 :\n",
    "            stack.append(i)\n",
    "    while stack :\n",
    "        now = stack.pop()\n",
    "        result.append(now)\n",
    "        for i in graph[now] :\n",
    "            indegree[i] -= 1\n",
    "            if indegree[i] == 0 :\n",
    "                stack.append(i)\n",
    "    return result\n",
    "\n",
    "print(*topology_sort())"
   ]
  },
  {
   "cell_type": "markdown",
   "id": "09ffcb35",
   "metadata": {},
   "source": [
    "## 백준 14567 선수과목\n",
    "https://www.acmicpc.net/problem/14567\n",
    "- 큐에 노드(과목) 번호와 순위(이수 가능 학기)를 튜플로 묶어 넣어준다.\n",
    "    - indegree가 0인 노드는 순위 1로 제일 처음 넣어줌\n",
    "- 노드를 큐에서 하나씩 꺼내면서 해당 노드에 연결된 노드들의 indegree 1씩 감소\n",
    "    - indegree가 0이 된 노드는 현재 노드의 순위 +1로 묶어서 노드에 삽입\n",
    "- 스택 풀이가 안 되는 반례\n",
    "```\n",
    "input\n",
    "5 5\n",
    "1 2\n",
    "1 3\n",
    "3 4\n",
    "4 5\n",
    "2 5\n",
    "ans\n",
    "1 2 2 3 4\n",
    "wrong output\n",
    "1 2 2 3 3\n",
    "```"
   ]
  },
  {
   "cell_type": "code",
   "execution_count": null,
   "id": "ccc55067",
   "metadata": {},
   "outputs": [],
   "source": [
    "from collections import deque\n",
    "\n",
    "n, m = map(int, input().split())\n",
    "\n",
    "graph = [[] for _ in range(n+1)]\n",
    "indegree = [0] * (n+1)\n",
    "for _ in range(m) :\n",
    "    a, b = map(int, input().split())\n",
    "    graph[a].append(b)\n",
    "    indegree[b] += 1\n",
    "\n",
    "def topology_sort() :\n",
    "    result = [0] * (n+1)\n",
    "    q = deque()\n",
    "    for i in range(1, n+1) :\n",
    "        if indegree[i] == 0 :\n",
    "            q.append((i, 1))\n",
    "    while q :\n",
    "        now, rank = q.popleft()\n",
    "        result[now] = rank\n",
    "        for i in graph[now] :\n",
    "            indegree[i] -= 1\n",
    "            if indegree[i] == 0 :\n",
    "                q.append((i, rank+1))\n",
    "    return result\n",
    "\n",
    "print(*topology_sort()[1:])"
   ]
  },
  {
   "cell_type": "markdown",
   "id": "daf505a6",
   "metadata": {
    "ExecuteTime": {
     "end_time": "2023-04-05T12:55:24.204084Z",
     "start_time": "2023-04-05T12:55:24.195038Z"
    }
   },
   "source": [
    "- dp 풀이\n",
    "- 모든 노드 순회\n",
    "- 현 노드의 순위와 연결된 다른 모든 노드들의 순위(result에 저장된)를 비교\n",
    "- 인접 노드의 순위는 현 노드의 순위보다 커야함"
   ]
  },
  {
   "cell_type": "code",
   "execution_count": null,
   "id": "15e7da9d",
   "metadata": {},
   "outputs": [],
   "source": [
    "n, m = map(int, input().split())\n",
    "\n",
    "graph = [[] for _ in range(n+1)]\n",
    "for _ in range(m) :\n",
    "    a, b = map(int, input().split())\n",
    "    graph[a].append(b)\n",
    "\n",
    "result = [1] * (n+1)\n",
    "for i in range(1, n+1) :\n",
    "    for j in graph[i] :\n",
    "        result[j] = max(result[j], result[i]+1)\n",
    "        \n",
    "print(*result[1:])"
   ]
  },
  {
   "cell_type": "markdown",
   "id": "d9543848",
   "metadata": {},
   "source": [
    "## 백준 1005 ACM Craft\n",
    "https://www.acmicpc.net/problem/1005\n",
    "- `dp[i]` : 건물 i를 짓는데 걸리는 총 시간 (이전 건물들 + 건물 i)\n",
    "- indegree가 0인 노드들 큐에 삽입\n",
    "- 큐에서 순서대로 꺼내서 현재 노드(now)에 연결된 노드들(i)의 indegree 1씩 감소\n",
    "- i를 짓는데 걸리는 시간\n",
    "    - i 이전에 지어야 할 다른 건물들 건설 시간(모든 `dp[now]`) 중 최대값 + 건물 i 건설 시간"
   ]
  },
  {
   "cell_type": "code",
   "execution_count": null,
   "id": "67e46c16",
   "metadata": {},
   "outputs": [],
   "source": [
    "from collections import deque\n",
    "\n",
    "t = int(input())\n",
    "for _ in range(t) :\n",
    "    n, k = map(int, input().split())\n",
    "    time = [0] + list(map(int, input().split()))\n",
    "    graph = [[] for _ in range(n+1)]\n",
    "    indegree = [0] * (n+1)\n",
    "    for _ in range(k) :\n",
    "        a, b = map(int, input().split())\n",
    "        graph[a].append(b)\n",
    "        indegree[b] += 1\n",
    "    target = int(input())\n",
    "    \n",
    "    q = deque()\n",
    "    # dp[i] : 건물 i 짓는데 걸리는 총 시간\n",
    "    dp = [0] * (n+1)\n",
    "    for i in range(1, n+1) :\n",
    "        if indegree[i] == 0 :\n",
    "            q.append(i)\n",
    "            dp[i] = time[i]\n",
    "    \n",
    "    while q :\n",
    "        now = q.popleft()\n",
    "        # i : now 짓고 다음 건물\n",
    "        for i in graph[now] :\n",
    "            indegree[i] -= 1\n",
    "            dp[i] = max(dp[i], dp[now] + time[i])\n",
    "            if indegree[i] == 0 :\n",
    "                q.append(i)\n",
    "    \n",
    "    print(dp[target])"
   ]
  }
 ],
 "metadata": {
  "kernelspec": {
   "display_name": "Python 3 (ipykernel)",
   "language": "python",
   "name": "python3"
  },
  "language_info": {
   "codemirror_mode": {
    "name": "ipython",
    "version": 3
   },
   "file_extension": ".py",
   "mimetype": "text/x-python",
   "name": "python",
   "nbconvert_exporter": "python",
   "pygments_lexer": "ipython3",
   "version": "3.9.13"
  },
  "toc": {
   "base_numbering": 1,
   "nav_menu": {},
   "number_sections": true,
   "sideBar": true,
   "skip_h1_title": false,
   "title_cell": "Table of Contents",
   "title_sidebar": "Contents",
   "toc_cell": false,
   "toc_position": {},
   "toc_section_display": true,
   "toc_window_display": true
  },
  "varInspector": {
   "cols": {
    "lenName": 16,
    "lenType": 16,
    "lenVar": 40
   },
   "kernels_config": {
    "python": {
     "delete_cmd_postfix": "",
     "delete_cmd_prefix": "del ",
     "library": "var_list.py",
     "varRefreshCmd": "print(var_dic_list())"
    },
    "r": {
     "delete_cmd_postfix": ") ",
     "delete_cmd_prefix": "rm(",
     "library": "var_list.r",
     "varRefreshCmd": "cat(var_dic_list()) "
    }
   },
   "types_to_exclude": [
    "module",
    "function",
    "builtin_function_or_method",
    "instance",
    "_Feature"
   ],
   "window_display": false
  }
 },
 "nbformat": 4,
 "nbformat_minor": 5
}
