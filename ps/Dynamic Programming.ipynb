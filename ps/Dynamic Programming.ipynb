{
 "cells": [
  {
   "cell_type": "markdown",
   "id": "9bb4fa3b",
   "metadata": {},
   "source": [
    "# Dynamic Programing"
   ]
  },
  {
   "cell_type": "markdown",
   "id": "fb87427b",
   "metadata": {},
   "source": [
    "## 백준 11053 가장 긴 증가하는 부분 수열\n",
    "https://www.acmicpc.net/problem/11053\n",
    "- LIS = Longest Increasing Subsequence"
   ]
  },
  {
   "cell_type": "code",
   "execution_count": null,
   "id": "4e6c9b78",
   "metadata": {},
   "outputs": [],
   "source": [
    "n = int(input())\n",
    "array = [0] + list(map(int, input().split()))\n",
    "# array = [0, 10, 20, 10, 30, 20, 50]\n",
    "\n",
    "dp = [0] * (n + 1)\n",
    "# array[i] 기준으로, 그 앞에 array[i] 보다 작은 값 array[j]가 있으면\n",
    "# array[j]를 최대값을 갖는 LIS 뒤 array[i]가 붙을 수 있음\n",
    "for i in range(1, n + 1) :\n",
    "    for j in range(i) :\n",
    "        if array[i] > array[j] :\n",
    "            dp[i] = max(dp[i], dp[j] + 1)\n",
    "\n",
    "print(max(dp))"
   ]
  },
  {
   "cell_type": "markdown",
   "id": "7bf9ce0b",
   "metadata": {},
   "source": [
    "## 백준 12015 가장 긴 증가하는 부분 수열 2\n",
    "https://www.acmicpc.net/problem/12015\n",
    "- `lis_len[i]` : 길이가 i+1 인 IS 중 마지막 값의 최소값\n",
    "- 원본 배열을 순회하면서, `arr[i] > lis_len[-1]` 이면 lis_len 배열에 `arr[i]` 추가\n",
    "    - 현재까지의 LIS에 `arr[i]`를 추가해 더 긴 LIS를 만들 수 있기 떄문\n",
    "- 크지 않으면 이분탐색으로 lis 배열의 값 변경\n",
    "    - LIS를 만들기 위해 LIS 배열의 마지막 값을 최대한 작게 만들어 주기 위해\n",
    "- 최종적인 lis_len의 길이를 출력\n",
    "    - 최종적인 lis_len은 진짜 LIS와는 다름\n",
    "- 실제 LIS 배열 구하기\n",
    "    - `lis_idx`라는 배열을 생성\n",
    "    - `arr[i]`가 `lis_len[idx]`에 업데이트 되면, `(idx, arr[i])` 저장\n",
    "    - ex) `arr[3]`이 `lis_len[5]` 위치에 업데이트 되면, `(5, arr[3)`을 `lis_idx`에 추가\n",
    "    - 그리고 `lis_idx`의 뒤에서부터 실제 `lis` 역순으로 저장\n",
    "    - ex) LIS의 길이가 5일때\n",
    "        - `lis_idx`뒤에서부터 `(4, x)`인 값 찾아서 x를 LIS 에 추가\n",
    "        - x는 실제 길이 5인 LIS에서 마지막에 오는 값(=LIS의 4번 인덱스에 들어가는 값)\n",
    "        - x를 찾기 전까지 LIS의 다른 위치에 들어가는 값들은 전부 무시\n",
    "        - 마찬가지로 `lis_idx`에서 최초로 등장하는 `(3, y)` 값을 찾아 LIS에 y 추가\n",
    "        - LIS의 길이만큼 값을 추가했으면 탐색 종료\n",
    "    - 이게 성립하는 이유\n",
    "        - `lis_len[idx]` 값을 최초로 추가할 때를 생각해보면\n",
    "        - `lis_len[idx-1]` 값은 `arr`에서 `lis_len[idx]`보다 먼저 등장하고 크기가 작음\n",
    "        - 따라서 `lis_len[idx-1]`가 `lis_len[idx]` 앞에 오는, 길이 `idx+1`인 IS를 반드시 만들 수 있음\n",
    "        - `lis_len[idx]`가 최초로 추가되는 시점이 아니라면, `lis_len[idx-1]`은 이후에 다른 값으로 업데이트 될 수 있음  \n",
    "        ex) `lis_len[4]=5` 일때, `lis_len[5]=7`이 최초로 추가됐는데, 나중에 `lis_len[4]=4`로 업데이트  \n",
    "        \\-> 5 다음 7이 오는 IS는 가능하지만, 4 다음 7이 오는 IS는 불가능\n",
    "        - 따라서 `lis_idx`의 뒤에서부터 순회하며 하나씩 LIS에 추가"
   ]
  },
  {
   "cell_type": "code",
   "execution_count": null,
   "id": "a3736426",
   "metadata": {
    "ExecuteTime": {
     "end_time": "2023-02-11T12:12:13.924570Z",
     "start_time": "2023-02-11T12:12:12.377194Z"
    }
   },
   "outputs": [],
   "source": [
    "import bisect\n",
    "\n",
    "n = int(input())\n",
    "arr = list(map(int, input().split()))\n",
    "\n",
    "lis_len = [arr[0]]\n",
    "for i in range(1, n) :\n",
    "    if arr[i] > lis_len[-1] :\n",
    "        lis_len.append(arr[i])\n",
    "    else :\n",
    "        idx = bisect.bisect_left(lis_len, arr[i])\n",
    "        lis_len[idx] = arr[i]\n",
    "        \n",
    "print(len(lis_len))"
   ]
  },
  {
   "cell_type": "markdown",
   "id": "61078233",
   "metadata": {},
   "source": [
    "## 백준 14003 가장 긴 증가하는 부분 수열 5\n",
    "https://www.acmicpc.net/problem/14003"
   ]
  },
  {
   "cell_type": "code",
   "execution_count": null,
   "id": "8d3a7fcd",
   "metadata": {
    "ExecuteTime": {
     "end_time": "2023-02-11T12:50:31.614383Z",
     "start_time": "2023-02-11T12:50:30.420684Z"
    }
   },
   "outputs": [],
   "source": [
    "from bisect import bisect_left\n",
    "\n",
    "n = int(input())\n",
    "arr = list(map(int, input().split()))\n",
    "\n",
    "lis_len = [arr[0]]\n",
    "lis_idx = [(0, arr[0])]\n",
    "for i in range(1, n) :\n",
    "    if arr[i] > lis_len[-1] :\n",
    "        lis_len.append(arr[i])\n",
    "        lis_idx.append((len(lis_len)-1, arr[i]))\n",
    "    else :\n",
    "        idx = bisect_left(lis_len, arr[i])\n",
    "        lis_len[idx] = arr[i]\n",
    "        lis_idx.append((idx, arr[i]))\n",
    "\n",
    "print(len(lis_len))\n",
    "\n",
    "lis = list()\n",
    "now = len(lis_len) - 1\n",
    "while lis_idx :\n",
    "    idx, num = lis_idx.pop()\n",
    "    if idx == now :\n",
    "        lis.append(num)\n",
    "        now -= 1\n",
    "    if len(lis) == len(lis_len) :\n",
    "        break\n",
    "        \n",
    "print(*lis[::-1])"
   ]
  },
  {
   "cell_type": "markdown",
   "id": "8af90bc1",
   "metadata": {},
   "source": [
    "## 백준 2568 전깃줄 2\n",
    "https://www.acmicpc.net/problem/2568\n",
    "- 겹치지 않으려면 A를 오름차순 정렬했을 때 B도 오름차순 정렬이 되어야함\n",
    "- 따라서 A를 오름차순 정렬하고 B의 LIS를 탐색\n",
    "- LIS에 속하지 않는 A의 전깃줄을 없앤다"
   ]
  },
  {
   "cell_type": "code",
   "execution_count": null,
   "id": "e13f90b2",
   "metadata": {},
   "outputs": [],
   "source": [
    "from bisect import bisect_left\n",
    "\n",
    "n = int(input())\n",
    "connect = [tuple(map(int, input().split())) for _ in range(n)]\n",
    "connect.sort()\n",
    "\n",
    "lis_len = [connect[0][1]]\n",
    "lis_idx = [(0, connect[0][0])]\n",
    "for i in range(1, n) :\n",
    "    if lis_len[-1] < connect[i][1] :\n",
    "        lis_len.append(connect[i][1])\n",
    "        lis_idx.append((len(lis_len)-1, connect[i][0]))\n",
    "    else :\n",
    "        idx = bisect_left(lis_len, connect[i][1])\n",
    "        lis_len[idx] = connect[i][1]\n",
    "        lis_idx.append((idx, connect[i][0]))\n",
    "print(n - len(lis_len))\n",
    "\n",
    "now = len(lis_len) - 1\n",
    "cut = list()\n",
    "while lis_idx :\n",
    "    idx, num = lis_idx.pop()\n",
    "    if now == idx :\n",
    "        now -= 1\n",
    "        continue\n",
    "    else :\n",
    "        cut.append(num)\n",
    "print(*cut[::-1], sep=\"\\n\")"
   ]
  },
  {
   "cell_type": "markdown",
   "id": "7b406e29",
   "metadata": {},
   "source": [
    "## 백준 11055 가장 큰 증가 부분 수열\n",
    "https://www.acmicpc.net/problem/11055"
   ]
  },
  {
   "cell_type": "code",
   "execution_count": null,
   "id": "d207d97d",
   "metadata": {},
   "outputs": [],
   "source": [
    "n = int(input())\n",
    "array = list(map(int, input().split()))\n",
    "# array = [1, 100, 2, 50, 60, 3, 5, 6, 7, 8]\n",
    "\n",
    "dp = array[:]\n",
    "for i in range(1, n) :\n",
    "    for j in range(i) :\n",
    "        if array[i] > array[j] :\n",
    "            dp[i] = max(dp[i], dp[j] + array[i])\n",
    "\n",
    "print(max(dp))"
   ]
  },
  {
   "cell_type": "markdown",
   "id": "e6a598c2",
   "metadata": {},
   "source": [
    "## 백준 11054 가장 긴 바이토닉 부분 수열\n",
    "https://www.acmicpc.net/problem/11054"
   ]
  },
  {
   "cell_type": "code",
   "execution_count": null,
   "id": "5497463b",
   "metadata": {},
   "outputs": [],
   "source": [
    "n = int(input())\n",
    "arr = list(map(int, input().split()))\n",
    "\n",
    "def is_arr(arr) :\n",
    "    lis = [1]\n",
    "    for i in range(1, n) :\n",
    "        now_lis = 1\n",
    "        for j in range(i) :\n",
    "            if arr[j] < arr[i] :\n",
    "                now_lis = max(now_lis, lis[j]+1)\n",
    "        lis.append(now_lis)\n",
    "    return lis\n",
    "\n",
    "lis = is_arr(arr)\n",
    "lds = is_arr(arr[::-1])[::-1]\n",
    "lbs = [x + y - 1 for x, y in zip(lis, lds)]\n",
    "print(max(lbs))"
   ]
  },
  {
   "cell_type": "markdown",
   "id": "532e6200",
   "metadata": {},
   "source": [
    "## 백준 12865 평범한 배낭\n",
    "https://www.acmicpc.net/problem/12865\n",
    "- `dp[i][j]` : 최대 무게가 j인 배낭에 i번째 물건까지 담을 때 최대 가치\n",
    "- 현재 물건 i의 무게 w가 j 보다 크면 담을 수 없음 (`w > j`)\n",
    "    - i를 담을 때의 최대 가치는 안 담을 때의 최대 가치와 같음  \n",
    "    - `dp[i][j] = dp[i-1][j]`\n",
    "- 담을 수 있으면\n",
    "    - 담을 때의 최대 가치 = 무게 w만큼 남겨놓고 i 안 담을 때의 최대 가치 + i의 가치(v)  \n",
    "    = `dp[i-1][j-w] + v`\n",
    "    - 안 담을 떄의 최대 가치 = `dp[i-1][j]`\n",
    "    - 둘 비교해서 큰 값을 `dp[i][j]`로 결정"
   ]
  },
  {
   "cell_type": "code",
   "execution_count": null,
   "id": "38024a26",
   "metadata": {
    "ExecuteTime": {
     "end_time": "2023-03-12T07:56:39.612590Z",
     "start_time": "2023-03-12T07:56:38.394206Z"
    },
    "scrolled": true
   },
   "outputs": [],
   "source": [
    "n, k = map(int, input().split())\n",
    "items = [-1]\n",
    "for _ in range(n) :\n",
    "    items.append(tuple(map(int, input().split())))\n",
    "\n",
    "# items = [-1, (6, 13), (4, 8), (3, 6), (5, 12)]\n",
    "\n",
    "dp = [[0] * (k + 1) for _ in range(n + 1)]\n",
    "\n",
    "for i in range(1, n + 1) :\n",
    "    w, v = items[i]\n",
    "    for j in range(1, k + 1) :\n",
    "        if w > j :\n",
    "            dp[i][j] = dp[i-1][j]\n",
    "        else :\n",
    "            dp[i][j] = max(dp[i - 1][j], dp[i - 1][j - w] + v)\n",
    "\n",
    "print(dp[-1][-1])"
   ]
  },
  {
   "cell_type": "markdown",
   "id": "416f8557",
   "metadata": {},
   "source": [
    "## 백준 7579 앱\n",
    "https://www.acmicpc.net/problem/7579\n",
    "- `dp[i][j]` : 주어진 비용 j 내에서 최대 i 개의 앱을 비활성화해 확보할 수 있는 최대 메모리\n",
    "- 이 최대 메모리가 m 이상이면 기존의 비용과 현재 비용 비교해 갱신\n",
    "    - j 이후의 `dp[i][x]` 값들은 굳이 계산할 필요 없으므로 break\n",
    "- 메모리 or 시간 초과 풀이\n",
    "    - 남겨야하는 메모리 최대값을 k라고 하면 전형적인 배낭 문제가 됨\n",
    "    - 메모리 합 k 이내에서 최대의 비용 계산\n",
    "    - 그런데 k의 범위가 100 * 10000000 = 10^9 가 되어 메모리 or 시간 초과"
   ]
  },
  {
   "cell_type": "code",
   "execution_count": null,
   "id": "52f74014",
   "metadata": {},
   "outputs": [],
   "source": [
    "n, m = map(int, input().split())\n",
    "memory = [0] + list(map(int, input().split()))\n",
    "cost = [0] + list(map(int, input().split()))\n",
    "sum_c = sum(cost)\n",
    "\n",
    "dp = [[0] * (sum_c + 1) for _ in range(n + 1)]\n",
    "answer = sum_c\n",
    "for i in range(1, n + 1) :\n",
    "    now_m = memory[i]\n",
    "    now_c = cost[i]\n",
    "    for j in range(sum_c + 1) :\n",
    "        if j < now_c :\n",
    "            dp[i][j] = dp[i-1][j]\n",
    "        else :\n",
    "            dp[i][j] = max(dp[i-1][j], dp[i-1][j-now_c] + now_m)\n",
    "        if dp[i][j] >= m :\n",
    "            answer = min(answer, j)\n",
    "            break\n",
    "            \n",
    "print(answer)   "
   ]
  },
  {
   "cell_type": "markdown",
   "id": "5c9d11b1",
   "metadata": {},
   "source": [
    "## 백준 2579 계단 오르기\n",
    "https://www.acmicpc.net/problem/2579"
   ]
  },
  {
   "cell_type": "code",
   "execution_count": null,
   "id": "bf5c1e71",
   "metadata": {},
   "outputs": [],
   "source": [
    "n = int(input())\n",
    "array = [0]\n",
    "for _ in range(n) :\n",
    "    array.append(int(input()))\n",
    "# array = [0, 10, 20, 15, 25, 10, 20]\n",
    "\n",
    "def stairs(array, n) :\n",
    "    if n == 1 or n == 2 :\n",
    "        return sum(array[:n+1])\n",
    "    dp = [0] * (n + 1)\n",
    "    dp[1] = array[1]\n",
    "    dp[2] = array[1] + array[2]\n",
    "    for i in range(3, n + 1) :\n",
    "        dp[i] = max(dp[i - 3] + array[i - 1], dp[i - 2]) + array[i]\n",
    "    return dp[n]\n",
    "\n",
    "print(stairs(array, n))"
   ]
  },
  {
   "cell_type": "markdown",
   "id": "9f94b010",
   "metadata": {},
   "source": [
    "## 프로그래머스 카페 확장\n",
    "https://school.programmers.co.kr/learn/courses/15009/lessons/121689"
   ]
  },
  {
   "cell_type": "code",
   "execution_count": null,
   "id": "5a5a8709",
   "metadata": {},
   "outputs": [],
   "source": [
    "def solution(menu, order, k) :\n",
    "    answer = 0\n",
    "    n = len(order)\n",
    "    leave = [0] * n\n",
    "    leave[0] = menu[order[0]]\n",
    "    arrive = list(range(0, (n-1)*k+1, k))\n",
    "    for i in range(1, n) :\n",
    "        leave[i] = max(leave[i - 1], arrive[i]) + menu[order[i]]\n",
    "    \n",
    "    waiting = [0] * n\n",
    "    for i in range(n) :\n",
    "        for a, l in zip(arrive, leave) :\n",
    "            if a <= arrive[i] < l :\n",
    "                waiting[i] += 1\n",
    "    return max(waiting)"
   ]
  },
  {
   "cell_type": "markdown",
   "id": "72235320",
   "metadata": {},
   "source": [
    "## 백준 9465 스티커\n",
    "https://www.acmicpc.net/problem/9465"
   ]
  },
  {
   "cell_type": "code",
   "execution_count": null,
   "id": "2edea5e9",
   "metadata": {},
   "outputs": [],
   "source": [
    "t = int(input())\n",
    "for _ in range(t) :\n",
    "    n = int(input())\n",
    "    array = [list(map(int, input().split())) for _ in range(2)]\n",
    "#    array = [[50, 10, 100, 20, 40],\n",
    "#            [30, 50, 70, 10, 60]]\n",
    "    # dp[0][i] : i번째 열의 위 스티커를 골랐을 때 가능한 최대값\n",
    "    # dp[1][i] : i번째 열의 아래 스티커를 골랐을 때 가능한 최대값\n",
    "    # 정확히는, i번째 열의 아래/위 스티커를 고르지 않았을 때 가능한 최대값\n",
    "    # dp[0][1]의 경우에, 50만 고르는게 30, 10을 고르는 것보다 더 큼\n",
    "    dp = [[0] * n for _ in range(2)]\n",
    "    dp[0][0] = array[0][0]\n",
    "    dp[1][0] = array[1][0]\n",
    "    for i in range(1, n) :\n",
    "        dp[0][i] = max(dp[0][i-1], dp[1][i-1] + array[0][i])\n",
    "        dp[1][i] = max(dp[1][i-1], dp[0][i-1] + array[1][i])\n",
    "    print(max(dp[0][-1], dp[1][-1]))"
   ]
  },
  {
   "cell_type": "markdown",
   "id": "63e8e938",
   "metadata": {},
   "source": [
    "## 백준 11660 구간 합 구하기\n",
    "https://www.acmicpc.net/problem/11660"
   ]
  },
  {
   "cell_type": "code",
   "execution_count": null,
   "id": "1f74d551",
   "metadata": {},
   "outputs": [],
   "source": [
    "n, m = map(int, input().split())\n",
    "array = [[0] * (n + 1) for _ in range(n + 1)]\n",
    "for i in range(1, n + 1) :\n",
    "    array[i] = [0] + list(map(int, input().split()))\n",
    "# array = [[0, 0, 0, 0, 0],\n",
    "#          [0, 1, 2, 3, 4],\n",
    "#          [0, 2, 3, 4, 5],\n",
    "#          [0, 3, 4, 5, 6],\n",
    "#          [0, 4, 5, 6, 7]]\n",
    "    \n",
    "dp = [[0] * (n + 1) for _ in range(n + 1)]\n",
    "for i in range(1, n + 1) :\n",
    "    for j in range(1, n + 1) :\n",
    "        dp[i][j] = array[i][j] + dp[i][j-1] + dp[i-1][j] - dp[i-1][j-1]\n",
    "# dp = [[0, 0, 0, 0, 0],\n",
    "#       [0, 1, 3, 6, 10],\n",
    "#       [0, 3, 8, 15, 24],\n",
    "#       [0, 6, 15, 27, 42],\n",
    "#       [0, 10, 24, 42, 64]]\n",
    "for _ in range(m) :\n",
    "    x1, y1, x2, y2 = map(int, input().split())\n",
    "    print(dp[x2][y2] - dp[x1-1][y2] - dp[x2][y1-1] + dp[x1-1][y1-1])"
   ]
  },
  {
   "cell_type": "markdown",
   "id": "374359c7",
   "metadata": {},
   "source": [
    "## 프로그래머스 가장 큰 정사각형 찾기\n",
    "https://school.programmers.co.kr/learn/courses/30/lessons/12905\n",
    "- 정사각형은 안쪽이 모두 1로 차있어야 함\n",
    "- (i, j) 위치를 기준으로 위, 왼쪽, 왼쪽 위 대각선 세 칸을 확인\n",
    "- 세 칸의 최소값 + 1한 값이 (i, j)를 우하단 꼭지점으로 하는 가장 큰 정사각형의 한 변 길이"
   ]
  },
  {
   "cell_type": "code",
   "execution_count": null,
   "id": "2d2c5503",
   "metadata": {},
   "outputs": [],
   "source": [
    "def solution(board):\n",
    "    n = len(board)\n",
    "    m = len(board[0])\n",
    "        \n",
    "    for i in range(1, n) :\n",
    "        for j in range(1, m) :\n",
    "            if board[i][j] == 1 :\n",
    "                board[i][j] = min(board[i-1][j-1], board[i-1][j], board[i][j-1]) + 1\n",
    "    \n",
    "    max_len = max(map(max, board))\n",
    "    return max_len ** 2"
   ]
  },
  {
   "cell_type": "markdown",
   "id": "c10c7eab",
   "metadata": {},
   "source": [
    "## 백준 2133 타일 채우기\n",
    "https://www.acmicpc.net/problem/2133"
   ]
  },
  {
   "cell_type": "code",
   "execution_count": null,
   "id": "143b075f",
   "metadata": {},
   "outputs": [],
   "source": [
    "n = int(input())\n",
    "\n",
    "def dp_sol(n) :\n",
    "    if n % 2 == 1 :\n",
    "        return 0\n",
    "    dp = [0] * (n + 1)\n",
    "    dp[0] = 1\n",
    "    dp[2] = 3\n",
    "    for i in range(4, n+1, 2) :\n",
    "        dp[i] = dp[i-2] + sum(dp[:i]) * 2\n",
    "    return dp[n]\n",
    "\n",
    "print(dp_sol(n))"
   ]
  },
  {
   "cell_type": "markdown",
   "id": "38f864a5",
   "metadata": {},
   "source": [
    "## 백준 9251 LCS\n",
    "https://www.acmicpc.net/problem/9251  \n",
    "- LCS = Longest Common Subsequence/Substring\n",
    "- 풀이 : https://velog.io/@emplam27/알고리즘-그림으로-알아보는-LCS-알고리즘-Longest-Common-Substring와-Longest-Common-Subsequence"
   ]
  },
  {
   "cell_type": "code",
   "execution_count": null,
   "id": "bf76a61e",
   "metadata": {},
   "outputs": [],
   "source": [
    "str_1 = \" \" + input()\n",
    "str_2 = \" \" + input()\n",
    "n = len(str_1)\n",
    "m = len(str_2)\n",
    "\n",
    "dp = [[0] * m for _ in range(n)]\n",
    "for i in range(1, n) :\n",
    "    for j in range(1, m) :\n",
    "        if str_1[i] == str_2[j] :\n",
    "            dp[i][j] = dp[i-1][j-1] + 1\n",
    "        else :\n",
    "            dp[i][j] = max(dp[i-1][j], dp[i][j-1])\n",
    "\n",
    "print(dp[-1][-1])"
   ]
  },
  {
   "cell_type": "markdown",
   "id": "546a8746",
   "metadata": {},
   "source": [
    "## 백준 5582 공통 부분 문자열\n",
    "https://www.acmicpc.net/problem/5582"
   ]
  },
  {
   "cell_type": "code",
   "execution_count": null,
   "id": "577415ed",
   "metadata": {},
   "outputs": [],
   "source": [
    "# f = open(\"input.txt\")\n",
    "# input = f.readline\n",
    "\n",
    "str_1 = \" \" + input()\n",
    "n = len(str_1)\n",
    "str_2 = \" \" + input()\n",
    "m = len(str_2)\n",
    "\n",
    "dp = [[0] * m for _ in range(n)]\n",
    "max_len = 0\n",
    "for i in range(1, n) :\n",
    "    for j in range(1, m) :\n",
    "        if str_1[i] == str_2[j] :\n",
    "            dp[i][j] = dp[i-1][j-1] + 1\n",
    "            max_len = max(max_len, dp[i][j])\n",
    "            \n",
    "print(max_len)"
   ]
  },
  {
   "cell_type": "markdown",
   "id": "d4cfd757",
   "metadata": {},
   "source": [
    "## 백준 9252 LCS 2\n",
    "https://www.acmicpc.net/problem/9252\n",
    "- 실제 LCS 문자열을 구하는 문제"
   ]
  },
  {
   "cell_type": "code",
   "execution_count": null,
   "id": "f415a48b",
   "metadata": {},
   "outputs": [],
   "source": [
    "s1 = \" \" + input().rstrip()\n",
    "s2 = \" \" + input().rstrip()\n",
    "\n",
    "n = len(s1)\n",
    "m = len(s2)\n",
    "dp = [[0] * m for _ in range(n)]\n",
    "for i in range(1, n) :\n",
    "    for j in range(1, m) :\n",
    "        if s1[i] == s2[j] :\n",
    "            dp[i][j] = dp[i-1][j-1] + 1\n",
    "        else :\n",
    "            dp[i][j] = max(dp[i-1][j], dp[i][j-1])\n",
    "\n",
    "answer = dp[-1][-1]\n",
    "print(answer)\n",
    "\n",
    "if answer :\n",
    "    lcs = \"\"\n",
    "    i = n - 1\n",
    "    j = m - 1\n",
    "    while answer :\n",
    "        if dp[i-1][j] == answer :\n",
    "            i -= 1\n",
    "            continue\n",
    "        if dp[i][j-1] == answer :\n",
    "            j -= 1\n",
    "            continue\n",
    "        else :\n",
    "            lcs += s1[i]\n",
    "            i -= 1\n",
    "            j -= 1\n",
    "            answer -= 1\n",
    "    print(lcs[::-1])"
   ]
  },
  {
   "cell_type": "markdown",
   "id": "5704d640",
   "metadata": {},
   "source": [
    "## 백준 1958 LCS 3 \n",
    "https://www.acmicpc.net/problem/1958"
   ]
  },
  {
   "cell_type": "code",
   "execution_count": null,
   "id": "8f540a77",
   "metadata": {},
   "outputs": [],
   "source": [
    "# input = open(\"input.txt\").readline\n",
    "\n",
    "s_a = \" \" + input().rstrip()\n",
    "a = len(s_a)\n",
    "s_b = \" \" + input().rstrip()\n",
    "b = len(s_b)\n",
    "s_c = \" \" + input().rstrip()\n",
    "c = len(s_c)\n",
    "dp = [[[0] * c for _ in range(b)] for __ in range(a)]\n",
    "for i in range(1, a) :\n",
    "    for j in range(1, b) :\n",
    "        for k in range(1, c) :\n",
    "            if s_a[i] == s_b[j] == s_c[k] :\n",
    "                dp[i][j][k] = dp[i-1][j-1][k-1] + 1\n",
    "            else :\n",
    "                dp[i][j][k] = max(dp[i-1][j][k], dp[i][j-1][k], dp[i][j][k-1])\n",
    "\n",
    "print(dp[-1][-1][-1])"
   ]
  },
  {
   "cell_type": "markdown",
   "id": "2bcbcffd",
   "metadata": {},
   "source": [
    "## 백준 17070 파이프 옮기기 1\n",
    "https://www.acmicpc.net/problem/17070\n",
    "- 가로, 세로, 대각에 대한 dp 테이블을 따로 만든다.\n",
    "- 파이프의 앞쪽이 (i, j)에 위치할 때, 파이프의 방향에 따른 방법의 수롤 bottom-up으로 계산한다.\n",
    "- 0번째 row에 벽이 없다면 가로로 이동할 수 있는 방법의 수는 전부 1이고, 벽이 있으면 벽 이후부터는 0\n",
    "- 이외에 벽이 있는 위치에서 방법의 값은 예외처리 해서 계산"
   ]
  },
  {
   "cell_type": "code",
   "execution_count": null,
   "id": "9e421db4",
   "metadata": {},
   "outputs": [],
   "source": [
    "input = open(\"input.txt\").readline\n",
    "\n",
    "n = int(input())\n",
    "graph = [list(map(int, input().split())) for _ in range(n)]\n",
    "\n",
    "hor = [[0] * n for _ in range(n)]\n",
    "for j in range(1, n) :\n",
    "    if graph[0][j] == 0 :\n",
    "        hor[0][j] = 1\n",
    "    else :\n",
    "        break\n",
    "ver = [[0] * (n) for _ in range(n)]\n",
    "dia = [[0] * (n) for _ in range(n)]\n",
    "\n",
    "for i in range(1, n) :\n",
    "    for j in range(1, n) :\n",
    "        if graph[i][j] == 1 :\n",
    "            hor[i][j] = ver[i][j] = 0\n",
    "        else :\n",
    "            hor[i][j] = hor[i][j-1] + dia[i][j-1]\n",
    "            ver[i][j] = ver[i-1][j] + dia[i-1][j]\n",
    "        if graph[i][j] == 1 or graph[i-1][j] == 1 or graph[i][j-1] == 1 :\n",
    "            dia[i][j] = 0\n",
    "        else :\n",
    "            dia[i][j] = dia[i-1][j-1] + hor[i-1][j-1] + ver[i-1][j-1]\n",
    "            \n",
    "print(hor[-1][-1] + ver[-1][-1] + dia[-1][-1])"
   ]
  },
  {
   "cell_type": "markdown",
   "id": "3900e99c",
   "metadata": {},
   "source": [
    "## 백준 2096 내려가기\n",
    "https://www.acmicpc.net/problem/2096"
   ]
  },
  {
   "cell_type": "code",
   "execution_count": null,
   "id": "0f819ee8",
   "metadata": {},
   "outputs": [],
   "source": [
    "max_now = [0] * 3\n",
    "max_next = [0] * 3\n",
    "min_now = [0] * 3\n",
    "min_next = [0] * 3\n",
    "\n",
    "n = int(input())\n",
    "for i in range(n) :\n",
    "    arr = list(map(int, input().split()))\n",
    "    max_next[0] = arr[0] + max(max_now[0], max_now[1])\n",
    "    max_next[1] = arr[1] + max(max_now)\n",
    "    max_next[2] = arr[2] + max(max_now[1], max_now[2])\n",
    "    max_now = max_next[:]\n",
    "    min_next[0] = arr[0] + min(min_now[0], min_now[1])\n",
    "    min_next[1] = arr[1] + min(min_now)\n",
    "    min_next[2] = arr[2] + min(min_now[1], min_now[2])\n",
    "    min_now = min_next[:]\n",
    "    \n",
    "print(max(max_now), min(min_now))"
   ]
  },
  {
   "cell_type": "markdown",
   "id": "8d9b21d1",
   "metadata": {},
   "source": [
    "## 백준 1462 계단 수\n",
    "https://www.acmicpc.net/problem/1562\n",
    "- 비트마스킹 풀이\n",
    "- `dp[i][j]` : 길이가 i+1인 계단 수 중 마지막 자리수가 j\n",
    "- 비트마스킹을 이용해 해당 계단수에 포함된 1부터 9까지 자연수의 조합을 표시\n",
    "- 딕셔너리로 그 조합의 계단수가 몇개인지 저장\n",
    "- i = 3, j = 5 일때\n",
    "    - i = 2, j = 4 인 계단수와 i = 2, j = 6 인 계단수의 모든 조합에 5를 추가하는 것과 같음\n",
    "    - 5를 추가한 조합의 개수를 `dp[3][5]`에 저장\n",
    "- 0부터 9까지 모든 수가 포함된 조합을 의미하는 `0b1111111111`에 해당하는 값만 더해준다."
   ]
  },
  {
   "cell_type": "code",
   "execution_count": null,
   "id": "b39f96f5",
   "metadata": {},
   "outputs": [],
   "source": [
    "from collections import defaultdict\n",
    "\n",
    "n = int(input())\n",
    "dp = [[defaultdict(int) for _ in range(10)] for _ in range(n)]\n",
    "for i in range(1, 10) :\n",
    "    dp[0][i][1 << i] = 1\n",
    "for i in range(1, n) :\n",
    "    for j in range(1, 9) :\n",
    "        for k in dp[i-1][j-1] :\n",
    "            dp[i][j][k | (1 << j)] += dp[i-1][j-1][k]\n",
    "        for k in dp[i-1][j+1] :\n",
    "            dp[i][j][k | (1 << j)] += dp[i-1][j+1][k]\n",
    "    for k in dp[i-1][1] :\n",
    "        dp[i][0][k | (1 << 0)] += dp[i-1][1][k]\n",
    "    for k in dp[i-1][8] :\n",
    "        dp[i][9][k | (1 << 9)] += dp[i-1][8][k]\n",
    "        \n",
    "answer = 0\n",
    "for dic in dp[-1] :\n",
    "    answer += dic[0b1111111111]\n",
    "print(answer % 1_000_000_000)"
   ]
  },
  {
   "cell_type": "markdown",
   "id": "f74bda1f",
   "metadata": {},
   "source": [
    "- 비트마스킹 없는 풀이\n",
    "- `dp[i][j]`에 네 종류의 값 리스트로 저장\n",
    "    - 0 : 0도 9도 없는 조합의 수\n",
    "    - 1 : 0이 있고 9는 없는 조합의 수\n",
    "    - 2 : 9가 있고 0은 없는 조합의 수\n",
    "    - 3 : 0, 9 둘 다 있는 조합의 수\n",
    "- 게단수의 특성상 0, 9 둘 다 포함하고 있으면 0부터 9까지 모든 숫자 포함하고 있음"
   ]
  },
  {
   "cell_type": "code",
   "execution_count": null,
   "id": "a0a6dfcb",
   "metadata": {},
   "outputs": [],
   "source": [
    "n = int(input())\n",
    "dp = [[[0] * 4 for _ in range(10)] for _ in range(n)]\n",
    "\n",
    "dp[0][9][2] = 1\n",
    "for i in range(1, 9) :\n",
    "    dp[0][i][0] = 1\n",
    "    \n",
    "for i in range(1, n) :\n",
    "    for j in range(1, 9) :\n",
    "        for k in range(4) :\n",
    "            dp[i][j][k] = dp[i-1][j-1][k] + dp[i-1][j+1][k]\n",
    "    dp[i][0][1] = dp[i-1][1][0] + dp[i-1][1][1]\n",
    "    dp[i][0][3] = dp[i-1][1][2] + dp[i-1][1][3]\n",
    "    dp[i][9][2] = dp[i-1][8][0] + dp[i-1][8][2]\n",
    "    dp[i][9][3] = dp[i-1][8][1] + dp[i-1][8][3]\n",
    "answer = 0\n",
    "for last in dp[-1] :\n",
    "    answer += last[-1]\n",
    "print(answer % 1_000_000_000)"
   ]
  },
  {
   "cell_type": "markdown",
   "id": "e23f4076",
   "metadata": {},
   "source": [
    "## 백준 17404 RGB 거리 2\n",
    "https://www.acmicpc.net/problem/17404"
   ]
  },
  {
   "cell_type": "code",
   "execution_count": null,
   "id": "f0c475e8",
   "metadata": {},
   "outputs": [],
   "source": [
    "n = int(input())\n",
    "houses = [list(map(int, input().split())) for _ in range(n)]\n",
    "\n",
    "INF = int(1e6) + 1\n",
    "# dp[i][x][y] : 0번째 집을 x번째 색으로 칠했을 때 i번째 집을 y번째 색으로 칠할 때의 최소 비용\n",
    "dp = [[[INF] * 3 for _ in range(3)] for _ in range(n)]\n",
    "for x in range(3) :\n",
    "    dp[0][x][x] = houses[0][x]\n",
    "for i in range(1, n - 1) :\n",
    "    for x in range(3) :\n",
    "        dp[i][x][0] = houses[i][0] + min(dp[i-1][x][1], dp[i-1][x][2])\n",
    "        dp[i][x][1] = houses[i][1] + min(dp[i-1][x][2], dp[i-1][x][0])\n",
    "        dp[i][x][2] = houses[i][2] + min(dp[i-1][x][0], dp[i-1][x][1])\n",
    "# 마지막 집은 0번째 집과 같은 색 선택 못함\n",
    "dp[-1][0][1] = houses[-1][1] + min(dp[-2][0][2], dp[-2][0][0])\n",
    "dp[-1][0][2] = houses[-1][2] + min(dp[-2][0][0], dp[-2][0][1])\n",
    "dp[-1][1][2] = houses[-1][2] + min(dp[-2][1][0], dp[-2][1][1])\n",
    "dp[-1][1][0] = houses[-1][0] + min(dp[-2][1][1], dp[-2][1][2])\n",
    "dp[-1][2][0] = houses[-1][0] + min(dp[-2][2][1], dp[-2][2][2])\n",
    "dp[-1][2][1] = houses[-1][1] + min(dp[-2][2][2], dp[-2][2][0])\n",
    "\n",
    "print(min(map(min, dp[-1])))"
   ]
  }
 ],
 "metadata": {
  "kernelspec": {
   "display_name": "Python 3 (ipykernel)",
   "language": "python",
   "name": "python3"
  },
  "language_info": {
   "codemirror_mode": {
    "name": "ipython",
    "version": 3
   },
   "file_extension": ".py",
   "mimetype": "text/x-python",
   "name": "python",
   "nbconvert_exporter": "python",
   "pygments_lexer": "ipython3",
   "version": "3.9.13"
  },
  "toc": {
   "base_numbering": 1,
   "nav_menu": {},
   "number_sections": true,
   "sideBar": true,
   "skip_h1_title": false,
   "title_cell": "Table of Contents",
   "title_sidebar": "Contents",
   "toc_cell": false,
   "toc_position": {
    "height": "calc(100% - 180px)",
    "left": "10px",
    "top": "150px",
    "width": "349.075px"
   },
   "toc_section_display": true,
   "toc_window_display": true
  },
  "varInspector": {
   "cols": {
    "lenName": 16,
    "lenType": 16,
    "lenVar": 40
   },
   "kernels_config": {
    "python": {
     "delete_cmd_postfix": "",
     "delete_cmd_prefix": "del ",
     "library": "var_list.py",
     "varRefreshCmd": "print(var_dic_list())"
    },
    "r": {
     "delete_cmd_postfix": ") ",
     "delete_cmd_prefix": "rm(",
     "library": "var_list.r",
     "varRefreshCmd": "cat(var_dic_list()) "
    }
   },
   "types_to_exclude": [
    "module",
    "function",
    "builtin_function_or_method",
    "instance",
    "_Feature"
   ],
   "window_display": false
  }
 },
 "nbformat": 4,
 "nbformat_minor": 5
}
