{
 "cells": [
  {
   "cell_type": "markdown",
   "id": "e09e091a",
   "metadata": {},
   "source": [
    "# 비트마스크"
   ]
  },
  {
   "cell_type": "markdown",
   "id": "c2da898a",
   "metadata": {},
   "source": [
    "## 기본 개념"
   ]
  },
  {
   "cell_type": "code",
   "execution_count": null,
   "id": "3f6e9d67",
   "metadata": {},
   "outputs": [],
   "source": [
    "a = 0b11001\n",
    "b = 0b10001\n",
    "\n",
    "# &(AND) : 양쪽 모두 1있으면 1 -> 교집합\n",
    "print(\"&(AND) :\", bin(a & b))\n",
    "# |(OR) : 어느 한쪽에라도 1 있으면 1 -> 합집합\n",
    "print(\"|(OR) :\", bin(a | b))\n",
    "# ^(XOR) : 양쪽 값이 다르면 1\n",
    "print(\"^(XOR) :\", bin(a ^ b))\n",
    "# ~(NOT) : 비트의 값 반전\n",
    "print(\"~(NOT) :\", bin(~a), bin(~b))\n",
    "# bit << i: 비트 왼쪽으로 i칸만큼 이동(bit * i^2 과 같음)\n",
    "print(\"<< 2 :\", bin(a << 2), bin(b << 2))\n",
    "# bit >> i : 비트 오른쪽으로 i칸만큼 이동(bit // i^2 과 같음)\n",
    "print(\">> 2 :\", bin(a >> 2), bin(b >> 2))"
   ]
  },
  {
   "cell_type": "code",
   "execution_count": 1,
   "id": "1924b01c",
   "metadata": {
    "ExecuteTime": {
     "end_time": "2023-03-17T14:03:18.362867Z",
     "start_time": "2023-03-17T14:03:18.355142Z"
    }
   },
   "outputs": [
    {
     "name": "stdout",
     "output_type": "stream",
     "text": [
      "0b11010110\n",
      "인덱스 3 원소 추가 : 0b11011110\n",
      "인덱스 6 원소 삭제 : 0b10010110\n",
      "인덱스 5 원소 조회 : 0b0\n",
      "인덱스 4 원소 조회 : 0b10000\n",
      "인덱스 3 원소 토글 : 0b11011110\n",
      "인덱스 7 원소 토글 : 0b1010110\n"
     ]
    }
   ],
   "source": [
    "s = 0b0011010110\n",
    "print(bin(s))\n",
    "# n번째 인덱스 원소 추가\n",
    "n = 3\n",
    "print(\"인덱스 3 원소 추가 :\", bin(s | (1 << n)))\n",
    "# n번째 인덱스 원소 삭제\n",
    "n = 6\n",
    "print(\"인덱스 6 원소 삭제 :\", bin(s & ~(1 << n)))\n",
    "# n번째 인덱스 원소 조회 : 0이면 없음, 0 아니면 있음\n",
    "n = 5\n",
    "print(\"인덱스 5 원소 조회 :\", bin(s & (1 << n)))\n",
    "n = 4\n",
    "print(\"인덱스 4 원소 조회 :\", bin(s & (1 << n)))\n",
    "# n번째 인덱스 원소 토글 : 없으면 생성, 있으면 삭제\n",
    "n = 3\n",
    "print(\"인덱스 3 원소 토글 :\", bin(s ^ (1 << n)))\n",
    "n = 7\n",
    "print(\"인덱스 7 원소 토글 :\", bin(s ^ (1 << n)))"
   ]
  },
  {
   "cell_type": "code",
   "execution_count": null,
   "id": "8c39ff8f",
   "metadata": {},
   "outputs": [],
   "source": [
    "# 집합 크기 구하기\n",
    "# 뒤에서부터 하나씩 세서 더함\n",
    "# x >> 1 = x // 2\n",
    "def bit_count(x):\n",
    "\tif x == 0 :\n",
    "        return 0\n",
    "\treturn x % 2 + bit_count(x >> 1)\n",
    "\n",
    "x = 0b11001\n",
    "print(bitCount(x))"
   ]
  },
  {
   "cell_type": "markdown",
   "id": "60a66aaf",
   "metadata": {
    "ExecuteTime": {
     "end_time": "2023-02-02T00:23:41.015154Z",
     "start_time": "2023-02-02T00:23:41.012118Z"
    }
   },
   "source": [
    "## 백준 11723 집합\n",
    "https://www.acmicpc.net/problem/11723"
   ]
  },
  {
   "cell_type": "code",
   "execution_count": null,
   "id": "c55c25b7",
   "metadata": {},
   "outputs": [],
   "source": [
    "n = int(input())\n",
    "\n",
    "s = 0b0\n",
    "for _ in range(n) :\n",
    "    command = input().split()            \n",
    "    if len(command) == 2 :\n",
    "        comm = command[0]\n",
    "        num = int(command[1])\n",
    "        if comm == 'add' :\n",
    "            s = s | (1 << num)\n",
    "        elif comm == 'check' :\n",
    "            if s & (1 << num) == 0 :\n",
    "                print(0)\n",
    "            else :\n",
    "                print(1)\n",
    "        elif comm == 'remove' :\n",
    "            s = s & ~(1 << num)\n",
    "        else :\n",
    "            s = s ^ (1 << num)\n",
    "    elif command[0] == 'all' :\n",
    "        s = 0b111111111111111111110\n",
    "    else :\n",
    "        s = 0b0"
   ]
  },
  {
   "cell_type": "markdown",
   "id": "3c8f46f7",
   "metadata": {},
   "source": [
    "## 백준 1182 부분수열의 합\n",
    "https://www.acmicpc.net/problem/1182"
   ]
  },
  {
   "cell_type": "code",
   "execution_count": 1,
   "id": "d54161c4",
   "metadata": {
    "ExecuteTime": {
     "end_time": "2023-02-06T02:28:18.823951Z",
     "start_time": "2023-02-06T02:28:04.508053Z"
    }
   },
   "outputs": [
    {
     "name": "stdout",
     "output_type": "stream",
     "text": [
      "5 0\n",
      "-7 -3 -2 5 8\n",
      "1\n"
     ]
    }
   ],
   "source": [
    "n, s = map(int, input().split())\n",
    "arr = list(map(int, input().split()))\n",
    "\n",
    "cnt = 0\n",
    "# n : 원소 개수 = 비트값 자리수\n",
    "# i : 부분집합(=원소가 포함된 상태), i = 0 은 공집합이므로 1부터 시작\n",
    "# i = 2 -> 10 : 인덱스 1 포함, 인덱스 0 미포함\n",
    "# i = 6 -> 101 : 인덱스 2 포함, 인덱스 1 미포함, 인덱스 0 포함\n",
    "for i in range(1, 1 << n):\n",
    "    sum_subset = 0\n",
    "    for j in range(n):\n",
    "        # 부분집합 i에 대해, 인덱스 j인 원소가 포함되었는지 확인\n",
    "        if i & (1 << j):\n",
    "            # 포함되었으면 해당 원소를 subset에 추가\n",
    "            sum_subset += arr[j]\n",
    "    # 다 추가헀으면 subset의 합이 s와 일치하는지 확인\n",
    "    if sum_subset == s:\n",
    "        cnt += 1\n",
    "        \n",
    "print(cnt)"
   ]
  },
  {
   "cell_type": "code",
   "execution_count": 13,
   "id": "5135197a",
   "metadata": {
    "ExecuteTime": {
     "end_time": "2023-02-06T04:04:39.444943Z",
     "start_time": "2023-02-06T04:04:35.462036Z"
    }
   },
   "outputs": [
    {
     "name": "stdout",
     "output_type": "stream",
     "text": [
      "5 0\n",
      "-7 -3 -2 5 8\n",
      "1\n"
     ]
    }
   ],
   "source": [
    "n, s = map(int, input().split())\n",
    "arr = list(map(int, input().split()))\n",
    "\n",
    "answer = 0\n",
    "def back_track(idx, now_sum) :\n",
    "    global answer\n",
    "    now_sum += arr[idx]\n",
    "    if now_sum == s :\n",
    "        answer += 1\n",
    "    if idx == n-1 :\n",
    "        return\n",
    "    back_track(idx+1, now_sum)\n",
    "    back_track(idx+1, now_sum - arr[idx])\n",
    "\n",
    "back_track(0, 0)\n",
    "print(answer)"
   ]
  },
  {
   "cell_type": "markdown",
   "id": "f256226b",
   "metadata": {},
   "source": [
    "## 백준 14225 부분수열의 합\n",
    "https://www.acmicpc.net/problem/14225"
   ]
  },
  {
   "cell_type": "code",
   "execution_count": null,
   "id": "15f940be",
   "metadata": {},
   "outputs": [],
   "source": [
    "n = int(input())\n",
    "arr = list(map(int, input().split()))\n",
    "check = [0] * (sum(arr) + 2)\n",
    "\n",
    "for i in range(1, 1 << n) :\n",
    "    subset_sum = 0\n",
    "    for j in range(n) :\n",
    "        if i & (1 << j) :\n",
    "            subset_sum += arr[j]\n",
    "    check[subset_sum] = 1\n",
    "\n",
    "for i, j in enumerate(check) :\n",
    "    if j == 0 and i != 0 :\n",
    "        print(i)\n",
    "        break"
   ]
  },
  {
   "cell_type": "markdown",
   "id": "3ccfeb7e",
   "metadata": {},
   "source": [
    "## 백준 13701 중복 제거\n",
    "https://www.acmicpc.net/problem/13701\n",
    "- 메모리 제한 때문에 입력을 한번에 받을 수 없음\n",
    "- c = sys.stdin.read(1)을 하면 1개씩 쪼개서 입력받음\n",
    "- c에는 (문자 형태의) 정수, 공백, 혹은 마지막에 줄바꿈 문자가 입력됨\n",
    "- c.isnumeric()으로 정수가 입력되는지 확인해서 s에 저장\n",
    "- 정수 입력이 끝났으면 n = int(s)가 앞에서 들어온 숫자인지 확인\n",
    "- 비트마스킹으로 입력 받은 숫자의 집합 표시\n",
    "- 그냥 a = 0 선언해놓고 a |= 2 ** 25 하면 메모리 초과남\n",
    "- 길이 2^22 인 bitarray 선언\n",
    "    - bitarray에는 각 칸마다 0 <= x < 256(=2^8) 범위의 정수를 담을 수 있음(=1bit)\n",
    "    - 즉 전체 bitarray는 2^22 * 8 = 2^25까지의 숫자 집합을 표시할 수 있음\n",
    "    - a[0]에는 0부터 7까지 값이 들어왔는지 저장, a[1]에는 8부터 15까지 ... 이런 식으로 \n",
    "- n을 8로 나눠 몫을 d, 나머지를 r에 저장\n",
    "    - d는 n이 들어갈 bitarray 칸\n",
    "    - r은 해당 칸에서 n의 위치\n",
    "    - a[d]에 r이 있는지 확인해서 없으면 n 출력하고 1 << r로 넣어줌\n",
    "    - 그리고 s는 다시 초기화\n",
    "- 입력이 다 끝났으면 공백이 아니라 줄바꿈 문자를 입력 받았으므로 종료"
   ]
  },
  {
   "cell_type": "code",
   "execution_count": null,
   "id": "364b543d",
   "metadata": {},
   "outputs": [],
   "source": [
    "import sys\n",
    "a = bytearray(2**22)\n",
    "s = \"\"\n",
    "while True :\n",
    "    c = sys.stdin.read(1)\n",
    "    if c.isnumeric() :\n",
    "        s += c\n",
    "    else :\n",
    "        n = int(s)\n",
    "        d = n // 8\n",
    "        r = n % 8\n",
    "        if not a[d] & (1 << r) :\n",
    "            print(n, end=' ')\n",
    "            a[d] |= 1 << r\n",
    "        s = \"\"\n",
    "        if c != \" \" :\n",
    "            break"
   ]
  }
 ],
 "metadata": {
  "kernelspec": {
   "display_name": "Python 3 (ipykernel)",
   "language": "python",
   "name": "python3"
  },
  "language_info": {
   "codemirror_mode": {
    "name": "ipython",
    "version": 3
   },
   "file_extension": ".py",
   "mimetype": "text/x-python",
   "name": "python",
   "nbconvert_exporter": "python",
   "pygments_lexer": "ipython3",
   "version": "3.9.13"
  },
  "toc": {
   "base_numbering": 1,
   "nav_menu": {},
   "number_sections": true,
   "sideBar": true,
   "skip_h1_title": false,
   "title_cell": "Table of Contents",
   "title_sidebar": "Contents",
   "toc_cell": false,
   "toc_position": {},
   "toc_section_display": true,
   "toc_window_display": true
  },
  "varInspector": {
   "cols": {
    "lenName": 16,
    "lenType": 16,
    "lenVar": 40
   },
   "kernels_config": {
    "python": {
     "delete_cmd_postfix": "",
     "delete_cmd_prefix": "del ",
     "library": "var_list.py",
     "varRefreshCmd": "print(var_dic_list())"
    },
    "r": {
     "delete_cmd_postfix": ") ",
     "delete_cmd_prefix": "rm(",
     "library": "var_list.r",
     "varRefreshCmd": "cat(var_dic_list()) "
    }
   },
   "types_to_exclude": [
    "module",
    "function",
    "builtin_function_or_method",
    "instance",
    "_Feature"
   ],
   "window_display": false
  }
 },
 "nbformat": 4,
 "nbformat_minor": 5
}
