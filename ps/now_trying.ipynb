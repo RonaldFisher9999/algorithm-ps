{
 "cells": [
  {
   "cell_type": "code",
   "execution_count": 14,
   "id": "a20c6658",
   "metadata": {
    "ExecuteTime": {
     "end_time": "2023-03-12T09:46:59.310567Z",
     "start_time": "2023-03-12T09:46:59.291663Z"
    },
    "scrolled": true
   },
   "outputs": [
    {
     "name": "stdout",
     "output_type": "stream",
     "text": [
      "[0, 0, 0, 0, 0, 0, 0, 0, 0, 0, 0, 0, 0, 0, 0, 0]\n",
      "[0, 0, 0, 0, 40, 40, 40, 40, 40, 40, 40, 40, 40, 40, 40, 40]\n",
      "[0, 0, 0, 0, 40, 40, 40, 40, 40, 75, 0, 0, 0, 0, 0, 0]\n",
      "[0, 0, 0, 20, 40, 40, 40, 60, 0, 0, 0, 0, 0, 0, 0, 0]\n",
      "[10, 10, 10, 30, 50, 50, 50, 70, 0, 0, 0, 0, 0, 0, 0, 0]\n",
      "[10, 10, 10, 40, 50, 50, 60, 0, 0, 0, 0, 0, 0, 0, 0, 0]\n",
      "6\n"
     ]
    }
   ],
   "source": [
    "# 앱 https://www.acmicpc.net/problem/7579\n",
    "input = open(\"input.txt\").readline"
   ]
  }
 ],
 "metadata": {
  "kernelspec": {
   "display_name": "Python 3 (ipykernel)",
   "language": "python",
   "name": "python3"
  },
  "language_info": {
   "codemirror_mode": {
    "name": "ipython",
    "version": 3
   },
   "file_extension": ".py",
   "mimetype": "text/x-python",
   "name": "python",
   "nbconvert_exporter": "python",
   "pygments_lexer": "ipython3",
   "version": "3.9.13"
  },
  "toc": {
   "base_numbering": 1,
   "nav_menu": {},
   "number_sections": true,
   "sideBar": true,
   "skip_h1_title": false,
   "title_cell": "Table of Contents",
   "title_sidebar": "Contents",
   "toc_cell": false,
   "toc_position": {},
   "toc_section_display": true,
   "toc_window_display": false
  },
  "varInspector": {
   "cols": {
    "lenName": 16,
    "lenType": 16,
    "lenVar": 40
   },
   "kernels_config": {
    "python": {
     "delete_cmd_postfix": "",
     "delete_cmd_prefix": "del ",
     "library": "var_list.py",
     "varRefreshCmd": "print(var_dic_list())"
    },
    "r": {
     "delete_cmd_postfix": ") ",
     "delete_cmd_prefix": "rm(",
     "library": "var_list.r",
     "varRefreshCmd": "cat(var_dic_list()) "
    }
   },
   "types_to_exclude": [
    "module",
    "function",
    "builtin_function_or_method",
    "instance",
    "_Feature"
   ],
   "window_display": false
  },
  "vscode": {
   "interpreter": {
    "hash": "dfacda2fdeeaacdd740fe5c66c89c97705c9508b64028ea0dce702e0ae9956cd"
   }
  }
 },
 "nbformat": 4,
 "nbformat_minor": 5
}
