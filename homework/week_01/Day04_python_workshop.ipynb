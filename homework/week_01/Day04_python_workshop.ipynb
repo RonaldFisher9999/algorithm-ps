{
 "cells": [
  {
   "cell_type": "markdown",
   "metadata": {},
   "source": [
    "# 간단한 N의 약수\n"
   ]
  },
  {
   "cell_type": "code",
   "execution_count": 3,
   "metadata": {
    "ExecuteTime": {
     "end_time": "2023-01-19T02:45:43.114719Z",
     "start_time": "2023-01-19T02:45:42.284303Z"
    }
   },
   "outputs": [
    {
     "name": "stdout",
     "output_type": "stream",
     "text": [
      "20\n",
      "1 2 4 5 10 20\n"
     ]
    }
   ],
   "source": [
    "n = int(input())\n",
    "\n",
    "def devisor(n) :\n",
    "    sol = []\n",
    "    for i in range(1, n + 1) :\n",
    "        if n % i == 0 :\n",
    "            sol.append(i)\n",
    "    return sol\n",
    "\n",
    "print(*devisor(n))"
   ]
  },
  {
   "cell_type": "markdown",
   "metadata": {},
   "source": [
    "# List의 합 구하기 (sum 사용 X) "
   ]
  },
  {
   "cell_type": "code",
   "execution_count": 4,
   "metadata": {
    "ExecuteTime": {
     "end_time": "2023-01-19T02:47:22.136006Z",
     "start_time": "2023-01-19T02:47:19.075665Z"
    }
   },
   "outputs": [
    {
     "name": "stdout",
     "output_type": "stream",
     "text": [
      "4 6 7 1\n",
      "18\n"
     ]
    }
   ],
   "source": [
    "arr = list(map(int, input().split()))\n",
    "\n",
    "def list_sum(arr) :\n",
    "    sol = 0\n",
    "    for num in arr :\n",
    "        sol += num\n",
    "    return sol\n",
    "\n",
    "print(list_sum(arr))"
   ]
  },
  {
   "cell_type": "markdown",
   "metadata": {},
   "source": [
    "# Dictionary로 이루어진 List의 합 구하기 (sum 사용 X)"
   ]
  },
  {
   "cell_type": "code",
   "execution_count": 7,
   "metadata": {
    "ExecuteTime": {
     "end_time": "2023-01-19T02:50:48.002757Z",
     "start_time": "2023-01-19T02:50:47.987135Z"
    }
   },
   "outputs": [
    {
     "name": "stdout",
     "output_type": "stream",
     "text": [
      "16\n"
     ]
    }
   ],
   "source": [
    "sample = [{'name' : 'kim', 'age': 12}, {'name': 'lee', 'age': 4}]\n",
    "\n",
    "def dict_key_sum(sample) :\n",
    "    sol = 0\n",
    "    for person in sample :\n",
    "        sol += person['age']\n",
    "    return sol\n",
    "\n",
    "print(dict_key_sum(sample))"
   ]
  },
  {
   "cell_type": "markdown",
   "metadata": {},
   "source": [
    "# 2차원 List의 전체 합 구하기 (sum 사용 x)"
   ]
  },
  {
   "cell_type": "code",
   "execution_count": 8,
   "metadata": {
    "ExecuteTime": {
     "end_time": "2023-01-19T02:53:10.171652Z",
     "start_time": "2023-01-19T02:53:10.164261Z"
    }
   },
   "outputs": [
    {
     "name": "stdout",
     "output_type": "stream",
     "text": [
      "55\n"
     ]
    }
   ],
   "source": [
    "sample = [[1], [2, 3], [4, 5, 6], [7, 8, 9, 10]]\n",
    "\n",
    "def array2_sum(array) :\n",
    "    sol = 0\n",
    "    for row in array :\n",
    "        for num in row :\n",
    "            sol += num\n",
    "    return sol\n",
    "\n",
    "print(array2_sum(sample))"
   ]
  },
  {
   "cell_type": "markdown",
   "metadata": {},
   "source": [
    "# 문자열 아스키 코드 합 더 큰 것 출력"
   ]
  },
  {
   "cell_type": "code",
   "execution_count": 15,
   "metadata": {
    "ExecuteTime": {
     "end_time": "2023-01-19T02:57:13.092325Z",
     "start_time": "2023-01-19T02:57:04.635395Z"
    }
   },
   "outputs": [
    {
     "name": "stdout",
     "output_type": "stream",
     "text": [
      "delliah dixon\n",
      "delliah\n"
     ]
    }
   ],
   "source": [
    "a, b = input().split()\n",
    "\n",
    "def get_strong_word(str1, str2) :\n",
    "    sum1 = sum(map(ord, str1))\n",
    "    sum2 = sum(map(ord, str2))\n",
    "    if sum1 == sum2 :\n",
    "        return str1, str2\n",
    "    elif sum1 > sum2 :\n",
    "        return str1\n",
    "    else :\n",
    "        return str2\n",
    "\n",
    "print(get_strong_word(a, b))"
   ]
  }
 ],
 "metadata": {
  "kernelspec": {
   "display_name": "Python 3 (ipykernel)",
   "language": "python",
   "name": "python3"
  },
  "language_info": {
   "codemirror_mode": {
    "name": "ipython",
    "version": 3
   },
   "file_extension": ".py",
   "mimetype": "text/x-python",
   "name": "python",
   "nbconvert_exporter": "python",
   "pygments_lexer": "ipython3",
   "version": "3.9.13"
  },
  "toc": {
   "base_numbering": 1,
   "nav_menu": {},
   "number_sections": true,
   "sideBar": true,
   "skip_h1_title": false,
   "title_cell": "Table of Contents",
   "title_sidebar": "Contents",
   "toc_cell": false,
   "toc_position": {},
   "toc_section_display": true,
   "toc_window_display": true
  },
  "varInspector": {
   "cols": {
    "lenName": 16,
    "lenType": 16,
    "lenVar": 40
   },
   "kernels_config": {
    "python": {
     "delete_cmd_postfix": "",
     "delete_cmd_prefix": "del ",
     "library": "var_list.py",
     "varRefreshCmd": "print(var_dic_list())"
    },
    "r": {
     "delete_cmd_postfix": ") ",
     "delete_cmd_prefix": "rm(",
     "library": "var_list.r",
     "varRefreshCmd": "cat(var_dic_list()) "
    }
   },
   "types_to_exclude": [
    "module",
    "function",
    "builtin_function_or_method",
    "instance",
    "_Feature"
   ],
   "window_display": false
  },
  "vscode": {
   "interpreter": {
    "hash": "c4b9ebf4ca459396e2ad1150752490c26670c1a037c08cad955a4425787bec2e"
   }
  }
 },
 "nbformat": 4,
 "nbformat_minor": 2
}
