{
  "nbformat": 4,
  "nbformat_minor": 0,
  "metadata": {
    "colab": {
      "provenance": [],
      "toc_visible": true,
      "authorship_tag": "ABX9TyNobBLqszZ+Y/wP1oNt1+d4",
      "include_colab_link": true
    },
    "kernelspec": {
      "name": "python3",
      "display_name": "Python 3"
    },
    "language_info": {
      "name": "python"
    }
  },
  "cells": [
    {
      "cell_type": "markdown",
      "metadata": {
        "id": "view-in-github",
        "colab_type": "text"
      },
      "source": [
        "<a href=\"https://colab.research.google.com/github/RonaldFisher9999/study/blob/master/sw_expert.ipynb\" target=\"_parent\"><img src=\"https://colab.research.google.com/assets/colab-badge.svg\" alt=\"Open In Colab\"/></a>"
      ]
    },
    {
      "cell_type": "code",
      "execution_count": null,
      "metadata": {
        "colab": {
          "base_uri": "https://localhost:8080/"
        },
        "id": "0b0uuDzv9Qbv",
        "outputId": "cd1a0dfa-e764-4c75-ee00-e2322fbb7bcf"
      },
      "outputs": [
        {
          "output_type": "stream",
          "name": "stdout",
          "text": [
            "3 2\n",
            "A\n"
          ]
        }
      ],
      "source": [
        "#@title 1936 1대1 가위바위보\n",
        "\n",
        "a, b = map(int, input().split())\n",
        "\n",
        "if a == 3 and b == 1 :\n",
        "    print('B')\n",
        "elif a == 1 and b == 3 :\n",
        "    print('A')\n",
        "else :\n",
        "    if a > b :\n",
        "        print('A')\n",
        "    else :\n",
        "        print('B')"
      ]
    },
    {
      "cell_type": "code",
      "source": [
        "#@title 2058 자릿수 더하기\n",
        "n = input()\n",
        "print(sum(map(int, list(n))))"
      ],
      "metadata": {
        "colab": {
          "base_uri": "https://localhost:8080/"
        },
        "id": "r60MKHmv-8AV",
        "outputId": "98ebc8c9-6923-4bd6-fba4-0bfcf2abe630"
      },
      "execution_count": null,
      "outputs": [
        {
          "output_type": "stream",
          "name": "stdout",
          "text": [
            "6789\n",
            "30\n"
          ]
        }
      ]
    },
    {
      "cell_type": "code",
      "source": [
        "#@title - 2063 중간값 찾기\n",
        "\n",
        "n = int(input())\n",
        "array = list(map(int, input().split()))\n",
        "array.sort()\n",
        "print(array[n // 2])"
      ],
      "metadata": {
        "colab": {
          "base_uri": "https://localhost:8080/"
        },
        "id": "mFAE5LOx_G8d",
        "outputId": "7086cba0-9aea-443d-de40-774d1182cc11"
      },
      "execution_count": null,
      "outputs": [
        {
          "output_type": "stream",
          "name": "stdout",
          "text": [
            "199\n",
            "85 72 38 80 69 65 68 96 22 49 67 51 61 63 87 66 24 80 83 71 60 64 52 90 60 49 31 23 99 94 11 25 24 51 15 13 39 67 97 19 76 12 33 99 18 92 35 74 0 95 71 39 33 39 32 37 45 57 71 95 5 71 24 86 8 51 54 74 24 75 70 33 63 29 99 59 94 52 13 35 99 46 57 71 23 17 3 94 48 77 18 83 11 83 25 59 62 2 78 86 7 94 65 80 32 39 84 60 65 72 61 58 84 8 72 12 19 47 49 49 59 71 52 34 22 21 20 92 33 80 39 74 9 28 97 100 93 29 25 4 66 79 81 98 21 91 62 82 4 59 100 34 1 51 80 92 69 77 39 38 97 51 34 35 19 22 1 67 9 90 31 82 11 51 84 78 70 74 42 100 88 53 80 57 62 32 51 48 63 92 46 4 61 31 98 69 52 88 20\n",
            "58\n"
          ]
        }
      ]
    },
    {
      "cell_type": "code",
      "source": [
        "#@title 2068 최대수 구하기\n",
        "\n",
        "t = int(input())\n",
        "for i in range(t) :\n",
        "    print(f\"#{i + 1}\", max(map(int, input().split())))"
      ],
      "metadata": {
        "colab": {
          "base_uri": "https://localhost:8080/"
        },
        "id": "FTfUPlop_7u9",
        "outputId": "c9c0fd3f-16df-4bdf-ce1b-2b2c337ea874"
      },
      "execution_count": null,
      "outputs": [
        {
          "output_type": "stream",
          "name": "stdout",
          "text": [
            "3\n",
            "3 17 1 39 8 41 2 32 99 2\n",
            "#1 99\n",
            "22 8 5 123 7 2 63 7 3 46\n",
            "#2 123\n",
            "6 63 2 3 58 76 21 33 8 1\n",
            "#3 76\n"
          ]
        }
      ]
    },
    {
      "cell_type": "code",
      "source": [
        "#@title 2071 평균값 구하기\n",
        "\n",
        "t = int(input())\n",
        "for i in range(t) :\n",
        "    mean = round(sum(map(int, input().split())) / 10)\n",
        "    print(f\"#{i + 1}\", mean)"
      ],
      "metadata": {
        "colab": {
          "base_uri": "https://localhost:8080/"
        },
        "id": "UjWwFwXVAYZ0",
        "outputId": "5850d850-9969-4b79-c3e5-5922de4ee262"
      },
      "execution_count": null,
      "outputs": [
        {
          "output_type": "stream",
          "name": "stdout",
          "text": [
            "1\n",
            "22 8 5 123 7 2 63 7 3 46\n",
            "#1 29\n"
          ]
        }
      ]
    },
    {
      "cell_type": "code",
      "source": [
        "#@title 1974 스도쿠 검증\n",
        "\n",
        "t = int(input())\n",
        "for i in range(1, t + 1) :\n",
        "    sudoku = []\n",
        "    sol = 1\n",
        "    check = set(range(1, 10))\n",
        "    for _ in range(9) :\n",
        "         sudoku.append(list(map(int, input().split())))\n",
        "    # sudoku = [[4, 5, 7, 1, 6, 3, 8, 2, 9],\n",
        "    #           [6, 3, 9, 8, 2, 7, 5, 4, 1],\n",
        "    #           [7, 9, 3, 4, 8, 5, 1, 6, 2],\n",
        "    #           [1, 8, 2, 5, 4, 9, 6, 3, 7],\n",
        "    #           [8, 6, 1, 7, 9, 2, 3, 5, 4],\n",
        "    #           [5, 2, 4, 6, 3, 1, 7, 9, 8],\n",
        "    #           [3, 7, 6, 9, 1, 4, 2, 8, 5],\n",
        "    #           [2, 4, 5, 3, 7, 8, 9, 1, 6],\n",
        "    #           [9, 1, 8, 2, 5, 6, 4, 7, 3]]\n",
        "    \n",
        "    # row, 3*3 square 확인\n",
        "    sqr1, sqr2, sqr3 = list(), list(), list()\n",
        "    for cnt, row in enumerate(sudoku) :\n",
        "        if set(row) != check :\n",
        "            sol = 0\n",
        "            break\n",
        "        sqr1.extend(row[:3])\n",
        "        sqr2.extend(row[3:6])\n",
        "        sqr3.extend(row[6:])\n",
        "        if len(sqr1) == 9 :\n",
        "            if set(sqr1) != check or set(sqr2) != check or set(sqr3) != check :\n",
        "                sol = 0\n",
        "                break\n",
        "            sqr1, sqr2, sqr3 = list(), list(), list()\n",
        "    # column 확인\n",
        "    while sol == 1 :\n",
        "        for col in range(9) :\n",
        "            column = set()\n",
        "            for j in range(9) :\n",
        "                column.add(sudoku[j][col])\n",
        "            if column != check :\n",
        "                sol = 0\n",
        "                break\n",
        "        break\n",
        "    print(f\"#{i} {sol}\")"
      ],
      "metadata": {
        "colab": {
          "base_uri": "https://localhost:8080/"
        },
        "id": "ghuxzCtOA669",
        "outputId": "eec410c1-963d-48dc-a7bc-349bc4b5c6b7"
      },
      "execution_count": null,
      "outputs": [
        {
          "output_type": "stream",
          "name": "stdout",
          "text": [
            "1\n",
            "sqr\n",
            "#1 0\n"
          ]
        }
      ]
    },
    {
      "cell_type": "code",
      "source": [
        "#@title 1204 최빈수 구하기\n",
        "\n",
        "from collections import Counter\n",
        "\n",
        "t = int(input())\n",
        "for _ in range(t) :\n",
        "    case_num = int(input())\n",
        "    scores = list(map(int, input().split()))\n",
        "    count_scores = Counter(scores)\n",
        "    most_common = count_scores.most_common()[0][0]\n",
        "    print(f\"#{case_num} {most_common}\")"
      ],
      "metadata": {
        "colab": {
          "base_uri": "https://localhost:8080/"
        },
        "id": "OVdIZQ23assz",
        "outputId": "e08d881d-077c-4c75-a3de-69a9602373f9"
      },
      "execution_count": null,
      "outputs": [
        {
          "output_type": "stream",
          "name": "stdout",
          "text": [
            "1\n",
            "1\n",
            "41 85 72 38 80 69 65 68 96 22 49 67 51 61 63 87 66 24 80 83 71 60 64 52 90 60 49 31 23 99 94 11 25 24 51 15 13 39 67 97 19 76 12 33 99 18 92 35 74 0 95 71 39 33 39 32 37 45 57 71 95 5 71 24 86 8 51 54 74 24 75 70 33 63 29 99 58 94 52 13 35 99 46 57 71 23 17 3 94 48 77 18 83 11 83 25 59 62 2 78 86 7 94 65 80 32 39 84 60 65 72 61 58 84 8 72 12 19 47 49 49 59 71 52 34 22 21 20 92 33 80 39 74 9 28 97 100 93 29 25 4 66 79 81 98 21 91 62 82 4 59 100 34 1 51 80 92 69 77 39 38 97 51 34 35 19 22 1 67 9 90 31 82 11 51 84 78 70 74 42 100 88 53 80 57 62 32 51 48 63 92 46 4 61 31 98 69 52 88 20 68 41 48 79 97 98 56 44 73 3 63 100 87 87 41 79 64 83 63 1 21 72 24 9 75 51 25 53 77 0 52 30 96 93 32 89 70 89 55 71 79 40 10 64 80 30 19 62 67 98 42 8 32 57 27 22 1 38 89 52 74 43 8 2 65 82 20 67 22 43 22 95 16 48 25 6 75 86 96 3 85 43 69 93 4 61 53 81 43 84 20 15 34 22 35 26 28 33 67 19 79 19 45 8 13 51 0 86 68 18 47 82 3 16 80 0 18 39 22 5 26 65 70 21 92 66 65 14 6 46 46 21 32 80 35 86 6 67 29 42 71 14 77 55 3 1 14 38 71 82 41 65 12 5 77 3 67 22 59 40 81 48 63 63 25 45 32 78 83 26 96 18 99 45 56 31 30 45 47 80 1 7 81 18 1 90 15 71 22 69 44 18 31 60 16 93 13 17 44 97 98 51 46 42 22 47 72 97 24 52 55 59 25 100 28 5 14 76 32 41 97 61 32 20 0 2 8 41 52 77 35 22 98 78 92 68 29 82 33 28 16 5 9 21 13 26 39 59 69 10 42 4 13 80 34 42 100 44 32 70 15 32 8 83 10 23 73 8 53 7 21 10 52 14 82 28 24 33 94 59 4 17 73 53 85 31 100 74 74 12 72 38 34 14 22 53 0 30 95 3 52 79 41 36 81 25 24 67 48 95 44 7 96 77 90 48 92 45 78 93 95 38 71 4 83 79 64 89 0 76 81 34 66 1 13 58 4 40 5 24 17 6 65 13 13 76 3 20 8 36 12 60 37 42 53 87 10 65 42 25 47 41 33 71 69 94 24 12 92 11 71 3 82 91 90 20 95 44 76 60 34 95 49 40 89 4 45 27 9 34 82 59 2 20 68 22 29 10 1 23 19 47 16 76 47 49 90 94 10 18 55 69 14 26 59 77 73 8 21 72 1 74 76 51 94 44 24 98 71 77 59 9 12 49 38 72 22 55 35 61 16 48 41 21 67 74 92 4 7 85 34 92 39 96 42 26 1 1 4 64 33 96 62 23 67 76 26 47 32 73 82 30 14 61 21 92 40 4 2 38 76 64 8 14 3 49 71 31 38 86 98 17 15 98 32 55 69 46 61 3 44 67 50 44 76 0 45 23 25 11 82 99 11 39 50 40 21 52 17 60 44 90 44 6 16 38 3 41 43 56 26 24 0 9 90 36 50 13 42 88 87 66 32 28 73 94 52 11 35 47 9 87 37 57 15 56 38 95 6 43 23 30 84 39 88 69 5 34 81 93 86 2 77 10 28 30 97 68 14 12 88 1 100 35 73 30 2 43 11 41 58 82 6 84 71 16 18 67 41 100 92 78 57 7 35 69 56 76 13 93 26 26 38 21 96 7 88 2 60 17 54 95 26 2 0 21 87 11 96 36 83 88 31 24 24 62 14 88 84 39 22 17 84 96 1 78 91 53 9 35 75 87 100 33 80 42 7 20 50 65 81 92 14 45 96 34 6 20 86 51 4 19 70 91 13 0 42 70 43 15 47 14 96 72 41 91 11 72 7 92 12 16 51 13 86 40 50 43 55 26 7 1 70 18 71 99 49 55 94 78 40 59 20 96 34 6 28 85 42 70 62 63 32 34 97 80 49 47 50 73 85 63 20 29 0 19 91 84 58 55 33 4 68 55 12 38 49 9 13 99 4 35 26 5 42 29 98 20 95 77 36 63 41 42 45 81 40 53 60 5 55 9 13 34 6 52 28 35 33 29 21 67 57 61 21 41 95 54 50 19 81 75 67 73 77 47 40 83 16 28\n",
            "#1 71\n"
          ]
        }
      ]
    },
    {
      "cell_type": "code",
      "source": [
        "#@title 1209 Sum\n",
        "\n",
        "for _ in range(10) :\n",
        "    case_num = int(input())\n",
        "    max_row, max_col, max_diag = 0, 0, 0\n",
        "    sum_col = [0] * 100\n",
        "    sum_diag1, sum_diag2 = 0, 0\n",
        "    for i in range(100) :\n",
        "        row = list(map(int, input().split()))\n",
        "        max_row = max(max_row, sum(row))\n",
        "        sum_diag1 += row[i]\n",
        "        sum_diag2 += row[99 - i]\n",
        "        for j in range(100) :\n",
        "            sum_col[j] += row[j]\n",
        "    max_col = max(sum_col)\n",
        "    max_diag = max(sum_diag1, sum_diag2)\n",
        "    sol = max(max_row, max_col, max_diag)\n",
        "    print(f\"#{case_num} {sol}\")"
      ],
      "metadata": {
        "colab": {
          "base_uri": "https://localhost:8080/",
          "height": 54
        },
        "id": "16gRQZ5KbuDI",
        "outputId": "72d3b445-e463-410b-e024-837fc55879a5"
      },
      "execution_count": null,
      "outputs": [
        {
          "name": "stdout",
          "output_type": "stream",
          "text": [
            "3\n"
          ]
        },
        {
          "output_type": "execute_result",
          "data": {
            "text/plain": [
              "'3'"
            ],
            "application/vnd.google.colaboratory.intrinsic+json": {
              "type": "string"
            }
          },
          "metadata": {},
          "execution_count": 26
        }
      ]
    },
    {
      "cell_type": "code",
      "source": [
        "#@title 1959 두 개의 숫자열\n",
        "\n",
        "t = int(input())\n",
        "for i in range(1, t + 1) :\n",
        "    n, m = map(int, input().split())\n",
        "    # a = list(map(int, input().split()))\n",
        "    # b = list(map(int, input().split()))\n",
        "    a = [6, 0, 5, 5, -1, 1, 6]\n",
        "    b = [-4, 1, 8, 7, -9, 3]\n",
        "    if n > m :\n",
        "        a, b = b, a\n",
        "        n, m = m, n\n",
        "    max_mult = -int(1e9)\n",
        "    for j in range(m - n + 1) :\n",
        "        slice_b = b[j:j + n]\n",
        "        mult = sum([ai * bi for ai, bi in zip(a, slice_b)])\n",
        "        max_mult = max(max_mult, mult)\n",
        "    print(f\"#{i} {max_mult}\")"
      ],
      "metadata": {
        "colab": {
          "base_uri": "https://localhost:8080/"
        },
        "id": "4J-FL_4G1nRK",
        "outputId": "a8db2fe2-db0c-46a4-df79-b2a4800991f3"
      },
      "execution_count": null,
      "outputs": [
        {
          "output_type": "stream",
          "name": "stdout",
          "text": [
            "1\n",
            "7 6\n",
            "#1 63\n"
          ]
        }
      ]
    },
    {
      "cell_type": "code",
      "source": [
        "#@title 1961 숫자 배열 회전\n",
        "\n",
        "t = int(input())\n",
        "for i in range(1, t + 1) :\n",
        "    n = int(input())\n",
        "    matrix = []\n",
        "    for _ in range(n) :\n",
        "        matrix.append(list(input().split()))\n",
        "    # matrix = [['1', '2', '3'],\n",
        "    #           ['4', '5', '6'],\n",
        "    #           ['7', '8', '9']]\n",
        "\n",
        "    print(f\"#{i}\")\n",
        "\n",
        "    for j in range(n) :\n",
        "        row = [[] for _ in range(3)]\n",
        "        for k in range(n) :\n",
        "            # 90도 회전\n",
        "            row[0].append(matrix[n - 1 - k][j])\n",
        "            # 180도 회전\n",
        "            row[1].append(matrix[n - 1 - j][n - 1 - k])\n",
        "            # 270도 회전\n",
        "            row[2].append(matrix[k][n - 1 - j])\n",
        "        \n",
        "        print(\"\".join(row[0]), \"\".join(row[1]), \"\".join(row[2]))"
      ],
      "metadata": {
        "colab": {
          "base_uri": "https://localhost:8080/"
        },
        "id": "ae73lrnv3PbC",
        "outputId": "b6f6f254-a6a4-4633-a27c-32e7c950ad19"
      },
      "execution_count": null,
      "outputs": [
        {
          "output_type": "stream",
          "name": "stdout",
          "text": [
            "1\n",
            "3\n",
            "#1\n",
            "741 987 369\n",
            "852 654 258\n",
            "963 321 147\n"
          ]
        }
      ]
    },
    {
      "cell_type": "code",
      "source": [
        "# 메모리 초과\n",
        "\n",
        "t = int(input())\n",
        "for i in range(1, i + 1) :\n",
        "    n = int(input())\n",
        "    matrix = []\n",
        "    rotate1 = [[] for _ in range(n)]\n",
        "    rotate2 = [[] for _ in range(n)]\n",
        "    rotate3 = [[] for _ in range(n)]\n",
        "    for _ in range(n) :\n",
        "        matrix.append(list(input().split()))\n",
        "    \n",
        "    # 90도 회전\n",
        "    for j in range(n) :\n",
        "        for k in range(n - 1, -1, -1) :\n",
        "            rotate1[j].append(matrix[k][j])\n",
        "\n",
        "    # 180도 회전\n",
        "    for j in range(n) :\n",
        "        for k in range(n - 1, -1, -1) :\n",
        "            rotate2[j].append(rotate1[k][j])\n",
        "\n",
        "    # 270도 회전\n",
        "    for j in range(n) :\n",
        "        for k in range(n - 1, -1, -1) :\n",
        "            rotate3[j].append(rotate2[k][j])\n",
        "            \n",
        "    print(f\"#{i}\")\n",
        "    for l in range(3) :\n",
        "        print(\"\".join(rotate1[l]), \"\".join(rotate2[l]), \"\".join(rotate3[l]))"
      ],
      "metadata": {
        "id": "IU_OPcLX_sSy"
      },
      "execution_count": null,
      "outputs": []
    },
    {
      "cell_type": "code",
      "source": [
        "#@title 1227 미로 2\n",
        "\n",
        "from collections import deque\n",
        " \n",
        "def bfs(graph, start, end) :\n",
        "    sol = 0\n",
        "    end_x, end_y = end\n",
        "    to_visit = deque()\n",
        "    to_visit.append(start)\n",
        "    dx = [0, 0, 1, -1]\n",
        "    dy = [1, -1, 0, 0]\n",
        "        \n",
        "    while to_visit :\n",
        "        x, y = to_visit.popleft()\n",
        "        for i in range(4) :\n",
        "            nx = x + dx[i]\n",
        "            ny = y + dy[i]\n",
        "            if nx < 0 or nx >= 100 or ny < 0 or ny >= 100 :\n",
        "                continue\n",
        "            if graph[nx][ny] != 1 :\n",
        "                if nx == end_x and ny == end_y :\n",
        "                    sol = 1\n",
        "                    return sol\n",
        "                to_visit.append((nx, ny))\n",
        "                graph[nx][ny] = 1\n",
        "    return sol\n",
        " \n",
        "for _ in range(10) :\n",
        "    t = input()\n",
        "    graph = list()\n",
        "    start = None\n",
        "    end = None\n",
        "    for i in range(100) :\n",
        "        array = list(map(int, list(input())))\n",
        "        if start is None and 2 in array:\n",
        "            start = (i, array.index(2))\n",
        "        if end is None and 3 in array :\n",
        "            end = (i, array.index(3))\n",
        "        graph.append(array)\n",
        "    print(f\"#{t} {bfs(graph, start, end)}\") "
      ],
      "metadata": {
        "colab": {
          "base_uri": "https://localhost:8080/"
        },
        "id": "rOprvtgR99Pq",
        "outputId": "950d7429-8524-459a-94c4-db732fbfb973"
      },
      "execution_count": null,
      "outputs": [
        {
          "output_type": "stream",
          "name": "stdout",
          "text": [
            "2\n",
            "1\n",
            "0\n"
          ]
        }
      ]
    },
    {
      "cell_type": "code",
      "source": [
        "#@title 1247 최적 경로\n",
        "\n",
        "from itertools import permutations\n",
        "\n",
        "def split(array, n) :\n",
        "    start = array[:2]\n",
        "    end = array[2:4]\n",
        "    customers = list()\n",
        "    for i in range(n) :\n",
        "        customers.append(array[2 * i + 4 : 2 * i + 6])\n",
        "    return start, end, customers\n",
        "\n",
        "def shortest(start, end, customers, n) :\n",
        "    shortest = int(1e4)\n",
        "    all_perm = permutations(customers, n)\n",
        "    for single_perm in all_perm :\n",
        "        dist = 0\n",
        "        dist += abs(start[0] - single_perm[0][0]) + abs(start[1] - single_perm[0][1])\n",
        "        dist += abs(end[0] - single_perm[-1][0]) + abs(end[1] - single_perm[-1][1])\n",
        "        for i in range(1, n) :\n",
        "            dist += abs(single_perm[i - 1][0] - single_perm[i][0]) + abs(single_perm[i - 1][1] - single_perm[i][1])\n",
        "        shortest = min(shortest, dist)\n",
        "    return shortest\n",
        "\n",
        "num_cases = int(input())\n",
        "for i in range(num_cases) :\n",
        "    n = int(input())\n",
        "    array = list(map(int, input().split()))\n",
        "    start, end, customers = split(array, n)\n",
        "    print(f\"#{i + 1} {shortest(start, end, customers, n)}\")\n",
        "# 2\n",
        "# 5\n",
        "# 0 0 100 100 70 40 30 10 10 5 90 70 50 20\n",
        "# 6\n",
        "# 88 81 85 80 19 22 31 15 27 29 30 10 20 26 5 14"
      ],
      "metadata": {
        "colab": {
          "base_uri": "https://localhost:8080/"
        },
        "id": "5Bp09dE3LQwC",
        "outputId": "819cff5e-709e-4696-ed06-f64183a2dfc6"
      },
      "execution_count": null,
      "outputs": [
        {
          "output_type": "stream",
          "name": "stdout",
          "text": [
            "2\n",
            "5\n",
            "0 0 100 100 70 40 30 10 10 5 90 70 50 20\n",
            "200\n",
            "6\n",
            "88 81 85 80 19 22 31 15 27 29 30 10 20 26 5 14\n",
            "304\n"
          ]
        }
      ]
    },
    {
      "cell_type": "code",
      "source": [
        "#@title 1249 보급로\n",
        "\n",
        "import heapq\n",
        "\n",
        "def dijkstra(graph, n) :\n",
        "    INF = int(1e9)\n",
        "    distance = [[INF] * n for _ in range(n)]\n",
        "    # 시작점 (0, 0)\n",
        "    distance[0][0] = 0\n",
        "    q = list()\n",
        "    # (거리, row idx, col idx)\n",
        "    heapq.heappush(q, (0, 0, 0))\n",
        "    dx = [0, 0, -1, 1]\n",
        "    dy = [1, -1, 0, 0]    \n",
        "    \n",
        "    while q :\n",
        "        dist_now, x, y = heapq.heappop(q)\n",
        "        if dist_now > distance[x][y] :\n",
        "            continue\n",
        "        for i in range(4) :\n",
        "            nx = x + dx[i]\n",
        "            ny = y + dy[i]\n",
        "            if nx < 0 or nx >= n or ny < 0 or ny >= n :\n",
        "                continue\n",
        "            else :\n",
        "                if distance[nx][ny] > dist_now + graph[nx][ny] :\n",
        "                    distance[nx][ny] = dist_now + graph[nx][ny]\n",
        "                    heapq.heappush(q, (distance[nx][ny], nx, ny))\n",
        "\n",
        "    return distance[n - 1][n - 1]\n",
        "\n",
        "t = int(input())\n",
        "for c in range (1, t + 1) :\n",
        "    graph = []\n",
        "    n = int(input())\n",
        "    graph = [list(map(int, list(input()))) for _ in range(n)]\n",
        "    print(f\"{c} {dijkstra(graph, n)}\")\n",
        "\n",
        "# 4\n",
        "# 0100\n",
        "# 1110\n",
        "# 1011\n",
        "# 1010\n",
        "# 6\n",
        "# 011001\n",
        "# 010100\n",
        "# 010011\n",
        "# 101001\n",
        "# 010101\n",
        "# 111010"
      ],
      "metadata": {
        "colab": {
          "base_uri": "https://localhost:8080/"
        },
        "id": "pVzjbrJq7QuA",
        "outputId": "036be658-7a5a-4a8a-f6c0-d03582f63c8a"
      },
      "execution_count": null,
      "outputs": [
        {
          "output_type": "stream",
          "name": "stdout",
          "text": [
            "2\n",
            "4\n",
            "0100\n",
            "1110\n",
            "1011\n",
            "1010\n",
            "1 2\n",
            "6\n",
            "011001\n",
            "010100\n",
            "010011\n",
            "101001\n",
            "010101\n",
            "111010\n",
            "2 2\n"
          ]
        }
      ]
    },
    {
      "cell_type": "code",
      "source": [
        "#@title 3234 준환이의 양팔저울\n",
        "from math import factorial\n",
        "\n",
        "# depth : 저울에 올린 추의 개수\n",
        "def dfs(depth, l_sum, r_sum) :\n",
        "    global cnt\n",
        "    # 왼쪽 무게가 전체 무게 합의 절반 이상이면 모든 경우의 수 추가\n",
        "    if l_sum >= half :\n",
        "        # remain : 저울에 올리지 않고 남은 추의 수\n",
        "        remain = n - depth\n",
        "        # remain! * 2^remain : 모든 경우의 수 \n",
        "        cnt += factorial(remain) * (2 ** remain)\n",
        "        return\n",
        "    # 오른쪽 무게가 왼쪽보다 크거나 전체 무게 합의 절반보다 크면 불가능\n",
        "    if r_sum > l_sum or r_sum > half :\n",
        "        return\n",
        "    else :\n",
        "        for i in range(n) :\n",
        "            if visited[i] == 0 :\n",
        "                # 아직 올리지 않은 추 올리고\n",
        "                visited[i] = 1\n",
        "                # 왼쪽에 올릴때 경우의 수\n",
        "                dfs(depth + 1, l_sum + array[i], r_sum)\n",
        "                # 오른쪽에 올릴때 경우의 수\n",
        "                dfs(depth + 1, l_sum, r_sum + array[i])\n",
        "                # 올린 추 다시 내림\n",
        "                visited[i] = 0\n",
        "\n",
        "t = int(input())\n",
        "for t_case in range(1, t + 1) :\n",
        "    n = int(input())\n",
        "    array = list(map(int, input().split()))\n",
        "    visited = [0] * n\n",
        "    half = sum(array) / 2\n",
        "    cnt = 0\n",
        "    for i in range(n) :\n",
        "        # 추를 하나씩 올리고\n",
        "        visited[i] = 1\n",
        "        # 경우의 수 계산하고\n",
        "        dfs(1, array[i], 0)\n",
        "        # 다시 내림\n",
        "        visited[i] = 0\n",
        "    print(f\"#{t_case} {cnt}\")"
      ],
      "metadata": {
        "colab": {
          "base_uri": "https://localhost:8080/"
        },
        "id": "jjpdAYBQeeBg",
        "outputId": "036a1a09-e398-4481-8f7f-09ce76f2aad1"
      },
      "execution_count": null,
      "outputs": [
        {
          "output_type": "stream",
          "name": "stdout",
          "text": [
            "3\n",
            "3\n",
            "1 2 4\n",
            "#1 15\n",
            "3\n",
            "1 2 3\n",
            "#2 17\n",
            "9\n",
            "1 2 3 4 5 6 7 8 9\n",
            "#3 35583723\n"
          ]
        }
      ]
    },
    {
      "cell_type": "code",
      "source": [
        "#@title 1248 공통조상\n",
        "\n",
        "import math\n",
        "\n",
        "# 각 노드의 부모 노드와 깊이 탐색(dfs)\n",
        "def get_par_dep(node, d) :\n",
        "    visited[node] = 1\n",
        "    depth[node] = d\n",
        "    for child in tree[node] :\n",
        "        if visited[child] == 1 :\n",
        "            continue\n",
        "        parent[child][0] = node\n",
        "        get_par_dep(child, d + 1)  \n",
        "\n",
        "# 2 ** n 꼴 조상 노드 탐색\n",
        "def exp_par(parent) :\n",
        "    for log_d in range(1, max_log) :\n",
        "        for node in range(1, v + 1) :\n",
        "            parent[node][log_d] = parent[parent[node][log_d - 1]][log_d - 1]\n",
        "\n",
        "# 공통 조상 탐색\n",
        "def lca(a, b) :\n",
        "    # b의 깊이가 더 깊도록 셋팅\n",
        "    if depth[a] > depth[b] :\n",
        "        a, b = b, a\n",
        "    # 동일 깊이로 맞춰줌\n",
        "    for i in range(max_log - 1, -1, -1) :\n",
        "        if depth[b] - depth[a] >= 2 ** i :\n",
        "            b = parent[b][i]\n",
        "    # 공통 조상 탐색\n",
        "    if a == b :\n",
        "        return a\n",
        "    else :\n",
        "        for i in range(max_log - 1, -1, -1) :\n",
        "            # 가장 먼 조상부터 비교\n",
        "            if parent[a][i] != parent[b][i] :\n",
        "                a = parent[a][i]\n",
        "                b = parent[b][i]\n",
        "        return parent[a][0]\n",
        "\n",
        "# 서브트리 크기 탐색\n",
        "def sub_size(node) :\n",
        "    global size\n",
        "    if node == 1 :\n",
        "        size = v\n",
        "        return\n",
        "    # 리프 노드이면 1 더하고 return\n",
        "    if len(tree[node]) == 0 :\n",
        "        size += 1\n",
        "        return\n",
        "    else :\n",
        "        for child in tree[node] :\n",
        "            sub_size(child)\n",
        "        size += 1\n",
        "\n",
        "t = int(input())\n",
        "for test in range(1, t + 1) :\n",
        "    v, e, a, b = map(int, input().split())\n",
        "    array = list(map(int, input().split()))\n",
        "    # array = [1, 2, 1, 3, 2, 4, 3, 5, 3, 6, 4, 7, 7, 12, 5, 9, 5, 8, 6, 10, 6, 11, 11, 13]\n",
        "    tree = [[] for _ in range(v + 1)]\n",
        "    for i in range(e) :\n",
        "        tree[array[i * 2]].append(array[i * 2 + 1])\n",
        "    # tree = [[], [2, 3], [4], [5, 6], [7], [9, 8], [10, 11], [12], [], [], [], [13], [], []]\n",
        "    # 최대 로그 깊이\n",
        "    max_log = int(math.log2(v))\n",
        "    parent = [[0] * max_log for _ in range(v + 1)]\n",
        "    parent[1][0] = 0\n",
        "    depth = [0] * (v + 1)\n",
        "    depth[1] = 0\n",
        "    visited = [0] * (v + 1)\n",
        "    # 부모 노드와 깊이 탐색\n",
        "    get_par_dep(1, 0)\n",
        "    # 2 ** n 조상 노드 탐색\n",
        "    exp_par(parent)\n",
        "    # lca 노드 탐색\n",
        "    node_lca = lca(a, b)\n",
        "    # lca 노드를 루트로 하는 서브 트리 크기\n",
        "    size = 0\n",
        "    sub_size(node_lca)\n",
        "    print(f\"#{test} {node_lca} {size}\")"
      ],
      "metadata": {
        "colab": {
          "base_uri": "https://localhost:8080/"
        },
        "id": "6slCx6tlxM45",
        "outputId": "964989d7-9c76-4215-c5c9-14197bf232c8"
      },
      "execution_count": null,
      "outputs": [
        {
          "output_type": "stream",
          "name": "stdout",
          "text": [
            "2\n",
            "13 12 8 13\n",
            "1 2 1 3 2 4 3 5 3 6 4 7 7 12 5 9 5 8 6 10 6 11 11 13\n",
            "#1 3 8\n",
            "10 9 2 10\n",
            "1 2 1 3 3 4 4 5 5 6 6 7 7 8 8 9 9 10\n",
            "#2 1 10\n"
          ]
        }
      ]
    }
  ]
}