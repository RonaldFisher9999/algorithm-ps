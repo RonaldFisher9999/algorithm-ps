{
 "cells": [
  {
   "cell_type": "markdown",
   "id": "17aa5bb0",
   "metadata": {},
   "source": [
    "# 다익스트라, 플로이드-워셜 "
   ]
  },
  {
   "cell_type": "markdown",
   "id": "64f370a9",
   "metadata": {},
   "source": [
    "## 백준 1916 최소비용 구하기\n",
    "https://www.acmicpc.net/problem/1916"
   ]
  },
  {
   "cell_type": "code",
   "execution_count": null,
   "id": "11cb0b95",
   "metadata": {},
   "outputs": [],
   "source": [
    "import heapq\n",
    "\n",
    "n = int(input())\n",
    "m = int(input())\n",
    "\n",
    "graph = [[] for _ in range(n + 1)]\n",
    "for i in range(m) :\n",
    "    a, b, c = map(int, input().split())\n",
    "    graph[a].append((b, c))\n",
    "# graph = [[],\n",
    "#          [(2, 2), (3, 3), (4, 1), (5, 10)],\n",
    "#          [(4, 2)],\n",
    "#          [(4, 1), (5, 1)],\n",
    "#          [(5, 3)],\n",
    "#          []]\n",
    "start, end = map(int, input().split())\n",
    "INF = int(1e6)\n",
    "distance = [INF] * (n + 1)\n",
    "distance[start] = 0\n",
    "\n",
    "def dijkstra(graph, start, end) :\n",
    "    q = []\n",
    "    heapq.heappush(q, (0, start))\n",
    "    while q :\n",
    "        dist_now, now = heapq.heappop(q)\n",
    "        if distance[now] < dist_now :\n",
    "            continue\n",
    "        else :\n",
    "            for near, now_near in graph[now] :\n",
    "                if distance[near] > dist_now + now_near :\n",
    "                    distance[near] = dist_now + now_near\n",
    "                    heapq.heappush(q, (distance[near], near))\n",
    "    return\n",
    "\n",
    "dijkstra(graph, start, end)\n",
    "print(distance[end])"
   ]
  },
  {
   "cell_type": "markdown",
   "id": "9a5dff46",
   "metadata": {
    "ExecuteTime": {
     "end_time": "2023-02-02T00:53:36.453761Z",
     "start_time": "2023-02-02T00:53:36.442761Z"
    }
   },
   "source": [
    "## 백준 11404 플로이드\n",
    "https://www.acmicpc.net/problem/11404"
   ]
  },
  {
   "cell_type": "code",
   "execution_count": null,
   "id": "2ea715cf",
   "metadata": {},
   "outputs": [],
   "source": [
    "n = int(input())\n",
    "m = int(input())\n",
    "\n",
    "INF = int(1e9)\n",
    "graph = [[INF] * (n + 1) for _ in range(n + 1)]\n",
    "for i in range(1, n + 1) :\n",
    "    graph[i][i] = 0\n",
    "\n",
    "for _ in range(m) :\n",
    "    a, b, c = map(int, input().split())\n",
    "    # 두 도시 사이 노선 하나가 아닐 수 있음\n",
    "    graph[a][b] = min(graph[a][b], c)\n",
    "# graph = [[INF, INF, INF, INF, INF, INF],\n",
    "#          [INF, 0, 2, 3, 2, 10],\n",
    "#          [INF, INF, 0, INF, 2, INF],\n",
    "#          [INF, 8, INF, 0, 2, 10],\n",
    "#          [INF, INF, INF, INF, 0, 3],\n",
    "#          [INF, 7, 4, INF, INF, 0]]\n",
    "\n",
    "for k in range(1, n + 1) :\n",
    "    for a in range(1, n + 1) :\n",
    "        for b in range(1, n + 1) :\n",
    "            if a == b or a == k or b == k :\n",
    "                continue\n",
    "            graph[a][b] = min(graph[a][b], graph[a][k] + graph[k][b])\n",
    "\n",
    "for i in range(1, n + 1) :\n",
    "    for j in range(1, n + 1) :\n",
    "        if graph[i][j] == INF :\n",
    "            print(0, end=\" \")\n",
    "        else :\n",
    "            print(graph[i][j], end=\" \")\n",
    "    print()"
   ]
  },
  {
   "cell_type": "markdown",
   "id": "0998b290",
   "metadata": {},
   "source": [
    "## 백준 11779 최소비용 구하기 2\n",
    "https://www.acmicpc.net/problem/11779\n",
    "- 다익스트라 경로 출력"
   ]
  },
  {
   "cell_type": "code",
   "execution_count": null,
   "id": "fbe7b6ad",
   "metadata": {},
   "outputs": [],
   "source": [
    "import heapq\n",
    "\n",
    "n = int(input())\n",
    "m = int(input())\n",
    "graph = [[] for _ in range(n + 1)]\n",
    "for _ in range(m) :\n",
    "    a, b, c = map(int, input().split())\n",
    "    graph[a].append((b, c))\n",
    "# graph = [[], [(2, 2), (3, 3), (4, 1), (5, 10)], [(4, 2)], [(4, 1), (5, 1)], [(5, 3)], []]\n",
    "start, end = map(int, input().split())\n",
    "INF = int(1e9)\n",
    "distance = [[INF, 0] for _ in range(n + 1)]\n",
    "distance[start] = [0, start]\n",
    "\n",
    "def dijkstra(graph, start, end) :    \n",
    "    q = []\n",
    "    heapq.heappush(q, (0, start))\n",
    "    while q :\n",
    "        dist_node, node = heapq.heappop(q)\n",
    "        if distance[node][0] < dist_node :\n",
    "            continue\n",
    "        else :\n",
    "            for near, dist_node_near in graph[node] :\n",
    "                if distance[near][0] > dist_node + dist_node_near :\n",
    "                    distance[near][0] = dist_node + dist_node_near\n",
    "                    distance[near][1] = node\n",
    "                    heapq.heappush(q, (distance[near][0], near))\n",
    "\n",
    "dijkstra(graph, start, end)\n",
    "print(distance[end][0])\n",
    "route = [end]\n",
    "while True :\n",
    "    now = route[-1]\n",
    "    before = distance[now][1]\n",
    "    route.append(before)\n",
    "    if before == start :\n",
    "        break\n",
    "print(len(route))\n",
    "print(*route[::-1])"
   ]
  },
  {
   "cell_type": "markdown",
   "id": "897c58ba",
   "metadata": {},
   "source": [
    "## 백준 1389 케빈 베이컨의 6단계 법칙\n",
    "https://www.acmicpc.net/problem/1389"
   ]
  },
  {
   "cell_type": "code",
   "execution_count": null,
   "id": "faf5c5c2",
   "metadata": {},
   "outputs": [],
   "source": [
    "n, m = map(int, input().split())\n",
    "INF = int(1e4)\n",
    "graph = [[INF] * (n + 1) for _ in range(n + 1)]\n",
    "for _ in range(m) :\n",
    "    a, b = map(int, input().split())\n",
    "    graph[a][b] = 1\n",
    "    graph[b][a] = 1\n",
    "\n",
    "for i in range(1, n + 1) :\n",
    "    graph[i][i] = 0\n",
    "\n",
    "# graph = [[10000, 10000, 10000, 10000, 10000, 10000],\n",
    "#          [10000, 0, 10000, 1, 1, 10000],\n",
    "#          [10000, 10000, 0, 1, 10000, 10000],\n",
    "#          [10000, 1, 1, 0, 1, 10000],\n",
    "#          [10000, 1, 10000, 1, 0, 1],\n",
    "#          [10000, 10000, 10000, 10000, 1, 0]]\n",
    "\n",
    "for k in range(1, n + 1) :\n",
    "    for a in range(1, n + 1) :\n",
    "        for b in range(1, n + 1) :\n",
    "            if k == a or k == b or a == b :\n",
    "                continue\n",
    "            else :\n",
    "                graph[a][b] = min(graph[a][b], graph[a][k] + graph[k][b])\n",
    "min_bacon = INF\n",
    "sol = 0\n",
    "for i in range(1, n + 1) :\n",
    "    now_bacon = sum(graph[i][1:])\n",
    "    if min_bacon > now_bacon :\n",
    "        min_bacon = now_bacon\n",
    "        sol = i\n",
    "print(sol)"
   ]
  },
  {
   "cell_type": "markdown",
   "id": "05eb8db7",
   "metadata": {},
   "source": [
    "## 백준 1238 파티\n",
    "https://www.acmicpc.net/problem/1238\n",
    "- 시작점을 x로 두고 다익스트라를 실행하면 x에서 집으로 오는 최단거리 반환  \n",
    "    \\-> back_graph에는 시작점, 끝점을 원래 입력대로 저장하고 dikstra(back_graph, x) 실행\n",
    "- 시작점과 끝점을 반대로 입력한 go_graph에서 시작점 x인 다익스트라를 실행하면, 원래 그래프의 집에서 x로 가는 최단거리 반환  \n",
    "    \\-> go_graph에 반대로 저장하고 dikstra(go_graph, x) 실행"
   ]
  },
  {
   "cell_type": "code",
   "execution_count": null,
   "id": "d32d360b",
   "metadata": {},
   "outputs": [],
   "source": [
    "import heapq\n",
    "\n",
    "n, m, x = map(int, input().split())\n",
    "go_graph = [[] for _ in range(n + 1)]\n",
    "back_graph = [[] for _ in range(n + 1)]\n",
    "for _ in range(m) :\n",
    "    a, b, w = map(int, input().split())\n",
    "    back_graph[a].append((b, w))\n",
    "    go_graph[b].append((a, w))\n",
    "# graph = [[] for _ in range(n + 1)]\n",
    "# for _ in range(m) :\n",
    "#     a, b, w = map(int, input().split())\n",
    "#     graph[a].append((b, w))\n",
    "# # graph = [[],\n",
    "# #          [(2, 4), (3, 2), (4, 7)],\n",
    "# #          [(1, 1), (3, 5)],\n",
    "# #          [(1, 2), (4, 4)],\n",
    "# #          [(2, 3)]]\n",
    "\n",
    "def dikstra(graph, start) :\n",
    "    INF = int(1e9)\n",
    "    distance = [INF] * (n + 1)\n",
    "    distance[start] = 0\n",
    "    q = []\n",
    "    heapq.heappush(q, (0, start))\n",
    "    while q :\n",
    "        dist_now, now = heapq.heappop(q)\n",
    "        if distance[now] < dist_now :\n",
    "            continue\n",
    "        for near, dist_now_near in graph[now] :\n",
    "            if distance[near] > dist_now + dist_now_near :\n",
    "                distance[near] = dist_now + dist_now_near\n",
    "                heapq.heappush(q, (distance[near], near))\n",
    "    return distance\n",
    "sol = 0\n",
    "to_x = dikstra(go_graph, x)\n",
    "from_x = dikstra(back_graph, x)\n",
    "for i in range(1, n + 1) :\n",
    "    now_sol = to_x[i] + from_x[i]\n",
    "    sol = max(sol, now_sol)\n",
    "    \n",
    "print(sol)"
   ]
  },
  {
   "cell_type": "markdown",
   "id": "ab553fc6",
   "metadata": {},
   "source": [
    "## 백준 17396 백도어\n",
    "https://www.acmicpc.net/problem/17396"
   ]
  },
  {
   "cell_type": "code",
   "execution_count": null,
   "id": "ce38b6df",
   "metadata": {},
   "outputs": [],
   "source": [
    "# f = open(\"input.txt\")\n",
    "# input = f.readline\n",
    "\n",
    "import sys, heapq\n",
    "\n",
    "n, m = map(int, input().split())\n",
    "vision = list(map(int, input().split()))\n",
    "vision[n-1] = 0\n",
    "graph = [[] for _ in range(n)]\n",
    "for _ in range(m) :\n",
    "    a, b, c = map(int, input().split())\n",
    "    if not vision[a] and not vision[b] :\n",
    "        graph[a].append((b, c))\n",
    "        graph[b].append((a, c))\n",
    "\n",
    "def dijkstra(start, end) :\n",
    "    # int(1e9)하면 충분히 크지 않아서 틀림\n",
    "    INF = sys.maxsize\n",
    "    dist = [INF] * n\n",
    "    dist[start] = 0\n",
    "    q = []\n",
    "    heapq.heappush(q, (0, start))\n",
    "    while q :\n",
    "        now_d, now = heapq.heappop(q)\n",
    "        if dist[now] < now_d :\n",
    "            continue\n",
    "        for near, near_d in graph[now] :\n",
    "            if dist[near] > near_d + now_d :\n",
    "                dist[near] = near_d + now_d\n",
    "                heapq.heappush(q, (dist[near], near))\n",
    "    if dist[end] == INF :\n",
    "        return -1\n",
    "    else :\n",
    "        return dist[end]\n",
    "\n",
    "print(dijkstra(0, n-1))"
   ]
  }
 ],
 "metadata": {
  "kernelspec": {
   "display_name": "Python 3 (ipykernel)",
   "language": "python",
   "name": "python3"
  },
  "language_info": {
   "codemirror_mode": {
    "name": "ipython",
    "version": 3
   },
   "file_extension": ".py",
   "mimetype": "text/x-python",
   "name": "python",
   "nbconvert_exporter": "python",
   "pygments_lexer": "ipython3",
   "version": "3.9.13"
  },
  "toc": {
   "base_numbering": 1,
   "nav_menu": {},
   "number_sections": true,
   "sideBar": true,
   "skip_h1_title": false,
   "title_cell": "Table of Contents",
   "title_sidebar": "Contents",
   "toc_cell": false,
   "toc_position": {},
   "toc_section_display": true,
   "toc_window_display": true
  },
  "varInspector": {
   "cols": {
    "lenName": 16,
    "lenType": 16,
    "lenVar": 40
   },
   "kernels_config": {
    "python": {
     "delete_cmd_postfix": "",
     "delete_cmd_prefix": "del ",
     "library": "var_list.py",
     "varRefreshCmd": "print(var_dic_list())"
    },
    "r": {
     "delete_cmd_postfix": ") ",
     "delete_cmd_prefix": "rm(",
     "library": "var_list.r",
     "varRefreshCmd": "cat(var_dic_list()) "
    }
   },
   "types_to_exclude": [
    "module",
    "function",
    "builtin_function_or_method",
    "instance",
    "_Feature"
   ],
   "window_display": false
  }
 },
 "nbformat": 4,
 "nbformat_minor": 5
}
