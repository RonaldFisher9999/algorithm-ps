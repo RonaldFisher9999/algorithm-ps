{
 "cells": [
  {
   "cell_type": "markdown",
   "id": "1b9434a4",
   "metadata": {},
   "source": [
    "# 문자열"
   ]
  },
  {
   "cell_type": "markdown",
   "id": "9e263955",
   "metadata": {},
   "source": [
    "## 백준 5052 전화번호 목록\n",
    "https://www.acmicpc.net/problem/5052  \n",
    "프로그래머스 : https://school.programmers.co.kr/learn/courses/30/lessons/42577  \n",
    "- `input = sys.stdin.readline` 쓰거나 pypy3로 제출해야함. 아니면 시간초과\n",
    "- 문자열 형태의 정수를 정렬했기 때문에, 어떤 숫자 n이 다른 숫자 m의 접두사라면 반드시 n 다음에 m이 정렬됨 "
   ]
  },
  {
   "cell_type": "code",
   "execution_count": null,
   "id": "80a115ba",
   "metadata": {},
   "outputs": [],
   "source": [
    "# f = open(\"input.txt\")\n",
    "# input = f.readline\n",
    "\n",
    "t = int(input())\n",
    "for _ in range(t) :\n",
    "    n = int(input())\n",
    "    nums = list()\n",
    "    for __ in range(n) :\n",
    "        nums.append(input().rstrip())\n",
    "    nums.sort()\n",
    "    for i in range(n-1) :\n",
    "        if nums[i+1].startswith(nums[i]) :\n",
    "            print(\"NO\")\n",
    "            break\n",
    "    else :\n",
    "        print(\"YES\")"
   ]
  },
  {
   "cell_type": "markdown",
   "id": "b95b2283",
   "metadata": {},
   "source": [
    "## 백준 17214 다항 함수의 적분\n",
    "https://www.acmicpc.net/problem/17214\n",
    "- 상수만 있는가? -> -1, 0, 1, 음수, 양수\n",
    "- x항만 있는가? -> -1, 1, 음수, 양수\n",
    "- 둘다 있는가? -> -1, 1, 음수, 양수"
   ]
  },
  {
   "cell_type": "code",
   "execution_count": null,
   "id": "926f5ede",
   "metadata": {},
   "outputs": [],
   "source": [
    "# input = open(\"input.txt\").readline\n",
    "\n",
    "poly = input()\n",
    "# 상수항만 있음\n",
    "if \"x\" not in poly :\n",
    "    if poly == \"0\" :\n",
    "        print(\"W\")\n",
    "    elif poly == \"1\" :\n",
    "        print(\"x+W\")\n",
    "    elif poly == \"-1\" :\n",
    "        print(\"-x+W\")\n",
    "    else :\n",
    "        print(poly + \"x+W\")\n",
    "else :\n",
    "    # x항만 있음\n",
    "    if poly[-1] == \"x\" :\n",
    "        if poly == \"2x\" :\n",
    "            print(\"xx+W\")\n",
    "        elif poly == \"-2x\" :\n",
    "            print(\"-xx+W\")\n",
    "        else :\n",
    "            coeff = int(poly[:-1])\n",
    "            print(f\"{coeff//2}xx+W\")\n",
    "    # 둘다 있음\n",
    "    else :\n",
    "        spl = poly.split(\"x\")\n",
    "        coeff = int(spl[0])\n",
    "        const = int(spl[1])\n",
    "        if const == 1 :\n",
    "            if coeff == 2 :\n",
    "                print(\"xx+x+W\")\n",
    "            elif coeff == -2 :\n",
    "                print(\"-xx+x+W\")\n",
    "            else :\n",
    "                print(f\"{coeff//2}xx+x+W\")\n",
    "        elif const == -1 :\n",
    "            if coeff == 2 :\n",
    "                print(\"xx-x+W\")\n",
    "            elif coeff == -2 :\n",
    "                print(\"-xx-x+W\")\n",
    "            else :\n",
    "                print(f\"{coeff//2}xx-x+W\")\n",
    "        elif const < 0 :\n",
    "            if coeff == 2 :\n",
    "                print(f\"xx{const}x+W\")\n",
    "            elif coeff == -2 :\n",
    "                print(f\"-xx{const}x+W\")\n",
    "            else :\n",
    "                print(f\"{coeff//2}xx{const}x+W\")\n",
    "        elif const > 0 :\n",
    "            if coeff == 2 :\n",
    "                print(f\"xx+{const}x+W\")\n",
    "            elif coeff == -2 :\n",
    "                print(f\"-xx+{const}x+W\")\n",
    "            else :\n",
    "                print(f\"{coeff//2}xx+{const}x+W\")"
   ]
  }
 ],
 "metadata": {
  "kernelspec": {
   "display_name": "Python 3 (ipykernel)",
   "language": "python",
   "name": "python3"
  },
  "language_info": {
   "codemirror_mode": {
    "name": "ipython",
    "version": 3
   },
   "file_extension": ".py",
   "mimetype": "text/x-python",
   "name": "python",
   "nbconvert_exporter": "python",
   "pygments_lexer": "ipython3",
   "version": "3.9.13"
  },
  "toc": {
   "base_numbering": 1,
   "nav_menu": {},
   "number_sections": true,
   "sideBar": true,
   "skip_h1_title": false,
   "title_cell": "Table of Contents",
   "title_sidebar": "Contents",
   "toc_cell": false,
   "toc_position": {},
   "toc_section_display": true,
   "toc_window_display": true
  },
  "varInspector": {
   "cols": {
    "lenName": 16,
    "lenType": 16,
    "lenVar": 40
   },
   "kernels_config": {
    "python": {
     "delete_cmd_postfix": "",
     "delete_cmd_prefix": "del ",
     "library": "var_list.py",
     "varRefreshCmd": "print(var_dic_list())"
    },
    "r": {
     "delete_cmd_postfix": ") ",
     "delete_cmd_prefix": "rm(",
     "library": "var_list.r",
     "varRefreshCmd": "cat(var_dic_list()) "
    }
   },
   "types_to_exclude": [
    "module",
    "function",
    "builtin_function_or_method",
    "instance",
    "_Feature"
   ],
   "window_display": false
  }
 },
 "nbformat": 4,
 "nbformat_minor": 5
}
