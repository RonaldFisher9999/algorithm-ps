{
 "cells": [
  {
   "cell_type": "code",
   "execution_count": 42,
   "id": "e7cb20cf",
   "metadata": {
    "ExecuteTime": {
     "end_time": "2023-03-24T14:19:48.778714Z",
     "start_time": "2023-03-24T14:19:48.762553Z"
    }
   },
   "outputs": [
    {
     "name": "stdout",
     "output_type": "stream",
     "text": [
      "3\n"
     ]
    }
   ],
   "source": [
    "# 연료채우기 https://www.acmicpc.net/problem/1826\n",
    "input = open(\"input.txt\").readline\n",
    "\n",
    "import heapq \n",
    "\n",
    "n = int(input())\n",
    "stations = list()\n",
    "for _ in range(n) :\n",
    "    a, b = map(int, input().split())\n",
    "    stations.append((a, b))\n",
    "end, p = map(int, input().split())\n",
    "stations.append((end, 0))\n",
    "stations.sort()\n",
    "# print(stations)\n",
    "# print(end, p)\n",
    "max_q = []\n",
    "fuel = p\n",
    "answer = 0\n",
    "for i in range(n+1) :\n",
    "    # 다음 정류소까지 갈 수 없으면 먼저 max_q에 저장된 연료 넣음\n",
    "    while fuel < stations[i][0] and max_q :\n",
    "        fuel += -heapq.heappop(max_q)\n",
    "        answer += 1\n",
    "    # 연료를 다 넣었는데도 다음 정류소 못 가면 break\n",
    "    if fuel < stations[i][0] :\n",
    "        answer = -1\n",
    "        break\n",
    "    # 갈 수 있으면 max_q에 연료 저장\n",
    "    heapq.heappush(max_q, -stations[i][1])\n",
    "    \n",
    "if fuel < end :\n",
    "    print(-1)\n",
    "else :\n",
    "    print(answer)"
   ]
  },
  {
   "cell_type": "code",
   "execution_count": null,
   "id": "873fa2c6",
   "metadata": {},
   "outputs": [],
   "source": []
  }
 ],
 "metadata": {
  "kernelspec": {
   "display_name": "Python 3 (ipykernel)",
   "language": "python",
   "name": "python3"
  },
  "language_info": {
   "codemirror_mode": {
    "name": "ipython",
    "version": 3
   },
   "file_extension": ".py",
   "mimetype": "text/x-python",
   "name": "python",
   "nbconvert_exporter": "python",
   "pygments_lexer": "ipython3",
   "version": "3.9.13"
  },
  "toc": {
   "base_numbering": 1,
   "nav_menu": {},
   "number_sections": true,
   "sideBar": true,
   "skip_h1_title": false,
   "title_cell": "Table of Contents",
   "title_sidebar": "Contents",
   "toc_cell": false,
   "toc_position": {},
   "toc_section_display": true,
   "toc_window_display": false
  },
  "varInspector": {
   "cols": {
    "lenName": 16,
    "lenType": 16,
    "lenVar": 40
   },
   "kernels_config": {
    "python": {
     "delete_cmd_postfix": "",
     "delete_cmd_prefix": "del ",
     "library": "var_list.py",
     "varRefreshCmd": "print(var_dic_list())"
    },
    "r": {
     "delete_cmd_postfix": ") ",
     "delete_cmd_prefix": "rm(",
     "library": "var_list.r",
     "varRefreshCmd": "cat(var_dic_list()) "
    }
   },
   "types_to_exclude": [
    "module",
    "function",
    "builtin_function_or_method",
    "instance",
    "_Feature"
   ],
   "window_display": false
  },
  "vscode": {
   "interpreter": {
    "hash": "dfacda2fdeeaacdd740fe5c66c89c97705c9508b64028ea0dce702e0ae9956cd"
   }
  }
 },
 "nbformat": 4,
 "nbformat_minor": 5
}
