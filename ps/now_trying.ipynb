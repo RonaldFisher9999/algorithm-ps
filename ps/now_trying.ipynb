{
 "cells": [
  {
   "cell_type": "code",
   "execution_count": 57,
   "id": "189ad23f",
   "metadata": {
    "ExecuteTime": {
     "end_time": "2023-04-12T14:29:11.798166Z",
     "start_time": "2023-04-12T14:29:11.776730Z"
    }
   },
   "outputs": [
    {
     "name": "stdout",
     "output_type": "stream",
     "text": [
      "-1\n"
     ]
    }
   ],
   "source": [
    "# 구슬 탈출 2 https://www.acmicpc.net/problem/13460\n",
    "input = open(\"input.txt\").readline\n",
    "\n",
    "from collections import deque\n",
    "\n",
    "n, m = map(int, input().split())\n",
    "board = list()\n",
    "for i in range(n) :\n",
    "    row = input().rstrip()\n",
    "    for j in range(m) :\n",
    "        if row[j] == 'R' :\n",
    "            start_rx, start_ry = i, j\n",
    "        if row[j] == 'B' :\n",
    "            start_bx, start_by = i, j\n",
    "    board.append(row)\n",
    "\n",
    "dxy = [(1, 0), (-1, 0), (0, 1), (0, -1)]\n",
    "\n",
    "def move(x, y, dx, dy) :\n",
    "    step = 0\n",
    "    while True :\n",
    "        n_x, n_y = x+dx, y+dy\n",
    "        if board[n_x][n_y] == \"O\" :\n",
    "            return n_x, n_y, step+1\n",
    "        if board[n_x][n_y] == \"#\" :\n",
    "            return x, y, step\n",
    "        x, y = n_x, n_y\n",
    "        step += 1\n",
    "\n",
    "def bfs() :\n",
    "    visited = set((start_rx, start_ry, start_bx, start_by))\n",
    "    q = deque([(start_rx, start_ry, start_bx, start_by, 0)])\n",
    "    while q :\n",
    "        rx, ry, bx, by, cnt = q.popleft()\n",
    "        # 10번 움직여도 못 나오면 실패\n",
    "        if cnt == 10 :\n",
    "            return -1\n",
    "        for dx, dy in dxy :\n",
    "            # 구멍에 빠졌거나 앞이 벽이면 정지\n",
    "            n_rx, n_ry, step_r = move(rx, ry, dx, dy)\n",
    "            n_bx, n_by, step_b = move(bx, by, dx, dy)\n",
    "            # 구멍에 빠졌는지 확인\n",
    "            # 파란공이 빠지면 실패\n",
    "            if board[n_bx][n_by] == \"O\" :\n",
    "                continue\n",
    "            # 파란공이 안 빠지고 빨간공이 빠지면 정답 반환\n",
    "            if board[n_rx][n_ry] == \"O\" :\n",
    "                return cnt + 1\n",
    "            # 빨간공, 파랑공 좌표 겹치면 조정\n",
    "            # step이 작은쪽이 해당 칸에 먼저 도착했으므로 늦게 도착한 공 한칸 뒤로\n",
    "            if (n_rx, n_ry) == (n_bx, n_by) :\n",
    "                if step_r < step_b :\n",
    "                    n_bx -= dx\n",
    "                    n_by -= dy\n",
    "                else :\n",
    "                    n_rx -= dx\n",
    "                    n_ry -= dy\n",
    "            # 빨간공이 방문한적 없으면 큐에 삽입\n",
    "            if (n_rx, n_ry, n_bx, n_by) not in visited :\n",
    "                visited.add((n_rx, n_ry, n_bx, n_by))\n",
    "                q.append((n_rx, n_ry, n_bx, n_by, cnt+1))\n",
    "    # 큐 다 비었으면 실패\n",
    "    return -1\n",
    "\n",
    "print(bfs())"
   ]
  },
  {
   "cell_type": "code",
   "execution_count": 4,
   "id": "08949997",
   "metadata": {
    "ExecuteTime": {
     "end_time": "2023-04-12T13:48:06.993269Z",
     "start_time": "2023-04-12T13:48:06.979987Z"
    }
   },
   "outputs": [
    {
     "data": {
      "text/plain": [
       "True"
      ]
     },
     "execution_count": 4,
     "metadata": {},
     "output_type": "execute_result"
    }
   ],
   "source": [
    "(3, 5) == (3, 5)"
   ]
  }
 ],
 "metadata": {
  "kernelspec": {
   "display_name": "Python 3 (ipykernel)",
   "language": "python",
   "name": "python3"
  },
  "language_info": {
   "codemirror_mode": {
    "name": "ipython",
    "version": 3
   },
   "file_extension": ".py",
   "mimetype": "text/x-python",
   "name": "python",
   "nbconvert_exporter": "python",
   "pygments_lexer": "ipython3",
   "version": "3.9.13"
  },
  "toc": {
   "base_numbering": 1,
   "nav_menu": {},
   "number_sections": true,
   "sideBar": true,
   "skip_h1_title": false,
   "title_cell": "Table of Contents",
   "title_sidebar": "Contents",
   "toc_cell": false,
   "toc_position": {},
   "toc_section_display": true,
   "toc_window_display": false
  },
  "varInspector": {
   "cols": {
    "lenName": 16,
    "lenType": 16,
    "lenVar": 40
   },
   "kernels_config": {
    "python": {
     "delete_cmd_postfix": "",
     "delete_cmd_prefix": "del ",
     "library": "var_list.py",
     "varRefreshCmd": "print(var_dic_list())"
    },
    "r": {
     "delete_cmd_postfix": ") ",
     "delete_cmd_prefix": "rm(",
     "library": "var_list.r",
     "varRefreshCmd": "cat(var_dic_list()) "
    }
   },
   "types_to_exclude": [
    "module",
    "function",
    "builtin_function_or_method",
    "instance",
    "_Feature"
   ],
   "window_display": false
  },
  "vscode": {
   "interpreter": {
    "hash": "dfacda2fdeeaacdd740fe5c66c89c97705c9508b64028ea0dce702e0ae9956cd"
   }
  }
 },
 "nbformat": 4,
 "nbformat_minor": 5
}
