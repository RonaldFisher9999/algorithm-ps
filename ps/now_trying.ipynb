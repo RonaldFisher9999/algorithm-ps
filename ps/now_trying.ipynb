{
 "cells": [
  {
   "cell_type": "code",
   "execution_count": 1,
   "id": "b0287a55",
   "metadata": {},
   "outputs": [
    {
     "name": "stdout",
     "output_type": "stream",
     "text": [
      "6\n",
      "4\n",
      "4\n",
      "0\n",
      "4\n",
      "3\n",
      "3\n"
     ]
    }
   ],
   "source": [
    "# 텀 프로젝트   https://www.acmicpc.net/problem/9466\n",
    "input = open(\"input.txt\").readline\n",
    "\n",
    "import sys\n",
    "# input = sys.stdin.readline\n",
    "sys.setrecursionlimit(10**6)\n",
    "t = int(input())\n",
    "\n",
    "def dfs(cur_node, graph):\n",
    "    global visited\n",
    "    stack = [cur_node]\n",
    "    stack_set = {cur_node}\n",
    "    while stack:\n",
    "        next_node = graph[cur_node]\n",
    "        if visited[next_node]:\n",
    "            if next_node in stack_set:\n",
    "                return len(stack) - stack.index(next_node)\n",
    "            else:\n",
    "                return 0\n",
    "        else:\n",
    "            visited[next_node] = True\n",
    "            stack.append(next_node)\n",
    "            stack_set.add(next_node)\n",
    "            cur_node = next_node\n",
    "            \n",
    "for _ in range(t):\n",
    "    n = int(input())\n",
    "    graph = [0] + list(map(int, input().split()))\n",
    "    visited = [False] * (n + 1)\n",
    "    cnt = 0\n",
    "    for cur_node in range(1, n + 1):\n",
    "        if not visited[cur_node]:\n",
    "            visited[cur_node] = True\n",
    "            cnt += dfs(cur_node, graph)\n",
    "    print(n - cnt)"
   ]
  },
  {
   "cell_type": "code",
   "execution_count": 11,
   "id": "646020d0",
   "metadata": {},
   "outputs": [
    {
     "name": "stdout",
     "output_type": "stream",
     "text": [
      "6\n",
      "4\n",
      "4\n",
      "0\n",
      "4\n",
      "3\n",
      "3\n"
     ]
    }
   ],
   "source": []
  },
  {
   "cell_type": "code",
   "execution_count": 8,
   "id": "e74bc76b",
   "metadata": {},
   "outputs": [
    {
     "data": {
      "text/plain": [
       "0"
      ]
     },
     "execution_count": 8,
     "metadata": {},
     "output_type": "execute_result"
    }
   ],
   "source": [
    "x = [3, 4, 5, 6]\n",
    "x.index(3)"
   ]
  }
 ],
 "metadata": {
  "kernelspec": {
   "display_name": "Python 3 (ipykernel)",
   "language": "python",
   "name": "python3"
  },
  "language_info": {
   "codemirror_mode": {
    "name": "ipython",
    "version": 3
   },
   "file_extension": ".py",
   "mimetype": "text/x-python",
   "name": "python",
   "nbconvert_exporter": "python",
   "pygments_lexer": "ipython3",
   "version": "3.10.3"
  },
  "toc": {
   "base_numbering": 1,
   "nav_menu": {},
   "number_sections": true,
   "sideBar": true,
   "skip_h1_title": false,
   "title_cell": "Table of Contents",
   "title_sidebar": "Contents",
   "toc_cell": false,
   "toc_position": {},
   "toc_section_display": true,
   "toc_window_display": false
  },
  "varInspector": {
   "cols": {
    "lenName": 16,
    "lenType": 16,
    "lenVar": 40
   },
   "kernels_config": {
    "python": {
     "delete_cmd_postfix": "",
     "delete_cmd_prefix": "del ",
     "library": "var_list.py",
     "varRefreshCmd": "print(var_dic_list())"
    },
    "r": {
     "delete_cmd_postfix": ") ",
     "delete_cmd_prefix": "rm(",
     "library": "var_list.r",
     "varRefreshCmd": "cat(var_dic_list()) "
    }
   },
   "types_to_exclude": [
    "module",
    "function",
    "builtin_function_or_method",
    "instance",
    "_Feature"
   ],
   "window_display": false
  },
  "vscode": {
   "interpreter": {
    "hash": "dfacda2fdeeaacdd740fe5c66c89c97705c9508b64028ea0dce702e0ae9956cd"
   }
  }
 },
 "nbformat": 4,
 "nbformat_minor": 5
}
