{
 "cells": [
  {
   "cell_type": "code",
   "execution_count": 10,
   "id": "189ad23f",
   "metadata": {
    "ExecuteTime": {
     "end_time": "2023-04-01T15:16:29.875533Z",
     "start_time": "2023-04-01T15:16:29.863103Z"
    }
   },
   "outputs": [
    {
     "name": "stdout",
     "output_type": "stream",
     "text": [
      "3\n",
      "5\n"
     ]
    }
   ],
   "source": [
    "# 치즈 https://www.acmicpc.net/problem/2636\n",
    "input = open(\"input.txt\").readline\n",
    "\n",
    "from collections import deque\n",
    "\n",
    "n, m = map(int, input().split())\n",
    "graph = list()\n",
    "# 초기 cheese 값\n",
    "cheese = 0\n",
    "for _ in range(n) :\n",
    "    row = list(map(int, input().split()))\n",
    "    cheese += row.count(1)\n",
    "    graph.append(row)\n",
    "\n",
    "dxy = [(0, 1), (0, -1), (1, 0), (-1, 0)]\n",
    "def bfs(start_x, start_y, time) :\n",
    "    global cheese\n",
    "    cnt = 0\n",
    "    q = deque([(start_x, start_y)])\n",
    "    graph[start_x][start_y] = -time\n",
    "    while q :\n",
    "        x, y = q.popleft()\n",
    "        for dx, dy in dxy :\n",
    "            nx = x + dx\n",
    "            ny = y + dy\n",
    "            if 0 <= nx < n and 0 <= ny < m :\n",
    "                if -time < graph[nx][ny] < 1 :\n",
    "                    graph[nx][ny] = -time\n",
    "                    q.append((nx, ny))\n",
    "                    continue\n",
    "                if graph[nx][ny] == 1 :\n",
    "                    graph[nx][ny] = -time\n",
    "                    cnt += 1\n",
    "                    cheese -= 1\n",
    "    return cnt\n",
    "\n",
    "time = 1\n",
    "while True :\n",
    "    cnt = bfs(0, 0, time)\n",
    "    if not cheese :\n",
    "        break\n",
    "    time += 1\n",
    "print(time)\n",
    "print(cnt)"
   ]
  }
 ],
 "metadata": {
  "kernelspec": {
   "display_name": "Python 3 (ipykernel)",
   "language": "python",
   "name": "python3"
  },
  "language_info": {
   "codemirror_mode": {
    "name": "ipython",
    "version": 3
   },
   "file_extension": ".py",
   "mimetype": "text/x-python",
   "name": "python",
   "nbconvert_exporter": "python",
   "pygments_lexer": "ipython3",
   "version": "3.9.13"
  },
  "toc": {
   "base_numbering": 1,
   "nav_menu": {},
   "number_sections": true,
   "sideBar": true,
   "skip_h1_title": false,
   "title_cell": "Table of Contents",
   "title_sidebar": "Contents",
   "toc_cell": false,
   "toc_position": {},
   "toc_section_display": true,
   "toc_window_display": false
  },
  "varInspector": {
   "cols": {
    "lenName": 16,
    "lenType": 16,
    "lenVar": 40
   },
   "kernels_config": {
    "python": {
     "delete_cmd_postfix": "",
     "delete_cmd_prefix": "del ",
     "library": "var_list.py",
     "varRefreshCmd": "print(var_dic_list())"
    },
    "r": {
     "delete_cmd_postfix": ") ",
     "delete_cmd_prefix": "rm(",
     "library": "var_list.r",
     "varRefreshCmd": "cat(var_dic_list()) "
    }
   },
   "types_to_exclude": [
    "module",
    "function",
    "builtin_function_or_method",
    "instance",
    "_Feature"
   ],
   "window_display": false
  },
  "vscode": {
   "interpreter": {
    "hash": "dfacda2fdeeaacdd740fe5c66c89c97705c9508b64028ea0dce702e0ae9956cd"
   }
  }
 },
 "nbformat": 4,
 "nbformat_minor": 5
}
