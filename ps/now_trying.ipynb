{
 "cells": [
  {
   "cell_type": "code",
   "execution_count": null,
   "id": "e6d92db4",
   "metadata": {
    "ExecuteTime": {
     "end_time": "2023-03-17T09:21:20.973698Z",
     "start_time": "2023-03-17T09:21:20.956334Z"
    }
   },
   "outputs": [],
   "source": [
    "# 뱀 https://www.acmicpc.net/problem/3190\n",
    "input = open(\"input.txt\").readline\n"
   ]
  },
  {
   "cell_type": "code",
   "execution_count": null,
   "id": "91286904",
   "metadata": {
    "ExecuteTime": {
     "end_time": "2023-03-17T14:39:03.370814Z",
     "start_time": "2023-03-17T14:39:00.530334Z"
    }
   },
   "outputs": [],
   "source": [
    "import sys\n",
    "a = bytearray(2**22)\n",
    "s = \"\"\n",
    "while True :\n",
    "    c = sys.stdin.read(1)\n",
    "    if c.isnumeric() :\n",
    "        s += c\n",
    "    else :\n",
    "        n = int(s)\n",
    "        d = n // 8\n",
    "        r = n % 8\n",
    "        if not a[d] & (1 << r) :\n",
    "            print(n, end=' ')\n",
    "            a[d] |= 1 << r\n",
    "        s = \"\"\n",
    "        if c != \" \" :\n",
    "            break"
   ]
  },
  {
   "cell_type": "code",
   "execution_count": null,
   "id": "44d1c89b",
   "metadata": {
    "ExecuteTime": {
     "start_time": "2023-03-17T16:01:08.186Z"
    }
   },
   "outputs": [],
   "source": [
    "import sys\n",
    "a = bytearray(2**20)\n",
    "b = 1 << 2**20\n",
    "print(sys.getsizeof(a))\n",
    "print(sys.getsizeof(b))"
   ]
  },
  {
   "cell_type": "code",
   "execution_count": 3,
   "id": "4ad3b67d",
   "metadata": {
    "ExecuteTime": {
     "end_time": "2023-03-17T16:03:28.323991Z",
     "start_time": "2023-03-17T16:03:28.317292Z"
    }
   },
   "outputs": [
    {
     "name": "stdout",
     "output_type": "stream",
     "text": [
      "164\n"
     ]
    }
   ],
   "source": [
    "import sys\n",
    "b = 0\n",
    "b |= 1 << 2 ** 10\n",
    "print(sys.getsizeof(b))"
   ]
  },
  {
   "cell_type": "code",
   "execution_count": 4,
   "id": "886c3b92",
   "metadata": {
    "ExecuteTime": {
     "end_time": "2023-03-17T16:03:32.889554Z",
     "start_time": "2023-03-17T16:03:32.885795Z"
    }
   },
   "outputs": [
    {
     "name": "stdout",
     "output_type": "stream",
     "text": [
      "179769313486231590772930519078902473361797697894230657273430081157732675805500963132708477322407536021120113879871393357658789768814416622492847430639474124377767893424865485276302219601246094119453082952085005768838150682342462881473913110540827237163350510684586298239947245938479716304835356329624224137216\n"
     ]
    }
   ],
   "source": [
    "print(b)"
   ]
  },
  {
   "cell_type": "code",
   "execution_count": null,
   "id": "f04fae9c",
   "metadata": {
    "ExecuteTime": {
     "start_time": "2023-03-17T15:59:21.706Z"
    }
   },
   "outputs": [],
   "source": [
    "b = 1 << 2**25\n",
    "b"
   ]
  }
 ],
 "metadata": {
  "kernelspec": {
   "display_name": "Python 3 (ipykernel)",
   "language": "python",
   "name": "python3"
  },
  "language_info": {
   "codemirror_mode": {
    "name": "ipython",
    "version": 3
   },
   "file_extension": ".py",
   "mimetype": "text/x-python",
   "name": "python",
   "nbconvert_exporter": "python",
   "pygments_lexer": "ipython3",
   "version": "3.9.13"
  },
  "toc": {
   "base_numbering": 1,
   "nav_menu": {},
   "number_sections": true,
   "sideBar": true,
   "skip_h1_title": false,
   "title_cell": "Table of Contents",
   "title_sidebar": "Contents",
   "toc_cell": false,
   "toc_position": {},
   "toc_section_display": true,
   "toc_window_display": false
  },
  "varInspector": {
   "cols": {
    "lenName": 16,
    "lenType": 16,
    "lenVar": 40
   },
   "kernels_config": {
    "python": {
     "delete_cmd_postfix": "",
     "delete_cmd_prefix": "del ",
     "library": "var_list.py",
     "varRefreshCmd": "print(var_dic_list())"
    },
    "r": {
     "delete_cmd_postfix": ") ",
     "delete_cmd_prefix": "rm(",
     "library": "var_list.r",
     "varRefreshCmd": "cat(var_dic_list()) "
    }
   },
   "types_to_exclude": [
    "module",
    "function",
    "builtin_function_or_method",
    "instance",
    "_Feature"
   ],
   "window_display": false
  },
  "vscode": {
   "interpreter": {
    "hash": "dfacda2fdeeaacdd740fe5c66c89c97705c9508b64028ea0dce702e0ae9956cd"
   }
  }
 },
 "nbformat": 4,
 "nbformat_minor": 5
}
