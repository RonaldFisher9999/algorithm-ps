{
 "cells": [
  {
   "cell_type": "code",
   "execution_count": 14,
   "id": "bb1fa11a",
   "metadata": {},
   "outputs": [
    {
     "name": "stdout",
     "output_type": "stream",
     "text": [
      "-1\n"
     ]
    }
   ],
   "source": [
    "# 구슬 탈출 4 https://www.acmicpc.net/problem/15653\n",
    "input = open(\"input.txt\").readline\n",
    "\n",
    "from collections import deque\n",
    "\n",
    "n, m = map(int, input().split())\n",
    "graph = list()\n",
    "s_r, s_b = None, None\n",
    "for i in range(n):\n",
    "    row = input().rstrip()\n",
    "    graph.append(row)\n",
    "    for j in range(m):\n",
    "        if not s_r and row[j] == \"R\":\n",
    "            s_r = (i, j)\n",
    "        if not s_b and row[j] == \"B\":\n",
    "            s_b = (i, j)\n",
    "# print(*graph, sep=\"\\n\")\n",
    "# print(\"s_r\", s_r)\n",
    "# print(\"s_b\", s_b)\n",
    "\n",
    "def move(x, y, dx, dy, graph):\n",
    "    step = 0\n",
    "    while True:\n",
    "        n_x, n_y = x + dx, y + dy\n",
    "        if graph[n_x][n_y] == \"O\":\n",
    "            return n_x, n_y, step + 1\n",
    "        if graph[n_x][n_y] == \"#\":\n",
    "            return x, y, step\n",
    "        x, y = n_x, n_y\n",
    "        step += 1\n",
    "        \n",
    "\n",
    "def bfs(s_r, s_b, graph):\n",
    "    dxy = [(0, 1), (0, -1), (1, 0), (-1, 0)]\n",
    "    visited = set((*s_r, *s_b))\n",
    "    q = deque([(*s_r, *s_b, 0)])\n",
    "    while q:\n",
    "        rx, ry, bx, by, cnt = q.popleft()\n",
    "        for dx, dy in dxy:\n",
    "            n_rx, n_ry, step_r = move(rx, ry, dx, dy, graph)\n",
    "            n_bx, n_by, step_b = move(bx, by, dx, dy, graph)\n",
    "            if graph[n_bx][n_by] == \"O\":\n",
    "                continue\n",
    "            else:\n",
    "                if graph[n_rx][n_ry] == \"O\":\n",
    "                    return cnt + 1\n",
    "                else:\n",
    "                    if n_rx == n_bx and n_ry == n_by:\n",
    "                        if step_r < step_b:\n",
    "                            n_bx, n_by = n_bx - dx, n_by - dy\n",
    "                        else:\n",
    "                            n_rx, n_ry = n_rx - dx, n_ry - dy\n",
    "                    if (n_rx, n_ry, n_bx, n_by) not in visited:\n",
    "                        visited.add((n_rx, n_ry, n_bx, n_by))\n",
    "                        q.append((n_rx, n_ry, n_bx, n_by, cnt + 1))\n",
    "    return -1\n",
    "\n",
    "print(bfs(s_r, s_b, graph))"
   ]
  },
  {
   "cell_type": "code",
   "execution_count": 2,
   "id": "999538a1",
   "metadata": {},
   "outputs": [
    {
     "data": {
      "text/plain": [
       "(1, 0, 3, 2, 2)"
      ]
     },
     "execution_count": 2,
     "metadata": {},
     "output_type": "execute_result"
    }
   ],
   "source": [
    "(*(1, 0), *(3, 2), 2)"
   ]
  },
  {
   "cell_type": "code",
   "execution_count": 9,
   "id": "78e68a84",
   "metadata": {},
   "outputs": [
    {
     "data": {
      "text/plain": [
       "{(0, 1, 2, 0)}"
      ]
     },
     "execution_count": 9,
     "metadata": {},
     "output_type": "execute_result"
    }
   ],
   "source": [
    "x = {(*(0, 1), *(2, 0))}\n",
    "x.add((0, 1, 2, 0))\n",
    "x"
   ]
  },
  {
   "cell_type": "code",
   "execution_count": null,
   "id": "da3de019",
   "metadata": {},
   "outputs": [],
   "source": []
  }
 ],
 "metadata": {
  "kernelspec": {
   "display_name": "Python 3 (ipykernel)",
   "language": "python",
   "name": "python3"
  },
  "language_info": {
   "codemirror_mode": {
    "name": "ipython",
    "version": 3
   },
   "file_extension": ".py",
   "mimetype": "text/x-python",
   "name": "python",
   "nbconvert_exporter": "python",
   "pygments_lexer": "ipython3",
   "version": "3.10.3"
  },
  "toc": {
   "base_numbering": 1,
   "nav_menu": {},
   "number_sections": true,
   "sideBar": true,
   "skip_h1_title": false,
   "title_cell": "Table of Contents",
   "title_sidebar": "Contents",
   "toc_cell": false,
   "toc_position": {},
   "toc_section_display": true,
   "toc_window_display": false
  },
  "varInspector": {
   "cols": {
    "lenName": 16,
    "lenType": 16,
    "lenVar": 40
   },
   "kernels_config": {
    "python": {
     "delete_cmd_postfix": "",
     "delete_cmd_prefix": "del ",
     "library": "var_list.py",
     "varRefreshCmd": "print(var_dic_list())"
    },
    "r": {
     "delete_cmd_postfix": ") ",
     "delete_cmd_prefix": "rm(",
     "library": "var_list.r",
     "varRefreshCmd": "cat(var_dic_list()) "
    }
   },
   "types_to_exclude": [
    "module",
    "function",
    "builtin_function_or_method",
    "instance",
    "_Feature"
   ],
   "window_display": false
  },
  "vscode": {
   "interpreter": {
    "hash": "dfacda2fdeeaacdd740fe5c66c89c97705c9508b64028ea0dce702e0ae9956cd"
   }
  }
 },
 "nbformat": 4,
 "nbformat_minor": 5
}
