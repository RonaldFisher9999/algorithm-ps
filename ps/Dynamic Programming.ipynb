{
 "cells": [
  {
   "cell_type": "markdown",
   "id": "9bb4fa3b",
   "metadata": {},
   "source": [
    "# Dynamic Programing"
   ]
  },
  {
   "cell_type": "markdown",
   "id": "fb87427b",
   "metadata": {},
   "source": [
    "## 백준 11053 가장 긴 증가하는 부분 수열\n",
    "https://www.acmicpc.net/problem/11053\n",
    "- LIS = Longest Increasing Subsequence"
   ]
  },
  {
   "cell_type": "code",
   "execution_count": null,
   "id": "4e6c9b78",
   "metadata": {},
   "outputs": [],
   "source": [
    "n = int(input())\n",
    "array = [0] + list(map(int, input().split()))\n",
    "# array = [0, 10, 20, 10, 30, 20, 50]\n",
    "\n",
    "dp = [0] * (n + 1)\n",
    "# array[i] 기준으로, 그 앞에 array[i] 보다 작은 값 array[j]가 있으면\n",
    "# array[j]를 최대값을 갖는 LIS 뒤 array[i]가 붙을 수 있음\n",
    "for i in range(1, n + 1) :\n",
    "    for j in range(i) :\n",
    "        if array[i] > array[j] :\n",
    "            dp[i] = max(dp[i], dp[j] + 1)\n",
    "\n",
    "print(max(dp))"
   ]
  },
  {
   "cell_type": "markdown",
   "id": "7b406e29",
   "metadata": {},
   "source": [
    "## 백준 11055 가장 큰 증가 부분 수열\n",
    "https://www.acmicpc.net/problem/11055"
   ]
  },
  {
   "cell_type": "code",
   "execution_count": null,
   "id": "d207d97d",
   "metadata": {},
   "outputs": [],
   "source": [
    "n = int(input())\n",
    "array = list(map(int, input().split()))\n",
    "# array = [1, 100, 2, 50, 60, 3, 5, 6, 7, 8]\n",
    "\n",
    "dp = array[:]\n",
    "for i in range(1, n) :\n",
    "    for j in range(i) :\n",
    "        if array[i] > array[j] :\n",
    "            dp[i] = max(dp[i], dp[j] + array[i])\n",
    "\n",
    "print(max(dp))"
   ]
  },
  {
   "cell_type": "markdown",
   "id": "5c9d11b1",
   "metadata": {},
   "source": [
    "## 백준 2579 계단 오르기\n",
    "https://www.acmicpc.net/problem/2579"
   ]
  },
  {
   "cell_type": "code",
   "execution_count": null,
   "id": "bf5c1e71",
   "metadata": {},
   "outputs": [],
   "source": [
    "n = int(input())\n",
    "array = [0]\n",
    "for _ in range(n) :\n",
    "    array.append(int(input()))\n",
    "# array = [0, 10, 20, 15, 25, 10, 20]\n",
    "\n",
    "def stairs(array, n) :\n",
    "    if n == 1 or n == 2 :\n",
    "        return sum(array[:n+1])\n",
    "    dp = [0] * (n + 1)\n",
    "    dp[1] = array[1]\n",
    "    dp[2] = array[1] + array[2]\n",
    "    for i in range(3, n + 1) :\n",
    "        dp[i] = max(dp[i - 3] + array[i - 1], dp[i - 2]) + array[i]\n",
    "    return dp[n]\n",
    "\n",
    "print(stairs(array, n))"
   ]
  },
  {
   "cell_type": "markdown",
   "id": "9f94b010",
   "metadata": {},
   "source": [
    "## 프로그래머스 카페 확장\n",
    "https://school.programmers.co.kr/learn/courses/15009/lessons/121689"
   ]
  },
  {
   "cell_type": "code",
   "execution_count": null,
   "id": "5a5a8709",
   "metadata": {},
   "outputs": [],
   "source": [
    "def solution(menu, order, k) :\n",
    "    answer = 0\n",
    "    n = len(order)\n",
    "    leave = [0] * n\n",
    "    leave[0] = menu[order[0]]\n",
    "    arrive = list(range(0, (n-1)*k+1, k))\n",
    "    for i in range(1, n) :\n",
    "        leave[i] = max(leave[i - 1], arrive[i]) + menu[order[i]]\n",
    "    \n",
    "    waiting = [0] * n\n",
    "    for i in range(n) :\n",
    "        for a, l in zip(arrive, leave) :\n",
    "            if a <= arrive[i] < l :\n",
    "                waiting[i] += 1\n",
    "    return max(waiting)"
   ]
  },
  {
   "cell_type": "markdown",
   "id": "72235320",
   "metadata": {},
   "source": [
    "## 백준 9465 스티커\n",
    "https://www.acmicpc.net/problem/9465"
   ]
  },
  {
   "cell_type": "code",
   "execution_count": null,
   "id": "2edea5e9",
   "metadata": {},
   "outputs": [],
   "source": [
    "t = int(input())\n",
    "for _ in range(t) :\n",
    "    n = int(input())\n",
    "    array = [list(map(int, input().split())) for _ in range(2)]\n",
    "#    array = [[50, 10, 100, 20, 40],\n",
    "#            [30, 50, 70, 10, 60]]\n",
    "    # dp[0][i] : i번째 열의 위 스티커를 골랐을 때 가능한 최대값\n",
    "    # dp[1][i] : i번째 열의 아래 스티커를 골랐을 때 가능한 최대값\n",
    "    # 정확히는, i번째 열의 아래/위 스티커를 고르지 않았을 때 가능한 최대값\n",
    "    # dp[0][1]의 경우에, 50만 고르는게 30, 10을 고르는 것보다 더 큼\n",
    "    dp = [[0] * n for _ in range(2)]\n",
    "    dp[0][0] = array[0][0]\n",
    "    dp[1][0] = array[1][0]\n",
    "    for i in range(1, n) :\n",
    "        dp[0][i] = max(dp[0][i-1], dp[1][i-1] + array[0][i])\n",
    "        dp[1][i] = max(dp[1][i-1], dp[0][i-1] + array[1][i])\n",
    "    print(max(dp[0][-1], dp[1][-1]))"
   ]
  },
  {
   "cell_type": "markdown",
   "id": "63e8e938",
   "metadata": {},
   "source": [
    "## 백준 11660 구간 합 구하기\n",
    "https://www.acmicpc.net/problem/11660"
   ]
  },
  {
   "cell_type": "code",
   "execution_count": null,
   "id": "1f74d551",
   "metadata": {},
   "outputs": [],
   "source": [
    "n, m = map(int, input().split())\n",
    "array = [[0] * (n + 1) for _ in range(n + 1)]\n",
    "for i in range(1, n + 1) :\n",
    "    array[i] = [0] + list(map(int, input().split()))\n",
    "# array = [[0, 0, 0, 0, 0],\n",
    "#          [0, 1, 2, 3, 4],\n",
    "#          [0, 2, 3, 4, 5],\n",
    "#          [0, 3, 4, 5, 6],\n",
    "#          [0, 4, 5, 6, 7]]\n",
    "    \n",
    "dp = [[0] * (n + 1) for _ in range(n + 1)]\n",
    "for i in range(1, n + 1) :\n",
    "    for j in range(1, n + 1) :\n",
    "        dp[i][j] = array[i][j] + dp[i][j-1] + dp[i-1][j] - dp[i-1][j-1]\n",
    "# dp = [[0, 0, 0, 0, 0],\n",
    "#       [0, 1, 3, 6, 10],\n",
    "#       [0, 3, 8, 15, 24],\n",
    "#       [0, 6, 15, 27, 42],\n",
    "#       [0, 10, 24, 42, 64]]\n",
    "for _ in range(m) :\n",
    "    x1, y1, x2, y2 = map(int, input().split())\n",
    "    print(dp[x2][y2] - dp[x1-1][y2] - dp[x2][y1-1] + dp[x1-1][y1-1])"
   ]
  },
  {
   "cell_type": "markdown",
   "id": "374359c7",
   "metadata": {},
   "source": [
    "## 프로그래머스 가장 큰 정사각형 찾기\n",
    "https://school.programmers.co.kr/learn/courses/30/lessons/12905\n",
    "- 정사각형은 안쪽이 모두 1로 차있어야 함\n",
    "- (i, j) 위치를 기준으로 위, 왼쪽, 왼쪽 위 대각선 세 칸을 확인\n",
    "- 세 칸의 최소값 + 1한 값이 (i, j)를 우하단 꼭지점으로 하는 가장 큰 정사각형의 한 변 길이"
   ]
  },
  {
   "cell_type": "code",
   "execution_count": null,
   "id": "2d2c5503",
   "metadata": {},
   "outputs": [],
   "source": [
    "def solution(board):\n",
    "    n = len(board)\n",
    "    m = len(board[0])\n",
    "        \n",
    "    for i in range(1, n) :\n",
    "        for j in range(1, m) :\n",
    "            if board[i][j] == 1 :\n",
    "                board[i][j] = min(board[i-1][j-1], board[i-1][j], board[i][j-1]) + 1\n",
    "    \n",
    "    max_len = max(map(max, board))\n",
    "    return max_len ** 2"
   ]
  },
  {
   "cell_type": "markdown",
   "id": "c10c7eab",
   "metadata": {},
   "source": [
    "## 백준 2133 타일 채우기\n",
    "https://www.acmicpc.net/problem/2133"
   ]
  },
  {
   "cell_type": "code",
   "execution_count": null,
   "id": "143b075f",
   "metadata": {},
   "outputs": [],
   "source": [
    "n = int(input())\n",
    "\n",
    "def dp_sol(n) :\n",
    "    if n % 2 == 1 :\n",
    "        return 0\n",
    "    dp = [0] * (n + 1)\n",
    "    dp[0] = 1\n",
    "    dp[2] = 3\n",
    "    for i in range(4, n+1, 2) :\n",
    "        dp[i] = dp[i-2] + sum(dp[:i]) * 2\n",
    "    return dp[n]\n",
    "\n",
    "print(dp_sol(n))"
   ]
  },
  {
   "cell_type": "markdown",
   "id": "38f864a5",
   "metadata": {},
   "source": [
    "## 백준 9251 LCS\n",
    "https://www.acmicpc.net/problem/9251  \n",
    "- LCS = Longest Common Subsequence/Substring\n",
    "- 풀이 : https://velog.io/@emplam27/알고리즘-그림으로-알아보는-LCS-알고리즘-Longest-Common-Substring와-Longest-Common-Subsequence"
   ]
  },
  {
   "cell_type": "code",
   "execution_count": null,
   "id": "bf76a61e",
   "metadata": {},
   "outputs": [],
   "source": [
    "str_1 = \" \" + input()\n",
    "str_2 = \" \" + input()\n",
    "n = len(str_1)\n",
    "m = len(str_2)\n",
    "\n",
    "dp = [[0] * m for _ in range(n)]\n",
    "for i in range(1, n) :\n",
    "    for j in range(1, m) :\n",
    "        if str_1[i] == str_2[j] :\n",
    "            dp[i][j] = dp[i-1][j-1] + 1\n",
    "        else :\n",
    "            dp[i][j] = max(dp[i-1][j], dp[i][j-1])\n",
    "\n",
    "print(max(dp[-1]))"
   ]
  },
  {
   "cell_type": "markdown",
   "id": "546a8746",
   "metadata": {},
   "source": [
    "## 백준 5582 공통 부분 문자열\n",
    "https://www.acmicpc.net/problem/5582"
   ]
  },
  {
   "cell_type": "code",
   "execution_count": null,
   "id": "577415ed",
   "metadata": {},
   "outputs": [],
   "source": [
    "# f = open(\"input.txt\")\n",
    "# input = f.readline\n",
    "\n",
    "str_1 = \" \" + input()\n",
    "n = len(str_1)\n",
    "str_2 = \" \" + input()\n",
    "m = len(str_2)\n",
    "\n",
    "dp = [[0] * m for _ in range(n)]\n",
    "max_len = 0\n",
    "for i in range(1, n) :\n",
    "    for j in range(1, m) :\n",
    "        if str_1[i] == str_2[j] :\n",
    "            dp[i][j] = dp[i-1][j-1] + 1\n",
    "            max_len = max(max_len, dp[i][j])\n",
    "            \n",
    "print(max_len)"
   ]
  },
  {
   "cell_type": "markdown",
   "id": "5704d640",
   "metadata": {},
   "source": [
    "## 백준 1958 LCS 3 \n",
    "https://www.acmicpc.net/problem/1958"
   ]
  },
  {
   "cell_type": "code",
   "execution_count": null,
   "id": "8f540a77",
   "metadata": {},
   "outputs": [],
   "source": [
    "# input = open(\"input.txt\").readline\n",
    "\n",
    "s_a = \" \" + input().rstrip()\n",
    "a = len(s_a)\n",
    "s_b = \" \" + input().rstrip()\n",
    "b = len(s_b)\n",
    "s_c = \" \" + input().rstrip()\n",
    "c = len(s_c)\n",
    "dp = [[[0] * c for _ in range(b)] for __ in range(a)]\n",
    "for i in range(1, a) :\n",
    "    for j in range(1, b) :\n",
    "        for k in range(1, c) :\n",
    "            if s_a[i] == s_b[j] == s_c[k] :\n",
    "                dp[i][j][k] = dp[i-1][j-1][k-1] + 1\n",
    "            else :\n",
    "                dp[i][j][k] = max(dp[i-1][j][k], dp[i][j-1][k], dp[i][j][k-1])\n",
    "print(max(map(max, dp[-1])))"
   ]
  },
  {
   "cell_type": "markdown",
   "id": "2bcbcffd",
   "metadata": {},
   "source": [
    "## 백준 17070 파이프 옮기기 1\n",
    "https://www.acmicpc.net/problem/17070\n",
    "- 가로, 세로, 대각에 대한 dp 테이블을 따로 만든다.\n",
    "- 파이프의 앞쪽이 (i, j)에 위치할 때, 파이프의 방향에 따른 방법의 수롤 bottom-up으로 계산한다.\n",
    "- 0번째 row에 벽이 없다면 가로로 이동할 수 있는 방법의 수는 전부 1이고, 벽이 있으면 벽 이후부터는 0\n",
    "- 이외에 벽이 있는 위치에서 방법의 값은 예외처리 해서 계산"
   ]
  },
  {
   "cell_type": "code",
   "execution_count": null,
   "id": "9e421db4",
   "metadata": {},
   "outputs": [],
   "source": [
    "input = open(\"input.txt\").readline\n",
    "\n",
    "n = int(input())\n",
    "graph = [list(map(int, input().split())) for _ in range(n)]\n",
    "\n",
    "hor = [[0] * n for _ in range(n)]\n",
    "for j in range(1, n) :\n",
    "    if graph[0][j] == 0 :\n",
    "        hor[0][j] = 1\n",
    "    else :\n",
    "        break\n",
    "ver = [[0] * (n) for _ in range(n)]\n",
    "dia = [[0] * (n) for _ in range(n)]\n",
    "\n",
    "for i in range(1, n) :\n",
    "    for j in range(1, n) :\n",
    "        if graph[i][j] == 1 :\n",
    "            hor[i][j] = ver[i][j] = 0\n",
    "        else :\n",
    "            hor[i][j] = hor[i][j-1] + dia[i][j-1]\n",
    "            ver[i][j] = ver[i-1][j] + dia[i-1][j]\n",
    "        if graph[i][j] == 1 or graph[i-1][j] == 1 or graph[i][j-1] == 1 :\n",
    "            dia[i][j] = 0\n",
    "        else :\n",
    "            dia[i][j] = dia[i-1][j-1] + hor[i-1][j-1] + ver[i-1][j-1]\n",
    "            \n",
    "print(hor[-1][-1] + ver[-1][-1] + dia[-1][-1])"
   ]
  }
 ],
 "metadata": {
  "kernelspec": {
   "display_name": "Python 3 (ipykernel)",
   "language": "python",
   "name": "python3"
  },
  "language_info": {
   "codemirror_mode": {
    "name": "ipython",
    "version": 3
   },
   "file_extension": ".py",
   "mimetype": "text/x-python",
   "name": "python",
   "nbconvert_exporter": "python",
   "pygments_lexer": "ipython3",
   "version": "3.9.13"
  },
  "toc": {
   "base_numbering": 1,
   "nav_menu": {},
   "number_sections": true,
   "sideBar": true,
   "skip_h1_title": false,
   "title_cell": "Table of Contents",
   "title_sidebar": "Contents",
   "toc_cell": false,
   "toc_position": {
    "height": "calc(100% - 180px)",
    "left": "10px",
    "top": "150px",
    "width": "349.091px"
   },
   "toc_section_display": true,
   "toc_window_display": true
  },
  "varInspector": {
   "cols": {
    "lenName": 16,
    "lenType": 16,
    "lenVar": 40
   },
   "kernels_config": {
    "python": {
     "delete_cmd_postfix": "",
     "delete_cmd_prefix": "del ",
     "library": "var_list.py",
     "varRefreshCmd": "print(var_dic_list())"
    },
    "r": {
     "delete_cmd_postfix": ") ",
     "delete_cmd_prefix": "rm(",
     "library": "var_list.r",
     "varRefreshCmd": "cat(var_dic_list()) "
    }
   },
   "types_to_exclude": [
    "module",
    "function",
    "builtin_function_or_method",
    "instance",
    "_Feature"
   ],
   "window_display": false
  }
 },
 "nbformat": 4,
 "nbformat_minor": 5
}
