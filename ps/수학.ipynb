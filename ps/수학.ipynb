{
 "cells": [
  {
   "cell_type": "markdown",
   "id": "677649e9",
   "metadata": {},
   "source": [
    "# 수학"
   ]
  },
  {
   "cell_type": "markdown",
   "id": "2ead3476",
   "metadata": {},
   "source": [
    "## 프로그래머스 2개 이하로 다른 비트\n",
    "https://school.programmers.co.kr/learn/courses/30/lessons/77885\n",
    "- 이진수로 변환 후 가장 마지막 0의 위치 탐색\n",
    "- 짝수면 마지막 0을 1로 변경 (ex 100 -> 101)\n",
    "- 홀수면 마지막 0을 1로 변경하고 바로 다음 1을 0으로 변경 (ex 100111 -> 101111 -> 101011)"
   ]
  },
  {
   "cell_type": "code",
   "execution_count": null,
   "id": "a806c7f3",
   "metadata": {},
   "outputs": [],
   "source": [
    "def solution(numbers) :\n",
    "    answer = []\n",
    "    for num in numbers :\n",
    "        bin_num = \"0\" + bin(num)[2:]\n",
    "        # rfind : 문자열 오른쪽부터 해당 문자 탐색해 인덱스 반환\n",
    "        idx = bin_num.rfind(\"0\")\n",
    "        bin_list = list(bin_num)\n",
    "        bin_list[idx] = \"1\"\n",
    "        if num % 2 == 1 :\n",
    "            bin_list[idx+1] = \"0\"\n",
    "        answer.append(int(\"\".join(bin_list), 2))\n",
    "    return answer\n",
    "numbers = [2, 7]\n",
    "print(solution(numbers))"
   ]
  },
  {
   "cell_type": "markdown",
   "id": "cd539265",
   "metadata": {
    "ExecuteTime": {
     "end_time": "2023-02-02T01:03:33.260764Z",
     "start_time": "2023-02-02T01:03:33.155014Z"
    }
   },
   "source": [
    "## 정수 n을 k진수로 변환"
   ]
  },
  {
   "cell_type": "code",
   "execution_count": null,
   "id": "e4d6969c",
   "metadata": {},
   "outputs": [],
   "source": [
    "def trans(n, k) :\n",
    "    result = \"\"\n",
    "    while n > 0 :\n",
    "        result += str(n % k)\n",
    "        n = n // k\n",
    "    return \"\".join(reversed(result))"
   ]
  },
  {
   "cell_type": "markdown",
   "id": "d2fa3594",
   "metadata": {},
   "source": [
    "## 백준 1016 제곱 ㄴㄴ 수\n",
    "https://www.acmicpc.net/problem/1016\n",
    "- 전체 범위로 리스트를 만들면 메모리 초과\n",
    "- 최소 최대 범위에서만 리스트 생성\n",
    "- a == b 라고 해서 답이 1은 아님"
   ]
  },
  {
   "cell_type": "code",
   "execution_count": null,
   "id": "0e90834d",
   "metadata": {},
   "outputs": [],
   "source": [
    "input = open(\"input.txt\").readline\n",
    "\n",
    "a, b = map(int, input().split())\n",
    "\n",
    "sqrt_b = int(b ** (1/2))\n",
    "sqrs = [i * i for i in range(2, sqrt_b + 1)]\n",
    "check = [1] * (b - a + 1)\n",
    "for sqr in sqrs :\n",
    "    start = a + (sqr - a % sqr) % sqr\n",
    "    for i in range(start, b + 1, sqr) :\n",
    "        check[i - a] = 0\n",
    "print(sum(check))"
   ]
  }
 ],
 "metadata": {
  "kernelspec": {
   "display_name": "Python 3 (ipykernel)",
   "language": "python",
   "name": "python3"
  },
  "language_info": {
   "codemirror_mode": {
    "name": "ipython",
    "version": 3
   },
   "file_extension": ".py",
   "mimetype": "text/x-python",
   "name": "python",
   "nbconvert_exporter": "python",
   "pygments_lexer": "ipython3",
   "version": "3.9.13"
  },
  "toc": {
   "base_numbering": 1,
   "nav_menu": {},
   "number_sections": true,
   "sideBar": true,
   "skip_h1_title": false,
   "title_cell": "Table of Contents",
   "title_sidebar": "Contents",
   "toc_cell": false,
   "toc_position": {},
   "toc_section_display": true,
   "toc_window_display": true
  },
  "varInspector": {
   "cols": {
    "lenName": 16,
    "lenType": 16,
    "lenVar": 40
   },
   "kernels_config": {
    "python": {
     "delete_cmd_postfix": "",
     "delete_cmd_prefix": "del ",
     "library": "var_list.py",
     "varRefreshCmd": "print(var_dic_list())"
    },
    "r": {
     "delete_cmd_postfix": ") ",
     "delete_cmd_prefix": "rm(",
     "library": "var_list.r",
     "varRefreshCmd": "cat(var_dic_list()) "
    }
   },
   "types_to_exclude": [
    "module",
    "function",
    "builtin_function_or_method",
    "instance",
    "_Feature"
   ],
   "window_display": false
  }
 },
 "nbformat": 4,
 "nbformat_minor": 5
}
