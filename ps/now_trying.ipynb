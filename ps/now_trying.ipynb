{
 "cells": [
  {
   "cell_type": "code",
   "execution_count": 2,
   "id": "1362ff1f",
   "metadata": {
    "ExecuteTime": {
     "end_time": "2023-03-14T12:54:35.765910Z",
     "start_time": "2023-03-14T12:54:35.751539Z"
    }
   },
   "outputs": [
    {
     "name": "stdout",
     "output_type": "stream",
     "text": [
      "Yes\n"
     ]
    }
   ],
   "source": [
    "# 전설 https://www.acmicpc.net/problem/19585\n",
    "input = open(\"input.txt\").readline\n",
    "\n",
    "c, n = map(int, input().split())\n",
    "set_c = set()\n",
    "set_n = set()\n",
    "for _ in range(c) :\n",
    "    set_c.add(input().rstrip())\n",
    "for _ in range(n) :\n",
    "    set_n.add(input().rstrip())\n",
    "    \n",
    "q = int(input())\n",
    "for _ in range(q) :\n",
    "    team = input().rstrip()\n",
    "    l = len(team)\n",
    "    answer = \"No\"\n",
    "    for i in range(max(1, l - 1000), min(1001, l)) :\n",
    "        if team[:i] in set_c and team[i:] in set_n :\n",
    "            answer = \"Yes\"\n",
    "            break\n",
    "    print(answer)"
   ]
  },
  {
   "cell_type": "code",
   "execution_count": 4,
   "id": "a20c6658",
   "metadata": {
    "ExecuteTime": {
     "end_time": "2023-03-14T12:24:00.555587Z",
     "start_time": "2023-03-14T12:24:00.534398Z"
    },
    "scrolled": true
   },
   "outputs": [
    {
     "name": "stdout",
     "output_type": "stream",
     "text": [
      "Yes\n",
      "Yes\n",
      "Yes\n",
      "Yes\n",
      "No\n"
     ]
    }
   ],
   "source": [
    "c, n = map(int, input().split())\n",
    "tree_c = dict()\n",
    "set_n = set()\n",
    "\n",
    "def insert(tree, word) :\n",
    "    cur = tree\n",
    "    for char in word :\n",
    "        if char not in cur :\n",
    "            cur[char] = dict()\n",
    "        cur = cur[char]\n",
    "    cur[\"*\"] = len(word)\n",
    "    \n",
    "def startswith(tree, word) :\n",
    "    cur = tree\n",
    "    for char in word :\n",
    "        if char not in cur :\n",
    "            return False\n",
    "        cur = cur[char]\n",
    "        if \"*\" in cur :\n",
    "            idx = cur['*']\n",
    "            if word[idx:] in set_n :\n",
    "                return True\n",
    "    \n",
    "for _ in range(c) :\n",
    "    color = input().rstrip()\n",
    "    cur = tree_c\n",
    "    insert(tree_c, color)\n",
    "for _ in range(n) :\n",
    "    name = input().rstrip()\n",
    "    set_n.add(name)\n",
    "\n",
    "q = int(input())\n",
    "for _ in range(q) :\n",
    "    team = input().rstrip()\n",
    "    if startswith(tree_c, team) :\n",
    "        print(\"Yes\")\n",
    "    else :\n",
    "        print(\"No\")\n",
    "        "
   ]
  },
  {
   "cell_type": "code",
   "execution_count": 14,
   "id": "985d283c",
   "metadata": {
    "ExecuteTime": {
     "end_time": "2023-03-14T00:52:45.857001Z",
     "start_time": "2023-03-14T00:52:45.845222Z"
    }
   },
   "outputs": [
    {
     "data": {
      "text/plain": [
       "True"
      ]
     },
     "execution_count": 14,
     "metadata": {},
     "output_type": "execute_result"
    }
   ],
   "source": [
    "x = {\"o\" : {\"*\" : \"\"}}\n",
    "x[\"o\"] == {\"*\" : \"\"}"
   ]
  },
  {
   "cell_type": "code",
   "execution_count": 15,
   "id": "13254c3b",
   "metadata": {
    "ExecuteTime": {
     "end_time": "2023-03-14T00:52:46.088128Z",
     "start_time": "2023-03-14T00:52:46.076335Z"
    }
   },
   "outputs": [
    {
     "data": {
      "text/plain": [
       "'d'"
      ]
     },
     "execution_count": 15,
     "metadata": {},
     "output_type": "execute_result"
    }
   ],
   "source": [
    "x = {'a' : {\"b\" : \"d\"}}\n",
    "x['a']['b']"
   ]
  },
  {
   "cell_type": "code",
   "execution_count": null,
   "id": "4bebbd21",
   "metadata": {},
   "outputs": [],
   "source": []
  }
 ],
 "metadata": {
  "kernelspec": {
   "display_name": "Python 3 (ipykernel)",
   "language": "python",
   "name": "python3"
  },
  "language_info": {
   "codemirror_mode": {
    "name": "ipython",
    "version": 3
   },
   "file_extension": ".py",
   "mimetype": "text/x-python",
   "name": "python",
   "nbconvert_exporter": "python",
   "pygments_lexer": "ipython3",
   "version": "3.9.13"
  },
  "toc": {
   "base_numbering": 1,
   "nav_menu": {},
   "number_sections": true,
   "sideBar": true,
   "skip_h1_title": false,
   "title_cell": "Table of Contents",
   "title_sidebar": "Contents",
   "toc_cell": false,
   "toc_position": {},
   "toc_section_display": true,
   "toc_window_display": false
  },
  "varInspector": {
   "cols": {
    "lenName": 16,
    "lenType": 16,
    "lenVar": 40
   },
   "kernels_config": {
    "python": {
     "delete_cmd_postfix": "",
     "delete_cmd_prefix": "del ",
     "library": "var_list.py",
     "varRefreshCmd": "print(var_dic_list())"
    },
    "r": {
     "delete_cmd_postfix": ") ",
     "delete_cmd_prefix": "rm(",
     "library": "var_list.r",
     "varRefreshCmd": "cat(var_dic_list()) "
    }
   },
   "types_to_exclude": [
    "module",
    "function",
    "builtin_function_or_method",
    "instance",
    "_Feature"
   ],
   "window_display": false
  },
  "vscode": {
   "interpreter": {
    "hash": "dfacda2fdeeaacdd740fe5c66c89c97705c9508b64028ea0dce702e0ae9956cd"
   }
  }
 },
 "nbformat": 4,
 "nbformat_minor": 5
}
