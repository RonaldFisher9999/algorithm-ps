{
 "cells": [
  {
   "cell_type": "markdown",
   "id": "4c59e286",
   "metadata": {},
   "source": [
    "# 해시 (집합, 딕셔너리)"
   ]
  },
  {
   "cell_type": "markdown",
   "id": "15c920b1",
   "metadata": {},
   "source": [
    "## 백준 9375 패션왕 신해빈\n",
    "https://www.acmicpc.net/problem/9375"
   ]
  },
  {
   "cell_type": "code",
   "execution_count": null,
   "id": "892aceb3",
   "metadata": {},
   "outputs": [],
   "source": [
    "from collections import defaultdict\n",
    "\n",
    "t = int(input())\n",
    "sols = []\n",
    "for _ in range(t) :\n",
    "    clothes = defaultdict(lambda : 1)\n",
    "    n = int(input())\n",
    "    for i in range(n) :\n",
    "        name, clo_type = input().split()\n",
    "        clothes[clo_type] += 1\n",
    "    mult = 1\n",
    "    for counts in clothes.values() :\n",
    "        mult *= counts\n",
    "    sols.append(mult - 1)\n",
    "\n",
    "print(*sols, sep=\"\\n\")"
   ]
  },
  {
   "cell_type": "markdown",
   "id": "143a6798",
   "metadata": {},
   "source": [
    "## 백준 1764 듣보잡\n",
    "https://www.acmicpc.net/problem/1764"
   ]
  },
  {
   "cell_type": "code",
   "execution_count": null,
   "id": "83bfa1d4",
   "metadata": {},
   "outputs": [],
   "source": [
    "n, m = map(int, input().split())\n",
    "heard = set()\n",
    "seen = set()\n",
    "for _ in range(n) :\n",
    "    heard.add(input())\n",
    "for _ in range(m) :\n",
    "    seen.add(input())\n",
    "\n",
    "heard_seen = sorted(heard & seen)\n",
    "print(len(heard_seen))\n",
    "print(*heard_seen, sep=\"\\n\")"
   ]
  },
  {
   "cell_type": "markdown",
   "id": "da4ed025",
   "metadata": {},
   "source": [
    "## 프로그래머스 롤케이크 자르기\n",
    "https://school.programmers.co.kr/learn/courses/30/lessons/132265\n",
    "- 인덱스마다 앞뒤로 쪼개서 집합의 길이 비교하면 시간 초과\n",
    "- 전체 topping을 대상으로 Counter를 적용한 top_1 셋팅\n",
    "- 앞에서부터 하나씩 집합 top_2에 추가하면서 top_1의 길이와 top_2의 길이 비교"
   ]
  },
  {
   "cell_type": "code",
   "execution_count": null,
   "id": "15d1ac03",
   "metadata": {},
   "outputs": [],
   "source": [
    "from collections import Counter\n",
    "def solution(topping) :\n",
    "    answer = 0\n",
    "    top_1 = Counter(topping)\n",
    "    top_2 = set()\n",
    "    for i in range(len(topping)) :크\n",
    "        top = topping[i]\n",
    "        top_2.add(top)\n",
    "        top_1[top] -= 1\n",
    "        if top_1[top] == 0 :\n",
    "            # 딕셔너리에서 특정 키 제거. del dict[key] 도 가능\n",
    "            top_1.pop(top)\n",
    "        if len(top_1) == len(top_2) :\n",
    "            answer += 1                         \n",
    "    return answer\n",
    "\n",
    "topping = [1, 2, 1, 3, 1, 4, 1, 2]\n",
    "print(solution(topping))"
   ]
  }
 ],
 "metadata": {
  "kernelspec": {
   "display_name": "Python 3 (ipykernel)",
   "language": "python",
   "name": "python3"
  },
  "language_info": {
   "codemirror_mode": {
    "name": "ipython",
    "version": 3
   },
   "file_extension": ".py",
   "mimetype": "text/x-python",
   "name": "python",
   "nbconvert_exporter": "python",
   "pygments_lexer": "ipython3",
   "version": "3.9.13"
  },
  "toc": {
   "base_numbering": 1,
   "nav_menu": {},
   "number_sections": true,
   "sideBar": true,
   "skip_h1_title": false,
   "title_cell": "Table of Contents",
   "title_sidebar": "Contents",
   "toc_cell": false,
   "toc_position": {},
   "toc_section_display": true,
   "toc_window_display": false
  },
  "varInspector": {
   "cols": {
    "lenName": 16,
    "lenType": 16,
    "lenVar": 40
   },
   "kernels_config": {
    "python": {
     "delete_cmd_postfix": "",
     "delete_cmd_prefix": "del ",
     "library": "var_list.py",
     "varRefreshCmd": "print(var_dic_list())"
    },
    "r": {
     "delete_cmd_postfix": ") ",
     "delete_cmd_prefix": "rm(",
     "library": "var_list.r",
     "varRefreshCmd": "cat(var_dic_list()) "
    }
   },
   "types_to_exclude": [
    "module",
    "function",
    "builtin_function_or_method",
    "instance",
    "_Feature"
   ],
   "window_display": false
  }
 },
 "nbformat": 4,
 "nbformat_minor": 5
}
