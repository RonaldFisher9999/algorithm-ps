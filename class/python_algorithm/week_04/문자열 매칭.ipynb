{
 "cells": [
  {
   "cell_type": "markdown",
   "id": "ce0fd654",
   "metadata": {},
   "source": [
    "# 문자열 매칭"
   ]
  },
  {
   "cell_type": "markdown",
   "id": "5fb95f78",
   "metadata": {},
   "source": [
    "## Brutal Force"
   ]
  },
  {
   "cell_type": "markdown",
   "id": "edaa2c6e",
   "metadata": {},
   "source": [
    "## KMP\n",
    "- https://blog.encrypted.gg/1040\n",
    "- 실패 함수\n",
    "    - 패턴 문자열의 길이만큼 리스트 생성\n",
    "    - `F(i)` : i번째 인덱스까지의 문자열(= `S[:i+1]`)에서 접두사와 접미사가 일치하는 최대 길이(자기 자신 제외)\n",
    "    - `F(i)`를 구하기 위해서는 `j = F(i-1)`을 가져오고 `S[i]`과 `S[j]`만 비교하면 됨\n",
    "        - 일치하면 `F(i) = F(i-1) + 1`\n",
    "        \n",
    "    <img align=\"left\" src = \"https://img1.daumcdn.net/thumb/R1280x0/?scode=mtistory2&fname=https%3A%2F%2Fblog.kakaocdn.net%2Fdn%2FcezMow%2FbtrIyZeek6B%2FCZ8kKjIGH7QzhoMrDMWQOk%2Fimg.png\"\n",
    "     width = \"50%\" height = \"50%\">\n",
    "     <br>\n",
    "     <br>\n",
    "     <br>\n",
    "     <br>\n",
    "     <br>\n",
    "     <br>\n",
    "     <br>\n",
    "     <br>\n",
    "     <br>\n",
    "     <br>\n",
    "     <br>\n",
    "     <br>\n",
    "     <br>\n",
    "     <br>\n",
    "     <br>\n",
    "     \n",
    "    - `S[i]` 와 `S[j]`가 일치하지 않는 경우\n",
    "        - 그러면 다시 접두사와 접미사가 일치하는 최대 길이를 찾아야 하는데\n",
    "        - 이를 초록색 영역으로 표시하면 이 길이는 `F(j-1)`(j-1인덱스 포함하는 문자열까지)이 된다.\n",
    "        - 따라서 j를 `F(j-1)`로 이동해 `S[F(j-1)]`과 `S[i]`를 비교\n",
    "        - 일치할때까지 비교 반복\n",
    "    \n",
    "    <img align=\"left\" src = \"https://img1.daumcdn.net/thumb/R1280x0/?scode=mtistory2&fname=https%3A%2F%2Fblog.kakaocdn.net%2Fdn%2FJnPHq%2FbtrIGxNOdwz%2F8g0ARjj5hIskwjxKgPvDa0%2Fimg.png\"\n",
    "     width = \"50%\" height = \"50%\">\n",
    "     <br>\n",
    "     <br>\n",
    "     <br>\n",
    "     <br>\n",
    "     <br>\n",
    "     <br>\n",
    "     <br>\n",
    "     <br>\n",
    "     <br>\n",
    "     <br>\n",
    "     <br>\n",
    "     <br>\n",
    "     <br>\n",
    "     <img align=\"left\" src = \"https://img1.daumcdn.net/thumb/R1280x0/?scode=mtistory2&fname=https%3A%2F%2Fblog.kakaocdn.net%2Fdn%2FbENJOx%2FbtrIyZyAjYt%2FkTQolWAn4ByMYwso2t0k1k%2Fimg.png\"\n",
    "     width = \"50%\" height = \"50%\">\n",
    "    "
   ]
  },
  {
   "cell_type": "code",
   "execution_count": 1,
   "id": "2be05da7",
   "metadata": {
    "ExecuteTime": {
     "end_time": "2023-02-09T05:39:26.983864Z",
     "start_time": "2023-02-09T05:39:26.960270Z"
    }
   },
   "outputs": [
    {
     "name": "stdout",
     "output_type": "stream",
     "text": [
      "[0, 0, 1, 2, 0, 1, 2, 3, 4, 3]\n"
     ]
    }
   ],
   "source": [
    "# lps 배열 셋팅\n",
    "def set_lps(p) :\n",
    "    lps = [0] * len(p)\n",
    "    j = 0\n",
    "    i = 1\n",
    "    while i < len(p) :\n",
    "        # 일치\n",
    "        if p[j] == p[i] :\n",
    "            j += 1\n",
    "            lps[i] = j\n",
    "            i += 1\n",
    "        # 불일치\n",
    "        else :\n",
    "            if j == 0 :\n",
    "                lps[i] = 0\n",
    "                i += 1\n",
    "            else :\n",
    "                j = lps[j - 1]\n",
    "    return lps\n",
    "\n",
    "p = 'ababcababa'\n",
    "lps = set_lps(p)\n",
    "print(lps)"
   ]
  },
  {
   "cell_type": "markdown",
   "id": "4e851822",
   "metadata": {},
   "source": [
    "- 원본 문자열과 패턴 문자열 비교\n",
    "    - 원본 문자열 인덱스 : i, 패턴 문자열 인덱스 : j\n",
    "    - 인덱스를 하나씩 늘려가면서 비교\n",
    "    - 불일치시 `lps[j-1]` 확인\n",
    "        - 여기서 비교 위치를 `i = 1, j = 0` 로 옮기면 brute force 탐색과 같음\n",
    "        \n",
    "    <img align=\"left\" src = \"https://img1.daumcdn.net/thumb/R1280x0/?scode=mtistory2&fname=https%3A%2F%2Fblog.kakaocdn.net%2Fdn%2FnT1b7%2FbtrIEYSscH8%2FhemNgneZNw5sOO3VdUMXtK%2Fimg.png\"\n",
    "     width = \"50%\" height = \"50%\">\n",
    "     <br>\n",
    "     <br>\n",
    "     <br>\n",
    "     <br>\n",
    "     <br>\n",
    "     <br>\n",
    "     <br>\n",
    "     <br>\n",
    "     <br>\n",
    "     <br>\n",
    "     <br>\n",
    "     <br>\n",
    "     <br>\n",
    "     \n",
    "     - 대신 i는 그대로 두고 `j = lps[j-1]`로 이동해서 비교 계속\n",
    "     \n",
    "     <img align=\"left\" src = \"https://img1.daumcdn.net/thumb/R1280x0/?scode=mtistory2&fname=https%3A%2F%2Fblog.kakaocdn.net%2Fdn%2Fn4gB8%2FbtrIBUQNEW6%2FOL7ECBccfwK9beKGkB2sf0%2Fimg.png\"\n",
    "     width = \"50%\" height = \"50%\">"
   ]
  },
  {
   "cell_type": "code",
   "execution_count": 15,
   "id": "99cbb695",
   "metadata": {
    "ExecuteTime": {
     "end_time": "2023-02-09T06:14:37.411215Z",
     "start_time": "2023-02-09T06:14:37.401229Z"
    },
    "scrolled": true
   },
   "outputs": [
    {
     "name": "stdout",
     "output_type": "stream",
     "text": [
      "[0, 0, 1, 2, 0, 1, 2, 3, 4, 3]\n",
      "3\n",
      "24\n"
     ]
    }
   ],
   "source": [
    "def kmp(t, p) :\n",
    "    i = 0\n",
    "    j = 0\n",
    "    while i < len(t) :\n",
    "        if t[i] == p[j] :\n",
    "            i += 1\n",
    "            j += 1\n",
    "        else :\n",
    "            if j == 0 :\n",
    "                i += 1\n",
    "            else :\n",
    "                j = lps[j-1]\n",
    "        if j == len(p) :\n",
    "            # i번째 인덱스 전까지 p와 일치\n",
    "            # print(t[i-len(p):i])\n",
    "            print(i - len(p))\n",
    "            j = lps[j-1]\n",
    "            \n",
    "t = 'xxxababcababaxxababcabxxababcababax'\n",
    "p = 'ababcababa'\n",
    "lps = set_lps(p)\n",
    "print(lps)\n",
    "kmp(t, p)"
   ]
  }
 ],
 "metadata": {
  "kernelspec": {
   "display_name": "Python 3 (ipykernel)",
   "language": "python",
   "name": "python3"
  },
  "language_info": {
   "codemirror_mode": {
    "name": "ipython",
    "version": 3
   },
   "file_extension": ".py",
   "mimetype": "text/x-python",
   "name": "python",
   "nbconvert_exporter": "python",
   "pygments_lexer": "ipython3",
   "version": "3.9.13"
  },
  "toc": {
   "base_numbering": 1,
   "nav_menu": {},
   "number_sections": true,
   "sideBar": true,
   "skip_h1_title": false,
   "title_cell": "Table of Contents",
   "title_sidebar": "Contents",
   "toc_cell": false,
   "toc_position": {},
   "toc_section_display": true,
   "toc_window_display": true
  },
  "varInspector": {
   "cols": {
    "lenName": 16,
    "lenType": 16,
    "lenVar": 40
   },
   "kernels_config": {
    "python": {
     "delete_cmd_postfix": "",
     "delete_cmd_prefix": "del ",
     "library": "var_list.py",
     "varRefreshCmd": "print(var_dic_list())"
    },
    "r": {
     "delete_cmd_postfix": ") ",
     "delete_cmd_prefix": "rm(",
     "library": "var_list.r",
     "varRefreshCmd": "cat(var_dic_list()) "
    }
   },
   "types_to_exclude": [
    "module",
    "function",
    "builtin_function_or_method",
    "instance",
    "_Feature"
   ],
   "window_display": false
  }
 },
 "nbformat": 4,
 "nbformat_minor": 5
}
