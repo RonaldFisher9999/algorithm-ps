{
 "cells": [
  {
   "cell_type": "markdown",
   "id": "93ae7b99",
   "metadata": {},
   "source": [
    "# 재귀와 백트래킹"
   ]
  },
  {
   "cell_type": "markdown",
   "id": "05d104d0",
   "metadata": {
    "ExecuteTime": {
     "end_time": "2023-02-02T00:47:05.105225Z",
     "start_time": "2023-02-02T00:47:05.099198Z"
    }
   },
   "source": [
    "## 백준 15649 N과 M (1)\n",
    "https://www.acmicpc.net/problem/15649\n",
    "- 순열"
   ]
  },
  {
   "cell_type": "code",
   "execution_count": null,
   "id": "60597892",
   "metadata": {},
   "outputs": [],
   "source": [
    "n = int(input())\n",
    "array = []\n",
    "visited = [False] * (n + 1)\n",
    "cnt = 0\n",
    "def perm(n) :\n",
    "    global cnt\n",
    "    if len(array) == n :\n",
    "        cnt += 1\n",
    "        print(cnt, array)\n",
    "        return\n",
    "    else :\n",
    "        for i in range(1, n + 1) :\n",
    "            if not visited[i] :\n",
    "                visited[i] = True\n",
    "                array.append(i)\n",
    "                perm(n)\n",
    "                array.pop()\n",
    "                visited[i] = False\n",
    "perm(n)"
   ]
  },
  {
   "cell_type": "markdown",
   "id": "950be3c5",
   "metadata": {
    "ExecuteTime": {
     "end_time": "2023-02-02T00:49:44.880079Z",
     "start_time": "2023-02-02T00:49:44.875048Z"
    }
   },
   "source": [
    "## 백준 11729 하노이 탑 이동 순서\n",
    "https://www.acmicpc.net/problem/11729"
   ]
  },
  {
   "cell_type": "code",
   "execution_count": null,
   "id": "16d63a41",
   "metadata": {},
   "outputs": [],
   "source": [
    "def hanoi(n, start, end, mid) :\n",
    "    if n == 1 :\n",
    "        print(start, end)\n",
    "        return\n",
    "    else :\n",
    "        hanoi(n - 1, start, mid, end)\n",
    "        print(start, end)\n",
    "        hanoi(n - 1, mid, end, start)\n",
    "\n",
    "n = int(input())\n",
    "print(2 ** n - 1)\n",
    "hanoi(n, 1, 3, 2)"
   ]
  },
  {
   "cell_type": "markdown",
   "id": "d5570589",
   "metadata": {
    "ExecuteTime": {
     "end_time": "2023-03-20T12:17:38.210146Z",
     "start_time": "2023-03-20T12:17:38.186990Z"
    }
   },
   "source": [
    "- 비재귀 스택 풀이"
   ]
  },
  {
   "cell_type": "code",
   "execution_count": 4,
   "id": "d1c7fbd7",
   "metadata": {
    "ExecuteTime": {
     "end_time": "2023-03-20T12:18:21.221325Z",
     "start_time": "2023-03-20T12:18:20.831824Z"
    }
   },
   "outputs": [
    {
     "name": "stdout",
     "output_type": "stream",
     "text": [
      "3\n",
      "7\n",
      "1 3\n",
      "1 2\n",
      "3 2\n",
      "1 3\n",
      "2 1\n",
      "2 3\n",
      "1 3\n"
     ]
    }
   ],
   "source": [
    "def hanoi(n):\n",
    "    stack = [(n, 1, 3, 2)]\n",
    "    while stack:\n",
    "        n, start, end, mid = stack.pop()\n",
    "        if n == 1:\n",
    "            print(start, end)\n",
    "        else:\n",
    "            stack.append((n-1, mid, end, start))\n",
    "            stack.append((1, start, end, mid))\n",
    "            stack.append((n-1, start, mid, end))\n",
    "            \n",
    "n = int(input())\n",
    "print(2**n - 1)\n",
    "hanoi(n)"
   ]
  },
  {
   "cell_type": "markdown",
   "id": "6e1f9dcd",
   "metadata": {},
   "source": [
    "## 백준 2630 색종이 만들기\n",
    "https://www.acmicpc.net/problem/2630"
   ]
  },
  {
   "cell_type": "code",
   "execution_count": null,
   "id": "edaf6a6f",
   "metadata": {},
   "outputs": [],
   "source": [
    "n = int(input())\n",
    "graph = [list(map(int, input().split())) for _ in range(n)]\n",
    "# graph = [[1, 1, 0, 0, 0, 0, 1, 1],\n",
    "#          [1, 1, 0, 0, 0, 0, 1, 1],\n",
    "#          [0, 0, 0, 0, 1, 1, 0, 0],\n",
    "#          [0, 0, 0, 0, 1, 1, 0, 0],\n",
    "#          [1, 0, 0, 0, 1, 1, 1, 1],\n",
    "#          [0, 1, 0, 0, 1, 1, 1, 1],\n",
    "#          [0, 0, 1, 1, 1, 1, 1, 1],\n",
    "#          [0, 0, 1, 1, 1, 1, 1, 1]]\n",
    "\n",
    "w, b = 0, 0\n",
    "def recurs(graph, n) :\n",
    "    global w, b\n",
    "    if sum([sum(i) for i in graph]) == 0 :\n",
    "        w += 1\n",
    "        return\n",
    "    if sum([sum(i) for i in graph]) == n ** 2 :\n",
    "        b += 1\n",
    "        return\n",
    "    else :\n",
    "        n_2 = n // 2\n",
    "        recurs([i[:n_2] for i in graph][:n_2], n_2)\n",
    "        recurs([i[:n_2] for i in graph][n_2:], n_2)\n",
    "        recurs([i[n_2:] for i in graph][:n_2], n_2)\n",
    "        recurs([i[n_2:] for i in graph][n_2:], n_2)\n",
    "\n",
    "recurs(graph, n)\n",
    "print(w)\n",
    "print(b)"
   ]
  },
  {
   "cell_type": "markdown",
   "id": "cf9a373a",
   "metadata": {},
   "source": [
    "## 프로그래머스 쿼드압축 후 개수 세기\n",
    "https://school.programmers.co.kr/learn/courses/30/lessons/68936\n",
    "- 문제 구조는 백준 2630과 동일"
   ]
  },
  {
   "cell_type": "code",
   "execution_count": null,
   "id": "1dd937d9",
   "metadata": {},
   "outputs": [],
   "source": [
    "def solution(arr) :\n",
    "    answer = [0, 0]\n",
    "    n = len(arr)\n",
    "    # 탐색 시작점 (x, y)와 탐색범위 l 지정\n",
    "    def btr(x, y, l) :\n",
    "        start = arr[x][y]\n",
    "        for i in range(x, x + l) :\n",
    "            for j in range(y, y + l) :\n",
    "                # 시작점과 다른 값이 있으면 4분할 해서 탐색\n",
    "                # 그에 따른 시작점과 탐색범위 재지정\n",
    "                if arr[i][j] != start :\n",
    "                    btr(x, y, l//2)\n",
    "                    btr(x + l//2, y, l//2)\n",
    "                    btr(x, y + l//2, l//2)\n",
    "                    btr(x + l//2, y + l//2, l//2)\n",
    "                    return\n",
    "        # 시작점과 모두 같으면 +1\n",
    "        answer[start] += 1\n",
    "    \n",
    "    btr(0, 0, n)\n",
    "    return answer\n",
    "arr = [[1,1,1,1,1,1,1,1],\n",
    "       [0,1,1,1,1,1,1,1],\n",
    "       [0,0,0,0,1,1,1,1],\n",
    "       [0,1,0,0,1,1,1,1],\n",
    "       [0,0,0,0,0,0,1,1],\n",
    "       [0,0,0,0,0,0,0,1],\n",
    "       [0,0,0,0,1,0,0,1],\n",
    "       [0,0,0,0,1,1,1,1]]\n",
    "print(solution(arr))"
   ]
  },
  {
   "cell_type": "markdown",
   "id": "a0d30b7d",
   "metadata": {},
   "source": [
    "## 백준 1780 종이의 개수\n",
    "https://www.acmicpc.net/problem/1780"
   ]
  },
  {
   "cell_type": "code",
   "execution_count": null,
   "id": "5e7a7331",
   "metadata": {},
   "outputs": [],
   "source": [
    "n = int(input())\n",
    "graph = [list(map(int, input().split())) for _ in range(n)]\n",
    "# graph = [[0, 0, 0, 1, 1, 1, -1, -1, -1],\n",
    "#          [0, 0, 0, 1, 1, 1, -1, -1, -1],\n",
    "#          [0, 0, 0, 1, 1, 1, -1, -1, -1],\n",
    "#          [1, 1, 1, 0, 0, 0, 0, 0, 0],\n",
    "#          [1, 1, 1, 0, 0, 0, 0, 0, 0],\n",
    "#          [1, 1, 1, 0, 0, 0, 0, 0, 0],\n",
    "#          [0, 1, -1, 0, 1, -1, 0, 1, -1],\n",
    "#          [0, -1, 1, 0, 1, -1, 0, 1, -1],\n",
    "#          [0, 1, -1, 1, 0, -1, 0, 1, -1]]\n",
    "\n",
    "cnt__1, cnt_0, cnt_1 = 0, 0, 0\n",
    "def back_track(graph, n) :\n",
    "    global cnt__1, cnt_0, cnt_1\n",
    "    n_sq = n ** 2\n",
    "    sum_graph = sum([sum(row) for row in graph])\n",
    "    if sum_graph == n_sq :\n",
    "        cnt_1 += 1\n",
    "        return\n",
    "    elif sum_graph == -n_sq :\n",
    "        cnt__1 += 1\n",
    "        return\n",
    "    elif graph == [[0] * n for _ in range(n)] :\n",
    "        cnt_0 += 1\n",
    "        return\n",
    "    else :\n",
    "        n_d3 = n // 3\n",
    "        for i in range(3) :\n",
    "            for j in range(3) :\n",
    "                back_track([row[i * n_d3 : (i + 1) * n_d3] for row in graph][j * n_d3 : (j + 1) * n_d3], n_d3)\n",
    "\n",
    "back_track(graph, n)                           \n",
    "print(cnt__1)\n",
    "print(cnt_0)\n",
    "print(cnt_1)"
   ]
  },
  {
   "cell_type": "markdown",
   "id": "1ab7a615",
   "metadata": {},
   "source": [
    "## 백준 9663 N-Queen\n",
    "https://www.acmicpc.net/problem/9663"
   ]
  },
  {
   "cell_type": "code",
   "execution_count": null,
   "id": "c0abb4b2",
   "metadata": {},
   "outputs": [],
   "source": [
    "n = int(input())\n",
    "# row[x] = i : x번째 행의 i번째 열에 퀸이 있음\n",
    "row = [0] * n\n",
    "# 전체 체스판에서 해당 index의 열에 퀸이 있으면 True, 없으면 False\n",
    "visited = [False] * n\n",
    "cnt = 0\n",
    "# x번째 행에 놓인 퀸이 조건을 만족하는지 탐색. 만족하면 True, 아니면 False\n",
    "def check(x) :\n",
    "    # 이전 row들과 비교해서 탐색. visited로 애초에 다른 열에 배치했으므로 대각선만 체크\n",
    "    for i in range(x) :\n",
    "        if abs(i - x) == abs(row[i] - row[x]) :\n",
    "            return False\n",
    "    return True\n",
    "\n",
    "# x : 현재 탐색하고 있는 행 index\n",
    "def nqueen(x) :\n",
    "    global cnt\n",
    "    # 마지막 행까지 퀸 놓았으면 cnt에 1 더하고 return\n",
    "    if x == n :\n",
    "        cnt += 1\n",
    "        return\n",
    "    else :\n",
    "        for i in range(n) :\n",
    "            # 전체 열 범위에서 아직 놓지 않은 열이 있으면 x행, i열에 퀸 놓음\n",
    "            if not visited[i] :\n",
    "                row[x] = i\n",
    "                # x행 i열에 퀸 놓는게 가능하면\n",
    "                if check(x) :\n",
    "                    # i열 방문 처리하고\n",
    "                    visited[i] = True\n",
    "                    # x+1행에서 탐색\n",
    "                    nqueen(x + 1)\n",
    "                    # 탐색 끝나면 i열 방문 처리 해제하고 다음 열 탐색\n",
    "                    visited[i] = False\n",
    "\n",
    "nqueen(0)\n",
    "print(cnt)"
   ]
  },
  {
   "cell_type": "markdown",
   "id": "bbb55be4",
   "metadata": {},
   "source": [
    "## 백준 10971 외판원 순회 2\n",
    "https://www.acmicpc.net/problem/10971"
   ]
  },
  {
   "cell_type": "code",
   "execution_count": null,
   "id": "6d7b1b75",
   "metadata": {},
   "outputs": [],
   "source": [
    "n = int(input())\n",
    "graph = [list(map(int, input().split())) for _ in range(n)]b\n",
    "\n",
    "min_cost = int(1e9)\n",
    "visited = [False] * n\n",
    "\n",
    "# now : 현재 방문 중인 도시, now_cost : 지금까지 비용, visits_cnt : 지금까지 방문한 도시 수\n",
    "def back_track(now, now_cost, visits_cnt) :\n",
    "    global min_cost\n",
    "    # 지금까지 비용이 최소 비용보다 크면 더 이상 탐색 X\n",
    "    if now_cost >= min_cost :\n",
    "        return\n",
    "    # 모든 도시 다 방문하면\n",
    "    if visits_cnt == n :\n",
    "        # 처음 시작한 도시로 돌아가야 함\n",
    "        if graph[now][start] != 0 :\n",
    "            min_cost = min(min_cost, now_cost + graph[now][start])\n",
    "        return\n",
    "    \n",
    "    for i in range(n) :\n",
    "        # 방문하지 않은 도시 i에 대해 현재 도시로부터 길이 있으면 방문\n",
    "        if visited[i] == False and graph[now][i] != 0 :\n",
    "            visited[i] = True\n",
    "            back_track(i, now_cost + graph[now][i], visits_cnt + 1)\n",
    "            visited[i] = False\n",
    "            \n",
    "\n",
    "# 순회할 수 있는 길이 있으면 어디서 시작해도 상관없음 -> 따라서 모든 시작점을 테스트할 필요 없음\n",
    "# 시작점이 0인 경우만 고려\n",
    "visited[0] = True\n",
    "start = 0\n",
    "back_track(0, 0, 1)\n",
    "'''\n",
    "# 모든 도시를 시작점으로 한번씩 지정\n",
    "for i in range(n) :\n",
    "    visited[i] = True\n",
    "    start = i\n",
    "    back_track(i, 0, 1)\n",
    "    visited[i] = False\n",
    "'''\n",
    "print(min_cost)"
   ]
  },
  {
   "cell_type": "code",
   "execution_count": null,
   "id": "3dca9ec7",
   "metadata": {},
   "outputs": [],
   "source": [
    "# itertools 사용한 풀이\n",
    "from itertools import permutations as perm\n",
    "\n",
    "n = int(input())\n",
    "graph = [list(map(int, input().split())) for _ in range(n)]\n",
    "# graph = [[0, 10, 15, 20],\n",
    "#          [5, 0, 9, 10],\n",
    "#          [6, 13, 0, 12],\n",
    "#          [8, 8, 9, 0]]\n",
    "\n",
    "min_cost = int(1e9)\n",
    "for p in perm(range(n), n) :\n",
    "    now_cost = 0\n",
    "    route = list(p) + [p[0]]\n",
    "    for i in range(n) :\n",
    "        if graph[route[i]][route[i+1]] == 0 :\n",
    "            break\n",
    "        now_cost += graph[route[i]][route[i+1]]\n",
    "        if now_cost >= min_cost :\n",
    "            break\n",
    "    else :\n",
    "        min_cost = min(min_cost, now_cost)\n",
    "    \n",
    "print(min_cost)"
   ]
  },
  {
   "cell_type": "markdown",
   "id": "726ad934",
   "metadata": {},
   "source": [
    "## 백준 2098 외판원 순회\n",
    "https://www.acmicpc.net/problem/2098\n",
    "- dfs로 dp를 채워가는 문제\n",
    "- `dp[now][visited]`\n",
    "    - 현재 now에 방문 중이고 지금까지 visited를 방문했을 때, 방문하지 않은 나머지 도시들을 모두 방문한 후 시작점으로 돌아오는 최소 비용\n",
    "    - visited : 비트마스킹으로 표시한 지금까지 방문한 도시\n",
    "- now에서 방문가능한 도시를 near라고 하면\n",
    "- now -> near 거리 = `graph[now][near]`\n",
    "- near부터 나머지 도시들 모두 방문 후 시작점으로 돌아오는 최소 비용 = `dp[near][visited | 1 << near]`\n",
    "- now에서 방문 가능한 모든 near를 탐색하며 `dp[now][visited]`를 갱신\n",
    "- `dp[now][visited] = min(dp[now][visited], dp[near][visited | 1 << near] + graph[now][near]`\n",
    "- now를 처음 방문하면 최종적으로 갱신되는 `dp[now][visited]`는 가능한 최소값이기 때문에 나중에 그대로 사용(top-down memoization)"
   ]
  },
  {
   "cell_type": "code",
   "execution_count": null,
   "id": "0f79b298",
   "metadata": {},
   "outputs": [],
   "source": [
    "n = int(input())\n",
    "graph = [list(map(int, input().split())) for _ in range(n)]\n",
    "\n",
    "INF = int(1e8)\n",
    "dp = [[-1] * (1 << n) for _ in range(n)]\n",
    "\n",
    "# dp[now][visited] 재귀적으로 구하는 함수\n",
    "def dfs(now, visited) :\n",
    "    # 모든 도시 다 방문\n",
    "    if visited == (1 << n) - 1 :\n",
    "        # 현재 도시에서 시작점으로 갈 수 있으면 dp 갱신하고 return\n",
    "        if graph[now][0] :\n",
    "            dp[now][visited] = graph[now][0]\n",
    "        # 갈 수 없으면 그냥 return (INF)\n",
    "        else :\n",
    "             dp[now][visited] = INF\n",
    "        return dp[now][visited]\n",
    "    # dp에 최소 비용 저장되어 있으면 그대로 return\n",
    "    if dp[now][visited] != -1 :\n",
    "        return dp[now][visited]\n",
    "    # 갈 수 있는 모든 도시 탐색\n",
    "    # 0번 도시는 시작점이므로 탐색 X\n",
    "    dp[now][visited] = INF\n",
    "    for near in range(1, n) :\n",
    "        # now에서 near까지 길이 있고 방문한적 없으면 방문\n",
    "        if graph[now][near] and not visited & (1 << near) :\n",
    "            # now에서 방문할 수 있는 모든 도시를 방문해 최소 비용 갱신\n",
    "            near_visited = visited | (1 << near)\n",
    "            dp[now][visited] = min(dp[now][visited], dfs(near, near_visited) + graph[now][near])\n",
    "    return dp[now][visited]\n",
    "\n",
    "print(dfs(0, 1))"
   ]
  },
  {
   "cell_type": "markdown",
   "id": "d6e50f0f",
   "metadata": {},
   "source": [
    "## 백준 24519 Bottleneck Travelling Salesman Problem (Large)\n",
    "https://www.acmicpc.net/problem/24519"
   ]
  },
  {
   "cell_type": "code",
   "execution_count": null,
   "id": "ba65b6a3",
   "metadata": {},
   "outputs": [],
   "source": [
    "n, m = map(int, input().split())\n",
    "INF = int(1e8)\n",
    "graph = [[INF] * n for _ in range(n)]\n",
    "for _ in range(m) :\n",
    "    u, v, c = map(int, input().split())\n",
    "    graph[u-1][v-1] = c\n",
    "dp = [[0] * (1 << n) for _ in range(n)]\n",
    "\n",
    "def dp_dfs(now, visited) :\n",
    "    # 모든 정점 다 순회했으면\n",
    "    if visited == (1 << n) - 1 :\n",
    "        # now에서 시작점으로 가는 비용 dp 테이블에 저장하고 반환\n",
    "        dp[now][visited] = graph[now][0]\n",
    "        return dp[now][visited]\n",
    "    # 이미 방문했으면 비용 반환\n",
    "    if dp[now][visited] :\n",
    "        return dp[now][visited]\n",
    "    # 현재 정점의 비용 초기화\n",
    "    now_cost = INF\n",
    "    # 시작점을 제외한 모든 정점 탐색\n",
    "    for i in range(1, n) :\n",
    "        # 현재 정점 now와 간선이 존재하고 방문하지 않은 정점 i 방문\n",
    "        if graph[now][i] != INF and not visited & (1 << i) :\n",
    "            # now에서 i를 거쳐 시작점까지 순회하는 비용 계산\n",
    "            now_i_cost = max(dp_dfs(i, visited | (1 << i)), graph[now][i])\n",
    "            # 현재 정점의 비용 갱신\n",
    "            now_cost = min(now_cost, now_i_cost)\n",
    "    # dp 테이블에 저장하고 반환\n",
    "    dp[now][visited] = now_cost\n",
    "    return dp[now][visited]\n",
    "\n",
    "def get_route(now, visited) :\n",
    "    # 총 길이 n의 경로 출력\n",
    "    for _ in range(n) :\n",
    "        # 현재 정점 출력\n",
    "        print(now + 1, end=\" \")\n",
    "        # 시작점 제외한 모든 정점 탐색\n",
    "        for i in range(1, n) :\n",
    "            # 방문한적 없고, 비용이 동일한 정점 i 방문\n",
    "            if not visited & (1 << i) and dp[now][visited] == max(dp[i][visited | (1 << i)], graph[now][i]) :\n",
    "                    now = i\n",
    "                    visited |= (1 << i)\n",
    "                    break\n",
    "                \n",
    "answer = dp_dfs(0, 1)\n",
    "print(*dp, sep=\"\\n\")\n",
    "if answer == INF :\n",
    "    print(-1)\n",
    "else :\n",
    "    print(answer)\n",
    "    get_route(0, 1)"
   ]
  },
  {
   "cell_type": "markdown",
   "id": "2d58d80d",
   "metadata": {},
   "source": [
    "## 백준 24512 Bottleneck Travelling Salesman Problem (Small)\n",
    "https://www.acmicpc.net/problem/24512\n",
    "- 외판원 순회 문제의 변형\n",
    "- 현 비용이 나중에 더 낮게 갱신될 수 있음  \n",
    "  -> 비용이 누적되기만 하는 외.순과는 달리 현 비용이 최소 비용보다 크다고 탐색 종료 불가"
   ]
  },
  {
   "cell_type": "code",
   "execution_count": null,
   "id": "0e63b4d0",
   "metadata": {},
   "outputs": [],
   "source": [
    "n, m = map(int, input().split())\n",
    "graph = [[0] * (n + 1) for _ in range(n + 1)]\n",
    "for _ in range(m) :\n",
    "    a, b, c = map(int, input().split())\n",
    "    graph[a][b] = c\n",
    "\n",
    "min_cost = int(1e9)\n",
    "min_cost_route = list()\n",
    "route = list()\n",
    "visited = [0] * (n + 1)\n",
    "def back_track(now, cost, cnt) :\n",
    "    global min_cost, min_cost_route\n",
    "    if cnt == n :\n",
    "        if graph[now][1] and min_cost > max(cost, graph[now][1]) :\n",
    "            min_cost = max(cost, graph[now][1])\n",
    "            min_cost_route = route[:]\n",
    "        return\n",
    "    for i in range(1, n+1) :\n",
    "        if graph[now][i] and not visited[i] :\n",
    "            visited[i] = 1\n",
    "            route.append(i)\n",
    "            back_track(i, max(cost, graph[now][i]), cnt + 1)\n",
    "            visited[i] = 0\n",
    "            route.pop()\n",
    "            \n",
    "visited[1] = 1\n",
    "route.append(1)\n",
    "back_track(1, 0, 1)\n",
    "\n",
    "if not min_cost_route :\n",
    "    print(-1)\n",
    "else :\n",
    "    print(min_cost)\n",
    "    print(*min_cost_route)"
   ]
  },
  {
   "cell_type": "markdown",
   "id": "f51ba75a",
   "metadata": {},
   "source": [
    "## 백준 1038 감소하는 수\n",
    "https://www.acmicpc.net/problem/1038"
   ]
  },
  {
   "cell_type": "code",
   "execution_count": null,
   "id": "99418961",
   "metadata": {},
   "outputs": [],
   "source": [
    "n = int(input())\n",
    "\n",
    "cnt = -1\n",
    "def dec_num(num, k) :\n",
    "    global cnt, answer\n",
    "    # k자리수에 도달하면 cnt +1\n",
    "    if len(num) == k :\n",
    "        cnt += 1\n",
    "        # 목표 개수에 도달하면 답 저장\n",
    "        if cnt == n :\n",
    "            answer = num\n",
    "        return\n",
    "    if not num :\n",
    "        for i in range(10) :\n",
    "            dec_num(str(i), k)\n",
    "    else :\n",
    "        for i in range(10) :\n",
    "            if int(num[-1]) > i :\n",
    "                dec_num(num+str(i), k)\n",
    "                \n",
    "answer = \"\"\n",
    "# 자리수 하나씩 늘려가며 탐색\n",
    "for j in range(1, 11) :\n",
    "    dec_num(\"\", j)\n",
    "    # 정답 나오면 탐색 중단\n",
    "    if answer :\n",
    "        print(answer)\n",
    "        break\n",
    "if not answer :\n",
    "    print(-1)"
   ]
  },
  {
   "cell_type": "markdown",
   "id": "cfa437e4",
   "metadata": {},
   "source": [
    "## 백준 1799 비숍\n",
    "https://www.acmicpc.net/problem/1799\n",
    "- 우상단-좌하단 대각선과 좌상단-우하단 대각선을 분리해서 비숍이 놓였는지 체크\n",
    "- 우상단-좌하단 대각선을 순서대로 돌면서\n",
    "- 놓을 수 있는 칸이고 해당 칸의 좌상단-우하단 대각선에 비숍이 없으면 비숍 놓고 재귀 호출\n",
    "- 그 대각선에 놓을 수 없으면 안 놓고 다음 대각선으로 넘어감\n",
    "    - 이때 대각선에 놓았으면 안 놓는 경우의 수를 생각할 필요 없음"
   ]
  },
  {
   "cell_type": "code",
   "execution_count": null,
   "id": "c02260a1",
   "metadata": {},
   "outputs": [],
   "source": [
    "n = int(input())\n",
    "board = [list(map(int, input().split())) for _ in range(n)]\n",
    "\n",
    "# 좌상단-우하단 (x-y : -n+1 ~ n-1)\n",
    "diag = {j : 1 for j in range(-n+1, n)}\n",
    "\n",
    "answer = 0\n",
    "# now : 우상단-좌하단 대각선 번호 0 ~ 2*n-2\n",
    "def dfs(now, cnt) :\n",
    "    global answer\n",
    "    # 우상단-좌하단 대각선 다 체크했으면 개수 갱신하고 return\n",
    "    if now == 2*n - 1 :\n",
    "        answer = max(answer, cnt)\n",
    "        return\n",
    "    lower = max(now - (n-1), 0)\n",
    "    upper = min(max(now - (n-1), now), n-1)\n",
    "    flag = 0\n",
    "    for i in range(lower, upper+1) :\n",
    "        j = now - i\n",
    "        # 놓을 수 있는 칸이고 좌상단-우하단 대각선에 다른 비숍 없으면\n",
    "        if board[i][j] == 1 and diag[i-j] :\n",
    "            flag = 1\n",
    "            board[i][j] = 0\n",
    "            diag[i-j] = 0\n",
    "            dfs(now+1, cnt+1)\n",
    "            board[i][j] = 1\n",
    "            diag[i-j] = 1\n",
    "    # 해당 대각선에서 놓을 수 없으면 안 놓고 다음 대각선으로\n",
    "    if not flag :\n",
    "        dfs(now+1, cnt)\n",
    "\n",
    "dfs(0, 0)\n",
    "print(answer)"
   ]
  }
 ],
 "metadata": {
  "kernelspec": {
   "display_name": "Python 3 (ipykernel)",
   "language": "python",
   "name": "python3"
  },
  "language_info": {
   "codemirror_mode": {
    "name": "ipython",
    "version": 3
   },
   "file_extension": ".py",
   "mimetype": "text/x-python",
   "name": "python",
   "nbconvert_exporter": "python",
   "pygments_lexer": "ipython3",
   "version": "3.9.13"
  },
  "toc": {
   "base_numbering": 1,
   "nav_menu": {},
   "number_sections": true,
   "sideBar": true,
   "skip_h1_title": false,
   "title_cell": "Table of Contents",
   "title_sidebar": "Contents",
   "toc_cell": false,
   "toc_position": {
    "height": "calc(100% - 180px)",
    "left": "10px",
    "top": "150px",
    "width": "279.273px"
   },
   "toc_section_display": true,
   "toc_window_display": true
  },
  "varInspector": {
   "cols": {
    "lenName": 16,
    "lenType": 16,
    "lenVar": 40
   },
   "kernels_config": {
    "python": {
     "delete_cmd_postfix": "",
     "delete_cmd_prefix": "del ",
     "library": "var_list.py",
     "varRefreshCmd": "print(var_dic_list())"
    },
    "r": {
     "delete_cmd_postfix": ") ",
     "delete_cmd_prefix": "rm(",
     "library": "var_list.r",
     "varRefreshCmd": "cat(var_dic_list()) "
    }
   },
   "types_to_exclude": [
    "module",
    "function",
    "builtin_function_or_method",
    "instance",
    "_Feature"
   ],
   "window_display": false
  }
 },
 "nbformat": 4,
 "nbformat_minor": 5
}
