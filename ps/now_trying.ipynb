{
 "cells": [
  {
   "cell_type": "code",
   "execution_count": 30,
   "id": "189ad23f",
   "metadata": {
    "ExecuteTime": {
     "end_time": "2023-04-12T14:29:11.798166Z",
     "start_time": "2023-04-12T14:29:11.776730Z"
    }
   },
   "outputs": [
    {
     "name": "stdout",
     "output_type": "stream",
     "text": [
      "[0, 0, 0, 2, 4, 4, 4, 4, 6, 8]\n",
      "[0, 0, 0, 2, 2, 2, 2, 2, 4, 6]\n",
      "[0, 0, 0, 2, 2, 2, 2, 2, 4, 6]\n",
      "[0, 0, 0, 0, 0, 0, 0, 0, 2, 4]\n",
      "[0, 0, 0, 0, 0, 0, 0, 0, 2, 4]\n",
      "[0, 0, 0, 0, 0, 0, 0, 0, 2, 4]\n",
      "[0, 0, 0, 0, 0, 0, 0, 0, 2, 2]\n",
      "[0, 0, 0, 0, 0, 0, 0, 0, 0, 2]\n",
      "[0, 0, 0, 0, 0, 0, 0, 0, 0, 0]\n",
      "[0, 0, 0, 0, 0, 0, 0, 0, 0, 0]\n",
      "8\n"
     ]
    }
   ],
   "source": [
    "# 유전자 https://www.acmicpc.net/problem/2306\n",
    "input = open(\"input.txt\").readline\n",
    "\n",
    "dna = input().strip()\n",
    "n = len(dna)\n",
    "# print(dna)\n",
    "dp = [[0] * n for _ in range(n)]\n",
    "\n",
    "for size in range(1, n):\n",
    "    for start in range(0, n - size):\n",
    "        end = start + size\n",
    "        \n",
    "        if (dna[start] == 'a' and dna[end] == 't') or (dna[start] == 'g' and dna[end] == 'c'):\n",
    "            dp[start][end] = dp[start + 1][end - 1] + 2\n",
    "        \n",
    "        for mid in range(start, end):\n",
    "            dp[start][end] = max(dp[start][end], dp[start][mid] + dp[mid + 1][end])\n",
    "\n",
    "# print(*dp, sep=\"\\n\")\n",
    "print(dp[0][-1])"
   ]
  }
 ],
 "metadata": {
  "kernelspec": {
   "display_name": "Python 3 (ipykernel)",
   "language": "python",
   "name": "python3"
  },
  "language_info": {
   "codemirror_mode": {
    "name": "ipython",
    "version": 3
   },
   "file_extension": ".py",
   "mimetype": "text/x-python",
   "name": "python",
   "nbconvert_exporter": "python",
   "pygments_lexer": "ipython3",
   "version": "3.10.3"
  },
  "toc": {
   "base_numbering": 1,
   "nav_menu": {},
   "number_sections": true,
   "sideBar": true,
   "skip_h1_title": false,
   "title_cell": "Table of Contents",
   "title_sidebar": "Contents",
   "toc_cell": false,
   "toc_position": {},
   "toc_section_display": true,
   "toc_window_display": false
  },
  "varInspector": {
   "cols": {
    "lenName": 16,
    "lenType": 16,
    "lenVar": 40
   },
   "kernels_config": {
    "python": {
     "delete_cmd_postfix": "",
     "delete_cmd_prefix": "del ",
     "library": "var_list.py",
     "varRefreshCmd": "print(var_dic_list())"
    },
    "r": {
     "delete_cmd_postfix": ") ",
     "delete_cmd_prefix": "rm(",
     "library": "var_list.r",
     "varRefreshCmd": "cat(var_dic_list()) "
    }
   },
   "types_to_exclude": [
    "module",
    "function",
    "builtin_function_or_method",
    "instance",
    "_Feature"
   ],
   "window_display": false
  },
  "vscode": {
   "interpreter": {
    "hash": "dfacda2fdeeaacdd740fe5c66c89c97705c9508b64028ea0dce702e0ae9956cd"
   }
  }
 },
 "nbformat": 4,
 "nbformat_minor": 5
}
