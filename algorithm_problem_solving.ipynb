{
  "nbformat": 4,
  "nbformat_minor": 0,
  "metadata": {
    "colab": {
      "provenance": [],
      "toc_visible": true,
      "authorship_tag": "ABX9TyMA8q3CvIo9d1ea1sNWvkSw",
      "include_colab_link": true
    },
    "kernelspec": {
      "name": "python3",
      "display_name": "Python 3"
    },
    "language_info": {
      "name": "python"
    }
  },
  "cells": [
    {
      "cell_type": "markdown",
      "metadata": {
        "id": "view-in-github",
        "colab_type": "text"
      },
      "source": [
        "<a href=\"https://colab.research.google.com/github/RonaldFisher9999/study/blob/master/algorithm_problem_solving.ipynb\" target=\"_parent\"><img src=\"https://colab.research.google.com/assets/colab-badge.svg\" alt=\"Open In Colab\"/></a>"
      ]
    },
    {
      "cell_type": "markdown",
      "source": [
        "# 스택"
      ],
      "metadata": {
        "id": "GR7NVISEz84p"
      }
    },
    {
      "cell_type": "code",
      "source": [
        "#@title 백준 10828 스택 https://www.acmicpc.net/problem/10828\n",
        "\n",
        "# import sys\n",
        "# input = sys.stdin.readline\n",
        "\n",
        "n = int(input())\n",
        "\n",
        "stack = list()\n",
        "for _ in range(n) :\n",
        "    command = input().split()\n",
        "    if command[0] == \"push\" :\n",
        "        stack.append(int(command[1]))   \n",
        "    elif command[0] == \"pop\" :\n",
        "        if stack :\n",
        "            print(stack.pop())\n",
        "        else :\n",
        "            print(-1)\n",
        "    elif command[0] == \"size\" :\n",
        "        print(len(stack))\n",
        "    elif command[0] == \"empty\" :\n",
        "        if stack :\n",
        "            print(0)\n",
        "        else :\n",
        "            print(1)\n",
        "    elif command[0] == \"top\" :\n",
        "        if stack :\n",
        "            print(stack[-1])\n",
        "        else :\n",
        "            print(-1)"
      ],
      "metadata": {
        "colab": {
          "base_uri": "https://localhost:8080/"
        },
        "id": "gnoS43lJ0ERF",
        "outputId": "790f5f77-2106-4c6f-b8f2-d674361f47f3"
      },
      "execution_count": null,
      "outputs": [
        {
          "output_type": "stream",
          "name": "stdout",
          "text": [
            "5\n",
            "push 1\n",
            "push 2\n",
            "pop\n",
            "2\n",
            "size\n",
            "1\n",
            "top\n",
            "1\n"
          ]
        }
      ]
    },
    {
      "cell_type": "code",
      "source": [
        "#@title 백준 10799 쇠막대기 https://www.acmicpc.net/problem/10799\n",
        "# ( -> 스택에 막대기 추가\n",
        "# () -> n이 스택 크기만큼 증가(현재 막대기 3개가가 있는데 레이저로 한번 자르면 3개가 더 생김)\n",
        "# ) -> n이 1 증가, 스택에서 막대기 제거\n",
        "\n",
        "n = 0\n",
        "stack = list()\n",
        "laser_stick = input()\n",
        "for i in range(len(laser_stick)) :\n",
        "    if laser_stick[i] == \"(\" :\n",
        "        if laser_stick[i + 1] == \")\" :\n",
        "            n += len(stack)\n",
        "        else :\n",
        "            stack.append(1)\n",
        "    elif laser_stick[i] == \")\" :\n",
        "        if laser_stick[i - 1] == \"(\" :\n",
        "            continue\n",
        "        n += 1\n",
        "        stack.pop()\n",
        "\n",
        "print(n)\n",
        "\n",
        "# ()(((()())(())()))(()) 17\n",
        "# (((()(()()))(())()))(()()) 24"
      ],
      "metadata": {
        "colab": {
          "base_uri": "https://localhost:8080/"
        },
        "id": "Tug0M9ko3rDU",
        "outputId": "bec2f087-e099-4202-ef2f-c30e6bc40bcf"
      },
      "execution_count": null,
      "outputs": [
        {
          "output_type": "stream",
          "name": "stdout",
          "text": [
            "(((()(()()))(())()))(()())\n",
            "(((()(()()))(())()))(()())\n",
            "24\n"
          ]
        }
      ]
    },
    {
      "cell_type": "code",
      "source": [
        "#@title 백준 2812 크게 만들기 https://www.acmicpc.net/problem/2812\n",
        "# 프로그래머스 https://school.programmers.co.kr/learn/courses/30/lessons/42883\n",
        "\n",
        "n, k = map(int, input().split())\n",
        "number = input()\n",
        "stack = [number[0]]\n",
        "\n",
        "# 앞에서부터 하나씩 스택에 넣어줌\n",
        "for i in number[1:] :\n",
        "    # 지금 넣어줄 수보다 스택 최상단의 수가 작으면 하나씩 pop\n",
        "    # pop할 때마다 k 1씩 감소\n",
        "    while stack and int(stack[-1]) < int(i) and k > 0 :\n",
        "        stack.pop()\n",
        "        k -= 1\n",
        "    stack.append(i)\n",
        "# 만약 스택에 다 넣었는데 k가 남았으면 남은 k 만큼 스택에서 pop\n",
        "while k > 0 :\n",
        "    stack.pop()\n",
        "    k -= 1\n",
        "print(\"\".join(stack))\n",
        "# print(\"\".join(stack[:len(stack) - k]))"
      ],
      "metadata": {
        "colab": {
          "base_uri": "https://localhost:8080/"
        },
        "id": "ZzI1apeH2D80",
        "outputId": "df379042-a5a1-465d-9ea4-4fc572852e89"
      },
      "execution_count": null,
      "outputs": [
        {
          "output_type": "stream",
          "name": "stdout",
          "text": [
            "9 5\n",
            "197282841\n",
            "9884\n"
          ]
        }
      ]
    },
    {
      "cell_type": "markdown",
      "source": [
        "# 큐"
      ],
      "metadata": {
        "id": "uSesPEqf3CvE"
      }
    },
    {
      "cell_type": "code",
      "source": [
        "#@title 백준 10845 큐 https://www.acmicpc.net/problem/10845\n",
        "\n",
        "from collections import deque\n",
        "\n",
        "n = int(input())\n",
        "q = deque()\n",
        "for _ in range(n) :\n",
        "    command = input().split()\n",
        "    if command[0] == \"push\" :\n",
        "        q.append(command[1])\n",
        "    elif command[0] == \"pop\" :\n",
        "        if q :\n",
        "            print(q.popleft())\n",
        "        else :\n",
        "            print(-1)\n",
        "    elif command[0] == \"size\" :\n",
        "        print(len(q))\n",
        "    elif command[0] == \"empty\" :\n",
        "        if q :\n",
        "            print(0)\n",
        "        else :\n",
        "            print(1)\n",
        "    elif command[0] == \"front\" :\n",
        "        if q :\n",
        "            print(q[0])\n",
        "        else :\n",
        "            print(-1)\n",
        "    elif command[0] == \"back\" :\n",
        "        if q :\n",
        "            print(q[-1])\n",
        "        else :\n",
        "            print(-1)"
      ],
      "metadata": {
        "colab": {
          "base_uri": "https://localhost:8080/"
        },
        "id": "gC5CePah1_vN",
        "outputId": "955f62bc-ad63-4e52-c38d-d2482f3db432"
      },
      "execution_count": null,
      "outputs": [
        {
          "output_type": "stream",
          "name": "stdout",
          "text": [
            "15\n",
            "push 1\n",
            "push 2\n",
            "front\n",
            "1\n",
            "back\n",
            "2\n",
            "size\n",
            "2\n",
            "empty\n",
            "0\n",
            "pop\n",
            "1\n",
            "pop\n",
            "2\n",
            "pop\n",
            "-1\n",
            "size\n",
            "0\n",
            "empty\n",
            "1\n",
            "pop\n",
            "-1\n",
            "push 3\n",
            "empty\n",
            "0\n",
            "front\n",
            "3\n"
          ]
        }
      ]
    },
    {
      "cell_type": "code",
      "source": [
        "#@title 백준 2164 카드 2 https://www.acmicpc.net/problem/2164\n",
        "from collections import deque\n",
        "\n",
        "n = int(input())\n",
        "array = deque(range(n, 0 , -1))\n",
        "\n",
        "while len(array) > 1 :\n",
        "    array.pop()\n",
        "    move = array[-1]\n",
        "    array.appendleft(move)\n",
        "    array.pop()\n",
        "    \n",
        "print(array[0])"
      ],
      "metadata": {
        "colab": {
          "base_uri": "https://localhost:8080/"
        },
        "id": "MN3pbEoBUskm",
        "outputId": "1f049da3-a2ec-4218-cceb-18a521a5eb73"
      },
      "execution_count": null,
      "outputs": [
        {
          "output_type": "stream",
          "name": "stdout",
          "text": [
            "500000\n",
            "475712\n"
          ]
        }
      ]
    },
    {
      "cell_type": "code",
      "source": [
        "#@title 백준 9935 문자열 폭발 https://www.acmicpc.net/problem/9935\n",
        "\n",
        "from collections import deque\n",
        "\n",
        "s = deque(input())\n",
        "# s = deque(\"12ab112ab2ab\")\n",
        "explode = list(input())\n",
        "\n",
        "new_s = list()\n",
        "n = len(explode)\n",
        "while len(s) >= 0 :\n",
        "    if len(new_s) >= n and new_s[-n:] == explode :\n",
        "            for _ in range(n) :\n",
        "                new_s.pop()\n",
        "    else :\n",
        "        if s :\n",
        "            new_s.append(s.popleft())\n",
        "        else :\n",
        "            break\n",
        "if new_s :\n",
        "    print(\"\".join(new_s))\n",
        "else :\n",
        "    print(\"FRULA\")"
      ],
      "metadata": {
        "colab": {
          "base_uri": "https://localhost:8080/"
        },
        "id": "hcJawxJ41Q5m",
        "outputId": "b4151225-e830-4a99-8cde-b2d99263ed80"
      },
      "execution_count": 25,
      "outputs": [
        {
          "output_type": "stream",
          "name": "stdout",
          "text": [
            "12ab\n",
            "[]\n"
          ]
        }
      ]
    },
    {
      "cell_type": "markdown",
      "source": [
        "# 맵"
      ],
      "metadata": {
        "id": "maWeLExjO6o7"
      }
    },
    {
      "cell_type": "code",
      "source": [
        "#@title 백준 9375 패션왕 신해빈 https://www.acmicpc.net/problem/9375\n",
        "\n",
        "from collections import defaultdict\n",
        "\n",
        "t = int(input())\n",
        "sols = []\n",
        "for _ in range(t) :\n",
        "    clothes = defaultdict(lambda : 1)\n",
        "    n = int(input())\n",
        "    for i in range(n) :\n",
        "        name, clo_type = input().split()\n",
        "        clothes[clo_type] += 1\n",
        "    mult = 1\n",
        "    for counts in clothes.values() :\n",
        "        mult *= counts\n",
        "    sols.append(mult - 1)\n",
        "\n",
        "print(*sols, sep=\"\\n\")"
      ],
      "metadata": {
        "colab": {
          "base_uri": "https://localhost:8080/"
        },
        "id": "uG5tOvQOO9Zh",
        "outputId": "b0324629-7b1a-4131-c3c2-62d8f5eb9c50"
      },
      "execution_count": null,
      "outputs": [
        {
          "output_type": "stream",
          "name": "stdout",
          "text": [
            "2\n",
            "3\n",
            "hat headgear\n",
            "sunglasses eyewear\n",
            "turban headgear\n",
            "3\n",
            "mask face\n",
            "sunglasses face\n",
            "makeup face\n",
            "5\n",
            "3\n"
          ]
        }
      ]
    },
    {
      "cell_type": "code",
      "source": [
        "#@title 백준 1620 나는야 포켓몬 마스터 이다솜 https://www.acmicpc.net/problem/1620\n",
        "\n",
        "import sys\n",
        "input = sys.stdin.readline\n",
        "​\n",
        "n, m = map(int, input().split())\n",
        "pokedex = dict()\n",
        "sols = []\n",
        "for i in range(1, n + 1) :\n",
        "    pokemon = input().rstrip()\n",
        "    pokedex[str(i)] = pokemon\n",
        "    pokedex[pokemon] = i\n",
        "\n",
        "for _ in range(m) :\n",
        "    sols.append(pokedex[input().rstrip()])\n",
        "\n",
        "print(*sols, sep=\"\\n\")"
      ],
      "metadata": {
        "id": "ppqTQHemWp8u"
      },
      "execution_count": null,
      "outputs": []
    },
    {
      "cell_type": "code",
      "source": [
        "#@title 백준 1764 듣보잡 https://www.acmicpc.net/problem/1764\n",
        "\n",
        "n, m = map(int, input().split())\n",
        "heard = set()\n",
        "seen = set()\n",
        "for _ in range(n) :\n",
        "    heard.add(input())\n",
        "for _ in range(m) :\n",
        "    seen.add(input())\n",
        "\n",
        "heard_seen = sorted(heard & seen)\n",
        "print(len(heard_seen))\n",
        "print(*heard_seen, sep=\"\\n\")"
      ],
      "metadata": {
        "colab": {
          "base_uri": "https://localhost:8080/"
        },
        "id": "v-vVjoRibFCK",
        "outputId": "b8713de2-8eed-4c31-fd2d-cc54045c65c8"
      },
      "execution_count": null,
      "outputs": [
        {
          "output_type": "stream",
          "name": "stdout",
          "text": [
            "3 4\n",
            "aaa\n",
            "bb\n",
            "ccc\n",
            "bb\n",
            "ccc\n",
            "ddd\n",
            "x\n",
            "2\n",
            "bb\n",
            "ccc\n"
          ]
        }
      ]
    },
    {
      "cell_type": "markdown",
      "source": [
        "# 트리\n",
        "- 완전 이진트리\n",
        "    - 마지막 레벨 제외한 레벨의 노드는 모두 자식노드 2개씩 있음\n",
        "    - 마지막 레벨은 왼쪽부터 노드가 채워져 있음\n",
        "    - (A)는 완전 이진트리, (B)는 아님\n",
        "<img src=\"https://miro.medium.com/max/640/1*Etc4C2_vkbIgBUApJKMJag.webp\" width=\"400\"/>\n",
        "\n",
        "    - 특정 노드 탐색시 O(logn)의 시간복잡도도\n",
        "\n"
      ],
      "metadata": {
        "id": "Cf9Y6mDAW039"
      }
    },
    {
      "cell_type": "code",
      "source": [
        "#@title 백준 11725 트리의 부모 찾기 https://www.acmicpc.net/problem/11725\n",
        "\n",
        "n = int(input())\n",
        "graph = [[] for _ in range(n + 1)]\n",
        "for _ in range(n - 1) :\n",
        "    a, b = map(int, input().split())\n",
        "    graph[a].append(b)\n",
        "    graph[b].append(a)\n",
        "# graph = [[],\n",
        "#          [6, 4],\n",
        "#          [4],\n",
        "#          [6, 5],\n",
        "#          [1, 2, 7],\n",
        "#          [3],\n",
        "#          [1, 3],\n",
        "#          [4]]\n",
        "\n",
        "parent = [0] * (n + 1)\n",
        "parent[1] = 1\n",
        "def get_par(root, graph, parent) :\n",
        "    to_visit = [root]\n",
        "    while to_visit :\n",
        "        node = to_visit.pop()\n",
        "        for near in graph[node] :\n",
        "            if parent[near] == 0 :\n",
        "                parent[near] = node\n",
        "                to_visit.append(near)\n",
        "\n",
        "# 재귀로 풀면 최대 깊이 초과\n",
        "# def get_par(node, graph, parent) :\n",
        "#     for near in graph[node] :\n",
        "#         if parent[near] == 0 :\n",
        "#             parent[near] = node\n",
        "#             get_par(near, graph, parent)\n",
        "\n",
        "get_par(1, graph, parent)\n",
        "print(*parent[2:], sep=\"\\n\")  "
      ],
      "metadata": {
        "id": "B2KuL9SMD3Jq"
      },
      "execution_count": null,
      "outputs": []
    },
    {
      "cell_type": "code",
      "source": [
        "#@title 백준 3584 가장 가까운 조상 https://www.acmicpc.net/problem/3584 실패 왜???\n",
        "\n",
        "import math\n",
        "\n",
        "# 각 노드의 깊이 dfs로 탐색\n",
        "def get_depth(parent) :\n",
        "    root = 0\n",
        "    for node in range(1, n + 1) :\n",
        "        # 부모 노드가 0이면 root 노드\n",
        "        if parent[node][0] == 0 :\n",
        "            root = node\n",
        "            break\n",
        "    to_visit = [root]\n",
        "    visited = [False] * (n + 1)\n",
        "    visited[root] = True\n",
        "    while to_visit :\n",
        "        v = to_visit.pop()\n",
        "        for child in tree[v] :\n",
        "            if visited[child] :\n",
        "                continue\n",
        "            visited[child] = True\n",
        "            depth[child] = depth[v] + 1\n",
        "            to_visit.append(child)\n",
        "\n",
        "# 2 ** k 꼴 조상의 노드 탐색\n",
        "def exp_par(max_log_d) :\n",
        "    for k in range(1, max_log_d) :\n",
        "        # 순서대로 각 노드에 대해\n",
        "        for node in range(1, n + 1) :\n",
        "            # i번째 node의 2 ** k 조상은 i번째 node의 2 ** (k-1) 조상의 2 ** (k-1) 조상\n",
        "            parent[node][k] = parent[parent[node][k - 1]][k - 1]\n",
        "\n",
        "def lca(a, b) :\n",
        "    # b의 깊이가 더 깊도록 셋팅\n",
        "    if depth[a] > depth[b] :\n",
        "        a, b = b, a\n",
        "    # 동일 깊이로 맞춰줌\n",
        "    for i in range(max_log_d - 1, -1, -1) :\n",
        "        if depth[b] - depth[a] >= 2 ** i :\n",
        "            b = parent[b][i]\n",
        "    # 공통 조상 탐색\n",
        "    if a == b :\n",
        "        return a\n",
        "    else :\n",
        "        # 가장 먼 조상부터 비교\n",
        "        for i in range(max_log_d - 1, -1, -1) :\n",
        "            if parent[a][i] != parent[b][i] :\n",
        "                a = parent[a][i]\n",
        "                b = parent[b][i]\n",
        "        return parent[a][0]\n",
        "\n",
        "t = int(input())\n",
        "sol = []\n",
        "for _ in range(t) :\n",
        "    # 노드의 총 개수\n",
        "    n = int(input())\n",
        "    # 최대 로그 깊이 셋팅\n",
        "    max_log_d = int(math.log2(n))\n",
        "    parent = [[0] * max_log_d for _ in range(n + 1)]\n",
        "    tree = [[] for _ in range(n + 1)]\n",
        "    for i in range(n - 1) :\n",
        "        a, b = map(int, input().split())\n",
        "        tree[a].append(b)\n",
        "        parent[b][0] = a\n",
        "    # 공통 조상을 구할 두 노드\n",
        "    x, y = map(int, input().split())\n",
        "    # print(parent)\n",
        "    depth = [0] * (n + 1)\n",
        "    get_depth(parent)\n",
        "    exp_par(max_log_d)\n",
        "    sol.append(lca(x, y))\n",
        "\n",
        "print(*sol, sep=\"\\n\")"
      ],
      "metadata": {
        "colab": {
          "base_uri": "https://localhost:8080/"
        },
        "id": "kRqD1QSfMoUu",
        "outputId": "310f27e1-31ce-45e2-a9d9-e1ae6c5d2363"
      },
      "execution_count": 13,
      "outputs": [
        {
          "output_type": "stream",
          "name": "stdout",
          "text": [
            "1\n",
            "3\n",
            "2 3\n",
            "2 1\n",
            "2 3\n",
            "2\n"
          ]
        }
      ]
    },
    {
      "cell_type": "code",
      "source": [
        "#@title 백준 11437 LCA https://www.acmicpc.net/problem/11437\n",
        "\n",
        "import math\n",
        "\n",
        "# 루트 노드부터 각 노드의 부모와 깊이 dfs로 탐색\n",
        "def get_par_depth(root) :\n",
        "    to_visit = [root]\n",
        "    visited = [False] * (n + 1)\n",
        "    while to_visit :\n",
        "        node = to_visit.pop()\n",
        "        visited[node] = True\n",
        "        for child in tree[node] :\n",
        "            if visited[child] :\n",
        "                continue\n",
        "            depth[child] = depth[node] + 1\n",
        "            parent[child][0] = node\n",
        "            to_visit.append(child)\n",
        "\n",
        "# 2 ** k 꼴 조상의 노드 탐색\n",
        "def exp_par(max_log_d) :\n",
        "    for k in range(1, max_log_d) :\n",
        "        # 순서대로 각 노드에 대해\n",
        "        for node in range(1, n + 1) :\n",
        "            # i번째 node의 2 ** k 조상은 i번째 node의 2 ** (k-1) 조상의 2 ** (k-1) 조상\n",
        "            parent[node][k] = parent[parent[node][k - 1]][k - 1]\n",
        "\n",
        "def lca(a, b) :\n",
        "    # b의 깊이가 더 깊도록 셋팅\n",
        "    if depth[a] > depth[b] :\n",
        "        a, b = b, a\n",
        "    # 동일 깊이로 맞춰줌\n",
        "    for i in range(max_log_d - 1, -1, -1) :\n",
        "        if depth[b] - depth[a] >= 2 ** i :\n",
        "            b = parent[b][i]\n",
        "    # 공통 조상 탐색\n",
        "    if a == b :\n",
        "        return a\n",
        "    else :\n",
        "        # 가장 먼 조상부터 비교\n",
        "        for i in range(max_log_d - 1, -1, -1) :\n",
        "            if parent[a][i] != parent[b][i] :\n",
        "                a = parent[a][i]\n",
        "                b = parent[b][i]\n",
        "        return parent[a][0]\n",
        "\n",
        "n = int(input())\n",
        "# 트리 입력\n",
        "tree = [[] for _ in range(n + 1)]\n",
        "for _ in range(n - 1) :    \n",
        "    a, b = map(int, input().split())\n",
        "    tree[a].append(b)\n",
        "    tree[b].append(a)\n",
        "# tree = [[], [2, 3], [1, 4, 6, 5], [1, 7, 8], [2, 9, 10], [2, 11, 12], [2], [3, 13, 14], [3], [4], [4], [5, 15], [5], [7], [7], [11]]\n",
        "\n",
        "# 공통 조상을 구할 노드쌍\n",
        "m = int(input())\n",
        "node_pairs = []\n",
        "for _ in range(m) :\n",
        "    node_pairs.append(tuple(map(int, input().split())))\n",
        "# node_pairs = [(6, 11), (10, 9), (2, 6), (7, 6), (8, 13), (8, 15)]\n",
        "# 최대 로그 깊이 셋팅\n",
        "max_log_d = int(math.log2(n))\n",
        "parent = [[0] * max_log_d for _ in range(n + 1)]\n",
        "# 루트 노드(1)의 부모 1로 셋팅\n",
        "parent[1][0] = 1\n",
        "depth = [0] * (n + 1)\n",
        "# 루트 노드(1)부터 dfs로 각 노드의 부모와 깊이 탐색\n",
        "get_par_depth(1)\n",
        "# 각 노드의 2 ** i 꼴 조상 노드 탐색\n",
        "exp_par(max_log_d)\n",
        "\n",
        "for pair in node_pairs :\n",
        "    x, y = pair\n",
        "    # lca 탐색\n",
        "    print(lca(x, y))"
      ],
      "metadata": {
        "colab": {
          "base_uri": "https://localhost:8080/"
        },
        "id": "jovFC-03AzAf",
        "outputId": "47b3feae-44d8-4e2a-dfdc-eb9fe7c7100b"
      },
      "execution_count": 30,
      "outputs": [
        {
          "output_type": "stream",
          "name": "stdout",
          "text": [
            "10\n",
            "1 2\n",
            "2 3\n",
            "3 4\n",
            "4 5\n",
            "5 6\n",
            "6 7\n",
            "7 8\n",
            "8 9\n",
            "9 10\n",
            "2\n",
            "2 10\n",
            "1 9\n",
            "0\n",
            "0\n"
          ]
        }
      ]
    },
    {
      "cell_type": "code",
      "source": [
        "x = {'a':3, 'b':5, 'c':1}\n",
        "for y in x :\n",
        "    print(x[y])"
      ],
      "metadata": {
        "colab": {
          "base_uri": "https://localhost:8080/"
        },
        "id": "Xr4-o2kB9TwR",
        "outputId": "69a405d9-53d2-4b9d-ec3c-76474d5c465e"
      },
      "execution_count": 15,
      "outputs": [
        {
          "output_type": "stream",
          "name": "stdout",
          "text": [
            "3\n",
            "5\n",
            "1\n"
          ]
        }
      ]
    },
    {
      "cell_type": "code",
      "source": [
        "prinx = [1, 2, 3]\n",
        "print(*x, sep=\"\\n\")"
      ],
      "metadata": {
        "colab": {
          "base_uri": "https://localhost:8080/"
        },
        "id": "lUuM8w1z7S3l",
        "outputId": "d6f97da3-6d58-4cf6-b90b-a68b49ab24a3"
      },
      "execution_count": 9,
      "outputs": [
        {
          "output_type": "stream",
          "name": "stdout",
          "text": [
            "1\n",
            "2\n",
            "3\n"
          ]
        }
      ]
    },
    {
      "cell_type": "markdown",
      "source": [
        "# 힙, 우선순위 큐"
      ],
      "metadata": {
        "id": "Scq9YTKnzmNt"
      }
    },
    {
      "cell_type": "code",
      "source": [
        "#@title 백준 11279 최대 힙 https://www.acmicpc.net/problem/11279\n",
        "\n",
        "# import sys\n",
        "# input = sys.stdin.readline\n",
        "import heapq\n",
        "\n",
        "q = []\n",
        "n = int(input())\n",
        "for _ in range(n) :\n",
        "    command = int(input())\n",
        "    if command == 0 :\n",
        "        if q :\n",
        "            print(-heapq.heappop(q))\n",
        "        else :\n",
        "            print(0)\n",
        "    else :\n",
        "        heapq.heappush(q, -command)"
      ],
      "metadata": {
        "colab": {
          "base_uri": "https://localhost:8080/"
        },
        "id": "d39g_cWUzr4c",
        "outputId": "95adf7a7-342a-4269-91ef-cf5ceaeecc43"
      },
      "execution_count": null,
      "outputs": [
        {
          "output_type": "stream",
          "name": "stdout",
          "text": [
            "13\n",
            "0\n",
            "output : 0\n",
            "1\n",
            "2\n",
            "0\n",
            "output : 2\n",
            "0\n",
            "output : 1\n",
            "3\n",
            "2\n",
            "1\n",
            "0\n",
            "output : 3\n",
            "0\n",
            "output : 2\n",
            "0\n",
            "output : 1\n",
            "0\n",
            "output : 0\n",
            "0\n",
            "output : 0\n"
          ]
        }
      ]
    },
    {
      "cell_type": "code",
      "source": [
        "#@title 백준 1715 카드 정렬하기 https://www.acmicpc.net/problem/1715\n",
        "\n",
        "import heapq\n",
        "\n",
        "n = int(input())\n",
        "q = []\n",
        "for _ in range(n) :\n",
        "    size = int(input())\n",
        "    heapq.heappush(q, size)\n",
        "\n",
        "sol = 0\n",
        "# 10 15 18 20 30\n",
        "while len(q) > 1 :\n",
        "    size_now = 0\n",
        "    size_now += heapq.heappop(q)\n",
        "    size_now += heapq.heappop(q)\n",
        "    sol += size_now\n",
        "    heapq.heappush(q, size_now)\n",
        "\n",
        "print(sol)"
      ],
      "metadata": {
        "colab": {
          "base_uri": "https://localhost:8080/"
        },
        "id": "OI33L-v02T-j",
        "outputId": "fb33fd51-6f01-4c59-b780-73562084d50f"
      },
      "execution_count": null,
      "outputs": [
        {
          "output_type": "stream",
          "name": "stdout",
          "text": [
            "5\n",
            "10\n",
            "15\n",
            "18\n",
            "20\n",
            "30\n",
            "size 1 : 10\n",
            "size 2 : 25\n",
            "sol : 25\n",
            "size 1 : 18\n",
            "size 2 : 38\n",
            "sol : 63\n",
            "size 1 : 25\n",
            "size 2 : 55\n",
            "sol : 118\n",
            "size 1 : 38\n",
            "size 2 : 93\n",
            "sol : 211\n",
            "211\n"
          ]
        }
      ]
    },
    {
      "cell_type": "code",
      "source": [
        "#@title 백준 1927 최소 힙 https://www.acmicpc.net/problem/1927\n",
        "\n",
        "import heapq\n",
        "\n",
        "q = []\n",
        "n = int(input())\n",
        "for _ in range(n) :\n",
        "    command = int(input())\n",
        "    if command == 0 :\n",
        "        if q :\n",
        "            print(heapq.heappop(q))\n",
        "        else :\n",
        "            print(0)\n",
        "    else :\n",
        "        heapq.heappus(q, command)"
      ],
      "metadata": {
        "id": "8mnjR_iYPirX"
      },
      "execution_count": null,
      "outputs": []
    },
    {
      "cell_type": "code",
      "source": [
        "#@title 백준 11286 절댓값 힙 https://www.acmicpc.net/problem/11286\n",
        "\n",
        "import heapq\n",
        "\n",
        "q = []\n",
        "n = int(input())\n",
        "for _ in range(n) :\n",
        "    command = int(input())\n",
        "    if command == 0 :\n",
        "        if q :\n",
        "            print(heapq.heappop(q)[1])\n",
        "        else :\n",
        "            print(0)\n",
        "    else :\n",
        "        heapq.heappush(q, (abs(command), command))"
      ],
      "metadata": {
        "colab": {
          "base_uri": "https://localhost:8080/"
        },
        "id": "z4ew4DwpA9Yh",
        "outputId": "6db1a3e0-e885-4581-ce18-3d46e6291942"
      },
      "execution_count": null,
      "outputs": [
        {
          "output_type": "stream",
          "name": "stdout",
          "text": [
            "18\n",
            "1\n",
            "-1\n",
            "0\n",
            "print : -1\n",
            "0\n",
            "print : 1\n",
            "0\n",
            "print : 0\n",
            "1\n",
            "1\n",
            "-1\n",
            "-1\n",
            "2\n",
            "-2\n",
            "0\n",
            "print : -1\n",
            "0\n",
            "print : -1\n",
            "0\n",
            "print : 1\n",
            "0\n",
            "print : 1\n",
            "0\n",
            "print : -2\n",
            "0\n",
            "print : 2\n",
            "0\n",
            "print : 0\n"
          ]
        }
      ]
    },
    {
      "cell_type": "code",
      "source": [
        "#@title 백준 7662 이중 우선순위 큐 https://www.acmicpc.net/problem/7662\n",
        "\n",
        "import heapq\n",
        "\n",
        "t = int(input())\n",
        "for t_num in range(t) :\n",
        "    n = int(input())\n",
        "    maxh, minh = [], []\n",
        "    valid = [False] * n\n",
        "    for i in range(n) :\n",
        "        order = input().split()\n",
        "        if order[0] == 'I' :\n",
        "            heapq.heappush(maxh, (-int(order[1]), i))\n",
        "            heapq.heappush(minh, (int(order[1]), i))\n",
        "            valid[i] = True\n",
        "        else :  # order[0] == 'D'\n",
        "            # 최소값 삭제\n",
        "            if order[1] == '-1' :\n",
        "                # 최대값 삭제될 때 삭제되어서 valid[i] == False 인 값은 버림\n",
        "                while minh and not valid[minh[0][1]] :\n",
        "                    heapq.heappop(minh)\n",
        "                if minh :\n",
        "                    valid[minh[0][1]] = False\n",
        "                    heapq.heappop(minh)\n",
        "            # 최대값 삭제\n",
        "            else :\n",
        "                # 최소값 삭제될 때 삭제되어서 valid[i] == False 인 값은 버림\n",
        "                while maxh and not valid[maxh[0][1]] :\n",
        "                    heapq.heappop(maxh)\n",
        "                if maxh :\n",
        "                    valid[maxh[0][1]] = False\n",
        "                    heapq.heappop(maxh)\n",
        "    # valid == False인 값들 다 버림\n",
        "    while minh and not valid[minh[0][1]] :\n",
        "        heapq.heappop(minh)\n",
        "    while maxh and not valid[maxh[0][1]] :\n",
        "        heapq.heappop(maxh)\n",
        "    # 출력\n",
        "    if maxh :\n",
        "        print(-heapq.heappop(maxh)[0], heapq.heappop(minh)[0])\n",
        "    else :\n",
        "        print(\"EMPTY\")   "
      ],
      "metadata": {
        "id": "kpomRXnYNICA",
        "colab": {
          "base_uri": "https://localhost:8080/"
        },
        "outputId": "7af7bdb2-b242-4f6e-8ba9-397249bd4f13"
      },
      "execution_count": null,
      "outputs": [
        {
          "output_type": "stream",
          "name": "stdout",
          "text": [
            "1\n",
            "2\n",
            "D -1\n",
            "D -1\n",
            "EMPTY\n"
          ]
        }
      ]
    },
    {
      "cell_type": "code",
      "source": [
        "# 프로그래머스 이중우선순위큐 https://school.programmers.co.kr/learn/courses/30/lessons/42628\n",
        "\n",
        "import heapq\n",
        "\n",
        "def solution(operations):\n",
        "    answer = []\n",
        "    n = len(operations)\n",
        "    maxh, minh = [], []\n",
        "    valid = [False] * n\n",
        "    for i in range(n) :\n",
        "        op = operations[i].split()\n",
        "        if op[0] == \"I\" :\n",
        "            heapq.heappush(maxh, (-int(op[1]), i))\n",
        "            heapq.heappush(minh, (int(op[1]), i))\n",
        "            valid[i] = True\n",
        "        else :\n",
        "            if op[1] == \"-1\" :\n",
        "                while minh and not valid[minh[0][1]] :\n",
        "                    heapq.heappop(minh)\n",
        "                if minh :\n",
        "                    valid[minh[0][1]] = False\n",
        "                    heapq.heappop(minh)\n",
        "            else :\n",
        "                while maxh and not valid[maxh[0][1]] :\n",
        "                    heapq.heappop(maxh)\n",
        "                if maxh :\n",
        "                    valid[maxh[0][1]] = False\n",
        "                    heapq.heappop(maxh)\n",
        "    while minh and not valid[minh[0][1]] :\n",
        "        heapq.heappop(minh)\n",
        "    while maxh and not valid[maxh[0][1]] :\n",
        "        heapq.heappop(maxh)\n",
        "    if maxh :\n",
        "        answer.append(-heapq.heappop(maxh)[0])\n",
        "        answer.append(heapq.heappop(minh)[0])\n",
        "    else :\n",
        "        answer = [0, 0]\n",
        "        \n",
        "    return answer\n",
        "\n",
        "operations = [\"I -45\", \"I 653\", \"D 1\", \"I -642\", \"I 45\", \"I 97\", \"D 1\", \"D -1\", \"I 333\"]\n",
        "# operations = [\"I 16\", \"I -5643\", \"D -1\", \"D 1\", \"D 1\", \"I 123\", \"D -1\"]\n",
        "print(solution(operations))"
      ],
      "metadata": {
        "colab": {
          "base_uri": "https://localhost:8080/"
        },
        "id": "aMASY3JqrMBV",
        "outputId": "40df475f-af7b-4d69-b6b9-0d440ee8d223"
      },
      "execution_count": null,
      "outputs": [
        {
          "output_type": "stream",
          "name": "stdout",
          "text": [
            "[333, -45]\n"
          ]
        }
      ]
    },
    {
      "cell_type": "markdown",
      "source": [
        "# 그리디"
      ],
      "metadata": {
        "id": "hPtkkVFU4yDK"
      }
    },
    {
      "cell_type": "code",
      "source": [
        "#@title 백준 1541 잃어버린 괄호 https://www.acmicpc.net/problem/1541\n",
        "# 5(5-50)+40 같은 형태는 안됨\n",
        "\n",
        "expression = input().split(\"-\")\n",
        "# print(expression)\n",
        "# expression = ['10+30', '40+60', '5+20', '40', '10']\n",
        "result = sum(map(int, expression[0].split(\"+\")))\n",
        "# print(result)\n",
        "for term in expression[1:] :\n",
        "    term_sum = sum(map(int, term.split(\"+\")))\n",
        "    result -= term_sum\n",
        "\n",
        "print(result)"
      ],
      "metadata": {
        "colab": {
          "base_uri": "https://localhost:8080/"
        },
        "id": "OKM-753u8qRZ",
        "outputId": "de633a36-b018-4374-f974-06d83fe1ece4"
      },
      "execution_count": null,
      "outputs": [
        {
          "output_type": "stream",
          "name": "stdout",
          "text": [
            "00009-00009\n",
            "0\n"
          ]
        }
      ]
    },
    {
      "cell_type": "code",
      "source": [
        "#@title 백준 1931 회의실 배정 https://www.acmicpc.net/problem/1931\n",
        "# 증명 : https://youtu.be/vw4gqeM4UGs\n",
        "n = int(input())\n",
        "# schedules = [tuple(map(int, input().split())) for _ in range(n)]\n",
        "schedules = [(0, 6), (3, 5), (5, 7), (3, 8), (5, 9), (6, 10), (8, 11), (8, 12), (1, 4), (2, 13), (12, 14)]\n",
        "# 끝나는 시간이 빠른 순으로 정렬, 끝나는 시간이 같으면 시작 시간이 빠른 순으로 정렬\n",
        "# (1, 2), (2, 2) 있을 때 시작 시간이 빠른 (1, 2)가 앞에 있어야 회의 2개 가능\n",
        "schedules.sort(key=lambda x : (x[1], x[0]))\n",
        "\n",
        "end = 0\n",
        "cnt = 0\n",
        "for i, j in schedules :\n",
        "    # 현재 마지막 회의 종료 시간 이후 가장 빠르게 시작하는 회의 선택\n",
        "    if i >= end :\n",
        "        # 회의 종료 시간 변경\n",
        "        end = j\n",
        "        cnt += 1\n",
        "print(cnt)"
      ],
      "metadata": {
        "colab": {
          "base_uri": "https://localhost:8080/"
        },
        "id": "WQnPGgQ2GpeR",
        "outputId": "26e81a39-8c7e-4b5f-e7ce-f537cc9f1b13"
      },
      "execution_count": null,
      "outputs": [
        {
          "output_type": "stream",
          "name": "stdout",
          "text": [
            "11\n",
            "4\n"
          ]
        }
      ]
    },
    {
      "cell_type": "code",
      "source": [
        "#@title 백준 1083 소트 https://www.acmicpc.net/problem/1083\n",
        "\n",
        "n = int(input())\n",
        "# array = list(map(int, input().split()))\n",
        "array = [19, 20, 17, 18, 15, 16, 13, 14, 11, 12]\n",
        "# array = [1, 5, 2, 3, 4]\n",
        "s = int(input())\n",
        "\n",
        "for i in range(n) :\n",
        "    if s == 0 :\n",
        "        break\n",
        "    else :\n",
        "        # 현재 인덱스 i부터 남은 s만큼의 범위에서 최대값 탐색\n",
        "        # 그 최대값이 array[i]보다 크면 연속된 원소들을 교환하여 array[i]자리에 데려오고\n",
        "        # 원소 교환한 횟수만큼 s에서 빼줌\n",
        "        cur_max = max(array[i:i + s + 1])\n",
        "        if array[i] < cur_max and s > 0 :\n",
        "            idx = array.index(cur_max)\n",
        "            array[i + 1:idx + 1] = array[i:idx]\n",
        "            array[i] = cur_max\n",
        "            s -= idx - i\n",
        "        \n",
        "print(*array)"
      ],
      "metadata": {
        "colab": {
          "base_uri": "https://localhost:8080/"
        },
        "id": "CyXCc7MyT-FL",
        "outputId": "42053c7f-3b9a-4047-cb9f-7aa196926fcd"
      },
      "execution_count": null,
      "outputs": [
        {
          "output_type": "stream",
          "name": "stdout",
          "text": [
            "10\n",
            "5\n",
            "20 19 18 17 16 15 14 13 12 11\n"
          ]
        }
      ]
    },
    {
      "cell_type": "code",
      "source": [
        "x = [4, 7, 8, 0]\n",
        "x[1:4] = x[0:3]\n",
        "print(x)"
      ],
      "metadata": {
        "colab": {
          "base_uri": "https://localhost:8080/"
        },
        "id": "-G1G_A5BX5nj",
        "outputId": "06532018-fca4-4b81-8659-c580497f3bbe"
      },
      "execution_count": null,
      "outputs": [
        {
          "output_type": "stream",
          "name": "stdout",
          "text": [
            "[4, 4, 7, 8]\n"
          ]
        }
      ]
    },
    {
      "cell_type": "code",
      "source": [
        "def comb(array, r, start=0, now=list(), results=list()) :\n",
        "    n = len(array)\n",
        "    if len(now) == r :\n",
        "        results.append(now[:])\n",
        "        return\n",
        "    for i in range(start, n) :\n",
        "        now.append(array[i])\n",
        "        comb(array, r, start+1)\n",
        "        now.pop()\n",
        "        start += 1\n",
        "    return results\n",
        "        \n",
        "\n",
        "array = [7, 1, 2, 3, 6]\n",
        "r = 3\n",
        "print(comb(array, r))"
      ],
      "metadata": {
        "id": "NaBHtQYV2AS1"
      },
      "execution_count": null,
      "outputs": []
    },
    {
      "cell_type": "code",
      "source": [],
      "metadata": {
        "id": "QmY_JxFL8pRj"
      },
      "execution_count": null,
      "outputs": []
    },
    {
      "cell_type": "markdown",
      "source": [
        "# 동적 프로그래밍"
      ],
      "metadata": {
        "id": "E6T8f3VnFmEP"
      }
    },
    {
      "cell_type": "code",
      "source": [
        "#@title 백준 11053 가장 긴 증가하는 부분 수열 https://www.acmicpc.net/problem/11053\n",
        "# LIS = Longest Increasing Subsequence\n",
        "\n",
        "n = int(input())\n",
        "array = [0] + list(map(int, input().split()))\n",
        "# array = [0, 10, 20, 10, 30, 20, 50]\n",
        "\n",
        "dp = [0] * (n + 1)\n",
        "# array[i] 기준으로, 그 앞에 array[i] 보다 작은 값 array[j]가 있으면\n",
        "# array[j]를 최대값을 갖는 LIS 뒤 array[i]가 붙을 수 있음\n",
        "for i in range(1, n + 1) :\n",
        "    for j in range(i) :\n",
        "        if array[i] > array[j] :\n",
        "            dp[i] = max(dp[i], dp[j] + 1)\n",
        "\n",
        "print(max(dp))"
      ],
      "metadata": {
        "colab": {
          "base_uri": "https://localhost:8080/"
        },
        "id": "VDgKDQNBFqBO",
        "outputId": "36584995-de0f-4bbb-cad3-cd34f8742db7"
      },
      "execution_count": null,
      "outputs": [
        {
          "output_type": "stream",
          "name": "stdout",
          "text": [
            "6\n",
            "10 20 10 30 20 50\n",
            "4\n"
          ]
        }
      ]
    },
    {
      "cell_type": "code",
      "source": [
        "#@title 백준 11055 가장 큰 증가 부분 수열 https://www.acmicpc.net/problem/11055\n",
        "\n",
        "n = int(input())\n",
        "array = list(map(int, input().split()))\n",
        "# array = [1, 100, 2, 50, 60, 3, 5, 6, 7, 8]\n",
        "\n",
        "dp = array[:]\n",
        "for i in range(1, n) :\n",
        "    for j in range(i) :\n",
        "        if array[i] > array[j] :\n",
        "            dp[i] = max(dp[i], dp[j] + array[i])\n",
        "\n",
        "print(max(dp))"
      ],
      "metadata": {
        "colab": {
          "base_uri": "https://localhost:8080/"
        },
        "id": "k1Xylyg-IVHc",
        "outputId": "059c1dcf-e1fe-4bca-8665-405672ed119e"
      },
      "execution_count": null,
      "outputs": [
        {
          "output_type": "stream",
          "name": "stdout",
          "text": [
            "5\n",
            "0 1 1 1 1\n",
            "[0, 1, 1, 1, 1]\n",
            "1\n"
          ]
        }
      ]
    },
    {
      "cell_type": "markdown",
      "source": [
        "# DFS/BFS"
      ],
      "metadata": {
        "id": "mjH8lrwiv7pR"
      }
    },
    {
      "cell_type": "code",
      "source": [
        "# 재귀로 dfs\n",
        "\n",
        "v, e, start = map(int, input().split())\n",
        "# graph = [[] for _ in range(v + 1)]\n",
        "# for _ in range(e) :\n",
        "#     a, b = map(int, input().split())\n",
        "#     graph[a].append(b)\n",
        "#     graph[b].append(a)\n",
        "graph = [[], [2, 3], [5, 1], [4, 1], [5, 3], [4, 2]]\n",
        "visited = [False] * (v + 1)\n",
        "sol = []\n",
        "def dfs(n, x) :\n",
        "    global graph, visited, sol, v\n",
        "    if n == v :\n",
        "        return\n",
        "    else :\n",
        "        visited[x] = True\n",
        "        sol.append(x)\n",
        "        for i in graph[x] :\n",
        "            if not visited[i] :\n",
        "                dfs(n + 1, i)\n",
        "dfs(0, 1)\n",
        "print(sol)"
      ],
      "metadata": {
        "colab": {
          "base_uri": "https://localhost:8080/"
        },
        "id": "kNFTa0J16aeh",
        "outputId": "efd1be82-8444-400d-fc67-7e8aeda5fa20"
      },
      "execution_count": null,
      "outputs": [
        {
          "output_type": "stream",
          "name": "stdout",
          "text": [
            "5 5 3\n",
            "[1, 2, 5, 4, 3]\n"
          ]
        }
      ]
    },
    {
      "cell_type": "code",
      "source": [
        "# while 문으로 구현\n",
        "\n",
        "v, e, start = map(int, input().split())\n",
        "graph = [[], [2, 3], [5, 1], [4, 1], [5, 3], [4, 2]]\n",
        "sol = []\n",
        "def dfs2(start) :\n",
        "    visited = [False] * (v + 1)\n",
        "    to_visit = [start]\n",
        "    while to_visit :\n",
        "        x = to_visit.pop()\n",
        "        if not visited[x] :\n",
        "            visited[x] = True\n",
        "            sol.append(x)\n",
        "            if len(sol) == v :\n",
        "                return\n",
        "            for near in graph[x] :\n",
        "                to_visit.append(near)\n",
        "dfs2(1)\n",
        "print(sol)"
      ],
      "metadata": {
        "colab": {
          "base_uri": "https://localhost:8080/"
        },
        "id": "in77uLIsaaCT",
        "outputId": "cf051293-f189-41e1-f87f-1b69971d3cd2"
      },
      "execution_count": null,
      "outputs": [
        {
          "output_type": "stream",
          "name": "stdout",
          "text": [
            "5 5 3\n",
            "[1, 3, 4, 5, 2]\n"
          ]
        }
      ]
    },
    {
      "cell_type": "code",
      "source": [
        "#@title 백준 1012 유기농 배추 https://www.acmicpc.net/problem/1012\n",
        "# 재귀로\n",
        "\n",
        "def dfs(x, y) :\n",
        "    global cnt\n",
        "    if x < 0 or x >= n or y < 0 or y >= m :\n",
        "        return\n",
        "    if graph[x][y] == 1 :\n",
        "        graph[x][y] = 0\n",
        "        dfs(x, y + 1)\n",
        "        dfs(x, y - 1)\n",
        "        dfs(x + 1, y)\n",
        "        dfs(x - 1, y)\n",
        "\n",
        "t = int(input())\n",
        "sol = list()\n",
        "for _ in range(t) :\n",
        "    m, n, k = map(int, input().split())\n",
        "    # graph = [[0] * m for _ in range(n)]\n",
        "    # for _ in range(k) :\n",
        "    #     y, x = map(int, input().split())\n",
        "    #     graph[x][y] = 1\n",
        "    graph = [[1, 1, 0, 0, 0, 0, 0, 0, 0, 0],\n",
        "             [0, 1, 0, 0, 0, 0, 0, 0, 0, 0],\n",
        "             [0, 0, 0, 0, 1, 0, 0, 0, 0, 0],\n",
        "             [0, 0, 0, 0, 1, 0, 0, 0, 0, 0],\n",
        "             [0, 0, 1, 1, 0, 0, 0, 1, 1, 1],\n",
        "             [0, 0, 0, 0, 1, 0, 0, 1, 1, 1],\n",
        "             [0, 0, 0, 0, 0, 0, 0, 1, 1, 1],\n",
        "             [0, 0, 0, 0, 0, 0, 0, 0, 0, 0]]\n",
        "    cnt = 0\n",
        "    for i in range(n) :\n",
        "        for j in range(m) :\n",
        "            if graph[i][j] == 1 :\n",
        "                dfs(i, j)\n",
        "                cnt += 1\n",
        "    sol.append(cnt)\n",
        "\n",
        "print(*sol, sep=\"\\n\")"
      ],
      "metadata": {
        "colab": {
          "base_uri": "https://localhost:8080/"
        },
        "id": "VPuTvi6k_BCx",
        "outputId": "45253f41-526b-44d7-896f-6178e7967d0d"
      },
      "execution_count": null,
      "outputs": [
        {
          "output_type": "stream",
          "name": "stdout",
          "text": [
            "1\n",
            "10 8 17\n",
            "5\n"
          ]
        }
      ]
    },
    {
      "cell_type": "code",
      "source": [
        "#@title 백준 11724 연결 요소의 개수 https://www.acmicpc.net/problem/11724\n",
        "\n",
        "def dfs(x) :\n",
        "    global visited\n",
        "    if visited[x] :\n",
        "        return\n",
        "    else :\n",
        "        visited[x] = True\n",
        "        for i in graph[x] :\n",
        "            dfs(i)\n",
        "\n",
        "n, m = map(int, input().split())\n",
        "graph = [[] for _ in range(n + 1)]\n",
        "for _ in range(m) :\n",
        "    u, v = map(int, input().split())\n",
        "    graph[u].append(v)\n",
        "    graph[v].append(u)\n",
        "\n",
        "visited = [False] * (n + 1)\n",
        "cnt = 0\n",
        "for i in range(1, n + 1) :\n",
        "    if not visited[i] :\n",
        "        dfs(i)\n",
        "        cnt += 1\n",
        "print(cnt)"
      ],
      "metadata": {
        "colab": {
          "base_uri": "https://localhost:8080/"
        },
        "id": "M-JTklOEGCxU",
        "outputId": "162ceb6b-e25c-4ba8-a792-574200b03e4b"
      },
      "execution_count": null,
      "outputs": [
        {
          "output_type": "stream",
          "name": "stdout",
          "text": [
            "6 8\n",
            "1 2\n",
            "2 5\n",
            "5 1\n",
            "3 4\n",
            "4 6\n",
            "5 4\n",
            "2 4\n",
            "2 3\n",
            "1\n"
          ]
        }
      ]
    },
    {
      "cell_type": "code",
      "source": [
        "#@title 백준 10026 적록색약 https://www.acmicpc.net/problem/10026\n",
        "\n",
        "n = int(input())\n",
        "graph = [list(input()) for _ in range(n)]\n",
        "# graph = [['R', 'R', 'R', 'B', 'B'],\n",
        "#          ['G', 'G', 'B', 'B', 'B'],\n",
        "#          ['B', 'B', 'B', 'R', 'R'],\n",
        "#          ['B', 'B', 'R', 'R', 'R'],\n",
        "#          ['R', 'R', 'R', 'R', 'R']]\n",
        "\n",
        "def dfs(graph, n, start, color) :\n",
        "    global result\n",
        "    global visited\n",
        "    to_visit = [start]\n",
        "    dx = [0, 0, 1, -1]\n",
        "    dy = [1, -1, 0, 0]\n",
        "    while to_visit :\n",
        "        x, y = to_visit.pop()\n",
        "        visited[x][y] = 1\n",
        "        for i in range(4) :\n",
        "            nx = x + dx[i]\n",
        "            ny = y + dy[i]\n",
        "            if nx < 0 or nx >= n or ny < 0 or ny >= n :\n",
        "                continue\n",
        "            if graph[nx][ny] == color and visited[nx][ny] == 0 :\n",
        "                to_visit.append((nx, ny))\n",
        "    result += 1\n",
        "\n",
        "visited = [[0] * n for _ in range(n)]\n",
        "result = 0\n",
        "\n",
        "for i in range(n) :\n",
        "    for j in range(n) :\n",
        "        if visited[i][j] == 0 :\n",
        "            start = (i, j)\n",
        "            color = graph[i][j]\n",
        "            dfs(graph, n, start, color)\n",
        "\n",
        "# 정상\n",
        "print(result, end=\" \")\n",
        "\n",
        "visited = [[0] * n for _ in range(n)]\n",
        "result = 0\n",
        "\n",
        "for i in range(n) :\n",
        "    for j in range(n) :\n",
        "        if graph[i][j] == 'R' :\n",
        "            graph [i][j] = 'G'\n",
        "\n",
        "for i in range(n) :\n",
        "    for j in range(n) :\n",
        "        if visited[i][j] == 0 :\n",
        "            start = (i, j)\n",
        "            color = graph[i][j]\n",
        "            dfs(graph, n, start, color)\n",
        "\n",
        "# 적록색약\n",
        "print(result)"
      ],
      "metadata": {
        "colab": {
          "base_uri": "https://localhost:8080/"
        },
        "id": "jHEmb22wv9xY",
        "outputId": "50ba9bbe-1477-49ca-c72d-1e32571439f0"
      },
      "execution_count": null,
      "outputs": [
        {
          "output_type": "stream",
          "name": "stdout",
          "text": [
            "5\n",
            "4 3\n"
          ]
        }
      ]
    },
    {
      "cell_type": "code",
      "source": [
        "#@title 백준 1520 내리막길 https://www.acmicpc.net/problem/1520\n",
        "# DP + DFS\n",
        "\n",
        "m, n = map(int, input().split())\n",
        "graph = [list(map(int, input().split())) for _ in range(m)]\n",
        "# graph = [[50, 45, 37, 32, 30],\n",
        "#          [35, 50, 40, 20, 25],\n",
        "#          [30, 30, 25, 17, 28],\n",
        "#          [27, 24, 22, 15, 10]]\n",
        "\n",
        "# dp[i][j] : (i, j)에서 도착점까지 가는 경우의 수\n",
        "dp = [[-1] * n for _ in range(m)]\n",
        "dp[-1][-1] = 1\n",
        "d_xy = [(0, 1), (0, -1), (1, 0), (-1, 0)]\n",
        "\n",
        "def dfs(x, y, graph, dp) :\n",
        "    # dp[x][y] != -1 : (x, y)에 방문한적 있음 -> 도착점까지 가는 경우의 수 반환\n",
        "    if dp[x][y] != -1 :\n",
        "        return dp[x][y]\n",
        "    \n",
        "    # (x, y)에 처음 방문 -> 일단 경우의 수 0으로 초기화 (임시변수 way_xy 대신 dp[x][y] 직접 사용해도 가능)\n",
        "    way_xy = 0\n",
        "    for dx, dy in d_xy :\n",
        "        nx = x + dx\n",
        "        ny = y + dy\n",
        "        if nx < 0 or nx >= m or ny < 0 or ny >= n :\n",
        "            continue\n",
        "        # (nx, ny)가 범위를 벗어나지 않고 (x, y)에서 갈 수 있는 지점일 때\n",
        "        # (nx, ny)에서의 경우의 수를 (x, y)에서의 경우의 수에 더해줌\n",
        "        if graph[nx][ny] < graph[x][y] :\n",
        "            way_xy += dfs(nx, ny, graph, dp)\n",
        "    # dp[x][y]에 경우의 수 저장\n",
        "    dp[x][y] = way_xy\n",
        "    return dp[x][y]\n",
        "\n",
        "print(dfs(0, 0, graph, dp))"
      ],
      "metadata": {
        "colab": {
          "base_uri": "https://localhost:8080/"
        },
        "id": "m1ZsnS6S4mko",
        "outputId": "1de2a90c-b18d-4157-e227-623856b3cc99"
      },
      "execution_count": null,
      "outputs": [
        {
          "output_type": "stream",
          "name": "stdout",
          "text": [
            "4 4\n",
            "100 90 70 60\n",
            "80 85 100 50\n",
            "75 70 100 40\n",
            "70 65 60 0\n",
            "6\n",
            "[[6, 4, 1, 1], [2, 3, -1, 1], [2, 1, -1, 1], [1, 1, 1, 1]]\n"
          ]
        }
      ]
    },
    {
      "cell_type": "code",
      "source": [
        "#@title 백준 2667 단지번호붙이기 https://www.acmicpc.net/problem/2667\n",
        "\n",
        "n = int(input())\n",
        "graph = [list(map(int, list(input()))) for _ in range(n)]\n",
        "# graph = [[0, 1, 1, 0, 1, 0, 0],\n",
        "#          [0, 1, 1, 0, 1, 0, 1],\n",
        "#          [1, 1, 1, 0, 1, 0, 1],\n",
        "#          [0, 0, 0, 0, 1, 1, 1],\n",
        "#          [0, 1, 0, 0, 0, 0, 0],\n",
        "#          [0, 1, 1, 1, 1, 1, 0],\n",
        "#          [0, 1, 1, 1, 0, 0, 0]]\n",
        "\n",
        "def dfs(graph, x, y) :\n",
        "    cnt = 0\n",
        "    graph[x][y] = 0\n",
        "    to_visit = [(x, y)]\n",
        "    d_xy = [(0, 1), (0, -1), (1, 0), (-1, 0)]\n",
        "    while to_visit :\n",
        "        x, y = to_visit.pop()\n",
        "        cnt += 1\n",
        "        for dx, dy in d_xy :\n",
        "            nx = x + dx\n",
        "            ny = y + dy\n",
        "            if nx < 0 or nx >= n or ny < 0 or ny >=n :\n",
        "                continue\n",
        "            if graph[nx][ny] == 1 :\n",
        "                to_visit.append((nx, ny))\n",
        "                graph[nx][ny] = 0\n",
        "    return cnt\n",
        "\n",
        "sol = 0\n",
        "aparts = []\n",
        "for i in range(n) :\n",
        "    for j in range(n) :\n",
        "        if graph[i][j] == 1 :\n",
        "            aparts.append(dfs(graph, i, j))\n",
        "            sol += 1\n",
        "\n",
        "aparts.sort()\n",
        "print(sol)\n",
        "print(*aparts, sep=\"\\n\")"
      ],
      "metadata": {
        "colab": {
          "base_uri": "https://localhost:8080/"
        },
        "id": "4xVaUkrLQVsw",
        "outputId": "f4d7cdee-b046-4b19-8050-48d0b3064ce5"
      },
      "execution_count": null,
      "outputs": [
        {
          "output_type": "stream",
          "name": "stdout",
          "text": [
            "7\n",
            "3\n",
            "7\n",
            "8\n",
            "9\n"
          ]
        }
      ]
    },
    {
      "cell_type": "code",
      "source": [
        "#@title 백준 1697 숨바꼭질 https://www.acmicpc.net/problem/1697\n",
        "\n",
        "from collections import deque\n",
        "\n",
        "n, k = map(int, input().split())\n",
        "\n",
        "def bfs(n, k) :\n",
        "    visited = [-1] * max(n + 1, 2 * k + 1)\n",
        "    len_v = len(visited)\n",
        "    to_visit = deque([n])\n",
        "    visited[n] = 0\n",
        "    while to_visit :\n",
        "        x = to_visit.popleft()\n",
        "        for nx in [x + 1, x - 1, 2 * x] :\n",
        "            if nx < 0 or nx >= len_v :\n",
        "                continue\n",
        "            if visited[nx] == -1 :\n",
        "                visited[nx] = visited[x] + 1\n",
        "                # 최초로 도착한 시점이 최단거리\n",
        "                if nx == k :\n",
        "                    return visited[k]\n",
        "                to_visit.append(nx)\n",
        "    return visited[k]\n",
        "\n",
        "print(bfs(n, k))"
      ],
      "metadata": {
        "colab": {
          "base_uri": "https://localhost:8080/"
        },
        "id": "J_LQGwy6X384",
        "outputId": "f50eeb46-bb27-4bd9-9c43-aecaba7030a5"
      },
      "execution_count": null,
      "outputs": [
        {
          "output_type": "stream",
          "name": "stdout",
          "text": [
            "5 17\n",
            "4\n"
          ]
        }
      ]
    },
    {
      "cell_type": "code",
      "source": [
        "#@title 백준 7576 토마토 https://www.acmicpc.net/problem/7576\n",
        "\n",
        "from collections import deque\n",
        "\n",
        "# m : 열의 개수, n : 행의 개수\n",
        "m, n = map(int, input().split())\n",
        "graph = [list(map(int, input().split())) for _ in range(n)]\n",
        "# graph = [[1, -1, 0, 0, 0, 0],\n",
        "#          [0, -1, 0, 0, 0, 0],\n",
        "#          [0, 0, 0, 0, -1, 0],\n",
        "#          [0, 0, 0, 0, -1, 1]]\n",
        "\n",
        "def bfs(graph, m, n) :\n",
        "    to_visit = deque()\n",
        "    for i in range(n) :\n",
        "        for j in range(m) :\n",
        "            if graph[i][j] == 1 :\n",
        "                to_visit.append((i, j))\n",
        "    dx = [0, 0, 1, -1]\n",
        "    dy = [1, -1, 0, 0]\n",
        "    while to_visit :\n",
        "        x, y = to_visit.popleft()\n",
        "        for i in range(4) :\n",
        "            nx = x + dx[i]\n",
        "            ny = y + dy[i]\n",
        "            if nx < 0 or nx >= n or ny < 0 or ny >= m :\n",
        "                continue\n",
        "            if graph[nx][ny] == 0 :\n",
        "                graph[nx][ny] = graph[x][y] + 1\n",
        "                to_visit.append((nx, ny))\n",
        "\n",
        "    for row in graph :\n",
        "        if 0 in row :\n",
        "            return -1\n",
        "\n",
        "    return max(map(max, graph)) - 1\n",
        "\n",
        "print(bfs(graph, m, n))"
      ],
      "metadata": {
        "colab": {
          "base_uri": "https://localhost:8080/"
        },
        "id": "9IE1VNN2YFBm",
        "outputId": "4e02dcc1-58b3-4336-a533-c9ebb234c003"
      },
      "execution_count": null,
      "outputs": [
        {
          "output_type": "stream",
          "name": "stdout",
          "text": [
            "6 4\n",
            "6\n"
          ]
        }
      ]
    },
    {
      "cell_type": "code",
      "source": [
        "#@title 백준 7569 토마토(3차원) https://www.acmicpc.net/problem/7569\n",
        "\n",
        "from collections import deque\n",
        "\n",
        "# m : 열 수, n : 행 수, h : 높이 칸 수 \n",
        "m, n, h = map(int, input().split())\n",
        "graph = [[list(map(int, input().split())) for _ in range(n)] for _ in range(h)]\n",
        "# graph = [[[0, 0, 0, 0, 0],\n",
        "#           [0, 0, 0, 0, 0],\n",
        "#           [0, 0, 0, 0, 0]],\n",
        "#          [[0, 0, 0, 0, 0],\n",
        "#           [0, 0, 1, 0, 0],\n",
        "#           [0, 0, 0, 0, 0]]]\n",
        "\n",
        "def bfs(graph, m, n, h) :\n",
        "    to_visit = deque()\n",
        "    for z in range(h) :\n",
        "        for x in range(n) :\n",
        "            for y in range(m) :\n",
        "                if graph[z][x][y] == 1 :\n",
        "                    to_visit.append((z, x, y))\n",
        "    dz = [1, -1, 0, 0, 0, 0]          \n",
        "    dx = [0, 0, 1, -1, 0, 0]\n",
        "    dy = [0, 0, 0, 0, 1, -1]    \n",
        "    while to_visit :\n",
        "        z, x, y = to_visit.popleft()\n",
        "        for i in range(6) :\n",
        "            nz = z + dz[i]\n",
        "            nx = x + dx[i]\n",
        "            ny = y + dy[i]\n",
        "            if nz < 0 or nz >= h or nx < 0 or nx >= n or ny < 0 or ny >= m :\n",
        "                continue\n",
        "            if graph[nz][nx][ny] == 0 :\n",
        "                graph[nz][nx][ny] = graph[z][x][y] + 1\n",
        "                to_visit.append((nz, nx, ny))\n",
        "\n",
        "    for plane in graph :\n",
        "        for row in plane :\n",
        "            if 0 in row :\n",
        "                return -1\n",
        "    \n",
        "    sol = 0\n",
        "    for plane in graph :\n",
        "        sol = max(sol, max(map(max, plane)))\n",
        "    \n",
        "    return sol - 1\n",
        "\n",
        "print(bfs(graph, m, n, h))"
      ],
      "metadata": {
        "colab": {
          "base_uri": "https://localhost:8080/"
        },
        "id": "-XK16QTeni0i",
        "outputId": "53e120cb-c9c8-42fb-8037-c4020737b07e"
      },
      "execution_count": null,
      "outputs": [
        {
          "output_type": "stream",
          "name": "stdout",
          "text": [
            "4 3 2\n",
            "1 1 1 1\n",
            "1 1 1 1\n",
            "1 1 1 1\n",
            "1 1 1 1\n",
            "-1 -1 -1 -1\n",
            "1 1 1 -1\n",
            "0\n"
          ]
        }
      ]
    },
    {
      "cell_type": "markdown",
      "source": [
        "# 재귀와 분할정복"
      ],
      "metadata": {
        "id": "r4okYavZIRfk"
      }
    },
    {
      "cell_type": "code",
      "source": [
        "def solution(n, k) :\n",
        "    visited = [False] * (n + 1)\n",
        "    answer = []\n",
        "    def dfs(n) :\n",
        "        if len(answer) == n :\n",
        "            k -= 1\n",
        "            return\n",
        "        else :\n",
        "            for i in range(1, n + 1) :\n",
        "                if not visited[i] :\n",
        "                    visited[i] = True\n",
        "                    answer.append(i)\n",
        "                    dfs(n)\n",
        "                    answer.pop()\n",
        "                    visited[i] = False\n",
        "    dfs(n)\n",
        "    return answer\n",
        "n, k = 3, 5\n",
        "solution(n, k)"
      ],
      "metadata": {
        "colab": {
          "base_uri": "https://localhost:8080/"
        },
        "id": "3iMqUyzliHOs",
        "outputId": "f663ae0a-9203-441d-b6dd-e70526221fb5"
      },
      "execution_count": null,
      "outputs": [
        {
          "output_type": "execute_result",
          "data": {
            "text/plain": [
              "[]"
            ]
          },
          "metadata": {},
          "execution_count": 19
        }
      ]
    },
    {
      "cell_type": "code",
      "source": [
        "n = int(input())\n",
        "array = []\n",
        "visited = [False] * (n + 1)\n",
        "cnt = 0\n",
        "def perm(n) :\n",
        "    global cnt\n",
        "    if len(array) == n :\n",
        "        cnt += 1\n",
        "        print(cnt, array)\n",
        "        return\n",
        "    else :\n",
        "        for i in range(1, n + 1) :\n",
        "            if not visited[i] :\n",
        "                visited[i] = True\n",
        "                array.append(i)\n",
        "                perm(n)\n",
        "                array.pop()\n",
        "                visited[i] = False\n",
        "perm(n)"
      ],
      "metadata": {
        "colab": {
          "base_uri": "https://localhost:8080/"
        },
        "id": "4JdpKqvYcCl9",
        "outputId": "3c57c509-5a9b-4aea-926b-7d822d98a317"
      },
      "execution_count": null,
      "outputs": [
        {
          "output_type": "stream",
          "name": "stdout",
          "text": [
            "4\n",
            "1 [1, 2, 3, 4]\n",
            "2 [1, 2, 4, 3]\n",
            "3 [1, 3, 2, 4]\n",
            "4 [1, 3, 4, 2]\n",
            "5 [1, 4, 2, 3]\n",
            "6 [1, 4, 3, 2]\n",
            "7 [2, 1, 3, 4]\n",
            "8 [2, 1, 4, 3]\n",
            "9 [2, 3, 1, 4]\n",
            "10 [2, 3, 4, 1]\n",
            "11 [2, 4, 1, 3]\n",
            "12 [2, 4, 3, 1]\n",
            "13 [3, 1, 2, 4]\n",
            "14 [3, 1, 4, 2]\n",
            "15 [3, 2, 1, 4]\n",
            "16 [3, 2, 4, 1]\n",
            "17 [3, 4, 1, 2]\n",
            "18 [3, 4, 2, 1]\n",
            "19 [4, 1, 2, 3]\n",
            "20 [4, 1, 3, 2]\n",
            "21 [4, 2, 1, 3]\n",
            "22 [4, 2, 3, 1]\n",
            "23 [4, 3, 1, 2]\n",
            "24 [4, 3, 2, 1]\n"
          ]
        }
      ]
    },
    {
      "cell_type": "code",
      "source": [
        "#@title 백준 11729 하노이 탑 이동 순서 https://www.acmicpc.net/problem/11729\n",
        "\n",
        "def hanoi(n, start, end, mid) :\n",
        "    if n == 1 :\n",
        "        print(start, end)\n",
        "        return\n",
        "    else :\n",
        "        hanoi(n - 1, start, mid, end)\n",
        "        print(start, end)\n",
        "        hanoi(n - 1, mid, end, start)\n",
        "\n",
        "n = int(input())\n",
        "print(2 ** n - 1)\n",
        "hanoi(n, 1, 3, 2)"
      ],
      "metadata": {
        "colab": {
          "base_uri": "https://localhost:8080/"
        },
        "id": "gMEWiWF9ITRo",
        "outputId": "1a62f4db-2576-4d45-d257-b7b3d6ac5281"
      },
      "execution_count": null,
      "outputs": [
        {
          "output_type": "stream",
          "name": "stdout",
          "text": [
            "5\n",
            "31\n",
            "1 3\n",
            "1 2\n",
            "3 2\n",
            "1 3\n",
            "2 1\n",
            "2 3\n",
            "1 3\n",
            "1 2\n",
            "3 2\n",
            "3 1\n",
            "2 1\n",
            "3 2\n",
            "1 3\n",
            "1 2\n",
            "3 2\n",
            "1 3\n",
            "2 1\n",
            "2 3\n",
            "1 3\n",
            "2 1\n",
            "3 2\n",
            "3 1\n",
            "2 1\n",
            "2 3\n",
            "1 3\n",
            "1 2\n",
            "3 2\n",
            "1 3\n",
            "2 1\n",
            "2 3\n",
            "1 3\n"
          ]
        }
      ]
    },
    {
      "cell_type": "code",
      "source": [
        "#@title 백준 17070 파이프 옮기기 1 https://www.acmicpc.net/problem/17070 실패\n",
        "# 재귀만 쓰면 시간초과\n",
        "\n",
        "def recurs(x, y, shape) :\n",
        "    global ans\n",
        "    if x >= n or y >= n :\n",
        "        return\n",
        "    if shape == 1 and x == n - 1 and y != n - 1 :\n",
        "        return\n",
        "    if shape == 0 and y == n - 1 and x != n - 1 :\n",
        "        return\n",
        "    if x == n - 1 and y == n - 1 :\n",
        "        ans += 1\n",
        "    if y <= n - 2 and graph[x][y + 1] == 0 and (shape == 0 or shape == 2) :\n",
        "        recurs(x, y+1, 0)\n",
        "    if x <= n - 2 and graph[x + 1][y] == 0 and (shape == 1 or shape == 2) :\n",
        "        recurs(x+1, y, 1)\n",
        "    if x <= n - 2 and y <= n - 2 and graph[x][y + 1] == 0 and graph[x + 1][y] == 0 and graph[x + 1][y + 1] == 0 :\n",
        "        recurs(x+1, y+1, 2)\n",
        "\n",
        "n = int(input())\n",
        "graph = [list(map(int, input().split())) for _ in range(n)]\n",
        "ans = 0\n",
        "recurs(0, 1, 0)\n",
        "print(ans)"
      ],
      "metadata": {
        "id": "jObQ7Py5MdK3"
      },
      "execution_count": null,
      "outputs": []
    },
    {
      "cell_type": "code",
      "source": [
        "#@title 백준 2630 색종이 만들기 https://www.acmicpc.net/problem/2630\n",
        "\n",
        "n = int(input())\n",
        "graph = [list(map(int, input().split())) for _ in range(n)]\n",
        "# graph = [[1, 1, 0, 0, 0, 0, 1, 1],\n",
        "#          [1, 1, 0, 0, 0, 0, 1, 1],\n",
        "#          [0, 0, 0, 0, 1, 1, 0, 0],\n",
        "#          [0, 0, 0, 0, 1, 1, 0, 0],\n",
        "#          [1, 0, 0, 0, 1, 1, 1, 1],\n",
        "#          [0, 1, 0, 0, 1, 1, 1, 1],\n",
        "#          [0, 0, 1, 1, 1, 1, 1, 1],\n",
        "#          [0, 0, 1, 1, 1, 1, 1, 1]]\n",
        "\n",
        "w, b = 0, 0\n",
        "def recurs(graph, n) :\n",
        "    global w, b\n",
        "    if sum([sum(i) for i in graph]) == 0 :\n",
        "        w += 1\n",
        "        return\n",
        "    if sum([sum(i) for i in graph]) == n ** 2 :\n",
        "        b += 1\n",
        "        return\n",
        "    else :\n",
        "        n_2 = n // 2\n",
        "        recurs([i[:n_2] for i in graph][:n_2], n_2)\n",
        "        recurs([i[:n_2] for i in graph][n_2:], n_2)\n",
        "        recurs([i[n_2:] for i in graph][:n_2], n_2)\n",
        "        recurs([i[n_2:] for i in graph][n_2:], n_2)\n",
        "\n",
        "recurs(graph, n)\n",
        "print(w)\n",
        "print(b)"
      ],
      "metadata": {
        "colab": {
          "base_uri": "https://localhost:8080/"
        },
        "id": "Ya9eeQliWITu",
        "outputId": "264a234b-b433-4223-e125-805e80aa8f84"
      },
      "execution_count": null,
      "outputs": [
        {
          "output_type": "stream",
          "name": "stdout",
          "text": [
            "8\n",
            "9\n",
            "7\n"
          ]
        }
      ]
    },
    {
      "cell_type": "code",
      "source": [
        "#@title 백준 1003 피보나치 함수 https://www.acmicpc.net/problem/1003\n",
        "\n",
        "t = int(input())\n",
        "fibo = [0] * 42\n",
        "fibo[0] = 1\n",
        "fibo[1] = 0\n",
        "for i in range(2, 42) :\n",
        "    fibo[i] = fibo[i - 1] + fibo[i - 2]\n",
        "for i in range(t) :\n",
        "    n = int(input())\n",
        "    print(fibo[n], fibo[n + 1])"
      ],
      "metadata": {
        "colab": {
          "base_uri": "https://localhost:8080/"
        },
        "id": "YWhdRY0vFpXV",
        "outputId": "e0d81927-d80f-4de4-e79b-809ffdea8a41"
      },
      "execution_count": null,
      "outputs": [
        {
          "output_type": "stream",
          "name": "stdout",
          "text": [
            "2\n",
            "6\n",
            "5 8\n",
            "22\n",
            "10946 17711\n"
          ]
        }
      ]
    },
    {
      "cell_type": "code",
      "source": [
        "#@title 백준 1780 종이의 개수 https://www.acmicpc.net/problem/1780\n",
        "\n",
        "n = int(input())\n",
        "graph = [list(map(int, input().split())) for _ in range(n)]\n",
        "# graph = [[0, 0, 0, 1, 1, 1, -1, -1, -1],\n",
        "#          [0, 0, 0, 1, 1, 1, -1, -1, -1],\n",
        "#          [0, 0, 0, 1, 1, 1, -1, -1, -1],\n",
        "#          [1, 1, 1, 0, 0, 0, 0, 0, 0],\n",
        "#          [1, 1, 1, 0, 0, 0, 0, 0, 0],\n",
        "#          [1, 1, 1, 0, 0, 0, 0, 0, 0],\n",
        "#          [0, 1, -1, 0, 1, -1, 0, 1, -1],\n",
        "#          [0, -1, 1, 0, 1, -1, 0, 1, -1],\n",
        "#          [0, 1, -1, 1, 0, -1, 0, 1, -1]]\n",
        "\n",
        "cnt__1, cnt_0, cnt_1 = 0, 0, 0\n",
        "def back_track(graph, n) :\n",
        "    global cnt__1, cnt_0, cnt_1\n",
        "    n_sq = n ** 2\n",
        "    sum_graph = sum([sum(row) for row in graph])\n",
        "    if sum_graph == n_sq :\n",
        "        cnt_1 += 1\n",
        "        return\n",
        "    elif sum_graph == -n_sq :\n",
        "        cnt__1 += 1\n",
        "        return\n",
        "    elif graph == [[0] * n for _ in range(n)] :\n",
        "        cnt_0 += 1\n",
        "        return\n",
        "    else :\n",
        "        n_d3 = n // 3\n",
        "        for i in range(3) :\n",
        "            for j in range(3) :\n",
        "                back_track([row[i * n_d3 : (i + 1) * n_d3] for row in graph][j * n_d3 : (j + 1) * n_d3], n_d3)\n",
        "\n",
        "back_track(graph, n)                           \n",
        "print(cnt__1)\n",
        "print(cnt_0)\n",
        "print(cnt_1)"
      ],
      "metadata": {
        "colab": {
          "base_uri": "https://localhost:8080/"
        },
        "id": "hO0Z16z5csOL",
        "outputId": "9a6bcce5-f025-4046-b089-b102490783c6"
      },
      "execution_count": null,
      "outputs": [
        {
          "output_type": "stream",
          "name": "stdout",
          "text": [
            "9\n",
            "10\n",
            "12\n",
            "11\n"
          ]
        }
      ]
    },
    {
      "cell_type": "code",
      "source": [
        "x = [[1] * 3 for _ in range(3)]\n",
        "y = [[1] * 3 for _ in range(3)]\n",
        "x == [[1] * 3 for _ in range(3)]"
      ],
      "metadata": {
        "colab": {
          "base_uri": "https://localhost:8080/"
        },
        "id": "pHNKNF9SiO9u",
        "outputId": "f0ba14cb-a2e1-46fb-b117-35c57944d43e"
      },
      "execution_count": null,
      "outputs": [
        {
          "output_type": "execute_result",
          "data": {
            "text/plain": [
              "True"
            ]
          },
          "metadata": {},
          "execution_count": 62
        }
      ]
    },
    {
      "cell_type": "code",
      "source": [
        "x = [[3, 6], [10, 20]]\n",
        "sum([sum(row) for row in x])"
      ],
      "metadata": {
        "colab": {
          "base_uri": "https://localhost:8080/"
        },
        "id": "pUMZcYmddM9S",
        "outputId": "961e087e-273e-4a5a-d4b4-fa6090a6c916"
      },
      "execution_count": null,
      "outputs": [
        {
          "output_type": "execute_result",
          "data": {
            "text/plain": [
              "39"
            ]
          },
          "metadata": {},
          "execution_count": 49
        }
      ]
    },
    {
      "cell_type": "markdown",
      "source": [
        "# 다익스트라, 플로이드-워셜 "
      ],
      "metadata": {
        "id": "6pt1gpfuKE2T"
      }
    },
    {
      "cell_type": "code",
      "source": [
        "#@title 백준 1916 최소비용 구하기 https://www.acmicpc.net/problem/1916\n",
        "\n",
        "import heapq\n",
        "\n",
        "n = int(input())\n",
        "m = int(input())\n",
        "\n",
        "graph = [[] for _ in range(n + 1)]\n",
        "for i in range(m) :\n",
        "    a, b, c = map(int, input().split())\n",
        "    graph[a].append((b, c))\n",
        "# graph = [[],\n",
        "#          [(2, 2), (3, 3), (4, 1), (5, 10)],\n",
        "#          [(4, 2)],\n",
        "#          [(4, 1), (5, 1)],\n",
        "#          [(5, 3)],\n",
        "#          []]\n",
        "start, end = map(int, input().split())\n",
        "INF = int(1e6)\n",
        "distance = [INF] * (n + 1)\n",
        "distance[start] = 0\n",
        "\n",
        "def dijkstra(graph, start, end) :\n",
        "    q = []\n",
        "    heapq.heappush(q, (0, start))\n",
        "    while q :\n",
        "        dist_now, now = heapq.heappop(q)\n",
        "        if distance[now] < dist_now :\n",
        "            continue\n",
        "        else :\n",
        "            for near, now_near in graph[now] :\n",
        "                if distance[near] > dist_now + now_near :\n",
        "                    distance[near] = dist_now + now_near\n",
        "                    heapq.heappush(q, (distance[near], near))\n",
        "    return\n",
        "\n",
        "dijkstra(graph, start, end)\n",
        "print(distance[end])"
      ],
      "metadata": {
        "colab": {
          "base_uri": "https://localhost:8080/"
        },
        "id": "4To2QDNhKKcj",
        "outputId": "1622d83a-f9e9-470d-8eea-e8c2cb494b95"
      },
      "execution_count": null,
      "outputs": [
        {
          "output_type": "stream",
          "name": "stdout",
          "text": [
            "5\n",
            "8\n",
            "1 5\n",
            "[1000000, 0, 2, 3, 1, 4]\n"
          ]
        }
      ]
    },
    {
      "cell_type": "code",
      "source": [
        "#@title 백준 11404 플로이드 https://www.acmicpc.net/problem/11404\n",
        "\n",
        "n = int(input())\n",
        "m = int(input())\n",
        "\n",
        "INF = int(1e9)\n",
        "graph = [[INF] * (n + 1) for _ in range(n + 1)]\n",
        "for i in range(1, n + 1) :\n",
        "    graph[i][i] = 0\n",
        "\n",
        "for _ in range(m) :\n",
        "    a, b, c = map(int, input().split())\n",
        "    # 두 도시 사이 노선 하나가 아닐 수 있음\n",
        "    graph[a][b] = min(graph[a][b], c)\n",
        "# graph = [[INF, INF, INF, INF, INF, INF],\n",
        "#          [INF, 0, 2, 3, 2, 10],\n",
        "#          [INF, INF, 0, INF, 2, INF],\n",
        "#          [INF, 8, INF, 0, 2, 10],\n",
        "#          [INF, INF, INF, INF, 0, 3],\n",
        "#          [INF, 7, 4, INF, INF, 0]]\n",
        "\n",
        "for k in range(1, n + 1) :\n",
        "    for a in range(1, n + 1) :\n",
        "        for b in range(1, n + 1) :\n",
        "            if a == b or a == k or b == k :\n",
        "                continue\n",
        "            graph[a][b] = min(graph[a][b], graph[a][k] + graph[k][b])\n",
        "\n",
        "for i in range(1, n + 1) :\n",
        "    for j in range(1, n + 1) :\n",
        "        if graph[i][j] == INF :\n",
        "            print(0, end=\" \")\n",
        "        else :\n",
        "            print(graph[i][j], end=\" \")\n",
        "    print()"
      ],
      "metadata": {
        "colab": {
          "base_uri": "https://localhost:8080/"
        },
        "id": "I2k9tT-79EAD",
        "outputId": "466f2b30-8b4e-443b-e68e-debb0dd6e6c1"
      },
      "execution_count": null,
      "outputs": [
        {
          "output_type": "stream",
          "name": "stdout",
          "text": [
            "5\n",
            "14\n",
            "1 2 2\n",
            "1 3 3\n",
            "1 4 1\n",
            "1 5 10\n",
            "2 4 2\n",
            "3 4 1\n",
            "3 5 1\n",
            "4 5 3\n",
            "3 5 10\n",
            "3 1 8\n",
            "1 4 2\n",
            "5 1 7\n",
            "3 4 2\n",
            "5 2 4\n",
            "0 2 3 2 5 \n",
            "12 0 15 2 5 \n",
            "8 9 0 2 5 \n",
            "10 7 13 0 3 \n",
            "7 4 10 6 0 \n"
          ]
        }
      ]
    },
    {
      "cell_type": "markdown",
      "source": [
        "# 정렬"
      ],
      "metadata": {
        "id": "e-dZXDlpUyfm"
      }
    },
    {
      "cell_type": "code",
      "source": [
        "#@title 프로그래머스 베스트앨범 https://school.programmers.co.kr/learn/courses/30/lessons/42579\n",
        "# lv 3\n",
        "\n",
        "genres = [\"classic\", \"pop\", \"classic\", \"classic\", \"pop\"]\n",
        "plays = [500, 600, 150, 800, 2500]\n",
        "def solution(genres, plays) :\n",
        "    answer = []\n",
        "    g_sums = dict((x, [0, []]) for x in set(genres))\n",
        "    n = len(genres)\n",
        "    for i in range(n) :\n",
        "        g_sums[genres[i]][0] += plays[i]\n",
        "        g_sums[genres[i]][1].append((i, plays[i]))\n",
        "    g_sums = dict(sorted(g_sums.items(), key=lambda x : x[1][0], reverse=True))\n",
        "    for genre in g_sums :\n",
        "        g_sums[genre][1] = sorted(g_sums[genre][1], key=lambda x : (x[1], -x[0]))\n",
        "        cnt = 0\n",
        "        while g_sums[genre][1] :\n",
        "            answer.append(g_sums[genre][1].pop()[0])\n",
        "            cnt += 1\n",
        "            if cnt == 2 :\n",
        "                break\n",
        "    return answer\n",
        "\n",
        "print(solution(genres, plays))"
      ],
      "metadata": {
        "colab": {
          "base_uri": "https://localhost:8080/"
        },
        "id": "Pk-oLkJBV7sY",
        "outputId": "d40b8ea2-d3c3-4b42-c3be-521e5d8c49fc"
      },
      "execution_count": null,
      "outputs": [
        {
          "output_type": "stream",
          "name": "stdout",
          "text": [
            "[4, 1, 3, 0]\n"
          ]
        }
      ]
    },
    {
      "cell_type": "code",
      "source": [
        "x = [[2,3,4], [1, 5, 6]]\n",
        "del x[0][1]\n",
        "print(x)"
      ],
      "metadata": {
        "id": "6uHH1OFktlBw",
        "colab": {
          "base_uri": "https://localhost:8080/"
        },
        "outputId": "a00691e4-d2c4-4288-d7f2-2cc8099da652"
      },
      "execution_count": null,
      "outputs": [
        {
          "output_type": "stream",
          "name": "stdout",
          "text": [
            "[[2, 4], [1, 5, 6]]\n"
          ]
        }
      ]
    },
    {
      "cell_type": "code",
      "source": [],
      "metadata": {
        "id": "-3YQeXezgLN9"
      },
      "execution_count": null,
      "outputs": []
    }
  ]
}