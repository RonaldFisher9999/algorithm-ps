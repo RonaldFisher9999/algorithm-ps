{
 "cells": [
  {
   "cell_type": "code",
   "execution_count": 200,
   "id": "bb1fa11a",
   "metadata": {},
   "outputs": [
    {
     "name": "stdout",
     "output_type": "stream",
     "text": [
      "3\n"
     ]
    }
   ],
   "source": [
    "# 공유기 설치 https://www.acmicpc.net/problem/2110\n",
    "input = open(\"input.txt\").readline\n",
    "\n",
    "from bisect import bisect_left\n",
    "\n",
    "n, c = map(int, input().split())\n",
    "arr = sorted([int(input()) for _ in range(n)])\n",
    "# print(n, c)\n",
    "# print(arr)\n",
    "# 1, 2, 4, 8, 9\n",
    "def check(mid, arr, cnt, n):\n",
    "    cur_idx = 0\n",
    "    while True:\n",
    "        next_idx = bisect_left(arr, arr[cur_idx] + mid)\n",
    "        cnt -= 1\n",
    "        if next_idx > n - 1:\n",
    "            return next_idx\n",
    "        if cnt == 0:\n",
    "            return next_idx\n",
    "        cur_idx = next_idx\n",
    "\n",
    "def bin_search(arr, n, c):\n",
    "    low = 1\n",
    "    high = arr[-1] - arr[0] + 1\n",
    "    while low + 1 < high:\n",
    "        mid = (low + high) // 2\n",
    "        last_idx = check(mid, arr, c - 1, n)\n",
    "        # print(\"range\", low, mid, high)\n",
    "        # print(\"last\", last_idx)\n",
    "        if last_idx < n:\n",
    "            low = mid\n",
    "        else:\n",
    "            high = mid\n",
    "    # print(\"return\", low, high)\n",
    "    return low\n",
    "\n",
    "print(bin_search(arr, n, c))\n"
   ]
  },
  {
   "cell_type": "code",
   "execution_count": 181,
   "id": "aae9702d",
   "metadata": {},
   "outputs": [],
   "source": [
    "\n",
    "\n",
    "# def search_next(cur, step, arr):\n",
    "#     next_house = bisect_left(arr, arr[cur] + step) \n",
    "#     return next_house\n",
    "\n",
    "# def bin_search(arr, n, c):\n",
    "#     max_step = (arr[-1] - arr[0]) // (c - 1)\n",
    "#     # print(\"max_step\", max_step)\n",
    "#     for step in range(max_step, 0, -1):\n",
    "#         # print(\"step\", step)\n",
    "#         cur = 0\n",
    "#         cnt = c - 1\n",
    "#         while True:\n",
    "#             next_house = search_next(cur, step, arr)\n",
    "#             # print(\"next\", next_house)\n",
    "#             cnt -= 1\n",
    "#             if next_house > n - 1:\n",
    "#                 # print(\"out of range. 1 step lower\")\n",
    "#                 break\n",
    "#             if cnt == 0:\n",
    "#                 return step\n",
    "#             cur = next_house\n",
    "# # print(search_next(0, 4, arr))\n",
    "# print(bin_search(arr, n, c))"
   ]
  },
  {
   "cell_type": "code",
   "execution_count": 178,
   "id": "7e7d88b7",
   "metadata": {},
   "outputs": [
    {
     "name": "stdout",
     "output_type": "stream",
     "text": [
      "4\n"
     ]
    }
   ],
   "source": [
    "from bisect import bisect_left\n",
    "# help(bisect_left)\n",
    "x = [3, 5, 7, 11, 13]\n",
    "print(bisect_left(x, 12))"
   ]
  },
  {
   "cell_type": "code",
   "execution_count": 136,
   "id": "c17bda33",
   "metadata": {},
   "outputs": [
    {
     "data": {
      "text/plain": [
       "['__builtins__',\n",
       " '__cached__',\n",
       " '__doc__',\n",
       " '__file__',\n",
       " '__loader__',\n",
       " '__name__',\n",
       " '__package__',\n",
       " '__spec__',\n",
       " 'bisect',\n",
       " 'bisect_left',\n",
       " 'bisect_right',\n",
       " 'insort',\n",
       " 'insort_left',\n",
       " 'insort_right']"
      ]
     },
     "execution_count": 136,
     "metadata": {},
     "output_type": "execute_result"
    }
   ],
   "source": [
    "import bisect\n",
    "dir(bisect)"
   ]
  },
  {
   "cell_type": "code",
   "execution_count": 118,
   "id": "413ed652",
   "metadata": {},
   "outputs": [
    {
     "name": "stdout",
     "output_type": "stream",
     "text": [
      "3\n"
     ]
    }
   ],
   "source": [
    "from bisect import insort, bisect\n",
    "# dir(bisect)\n",
    "# help(bisect.insort)\n",
    "# x = [2, 3, 5, 7, 11, 13, 17, 19, 23, 29, 31]\n",
    "print(bisect(x, (36)**(0.5)))\n",
    "# 36, 18, 12, 9, 6, 4, 3, 2, 1"
   ]
  },
  {
   "cell_type": "code",
   "execution_count": 117,
   "id": "c2058d55",
   "metadata": {},
   "outputs": [
    {
     "data": {
      "text/plain": [
       "True"
      ]
     },
     "execution_count": 117,
     "metadata": {},
     "output_type": "execute_result"
    }
   ],
   "source": [
    "int(36 ** (0.5)) == 36 ** (0.5) "
   ]
  }
 ],
 "metadata": {
  "kernelspec": {
   "display_name": "Python 3 (ipykernel)",
   "language": "python",
   "name": "python3"
  },
  "language_info": {
   "codemirror_mode": {
    "name": "ipython",
    "version": 3
   },
   "file_extension": ".py",
   "mimetype": "text/x-python",
   "name": "python",
   "nbconvert_exporter": "python",
   "pygments_lexer": "ipython3",
   "version": "3.10.3"
  },
  "toc": {
   "base_numbering": 1,
   "nav_menu": {},
   "number_sections": true,
   "sideBar": true,
   "skip_h1_title": false,
   "title_cell": "Table of Contents",
   "title_sidebar": "Contents",
   "toc_cell": false,
   "toc_position": {},
   "toc_section_display": true,
   "toc_window_display": false
  },
  "varInspector": {
   "cols": {
    "lenName": 16,
    "lenType": 16,
    "lenVar": 40
   },
   "kernels_config": {
    "python": {
     "delete_cmd_postfix": "",
     "delete_cmd_prefix": "del ",
     "library": "var_list.py",
     "varRefreshCmd": "print(var_dic_list())"
    },
    "r": {
     "delete_cmd_postfix": ") ",
     "delete_cmd_prefix": "rm(",
     "library": "var_list.r",
     "varRefreshCmd": "cat(var_dic_list()) "
    }
   },
   "types_to_exclude": [
    "module",
    "function",
    "builtin_function_or_method",
    "instance",
    "_Feature"
   ],
   "window_display": false
  },
  "vscode": {
   "interpreter": {
    "hash": "dfacda2fdeeaacdd740fe5c66c89c97705c9508b64028ea0dce702e0ae9956cd"
   }
  }
 },
 "nbformat": 4,
 "nbformat_minor": 5
}
