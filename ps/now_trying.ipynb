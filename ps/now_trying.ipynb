{
 "cells": [
  {
   "cell_type": "code",
   "execution_count": 59,
   "id": "189ad23f",
   "metadata": {
    "ExecuteTime": {
     "end_time": "2023-04-01T20:20:49.672835Z",
     "start_time": "2023-04-01T20:20:49.660477Z"
    }
   },
   "outputs": [
    {
     "name": "stdout",
     "output_type": "stream",
     "text": [
      "26\n"
     ]
    }
   ],
   "source": [
    "# 불우이웃돕기 https://www.acmicpc.net/problem/1414\n",
    "input = open(\"input.txt\").readline\n",
    "\n",
    "n = int(input())\n",
    "# 알파벳 숫자로 변환\n",
    "def alph_to_num(string) :\n",
    "    if string == \"0\" :\n",
    "        return 0\n",
    "    if string.isupper() :\n",
    "        return ord(string) - 38\n",
    "    else :\n",
    "        return ord(string) - 96\n",
    "    \n",
    "edges = list()\n",
    "total = 0\n",
    "for i in range(n) :\n",
    "    i_edge = list(map(alph_to_num, input().rstrip()))\n",
    "    for j in range(n) :\n",
    "        if i_edge[j] :\n",
    "            total += i_edge[j]\n",
    "            edges.append((i_edge[j], i, j))\n",
    "edges.sort()\n",
    "parent = list(range(n))\n",
    "\n",
    "def find_parent(x) :\n",
    "    if parent[x] != x :\n",
    "        parent[x] = find_parent(parent[x])\n",
    "    return parent[x]\n",
    "\n",
    "def union(a, b) :\n",
    "    a = find_parent(a)\n",
    "    b = find_parent(b)\n",
    "    if a < b :\n",
    "        parent[b] = a\n",
    "    else :\n",
    "        parent[a] = b\n",
    "        \n",
    "def msp() :\n",
    "    global total\n",
    "    for edge in edges :\n",
    "        cost, a, b = edge\n",
    "        if find_parent(a) != find_parent(b) :\n",
    "            union(a, b)\n",
    "            total -= cost\n",
    "    for i in range(n) :\n",
    "        if find_parent(i) != 0 :\n",
    "            return -1\n",
    "    return total\n",
    "    \n",
    "print(msp())"
   ]
  },
  {
   "cell_type": "code",
   "execution_count": 13,
   "id": "a232d48b",
   "metadata": {
    "ExecuteTime": {
     "end_time": "2023-04-01T19:03:09.383566Z",
     "start_time": "2023-04-01T19:03:09.376621Z"
    }
   },
   "outputs": [
    {
     "name": "stdout",
     "output_type": "stream",
     "text": [
      "97\n"
     ]
    }
   ],
   "source": [
    "print(ord(\"a\"))"
   ]
  },
  {
   "cell_type": "code",
   "execution_count": 11,
   "id": "2d168d7d",
   "metadata": {
    "ExecuteTime": {
     "end_time": "2023-04-01T19:01:46.157128Z",
     "start_time": "2023-04-01T19:01:46.145908Z"
    }
   },
   "outputs": [
    {
     "data": {
      "text/plain": [
       "True"
      ]
     },
     "execution_count": 11,
     "metadata": {},
     "output_type": "execute_result"
    }
   ],
   "source": [
    "\"H\".isupper()"
   ]
  }
 ],
 "metadata": {
  "kernelspec": {
   "display_name": "Python 3 (ipykernel)",
   "language": "python",
   "name": "python3"
  },
  "language_info": {
   "codemirror_mode": {
    "name": "ipython",
    "version": 3
   },
   "file_extension": ".py",
   "mimetype": "text/x-python",
   "name": "python",
   "nbconvert_exporter": "python",
   "pygments_lexer": "ipython3",
   "version": "3.9.13"
  },
  "toc": {
   "base_numbering": 1,
   "nav_menu": {},
   "number_sections": true,
   "sideBar": true,
   "skip_h1_title": false,
   "title_cell": "Table of Contents",
   "title_sidebar": "Contents",
   "toc_cell": false,
   "toc_position": {},
   "toc_section_display": true,
   "toc_window_display": false
  },
  "varInspector": {
   "cols": {
    "lenName": 16,
    "lenType": 16,
    "lenVar": 40
   },
   "kernels_config": {
    "python": {
     "delete_cmd_postfix": "",
     "delete_cmd_prefix": "del ",
     "library": "var_list.py",
     "varRefreshCmd": "print(var_dic_list())"
    },
    "r": {
     "delete_cmd_postfix": ") ",
     "delete_cmd_prefix": "rm(",
     "library": "var_list.r",
     "varRefreshCmd": "cat(var_dic_list()) "
    }
   },
   "types_to_exclude": [
    "module",
    "function",
    "builtin_function_or_method",
    "instance",
    "_Feature"
   ],
   "window_display": false
  },
  "vscode": {
   "interpreter": {
    "hash": "dfacda2fdeeaacdd740fe5c66c89c97705c9508b64028ea0dce702e0ae9956cd"
   }
  }
 },
 "nbformat": 4,
 "nbformat_minor": 5
}
