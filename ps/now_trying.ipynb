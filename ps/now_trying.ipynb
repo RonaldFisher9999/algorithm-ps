{
 "cells": [
  {
   "cell_type": "code",
   "execution_count": 16,
   "id": "e7cb20cf",
   "metadata": {
    "ExecuteTime": {
     "end_time": "2023-03-23T16:57:47.645152Z",
     "start_time": "2023-03-23T16:57:47.627527Z"
    }
   },
   "outputs": [
    {
     "name": "stdout",
     "output_type": "stream",
     "text": [
      "[0, 10, 0, 0, 0, 0, 0, 0, 0, 0, 0, 0, 0, 0, 0, 0]\n",
      "[0, 0, 0, 9, 0, 0, 0, 0, 0, 0, 0, 0, 0, 0, 0, 0]\n",
      "[0, 0, 0, 0, 0, 0, 0, 8, 0, 0, 0, 0, 0, 0, 0, 0]\n",
      "[0, 0, 0, 0, 0, 0, 0, 0, 0, 0, 0, 0, 0, 0, 0, 7]\n",
      "10\n",
      "1 2 3 4 "
     ]
    }
   ],
   "source": [
    "# Bottleneck Travelling Salesman Problem (Large) https://www.acmicpc.net/problem/24519\n",
    "input = open(\"input.txt\").readline\n",
    "\n",
    "n, m = map(int, input().split())\n",
    "INF = int(1e8)\n",
    "graph = [[INF] * n for _ in range(n)]\n",
    "for _ in range(m) :\n",
    "    u, v, c = map(int, input().split())\n",
    "    graph[u-1][v-1] = c\n",
    "dp = [[0] * (1 << n) for _ in range(n)]\n",
    "\n",
    "def dp_dfs(now, visited) :\n",
    "    # 모든 정점 다 순회했으면\n",
    "    if visited == (1 << n) - 1 :\n",
    "        # now에서 시작점으로 가는 비용 dp 테이블에 저장하고 반환\n",
    "        dp[now][visited] = graph[now][0]\n",
    "        return dp[now][visited]\n",
    "    # 이미 방문했으면 비용 반환\n",
    "    if dp[now][visited] :\n",
    "        return dp[now][visited]\n",
    "    # 현재 정점의 비용 초기화\n",
    "    now_cost = INF\n",
    "    # 시작점을 제외한 모든 정점 탐색\n",
    "    for i in range(1, n) :\n",
    "        # 현재 정점 now와 간선이 존재하고 방문하지 않은 정점 i 방문\n",
    "        if graph[now][i] != INF and not visited & (1 << i) :\n",
    "            # now에서 i를 거쳐 시작점까지 순회하는 비용 계산\n",
    "            now_i_cost = max(dp_dfs(i, visited | (1 << i)), graph[now][i])\n",
    "            # 현재 정점의 비용 갱신\n",
    "            now_cost = min(now_cost, now_i_cost)\n",
    "    # dp 테이블에 저장하고 반환\n",
    "    dp[now][visited] = now_cost\n",
    "    return dp[now][visited]\n",
    "\n",
    "def get_route(now, visited) :\n",
    "    # 총 길이 n의 경로 출력\n",
    "    for _ in range(n) :\n",
    "        # 현재 정점 출력\n",
    "        print(now + 1, end=\" \")\n",
    "        # 시작점 제외한 모든 정점 탐색\n",
    "        for i in range(1, n) :\n",
    "            # 방문한적 없고, 비용이 동일한 정점 i 방문\n",
    "            if not visited & (1 << i) and dp[now][visited] == max(dp[i][visited | (1 << i)], graph[now][i]) :\n",
    "                    now = i\n",
    "                    visited |= (1 << i)\n",
    "                    break\n",
    "                \n",
    "answer = dp_dfs(0, 1)\n",
    "print(*dp, sep=\"\\n\")\n",
    "if answer == INF :\n",
    "    print(-1)\n",
    "else :\n",
    "    print(answer)\n",
    "    get_route(0, 1)"
   ]
  },
  {
   "cell_type": "code",
   "execution_count": 3,
   "id": "c7534ec1",
   "metadata": {
    "ExecuteTime": {
     "end_time": "2023-03-23T15:52:53.787058Z",
     "start_time": "2023-03-23T15:52:53.773603Z"
    }
   },
   "outputs": [
    {
     "name": "stdout",
     "output_type": "stream",
     "text": [
      "5\n",
      "1 2 3 5 4 "
     ]
    }
   ],
   "source": [
    "# 현재 위치 now, 지금까지 visited의 정점들 방문했음\n",
    "# 남은 정점들 모두 방문 후 시작점(0)으로 돌아갈 때 최대비용 간선의 최소값\n",
    "def dp_dfs(now, visited) :\n",
    "    # 모든 정점 다 방문했을때\n",
    "    if visited == (1 << n) - 1 :\n",
    "        # now에서 시작점으로 갈 수 있는 경우\n",
    "        if graph[now][0] :\n",
    "            dp[now][visited] = graph[now][0]\n",
    "            return dp[now][visited]\n",
    "        # 갈 수 없는 경우\n",
    "        dp[now][visited] = INF\n",
    "        return dp[now][visited]\n",
    "    # 이미 방문한 경우\n",
    "    if dp[now][visited] != -1 :\n",
    "        return dp[now][visited]\n",
    "    # 현재 비용 초기화\n",
    "    dp[now][visited] = INF\n",
    "    # 시작점(0)을 제외한 모든 정점 탐색\n",
    "    for i in range(1, n) :\n",
    "        # 다른 정점으로의 간선이 있고 방문한적 없을때\n",
    "        if graph[now][i] and not visited & (1 << i) :\n",
    "            i_visited = visited | (1 << i)\n",
    "            # i에서의 최소비용\n",
    "            cost_i = dp_dfs(i, i_visited)\n",
    "            # now -> i를 거쳐가는 비용\n",
    "            cost_now_i = max(graph[now][i], cost_i)\n",
    "            # 현재 비용보다 i를 거쳐가는 비용이 더 작으면 갱신\n",
    "            if dp[now][visited] > cost_now_i :\n",
    "                dp[now][visited] = cost_now_i\n",
    "    return dp[now][visited]\n",
    "\n",
    "def get_route(now, visited) :\n",
    "    for _ in range(n) :\n",
    "        print(now + 1, end=\" \")\n",
    "        for i in range(1, n) :\n",
    "            if graph[now][i] and not visited & (1 << i) :\n",
    "                if dp[now][visited] == max(dp[i][visited | (1 << i)], graph[now][i]) :\n",
    "                    now = i\n",
    "                    visited |= (1 << i)\n",
    "                    break\n",
    "                \n",
    "answer = dp_dfs(0, 1)\n",
    "if answer == INF :\n",
    "    print(-1)\n",
    "else :\n",
    "    print(answer)\n",
    "    get_route(0, 1)"
   ]
  },
  {
   "cell_type": "code",
   "execution_count": null,
   "id": "873fa2c6",
   "metadata": {},
   "outputs": [],
   "source": []
  }
 ],
 "metadata": {
  "kernelspec": {
   "display_name": "Python 3 (ipykernel)",
   "language": "python",
   "name": "python3"
  },
  "language_info": {
   "codemirror_mode": {
    "name": "ipython",
    "version": 3
   },
   "file_extension": ".py",
   "mimetype": "text/x-python",
   "name": "python",
   "nbconvert_exporter": "python",
   "pygments_lexer": "ipython3",
   "version": "3.9.13"
  },
  "toc": {
   "base_numbering": 1,
   "nav_menu": {},
   "number_sections": true,
   "sideBar": true,
   "skip_h1_title": false,
   "title_cell": "Table of Contents",
   "title_sidebar": "Contents",
   "toc_cell": false,
   "toc_position": {},
   "toc_section_display": true,
   "toc_window_display": false
  },
  "varInspector": {
   "cols": {
    "lenName": 16,
    "lenType": 16,
    "lenVar": 40
   },
   "kernels_config": {
    "python": {
     "delete_cmd_postfix": "",
     "delete_cmd_prefix": "del ",
     "library": "var_list.py",
     "varRefreshCmd": "print(var_dic_list())"
    },
    "r": {
     "delete_cmd_postfix": ") ",
     "delete_cmd_prefix": "rm(",
     "library": "var_list.r",
     "varRefreshCmd": "cat(var_dic_list()) "
    }
   },
   "types_to_exclude": [
    "module",
    "function",
    "builtin_function_or_method",
    "instance",
    "_Feature"
   ],
   "window_display": false
  },
  "vscode": {
   "interpreter": {
    "hash": "dfacda2fdeeaacdd740fe5c66c89c97705c9508b64028ea0dce702e0ae9956cd"
   }
  }
 },
 "nbformat": 4,
 "nbformat_minor": 5
}
