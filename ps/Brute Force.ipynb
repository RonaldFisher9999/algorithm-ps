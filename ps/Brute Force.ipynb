{
 "cells": [
  {
   "cell_type": "markdown",
   "id": "a650ce8f",
   "metadata": {},
   "source": [
    "# 브루트포스"
   ]
  },
  {
   "cell_type": "markdown",
   "id": "5b2f230b",
   "metadata": {},
   "source": [
    "## 백준 14500 테트로미노\n",
    "https://www.acmicpc.net/problem/14500"
   ]
  },
  {
   "cell_type": "code",
   "execution_count": null,
   "id": "739507e2",
   "metadata": {},
   "outputs": [],
   "source": [
    "# n : 세로, m : 가로\n",
    "n, m = map(int, input().split())\n",
    "graph = [list(map(int, input().split())) for _ in range(n)]\n",
    "# graph = [[1, 2, 3, 4, 5],\n",
    "#          [5, 4, 3, 2, 1],\n",
    "#          [2, 3, 4, 5, 6],\n",
    "#          [6, 5, 4, 3, 2],\n",
    "#          [1, 2, 1, 2, 1]]\n",
    "\n",
    "graph_r = []\n",
    "for j in range(m) :\n",
    "    graph_r.append([graph[i][j] for i in range(n)])\n",
    "\n",
    "def tetromino(graph, n, m) :\n",
    "    sol = 0\n",
    "    # ㅡ\n",
    "    for i in range(n) :\n",
    "        for j in range(m - 3) :\n",
    "            tetro = sum(graph[i][j:j+4])\n",
    "            sol = max(sol, tetro)\n",
    "    # l\n",
    "    for i in range(m) :\n",
    "        for j in range(n - 3) :\n",
    "            tetro = sum(graph_r[i][j:j+4])\n",
    "            sol = max(sol, tetro)\n",
    "    # ㅁ\n",
    "    for i in range(n - 1) :\n",
    "        for j in range(m - 1) :\n",
    "            tetro = sum([graph[i][j], graph[i][j+1], graph[i+1][j], graph[i+1][j+1]])\n",
    "            sol = max(sol, tetro)\n",
    "    # L\n",
    "    for i in range(n - 1) :\n",
    "        for j in range(m - 2) :\n",
    "            tetro = sum(graph[i][j:j+3]) + graph[i+1][j]\n",
    "            sol = max(sol, tetro)\n",
    "            tetro = sum(graph[i][j:j+3]) + graph[i+1][j+2]\n",
    "            sol = max(sol, tetro)\n",
    "            tetro = graph[i][j] + sum(graph[i+1][j:j+3])\n",
    "            sol = max(sol, tetro)\n",
    "            tetro = graph[i][j+2] + sum(graph[i+1][j:j+3])\n",
    "            sol = max(sol, tetro)\n",
    "\n",
    "    for i in range(m - 1) :\n",
    "        for j in range(n - 2) :\n",
    "            tetro = sum(graph_r[i][j:j+3]) + graph_r[i+1][j]\n",
    "            sol = max(sol, tetro)\n",
    "            tetro = sum(graph_r[i][j:j+3]) + graph_r[i+1][j+2]\n",
    "            sol = max(sol, tetro)\n",
    "            tetro = graph_r[i][j] + sum(graph_r[i+1][j:j+3])\n",
    "            sol = max(sol, tetro)\n",
    "            tetro = graph_r[i][j+2] + sum(graph_r[i+1][j:j+3])\n",
    "            sol = max(sol, tetro)\n",
    "    # ㅗ\n",
    "    for i in range(n - 1) :\n",
    "        for j in range(m - 2) :\n",
    "            tetro = sum(graph[i][j:j+3]) + graph[i+1][j+1]\n",
    "            sol = max(sol, tetro)\n",
    "            tetro = graph[i][j+1] + sum(graph[i+1][j:j+3])\n",
    "            sol = max(sol, tetro)\n",
    "\n",
    "    for i in range(m - 1) :\n",
    "        for j in range(n - 2) :\n",
    "            tetro = sum(graph_r[i][j:j+3]) + graph_r[i+1][j+1]\n",
    "            sol = max(sol, tetro)\n",
    "            tetro = graph_r[i][j+1] + sum(graph_r[i+1][j:j+3])\n",
    "            sol = max(sol, tetro)\n",
    "    # z\n",
    "    for i in range(n - 2) :\n",
    "        for j in range(m - 1) :\n",
    "            tetro = graph[i][j] + sum(graph[i+1][j:j+2]) + graph[i+2][j+1]\n",
    "            sol = max(sol, tetro)\n",
    "            tetro = graph[i][j+1] + sum(graph[i+1][j:j+2]) + graph[i+2][j]\n",
    "            sol = max(sol, tetro)\n",
    "\n",
    "    for i in range(m - 2) :\n",
    "        for j in range(n - 1) :\n",
    "            tetro = graph_r[i][j] + sum(graph_r[i+1][j:j+2]) + graph_r[i+2][j+1]\n",
    "            sol = max(sol, tetro)\n",
    "            tetro = graph_r[i][j+1] + sum(graph_r[i+1][j:j+2]) + graph_r[i+2][j]\n",
    "            sol = max(sol, tetro)\n",
    "    return sol\n",
    "       \n",
    "print(tetromino(graph, n, m))"
   ]
  },
  {
   "cell_type": "markdown",
   "id": "abcb95bb",
   "metadata": {},
   "source": [
    "## 백준 15686 치킨 배달\n",
    "https://www.acmicpc.net/problem/15686"
   ]
  },
  {
   "cell_type": "code",
   "execution_count": null,
   "id": "c5db7181",
   "metadata": {},
   "outputs": [],
   "source": [
    "from itertools import combinations as comb\n",
    "n, m = map(int, input().split())\n",
    "graph = list()\n",
    "all_home = list()\n",
    "all_chic = list()\n",
    "for i in range(n) :\n",
    "    array = list(map(int, input().split()))\n",
    "    graph.append(array)\n",
    "    for j in range(n) :\n",
    "        if array[j] == 1 :\n",
    "            all_home.append((i, j))\n",
    "        elif array[j] == 2 :\n",
    "            all_chic.append((i, j))\n",
    "# garph = [[0, 2, 0, 1, 0],\n",
    "#          [1, 0, 1, 0, 0],\n",
    "#          [0, 0, 0, 0, 0],\n",
    "#          [2, 0, 0, 1, 1],\n",
    "#          [2, 2, 0, 1, 2]]\n",
    "# all_home = [(0, 3), (1, 0), (1, 2), (3, 3), (3, 4), (4, 3)]\n",
    "# all_chic = [(0, 1), (3, 0), (4, 0), (4, 1), (4, 4)]\n",
    "\n",
    "def chic_dist(home, chic) :\n",
    "    return abs(home[0] - chic[0]) + abs(home[1] - chic[1])\n",
    "\n",
    "home_chic_dist = dict()\n",
    "for home in all_home :\n",
    "    chic_dists = dict()\n",
    "    for chic in all_chic :\n",
    "        chic_dists[chic] = chic_dist(home, chic)\n",
    "    home_chic_dist[home] = chic_dists  \n",
    "\n",
    "min_dist = int(1e9) \n",
    "for remain in comb(all_chic, m) :\n",
    "    now_dist = 0\n",
    "    for home, chic_dists in home_chic_dist.items() :\n",
    "        min_chic_dist = int(1e9)\n",
    "        for chic in remain :\n",
    "            min_chic_dist = min(min_chic_dist, chic_dists[chic])\n",
    "        now_dist += min_chic_dist\n",
    "        if now_dist >= min_dist :\n",
    "            break\n",
    "    min_dist = min(min_dist, now_dist)\n",
    "\n",
    "print(min_dist)"
   ]
  }
 ],
 "metadata": {
  "kernelspec": {
   "display_name": "Python 3 (ipykernel)",
   "language": "python",
   "name": "python3"
  },
  "language_info": {
   "codemirror_mode": {
    "name": "ipython",
    "version": 3
   },
   "file_extension": ".py",
   "mimetype": "text/x-python",
   "name": "python",
   "nbconvert_exporter": "python",
   "pygments_lexer": "ipython3",
   "version": "3.9.13"
  },
  "toc": {
   "base_numbering": 1,
   "nav_menu": {},
   "number_sections": true,
   "sideBar": true,
   "skip_h1_title": false,
   "title_cell": "Table of Contents",
   "title_sidebar": "Contents",
   "toc_cell": false,
   "toc_position": {},
   "toc_section_display": true,
   "toc_window_display": false
  },
  "varInspector": {
   "cols": {
    "lenName": 16,
    "lenType": 16,
    "lenVar": 40
   },
   "kernels_config": {
    "python": {
     "delete_cmd_postfix": "",
     "delete_cmd_prefix": "del ",
     "library": "var_list.py",
     "varRefreshCmd": "print(var_dic_list())"
    },
    "r": {
     "delete_cmd_postfix": ") ",
     "delete_cmd_prefix": "rm(",
     "library": "var_list.r",
     "varRefreshCmd": "cat(var_dic_list()) "
    }
   },
   "types_to_exclude": [
    "module",
    "function",
    "builtin_function_or_method",
    "instance",
    "_Feature"
   ],
   "window_display": false
  }
 },
 "nbformat": 4,
 "nbformat_minor": 5
}
