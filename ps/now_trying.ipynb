{
 "cells": [
  {
   "cell_type": "code",
   "execution_count": 2,
   "id": "bb1fa11a",
   "metadata": {},
   "outputs": [
    {
     "name": "stdout",
     "output_type": "stream",
     "text": [
      "164\n"
     ]
    }
   ],
   "source": [
    "# 보석도둑 https://www.acmicpc.net/problem/1202\n",
    "input = open(\"input.txt\").readline\n",
    "\n",
    "import heapq\n",
    "\n",
    "n, k = map(int, input().split())\n",
    "jewels = sorted([tuple(map(int, input().split())) for _ in range(n)], reverse=True)\n",
    "bags = sorted([int(input()) for _ in range(k)])\n",
    "# print(n, k)\n",
    "# print(jewels)\n",
    "# print(bags)\n",
    "\n",
    "answer = 0\n",
    "hq = []\n",
    "for bag in bags:\n",
    "    while jewels:\n",
    "        if jewels[-1][0] <= bag:\n",
    "            m, v = jewels.pop()\n",
    "            heapq.heappush(hq, -v)\n",
    "        else:\n",
    "            break\n",
    "    if not hq:\n",
    "        continue\n",
    "    else:\n",
    "        answer -= heapq.heappop(hq)\n",
    "\n",
    "print(answer)"
   ]
  },
  {
   "cell_type": "code",
   "execution_count": 8,
   "id": "8c8db2af",
   "metadata": {},
   "outputs": [
    {
     "name": "stdout",
     "output_type": "stream",
     "text": [
      "Help on built-in function heappop in module _heapq:\n",
      "\n",
      "heappop(heap, /)\n",
      "    Pop the smallest item off the heap, maintaining the heap invariant.\n",
      "\n"
     ]
    }
   ],
   "source": [
    "import heapq\n",
    "help(heapq.heappop)"
   ]
  }
 ],
 "metadata": {
  "kernelspec": {
   "display_name": "Python 3 (ipykernel)",
   "language": "python",
   "name": "python3"
  },
  "language_info": {
   "codemirror_mode": {
    "name": "ipython",
    "version": 3
   },
   "file_extension": ".py",
   "mimetype": "text/x-python",
   "name": "python",
   "nbconvert_exporter": "python",
   "pygments_lexer": "ipython3",
   "version": "3.10.3"
  },
  "toc": {
   "base_numbering": 1,
   "nav_menu": {},
   "number_sections": true,
   "sideBar": true,
   "skip_h1_title": false,
   "title_cell": "Table of Contents",
   "title_sidebar": "Contents",
   "toc_cell": false,
   "toc_position": {},
   "toc_section_display": true,
   "toc_window_display": false
  },
  "varInspector": {
   "cols": {
    "lenName": 16,
    "lenType": 16,
    "lenVar": 40
   },
   "kernels_config": {
    "python": {
     "delete_cmd_postfix": "",
     "delete_cmd_prefix": "del ",
     "library": "var_list.py",
     "varRefreshCmd": "print(var_dic_list())"
    },
    "r": {
     "delete_cmd_postfix": ") ",
     "delete_cmd_prefix": "rm(",
     "library": "var_list.r",
     "varRefreshCmd": "cat(var_dic_list()) "
    }
   },
   "types_to_exclude": [
    "module",
    "function",
    "builtin_function_or_method",
    "instance",
    "_Feature"
   ],
   "window_display": false
  },
  "vscode": {
   "interpreter": {
    "hash": "dfacda2fdeeaacdd740fe5c66c89c97705c9508b64028ea0dce702e0ae9956cd"
   }
  }
 },
 "nbformat": 4,
 "nbformat_minor": 5
}
