{
 "cells": [
  {
   "cell_type": "markdown",
   "metadata": {
    "colab_type": "text",
    "id": "view-in-github"
   },
   "source": [
    "<a href=\"https://colab.research.google.com/github/RonaldFisher9999/study/blob/master/algorithm_problem_solving.ipynb\" target=\"_parent\"><img src=\"https://colab.research.google.com/assets/colab-badge.svg\" alt=\"Open In Colab\"/></a>"
   ]
  },
  {
   "cell_type": "markdown",
   "metadata": {
    "id": "namTubTaWd02"
   },
   "source": [
    "# 구현"
   ]
  },
  {
   "cell_type": "markdown",
   "metadata": {},
   "source": [
    "## 프로그래머스 실습용 로봇\n",
    "https://school.programmers.co.kr/learn/courses/15009/lessons/121687"
   ]
  },
  {
   "cell_type": "code",
   "execution_count": null,
   "metadata": {
    "id": "hu6MH02oWfod"
   },
   "outputs": [],
   "source": [
    "def solution(command) :\n",
    "    answer = []\n",
    "    direction = {0 : (0, 1), 1 : (1, 0), 2 : (0, -1), 3 : (-1, 0)}\n",
    "    robot_dir = 0\n",
    "    x, y = 0, 0\n",
    "    for c in command :\n",
    "        if c == \"R\" :\n",
    "            robot_dir = (robot_dir + 1) % 4\n",
    "        elif c == \"L\" :\n",
    "            robot_dir = (robot_dir - 1) % 4\n",
    "        elif c == \"G\" :\n",
    "            dx, dy = direction[robot_dir]\n",
    "            x += dx\n",
    "            y += dy\n",
    "        else :\n",
    "            dx, dy = direction[robot_dir]\n",
    "            x -= dx\n",
    "            y -= dy\n",
    "    answer = [x, y]\n",
    "    return answer"
   ]
  },
  {
   "cell_type": "markdown",
   "metadata": {
    "id": "GR7NVISEz84p"
   },
   "source": [
    "# 스택/큐"
   ]
  },
  {
   "cell_type": "markdown",
   "metadata": {},
   "source": [
    "## 백준 10828 스택\n",
    "https://www.acmicpc.net/problem/10828"
   ]
  },
  {
   "cell_type": "code",
   "execution_count": null,
   "metadata": {
    "colab": {
     "base_uri": "https://localhost:8080/"
    },
    "id": "gnoS43lJ0ERF",
    "outputId": "790f5f77-2106-4c6f-b8f2-d674361f47f3"
   },
   "outputs": [],
   "source": [
    "# import sys\n",
    "# input = sys.stdin.readline\n",
    "\n",
    "n = int(input())\n",
    "\n",
    "stack = list()\n",
    "for _ in range(n) :\n",
    "    command = input().split()\n",
    "    if command[0] == \"push\" :\n",
    "        stack.append(int(command[1]))   \n",
    "    elif command[0] == \"pop\" :\n",
    "        if stack :\n",
    "            print(stack.pop())\n",
    "        else :\n",
    "            print(-1)\n",
    "    elif command[0] == \"size\" :\n",
    "        print(len(stack))\n",
    "    elif command[0] == \"empty\" :\n",
    "        if stack :\n",
    "            print(0)\n",
    "        else :\n",
    "            print(1)\n",
    "    elif command[0] == \"top\" :\n",
    "        if stack :\n",
    "            print(stack[-1])\n",
    "        else :\n",
    "            print(-1)"
   ]
  },
  {
   "cell_type": "markdown",
   "metadata": {},
   "source": [
    "## 백준 10799 쇠막대기\n",
    "https://www.acmicpc.net/problem/10799"
   ]
  },
  {
   "cell_type": "code",
   "execution_count": null,
   "metadata": {
    "colab": {
     "base_uri": "https://localhost:8080/"
    },
    "id": "Tug0M9ko3rDU",
    "outputId": "bec2f087-e099-4202-ef2f-c30e6bc40bcf"
   },
   "outputs": [],
   "source": [
    "# ( -> 스택에 막대기 추가\n",
    "# () -> n이 스택 크기만큼 증가(현재 막대기 3개가가 있는데 레이저로 한번 자르면 3개가 더 생김)\n",
    "# ) -> n이 1 증가, 스택에서 막대기 제거\n",
    "\n",
    "n = 0\n",
    "stack = list()\n",
    "laser_stick = input()\n",
    "for i in range(len(laser_stick)) :\n",
    "    if laser_stick[i] == \"(\" :\n",
    "        if laser_stick[i + 1] == \")\" :\n",
    "            n += len(stack)\n",
    "        else :\n",
    "            stack.append(1)\n",
    "    elif laser_stick[i] == \")\" :\n",
    "        if laser_stick[i - 1] == \"(\" :\n",
    "            continue\n",
    "        n += 1\n",
    "        stack.pop()\n",
    "\n",
    "print(n)\n",
    "\n",
    "# ()(((()())(())()))(()) 17\n",
    "# (((()(()()))(())()))(()()) 24"
   ]
  },
  {
   "cell_type": "markdown",
   "metadata": {},
   "source": [
    "## 백준 2812 크게 만들기\n",
    "https://www.acmicpc.net/problem/2812  \n",
    "프로그래머스 https://school.programmers.co.kr/learn/courses/30/lessons/42883"
   ]
  },
  {
   "cell_type": "code",
   "execution_count": null,
   "metadata": {
    "colab": {
     "base_uri": "https://localhost:8080/"
    },
    "id": "ZzI1apeH2D80",
    "outputId": "df379042-a5a1-465d-9ea4-4fc572852e89"
   },
   "outputs": [],
   "source": [
    "n, k = map(int, input().split())\n",
    "number = input()\n",
    "stack = [number[0]]\n",
    "\n",
    "# 앞에서부터 하나씩 스택에 넣어줌\n",
    "for i in number[1:] :\n",
    "    # 지금 넣어줄 수보다 스택 최상단의 수가 작으면 하나씩 pop\n",
    "    # pop할 때마다 k 1씩 감소\n",
    "    while stack and int(stack[-1]) < int(i) and k > 0 :\n",
    "        stack.pop()\n",
    "        k -= 1\n",
    "    stack.append(i)\n",
    "# 만약 스택에 다 넣었는데 k가 남았으면 남은 k 만큼 스택에서 pop\n",
    "while k > 0 :\n",
    "    stack.pop()\n",
    "    k -= 1\n",
    "print(\"\".join(stack))\n",
    "# print(\"\".join(stack[:len(stack) - k]))"
   ]
  },
  {
   "cell_type": "markdown",
   "metadata": {},
   "source": [
    "## 백준 10845 큐\n",
    "https://www.acmicpc.net/problem/10845"
   ]
  },
  {
   "cell_type": "code",
   "execution_count": null,
   "metadata": {
    "colab": {
     "base_uri": "https://localhost:8080/"
    },
    "id": "gC5CePah1_vN",
    "outputId": "955f62bc-ad63-4e52-c38d-d2482f3db432"
   },
   "outputs": [],
   "source": [
    "from collections import deque\n",
    "\n",
    "n = int(input())\n",
    "q = deque()\n",
    "for _ in range(n) :\n",
    "    command = input().split()\n",
    "    if command[0] == \"push\" :\n",
    "        q.append(command[1])\n",
    "    elif command[0] == \"pop\" :\n",
    "        if q :\n",
    "            print(q.popleft())\n",
    "        else :\n",
    "            print(-1)\n",
    "    elif command[0] == \"size\" :\n",
    "        print(len(q))\n",
    "    elif command[0] == \"empty\" :\n",
    "        if q :\n",
    "            print(0)\n",
    "        else :\n",
    "            print(1)\n",
    "    elif command[0] == \"front\" :\n",
    "        if q :\n",
    "            print(q[0])\n",
    "        else :\n",
    "            print(-1)\n",
    "    elif command[0] == \"back\" :\n",
    "        if q :\n",
    "            print(q[-1])\n",
    "        else :\n",
    "            print(-1)"
   ]
  },
  {
   "cell_type": "markdown",
   "metadata": {},
   "source": [
    "## 백준 2164 카드 2\n",
    "https://www.acmicpc.net/problem/2164"
   ]
  },
  {
   "cell_type": "code",
   "execution_count": null,
   "metadata": {
    "colab": {
     "base_uri": "https://localhost:8080/"
    },
    "id": "MN3pbEoBUskm",
    "outputId": "1f049da3-a2ec-4218-cceb-18a521a5eb73"
   },
   "outputs": [],
   "source": [
    "from collections import deque\n",
    "\n",
    "n = int(input())\n",
    "array = deque(range(n, 0 , -1))\n",
    "\n",
    "while len(array) > 1 :\n",
    "    array.pop()\n",
    "    move = array[-1]\n",
    "    array.appendleft(move)\n",
    "    array.pop()\n",
    "    \n",
    "print(array[0])"
   ]
  },
  {
   "cell_type": "markdown",
   "metadata": {},
   "source": [
    "## 백준 9935 문자열 폭발\n",
    "https://www.acmicpc.net/problem/9935"
   ]
  },
  {
   "cell_type": "code",
   "execution_count": null,
   "metadata": {
    "colab": {
     "base_uri": "https://localhost:8080/"
    },
    "id": "hcJawxJ41Q5m",
    "outputId": "b4151225-e830-4a99-8cde-b2d99263ed80"
   },
   "outputs": [],
   "source": [
    "from collections import deque\n",
    "\n",
    "s = deque(input())\n",
    "# s = deque(\"12ab112ab2ab\")\n",
    "explode = list(input())\n",
    "\n",
    "new_s = list()\n",
    "n = len(explode)\n",
    "while len(s) >= 0 :\n",
    "    if len(new_s) >= n and new_s[-n:] == explode :\n",
    "            for _ in range(n) :\n",
    "                new_s.pop()\n",
    "    else :\n",
    "        if s :\n",
    "            new_s.append(s.popleft())\n",
    "        else :\n",
    "            break\n",
    "if new_s :\n",
    "    print(\"\".join(new_s))\n",
    "else :\n",
    "    print(\"FRULA\")"
   ]
  },
  {
   "cell_type": "code",
   "execution_count": null,
   "metadata": {
    "colab": {
     "base_uri": "https://localhost:8080/"
    },
    "id": "iqYZLi6WANIG",
    "outputId": "b6f924c8-b376-45c3-fc00-ee407f482529"
   },
   "outputs": [],
   "source": [
    "#@title 백준 AC https://www.acmicpc.net/problem/5430 실패\n",
    "\n",
    "from collections import deque\n",
    "\n",
    "def ac(command, array) :\n",
    "    while command :\n",
    "        if command[0] == 'D' :\n",
    "            if array :\n",
    "                command.popleft()\n",
    "                array.popleft()\n",
    "            else :\n",
    "                print(\"error\")\n",
    "                return\n",
    "        elif command[0] == 'R' :\n",
    "            cnt = 0\n",
    "            while command[0] == 'R' :\n",
    "                command.popleft()\n",
    "                cnt += 1\n",
    "                if not command :\n",
    "                    break\n",
    "            if cnt % 2 == 1 :\n",
    "                array = deque(list(array)[::-1])\n",
    "    if array :\n",
    "        print(\"[\", \",\".join(map(str, array)), \"]\", sep=\"\")\n",
    "        return\n",
    "    else :\n",
    "        print(\"error\")\n",
    "        return\n",
    "\n",
    "t = int(input())\n",
    "for _ in range(t) :\n",
    "    command = deque(input())\n",
    "    n = int(input())\n",
    "    array = deque(input().rstrip(\"]\").lstrip(\"[\").split(\",\"))\n",
    "    ac(command, array)"
   ]
  },
  {
   "cell_type": "markdown",
   "metadata": {
    "id": "maWeLExjO6o7"
   },
   "source": [
    "# 집합, 맵"
   ]
  },
  {
   "cell_type": "markdown",
   "metadata": {},
   "source": [
    "## 백준 9375 패션왕 신해빈\n",
    "https://www.acmicpc.net/problem/9375"
   ]
  },
  {
   "cell_type": "code",
   "execution_count": null,
   "metadata": {
    "colab": {
     "base_uri": "https://localhost:8080/"
    },
    "id": "uG5tOvQOO9Zh",
    "outputId": "b0324629-7b1a-4131-c3c2-62d8f5eb9c50"
   },
   "outputs": [],
   "source": [
    "from collections import defaultdict\n",
    "\n",
    "t = int(input())\n",
    "sols = []\n",
    "for _ in range(t) :\n",
    "    clothes = defaultdict(lambda : 1)\n",
    "    n = int(input())\n",
    "    for i in range(n) :\n",
    "        name, clo_type = input().split()\n",
    "        clothes[clo_type] += 1\n",
    "    mult = 1\n",
    "    for counts in clothes.values() :\n",
    "        mult *= counts\n",
    "    sols.append(mult - 1)\n",
    "\n",
    "print(*sols, sep=\"\\n\")"
   ]
  },
  {
   "cell_type": "markdown",
   "metadata": {},
   "source": [
    "## 백준 1764 듣보잡\n",
    "https://www.acmicpc.net/problem/1764"
   ]
  },
  {
   "cell_type": "code",
   "execution_count": null,
   "metadata": {
    "colab": {
     "base_uri": "https://localhost:8080/"
    },
    "id": "v-vVjoRibFCK",
    "outputId": "b8713de2-8eed-4c31-fd2d-cc54045c65c8"
   },
   "outputs": [],
   "source": [
    "n, m = map(int, input().split())\n",
    "heard = set()\n",
    "seen = set()\n",
    "for _ in range(n) :\n",
    "    heard.add(input())\n",
    "for _ in range(m) :\n",
    "    seen.add(input())\n",
    "\n",
    "heard_seen = sorted(heard & seen)\n",
    "print(len(heard_seen))\n",
    "print(*heard_seen, sep=\"\\n\")"
   ]
  },
  {
   "cell_type": "markdown",
   "metadata": {},
   "source": [
    "## 프로그래머스 롤케이크 자르기\n",
    "https://school.programmers.co.kr/learn/courses/30/lessons/132265\n",
    "- 인덱스마다 앞뒤로 쪼개서 집합의 길이 비교하면 시간 초과\n",
    "- 전체 topping을 대상으로 Counter를 적용한 top_1 셋팅\n",
    "- 앞에서부터 하나씩 집합 top_2에 추가하면서 top_1의 길이와 top_2의 길이 비교"
   ]
  },
  {
   "cell_type": "code",
   "execution_count": null,
   "metadata": {
    "ExecuteTime": {
     "end_time": "2023-01-24T10:39:23.237358Z",
     "start_time": "2023-01-24T10:39:23.217976Z"
    }
   },
   "outputs": [],
   "source": [
    "from collections import Counter\n",
    "def solution(topping) :\n",
    "    answer = 0\n",
    "    top_1 = Counter(topping)\n",
    "    top_2 = set()\n",
    "    for i in range(len(topping)) :크\n",
    "        top = topping[i]\n",
    "        top_2.add(top)\n",
    "        top_1[top] -= 1\n",
    "        if top_1[top] == 0 :\n",
    "            # 딕셔너리에서 특정 키 제거. del dict[key] 도 가능\n",
    "            top_1.pop(top)\n",
    "        if len(top_1) == len(top_2) :\n",
    "            answer += 1                         \n",
    "    return answer\n",
    "\n",
    "topping = [1, 2, 1, 3, 1, 4, 1, 2]\n",
    "print(solution(topping))"
   ]
  },
  {
   "cell_type": "markdown",
   "metadata": {
    "id": "Scq9YTKnzmNt"
   },
   "source": [
    "# 힙, 우선순위 큐"
   ]
  },
  {
   "cell_type": "markdown",
   "metadata": {},
   "source": [
    "## 백준 11279 최대 힙\n",
    "https://www.acmicpc.net/problem/11279"
   ]
  },
  {
   "cell_type": "code",
   "execution_count": null,
   "metadata": {
    "colab": {
     "base_uri": "https://localhost:8080/"
    },
    "id": "d39g_cWUzr4c",
    "outputId": "95adf7a7-342a-4269-91ef-cf5ceaeecc43"
   },
   "outputs": [],
   "source": [
    "# import sys\n",
    "# input = sys.stdin.readline\n",
    "import heapq\n",
    "\n",
    "q = []\n",
    "n = int(input())\n",
    "for _ in range(n) :\n",
    "    command = int(input())\n",
    "    if command == 0 :\n",
    "        if q :\n",
    "            print(-heapq.heappop(q))\n",
    "        else :\n",
    "            print(0)\n",
    "    else :\n",
    "        heapq.heappush(q, -command)"
   ]
  },
  {
   "cell_type": "markdown",
   "metadata": {},
   "source": [
    "## 백준 1715 카드 정렬하기\n",
    "https://www.acmicpc.net/problem/1715"
   ]
  },
  {
   "cell_type": "code",
   "execution_count": null,
   "metadata": {
    "colab": {
     "base_uri": "https://localhost:8080/"
    },
    "id": "OI33L-v02T-j",
    "outputId": "fb33fd51-6f01-4c59-b780-73562084d50f"
   },
   "outputs": [],
   "source": [
    "import heapq\n",
    "\n",
    "n = int(input())\n",
    "q = []\n",
    "for _ in range(n) :\n",
    "    size = int(input())\n",
    "    heapq.heappush(q, size)\n",
    "\n",
    "sol = 0\n",
    "# 10 15 18 20 30\n",
    "while len(q) > 1 :\n",
    "    size_now = 0\n",
    "    size_now += heapq.heappop(q)\n",
    "    size_now += heapq.heappop(q)\n",
    "    sol += size_now\n",
    "    heapq.heappush(q, size_now)\n",
    "\n",
    "print(sol)"
   ]
  },
  {
   "cell_type": "markdown",
   "metadata": {},
   "source": [
    "## 백준 1927 최소 힙\n",
    "https://www.acmicpc.net/problem/1927"
   ]
  },
  {
   "cell_type": "code",
   "execution_count": null,
   "metadata": {
    "id": "8mnjR_iYPirX"
   },
   "outputs": [],
   "source": [
    "import heapq\n",
    "\n",
    "q = []\n",
    "n = int(input())\n",
    "for _ in range(n) :\n",
    "    command = int(input())\n",
    "    if command == 0 :\n",
    "        if q :\n",
    "            print(heapq.heappop(q))\n",
    "        else :\n",
    "            print(0)\n",
    "    else :\n",
    "        heapq.heappus(q, command)"
   ]
  },
  {
   "cell_type": "markdown",
   "metadata": {},
   "source": [
    "## 백준 11286 절댓값 힙\n",
    "https://www.acmicpc.net/problem/11286"
   ]
  },
  {
   "cell_type": "code",
   "execution_count": null,
   "metadata": {
    "colab": {
     "base_uri": "https://localhost:8080/"
    },
    "id": "z4ew4DwpA9Yh",
    "outputId": "6db1a3e0-e885-4581-ce18-3d46e6291942"
   },
   "outputs": [],
   "source": [
    "import heapq\n",
    "\n",
    "q = []\n",
    "n = int(input())\n",
    "for _ in range(n) :\n",
    "    command = int(input())\n",
    "    if command == 0 :\n",
    "        if q :\n",
    "            print(heapq.heappop(q)[1])\n",
    "        else :\n",
    "            print(0)\n",
    "    else :\n",
    "        heapq.heappush(q, (abs(command), command))"
   ]
  },
  {
   "cell_type": "markdown",
   "metadata": {},
   "source": [
    "## 백준 7662 이중 우선순위 큐\n",
    "https://www.acmicpc.net/problem/7662  \n",
    "프로그래머스 이중우선순위큐  \n",
    "https://school.programmers.co.kr/learn/courses/30/lessons/42628\n"
   ]
  },
  {
   "cell_type": "code",
   "execution_count": null,
   "metadata": {
    "ExecuteTime": {
     "end_time": "2023-01-18T01:53:50.329801Z",
     "start_time": "2023-01-18T01:53:50.309822Z"
    }
   },
   "outputs": [],
   "source": [
    "import heapq\n",
    "\n",
    "t = int(input())\n",
    "for t_num in range(t) :\n",
    "    n = int(input())\n",
    "    maxh, minh = [], []\n",
    "    valid = [False] * n\n",
    "    for i in range(n) :\n",
    "        order = input().split()\n",
    "        if order[0] == 'I' :\n",
    "            heapq.heappush(maxh, (-int(order[1]), i))\n",
    "            heapq.heappush(minh, (int(order[1]), i))\n",
    "            valid[i] = True\n",
    "        else :  # order[0] == 'D'\n",
    "            # 최소값 삭제\n",
    "            if order[1] == '-1' :\n",
    "                # 최대값 삭제될 때 삭제되어서 valid[i] == False 인 값은 버림\n",
    "                while minh and not valid[minh[0][1]] :\n",
    "                    heapq.heappop(minh)\n",
    "                if minh :\n",
    "                    valid[minh[0][1]] = False\n",
    "                    heapq.heappop(minh)\n",
    "            # 최대값 삭제\n",
    "            else :\n",
    "                # 최소값 삭제될 때 삭제되어서 valid[i] == False 인 값은 버림\n",
    "                while maxh and not valid[maxh[0][1]] :\n",
    "                    heapq.heappop(maxh)\n",
    "                if maxh :\n",
    "                    valid[maxh[0][1]] = False\n",
    "                    heapq.heappop(maxh)\n",
    "    # valid == False인 값들 다 버림\n",
    "    while minh and not valid[minh[0][1]] :\n",
    "        heapq.heappop(minh)\n",
    "    while maxh and not valid[maxh[0][1]] :\n",
    "        heapq.heappop(maxh)\n",
    "    # 출력\n",
    "    if maxh :\n",
    "        print(-heapq.heappop(maxh)[0], heapq.heappop(minh)[0])\n",
    "    else :\n",
    "        print(\"EMPTY\")   "
   ]
  },
  {
   "cell_type": "code",
   "execution_count": null,
   "metadata": {
    "ExecuteTime": {
     "end_time": "2023-01-18T01:55:09.691870Z",
     "start_time": "2023-01-18T01:55:09.677862Z"
    },
    "colab": {
     "base_uri": "https://localhost:8080/"
    },
    "id": "aMASY3JqrMBV",
    "outputId": "40df475f-af7b-4d69-b6b9-0d440ee8d223"
   },
   "outputs": [],
   "source": [
    "# 프로그래머스 이중우선순위큐\n",
    "# https://school.programmers.co.kr/learn/courses/30/lessons/42628\n",
    "\n",
    "import heapq\n",
    "\n",
    "def solution(operations):\n",
    "    answer = []\n",
    "    n = len(operations)\n",
    "    maxh, minh = [], []\n",
    "    valid = [False] * n\n",
    "    for i in range(n) :\n",
    "        op = operations[i].split()\n",
    "        if op[0] == \"I\" :\n",
    "            heapq.heappush(maxh, (-int(op[1]), i))\n",
    "            heapq.heappush(minh, (int(op[1]), i))\n",
    "            valid[i] = True\n",
    "        else :\n",
    "            if op[1] == \"-1\" :\n",
    "                while minh and not valid[minh[0][1]] :\n",
    "                    heapq.heappop(minh)\n",
    "                if minh :\n",
    "                    valid[minh[0][1]] = False\n",
    "                    heapq.heappop(minh)\n",
    "            else :\n",
    "                while maxh and not valid[maxh[0][1]] :\n",
    "                    heapq.heappop(maxh)\n",
    "                if maxh :\n",
    "                    valid[maxh[0][1]] = False\n",
    "                    heapq.heappop(maxh)\n",
    "    while minh and not valid[minh[0][1]] :\n",
    "        heapq.heappop(minh)\n",
    "    while maxh and not valid[maxh[0][1]] :\n",
    "        heapq.heappop(maxh)\n",
    "    if maxh :\n",
    "        answer.append(-heapq.heappop(maxh)[0])\n",
    "        answer.append(heapq.heappop(minh)[0])\n",
    "    else :\n",
    "        answer = [0, 0]\n",
    "        \n",
    "    return answer\n",
    "\n",
    "operations = [\"I -45\", \"I 653\", \"D 1\", \"I -642\", \"I 45\", \"I 97\", \"D 1\", \"D -1\", \"I 333\"]\n",
    "# operations = [\"I 16\", \"I -5643\", \"D -1\", \"D 1\", \"D 1\", \"I 123\", \"D -1\"]\n",
    "print(solution(operations))"
   ]
  },
  {
   "cell_type": "markdown",
   "metadata": {},
   "source": [
    "## 프로그래머스 신입사원 교육\n",
    "https://school.programmers.co.kr/learn/courses/15009/lessons/121688"
   ]
  },
  {
   "cell_type": "code",
   "execution_count": null,
   "metadata": {
    "id": "pG4cNrdxZcUV"
   },
   "outputs": [],
   "source": [
    "import heapq\n",
    "\n",
    "def solution(ability, number):\n",
    "    answer = sum(ability)\n",
    "    heapq.heapify(ability)\n",
    "    while number :\n",
    "        upgrade = 0\n",
    "        upgrade += heapq.heappop(ability)\n",
    "        upgrade += heapq.heappop(ability)\n",
    "        answer += upgrade\n",
    "        heapq.heappush(ability, upgrade)\n",
    "        heapq.heappush(ability, upgrade)\n",
    "        number -= 1\n",
    "    return answer"
   ]
  },
  {
   "cell_type": "markdown",
   "metadata": {},
   "source": [
    "## 프로그래머스 야근 지수\n",
    "https://school.programmers.co.kr/learn/courses/30/lessons/12927"
   ]
  },
  {
   "cell_type": "code",
   "execution_count": null,
   "metadata": {},
   "outputs": [],
   "source": [
    "import heapq\n",
    "\n",
    "def solution(n, works) :\n",
    "    if sum(works) <= n :\n",
    "        return 0\n",
    "    if len(works) == 1 :\n",
    "        return (works[0] - n) ** 2\n",
    "    q = [-w for w in works]\n",
    "    heapq.heapify(q)\n",
    "    max_1 = -heapq.heappop(q)\n",
    "    max_2 = -heapq.heappop(q)\n",
    "    while n > 0 :\n",
    "        # 현 최대값이 최대값이 아니게 될 때까지, n이 남아 있는 만큼 빼줌\n",
    "        sub = min(max_1 - max_2 + 1, n)\n",
    "        max_1 -= sub\n",
    "        heapq.heappush(q, -max_1)\n",
    "        max_1, max_2 = max_2, -heapq.heappop(q)\n",
    "        n -= sub\n",
    "    q.extend([-max_1, -max_2])\n",
    "    answer = sum(map(lambda x : x ** 2, q))\n",
    "    return answer"
   ]
  },
  {
   "cell_type": "markdown",
   "metadata": {
    "id": "2L0-Qf9VDghj"
   },
   "source": [
    "# 완전 탐색 / 브루트포스"
   ]
  },
  {
   "cell_type": "markdown",
   "metadata": {},
   "source": [
    "## 백준 14500 테트로미노\n",
    "https://www.acmicpc.net/problem/14500"
   ]
  },
  {
   "cell_type": "code",
   "execution_count": null,
   "metadata": {
    "colab": {
     "base_uri": "https://localhost:8080/"
    },
    "id": "GGY_Dil1DlMU",
    "outputId": "ca2fc0e3-e5a6-4264-8bbe-0696079d446c"
   },
   "outputs": [],
   "source": [
    "# n : 세로, m : 가로\n",
    "n, m = map(int, input().split())\n",
    "graph = [list(map(int, input().split())) for _ in range(n)]\n",
    "# graph = [[1, 2, 3, 4, 5],\n",
    "#          [5, 4, 3, 2, 1],\n",
    "#          [2, 3, 4, 5, 6],\n",
    "#          [6, 5, 4, 3, 2],\n",
    "#          [1, 2, 1, 2, 1]]\n",
    "\n",
    "graph_r = []\n",
    "for j in range(m) :\n",
    "    graph_r.append([graph[i][j] for i in range(n)])\n",
    "\n",
    "def tetromino(graph, n, m) :\n",
    "    sol = 0\n",
    "    # ㅡ\n",
    "    for i in range(n) :\n",
    "        for j in range(m - 3) :\n",
    "            tetro = sum(graph[i][j:j+4])\n",
    "            sol = max(sol, tetro)\n",
    "    # l\n",
    "    for i in range(m) :\n",
    "        for j in range(n - 3) :\n",
    "            tetro = sum(graph_r[i][j:j+4])\n",
    "            sol = max(sol, tetro)\n",
    "    # ㅁ\n",
    "    for i in range(n - 1) :\n",
    "        for j in range(m - 1) :\n",
    "            tetro = sum([graph[i][j], graph[i][j+1], graph[i+1][j], graph[i+1][j+1]])\n",
    "            sol = max(sol, tetro)\n",
    "    # L\n",
    "    for i in range(n - 1) :\n",
    "        for j in range(m - 2) :\n",
    "            tetro = sum(graph[i][j:j+3]) + graph[i+1][j]\n",
    "            sol = max(sol, tetro)\n",
    "            tetro = sum(graph[i][j:j+3]) + graph[i+1][j+2]\n",
    "            sol = max(sol, tetro)\n",
    "            tetro = graph[i][j] + sum(graph[i+1][j:j+3])\n",
    "            sol = max(sol, tetro)\n",
    "            tetro = graph[i][j+2] + sum(graph[i+1][j:j+3])\n",
    "            sol = max(sol, tetro)\n",
    "\n",
    "    for i in range(m - 1) :\n",
    "        for j in range(n - 2) :\n",
    "            tetro = sum(graph_r[i][j:j+3]) + graph_r[i+1][j]\n",
    "            sol = max(sol, tetro)\n",
    "            tetro = sum(graph_r[i][j:j+3]) + graph_r[i+1][j+2]\n",
    "            sol = max(sol, tetro)\n",
    "            tetro = graph_r[i][j] + sum(graph_r[i+1][j:j+3])\n",
    "            sol = max(sol, tetro)\n",
    "            tetro = graph_r[i][j+2] + sum(graph_r[i+1][j:j+3])\n",
    "            sol = max(sol, tetro)\n",
    "    # ㅗ\n",
    "    for i in range(n - 1) :\n",
    "        for j in range(m - 2) :\n",
    "            tetro = sum(graph[i][j:j+3]) + graph[i+1][j+1]\n",
    "            sol = max(sol, tetro)\n",
    "            tetro = graph[i][j+1] + sum(graph[i+1][j:j+3])\n",
    "            sol = max(sol, tetro)\n",
    "\n",
    "    for i in range(m - 1) :\n",
    "        for j in range(n - 2) :\n",
    "            tetro = sum(graph_r[i][j:j+3]) + graph_r[i+1][j+1]\n",
    "            sol = max(sol, tetro)\n",
    "            tetro = graph_r[i][j+1] + sum(graph_r[i+1][j:j+3])\n",
    "            sol = max(sol, tetro)\n",
    "    # z\n",
    "    for i in range(n - 2) :\n",
    "        for j in range(m - 1) :\n",
    "            tetro = graph[i][j] + sum(graph[i+1][j:j+2]) + graph[i+2][j+1]\n",
    "            sol = max(sol, tetro)\n",
    "            tetro = graph[i][j+1] + sum(graph[i+1][j:j+2]) + graph[i+2][j]\n",
    "            sol = max(sol, tetro)\n",
    "\n",
    "    for i in range(m - 2) :\n",
    "        for j in range(n - 1) :\n",
    "            tetro = graph_r[i][j] + sum(graph_r[i+1][j:j+2]) + graph_r[i+2][j+1]\n",
    "            sol = max(sol, tetro)\n",
    "            tetro = graph_r[i][j+1] + sum(graph_r[i+1][j:j+2]) + graph_r[i+2][j]\n",
    "            sol = max(sol, tetro)\n",
    "    return sol\n",
    "       \n",
    "print(tetromino(graph, n, m))"
   ]
  },
  {
   "cell_type": "markdown",
   "metadata": {},
   "source": [
    "## 백준 15686 치킨 배달\n",
    "https://www.acmicpc.net/problem/15686"
   ]
  },
  {
   "cell_type": "code",
   "execution_count": null,
   "metadata": {
    "ExecuteTime": {
     "end_time": "2023-01-24T15:57:15.053736Z",
     "start_time": "2023-01-24T15:57:12.424382Z"
    }
   },
   "outputs": [],
   "source": [
    "from itertools import combinations as comb\n",
    "n, m = map(int, input().split())\n",
    "graph = list()\n",
    "all_home = list()\n",
    "all_chic = list()\n",
    "for i in range(n) :\n",
    "    array = list(map(int, input().split()))\n",
    "    graph.append(array)\n",
    "    for j in range(n) :\n",
    "        if array[j] == 1 :\n",
    "            all_home.append((i, j))\n",
    "        elif array[j] == 2 :\n",
    "            all_chic.append((i, j))\n",
    "# garph = [[0, 2, 0, 1, 0],\n",
    "#          [1, 0, 1, 0, 0],\n",
    "#          [0, 0, 0, 0, 0],\n",
    "#          [2, 0, 0, 1, 1],\n",
    "#          [2, 2, 0, 1, 2]]\n",
    "# all_home = [(0, 3), (1, 0), (1, 2), (3, 3), (3, 4), (4, 3)]\n",
    "# all_chic = [(0, 1), (3, 0), (4, 0), (4, 1), (4, 4)]\n",
    "\n",
    "def chic_dist(home, chic) :\n",
    "    return abs(home[0] - chic[0]) + abs(home[1] - chic[1])\n",
    "\n",
    "home_chic_dist = dict()\n",
    "for home in all_home :\n",
    "    chic_dists = dict()\n",
    "    for chic in all_chic :\n",
    "        chic_dists[chic] = chic_dist(home, chic)\n",
    "    home_chic_dist[home] = chic_dists  \n",
    "\n",
    "min_dist = int(1e9) \n",
    "for remain in comb(all_chic, m) :\n",
    "    now_dist = 0\n",
    "    for home, chic_dists in home_chic_dist.items() :\n",
    "        min_chic_dist = int(1e9)\n",
    "        for chic in remain :\n",
    "            min_chic_dist = min(min_chic_dist, chic_dists[chic])\n",
    "        now_dist += min_chic_dist\n",
    "        if now_dist >= min_dist :\n",
    "            break\n",
    "    min_dist = min(min_dist, now_dist)\n",
    "\n",
    "print(min_dist)"
   ]
  },
  {
   "cell_type": "code",
   "execution_count": null,
   "metadata": {
    "ExecuteTime": {
     "end_time": "2023-01-24T15:43:28.245632Z",
     "start_time": "2023-01-24T15:43:28.233023Z"
    }
   },
   "outputs": [],
   "source": [
    "x = ['a','b','c']\n",
    "def mult(s, n) :\n",
    "    return s * n\n",
    "for i in range(1, 4) :\n",
    "    y = {xi : mult(xi, i) for xi in x}\n",
    "print(y)"
   ]
  },
  {
   "cell_type": "markdown",
   "metadata": {},
   "source": [
    "# 비트마스크"
   ]
  },
  {
   "cell_type": "markdown",
   "metadata": {},
   "source": [
    "## 기본 개념"
   ]
  },
  {
   "cell_type": "code",
   "execution_count": null,
   "metadata": {
    "ExecuteTime": {
     "end_time": "2023-01-20T00:38:02.011194Z",
     "start_time": "2023-01-20T00:38:01.994208Z"
    }
   },
   "outputs": [],
   "source": [
    "a = 0b11001\n",
    "b = 0b10001\n",
    "\n",
    "# &(AND) : 양쪽 모두 1있으면 1 -> 교집합\n",
    "print(\"&(AND) :\", bin(a & b))\n",
    "# |(OR) : 어느 한쪽에라도 1 있으면 1 -> 합집합\n",
    "print(\"|(OR) :\", bin(a | b))\n",
    "# ^(XOR) : 양쪽 값이 다르면 1\n",
    "print(\"^(XOR) :\", bin(a ^ b))\n",
    "# ~(NOT) : 비트의 값 반전\n",
    "print(\"~(NOT) :\", bin(~a), bin(~b))\n",
    "# bit << i: 비트 왼쪽으로 i칸만큼 이동(bit * i^2 과 같음)\n",
    "print(\"<< 2 :\", bin(a << 2), bin(b << 2))\n",
    "# bit >> i : 비트 오른쪽으로 i칸만큼 이동(bit // i^2 과 같음)\n",
    "print(\">> 2 :\", bin(a >> 2), bin(b >> 2))"
   ]
  },
  {
   "cell_type": "code",
   "execution_count": null,
   "metadata": {
    "ExecuteTime": {
     "end_time": "2023-01-20T00:58:08.908124Z",
     "start_time": "2023-01-20T00:58:08.897184Z"
    }
   },
   "outputs": [],
   "source": [
    "s = 0b0011010110\n",
    "print(bin(s))\n",
    "# n번째 인덱스 원소 추가\n",
    "n = 3\n",
    "print(\"인덱스 3 원소 추가 :\", bin(s | (1 << n)))\n",
    "# n번째 인덱스 원소 삭제\n",
    "n = 6\n",
    "print(\"인덱스 6 원소 삭제 :\", bin(s & ~(1 << n)))\n",
    "# n번째 인덱스 원소 조회 : 0이면 없음, 0 아니면 있음\n",
    "n = 5\n",
    "print(\"인덱스 5 원소 조회 :\", bin(s & (1 << n)))\n",
    "n = 4\n",
    "print(\"인덱스 4 원소 조회 :\", bin(s & (1 << n)))\n",
    "# n번째 인덱스 원소 토글 : 없으면 생성, 있으면 삭제\n",
    "n = 3\n",
    "print(\"인덱스 3 원소 토글 :\", bin(s ^ (1 << n)))\n",
    "n = 7\n",
    "print(\"인덱스 7 원소 토글 :\", bin(s ^ (1 << n)))"
   ]
  },
  {
   "cell_type": "code",
   "execution_count": null,
   "metadata": {
    "ExecuteTime": {
     "end_time": "2023-01-20T06:02:43.786001Z",
     "start_time": "2023-01-20T06:02:43.770036Z"
    }
   },
   "outputs": [],
   "source": [
    "# 집합 크기 구하기\n",
    "# 뒤에서부터 하나씩 세서 더함\n",
    "# x >> 1 = x // 2\n",
    "def bit_count(x):\n",
    "\tif x == 0 :\n",
    "        return 0\n",
    "\treturn x % 2 + bit_count(x >> 1)\n",
    "\n",
    "x = 0b11001\n",
    "print(bitCount(x))"
   ]
  },
  {
   "cell_type": "markdown",
   "metadata": {},
   "source": [
    "## 백준 11723 집합\n",
    "https://www.acmicpc.net/problem/11723"
   ]
  },
  {
   "cell_type": "code",
   "execution_count": null,
   "metadata": {
    "ExecuteTime": {
     "end_time": "2023-01-20T05:31:44.008922Z",
     "start_time": "2023-01-20T05:31:41.484436Z"
    }
   },
   "outputs": [],
   "source": [
    "n = int(input())\n",
    "\n",
    "s = 0b0\n",
    "for _ in range(n) :\n",
    "    command = input().split()            \n",
    "    if len(command) == 2 :\n",
    "        comm = command[0]\n",
    "        num = int(command[1])\n",
    "        if comm == 'add' :\n",
    "            s = s | (1 << num)\n",
    "        elif comm == 'check' :\n",
    "            if s & (1 << num) == 0 :\n",
    "                print(0)\n",
    "            else :\n",
    "                print(1)\n",
    "        elif comm == 'remove' :\n",
    "            s = s & ~(1 << num)\n",
    "        else :\n",
    "            s = s ^ (1 << num)\n",
    "    elif command[0] == 'all' :\n",
    "        s = 0b111111111111111111110\n",
    "    else :\n",
    "        s = 0b0"
   ]
  },
  {
   "cell_type": "markdown",
   "metadata": {},
   "source": [
    "## 백준 1182 부분수열의 합\n",
    "https://www.acmicpc.net/problem/1182"
   ]
  },
  {
   "cell_type": "code",
   "execution_count": null,
   "metadata": {
    "ExecuteTime": {
     "end_time": "2023-01-20T05:56:06.982249Z",
     "start_time": "2023-01-20T05:56:05.410648Z"
    }
   },
   "outputs": [],
   "source": [
    "n, s = map(int, input().split())\n",
    "arr = list(map(int, input().split()))\n",
    "\n",
    "cnt = 0\n",
    "# n : 원소 개수 = 비트값 자리수\n",
    "# i : 부분집합(=원소가 포함된 상태), i = 0 은 공집합이므로 1부터 시작\n",
    "# i = 2 -> 10 : 인덱스 1 포함, 인덱스 0 미포함\n",
    "# i = 6 -> 101 : 인덱스 2 포함, 인덱스 1 미포함, 인덱스 0 포함\n",
    "for i in range(1, 1 << n):\n",
    "    subset = []\n",
    "    for j in range(n):\n",
    "        # 부분집합 i에 대해, 인덱스 j인 원소가 포함되었는지 확인\n",
    "        if i & (1 << j):\n",
    "            # 포함되었으면 해당 원소를 subset에 추가\n",
    "            subset.append(arr[j])\n",
    "    # 다 추가헀으면 subset의 합이 s와 일치하는지 확인\n",
    "    if sum(subset) == s:\n",
    "        cnt += 1\n",
    "        \n",
    "print(cnt)"
   ]
  },
  {
   "cell_type": "markdown",
   "metadata": {},
   "source": [
    "## 백준 14225 부분수열의 합"
   ]
  },
  {
   "cell_type": "code",
   "execution_count": null,
   "metadata": {
    "ExecuteTime": {
     "end_time": "2023-01-20T06:49:16.533629Z",
     "start_time": "2023-01-20T06:49:11.286058Z"
    }
   },
   "outputs": [],
   "source": [
    "n = int(input())\n",
    "arr = list(map(int, input().split()))\n",
    "check = [0] * (sum(arr) + 2)\n",
    "\n",
    "for i in range(1, 1 << n) :\n",
    "    subset_sum = 0\n",
    "    for j in range(n) :\n",
    "        if i & (1 << j) :\n",
    "            subset_sum += arr[j]\n",
    "    check[subset_sum] = 1\n",
    "\n",
    "for i, j in enumerate(check) :\n",
    "    if j == 0 and i != 0 :\n",
    "        print(i)\n",
    "        break"
   ]
  },
  {
   "cell_type": "markdown",
   "metadata": {
    "id": "hPtkkVFU4yDK"
   },
   "source": [
    "# 그리디"
   ]
  },
  {
   "cell_type": "markdown",
   "metadata": {},
   "source": [
    "## 백준 1541 잃어버린 괄호\n",
    "https://www.acmicpc.net/problem/1541"
   ]
  },
  {
   "cell_type": "code",
   "execution_count": null,
   "metadata": {
    "colab": {
     "base_uri": "https://localhost:8080/"
    },
    "id": "OKM-753u8qRZ",
    "outputId": "de633a36-b018-4374-f974-06d83fe1ece4"
   },
   "outputs": [],
   "source": [
    "# 5(5-50)+40 같은 형태는 안됨\n",
    "\n",
    "expression = input().split(\"-\")\n",
    "# print(expression)\n",
    "# expression = ['10+30', '40+60', '5+20', '40', '10']\n",
    "result = sum(map(int, expression[0].split(\"+\")))\n",
    "# print(result)\n",
    "for term in expression[1:] :\n",
    "    term_sum = sum(map(int, term.split(\"+\")))\n",
    "    result -= term_sum\n",
    "\n",
    "print(result)"
   ]
  },
  {
   "cell_type": "markdown",
   "metadata": {},
   "source": [
    "## 백준 1931 회의실 배정\n",
    "https://www.acmicpc.net/problem/1931"
   ]
  },
  {
   "cell_type": "code",
   "execution_count": null,
   "metadata": {
    "colab": {
     "base_uri": "https://localhost:8080/"
    },
    "id": "WQnPGgQ2GpeR",
    "outputId": "26e81a39-8c7e-4b5f-e7ce-f537cc9f1b13"
   },
   "outputs": [],
   "source": [
    "# 증명 : https://youtu.be/vw4gqeM4UGs\n",
    "n = int(input())\n",
    "schedules = [tuple(map(int, input().split())) for _ in range(n)]\n",
    "# schedules = [(0, 6), (3, 5), (5, 7), (3, 8), (5, 9), (6, 10), (8, 11), (8, 12), (1, 4), (2, 13), (12, 14)]\n",
    "# 끝나는 시간이 빠른 순으로 정렬, 끝나는 시간이 같으면 시작 시간이 빠른 순으로 정렬\n",
    "# (1, 2), (2, 2) 있을 때 시작 시간이 빠른 (1, 2)가 앞에 있어야 둘 다 회의 가능\n",
    "schedules.sort(key=lambda x : (x[1], x[0]))\n",
    "\n",
    "end = 0\n",
    "cnt = 0\n",
    "for i, j in schedules :\n",
    "    # 현재 마지막 회의 종료 시간 이후 가장 빠르게 시작하는 회의 선택\n",
    "    if i >= end :\n",
    "        # 회의 종료 시간 변경\n",
    "        end = j\n",
    "        cnt += 1\n",
    "print(cnt)"
   ]
  },
  {
   "cell_type": "markdown",
   "metadata": {},
   "source": [
    "## 백준 1083 소트\n",
    "https://www.acmicpc.net/problem/1083"
   ]
  },
  {
   "cell_type": "code",
   "execution_count": null,
   "metadata": {
    "colab": {
     "base_uri": "https://localhost:8080/"
    },
    "id": "CyXCc7MyT-FL",
    "outputId": "42053c7f-3b9a-4047-cb9f-7aa196926fcd"
   },
   "outputs": [],
   "source": [
    "n = int(input())\n",
    "# array = list(map(int, input().split()))\n",
    "array = [19, 20, 17, 18, 15, 16, 13, 14, 11, 12]\n",
    "# array = [1, 5, 2, 3, 4]\n",
    "s = int(input())\n",
    "\n",
    "for i in range(n) :\n",
    "    if s == 0 :\n",
    "        break\n",
    "    else :\n",
    "        # 현재 인덱스 i부터 남은 s만큼의 범위에서 최대값 탐색\n",
    "        # 그 최대값이 array[i]보다 크면 연속된 원소들을 교환하여 array[i]자리에 데려오고\n",
    "        # 원소 교환한 횟수만큼 s에서 빼줌\n",
    "        cur_max = max(array[i:i + s + 1])\n",
    "        if array[i] < cur_max and s > 0 :\n",
    "            idx = array.index(cur_max)\n",
    "            array[i + 1:idx + 1] = array[i:idx]\n",
    "            array[i] = cur_max\n",
    "            s -= idx - i\n",
    "        \n",
    "print(*array)"
   ]
  },
  {
   "cell_type": "markdown",
   "metadata": {},
   "source": [
    "## 프로그래머스 구명 보트\n",
    "lv.2 https://school.programmers.co.kr/learn/courses/30/lessons/42885"
   ]
  },
  {
   "cell_type": "code",
   "execution_count": null,
   "metadata": {},
   "outputs": [],
   "source": [
    "def solution(people, limit):\n",
    "    answer = 0\n",
    "    people.sort()\n",
    "    light = 0\n",
    "    heavy = len(people) - 1\n",
    "    while start <= end :\n",
    "        # 가장 가벼운 사람 + 무거운 사람으로 보트에 태울 수 있으면 태움\n",
    "        if people[light] + people[heavy] <= limit :\n",
    "            answer += 1\n",
    "            light += 1\n",
    "            heavy -= 1\n",
    "        # 안되면 무거운 사람만 보트에 태움\n",
    "        else :\n",
    "            heavy -= 1\n",
    "            answer += 1\n",
    "    return answer"
   ]
  },
  {
   "cell_type": "markdown",
   "metadata": {},
   "source": [
    "## 프로그래머스 단속카메라\n",
    "https://school.programmers.co.kr/learn/courses/30/lessons/42884\n",
    "- 차량 진출 지점 기준으로 정렬\n",
    "- 첫번재 차량의 진출 지점에 첫 카메라 설치\n",
    "- 이후 순서대로 차량의 진입/진출 지점을 검사\n",
    "- 카메라에 걸리지 않는 차가 있으면 해당 차의 진출 지점에 다음 카메라 설치"
   ]
  },
  {
   "cell_type": "code",
   "execution_count": null,
   "metadata": {},
   "outputs": [],
   "source": [
    "def solution(routes) :\n",
    "    routes.sort(key=lambda x : x[1])\n",
    "    camera = [routes[0][1]]\n",
    "    for i in range(1, len(routes)) :\n",
    "        if routes[i][0] <= camera[-1] <= routes[i][1] :\n",
    "            continue\n",
    "        else :\n",
    "            camera.append(routes[i][1])\n",
    "    return len(camera)"
   ]
  },
  {
   "cell_type": "markdown",
   "metadata": {},
   "source": [
    "## 백준 1339 단어 수학\n",
    "https://www.acmicpc.net/problem/1339\n",
    "- 최대 자리수만 보고 정렬하면 오답\n",
    "\n",
    "10  \n",
    "ABB  \n",
    "BB  \n",
    "BB  \n",
    "BB  \n",
    "BB  \n",
    "BB  \n",
    "BB  \n",
    "BB  \n",
    "BB  \n",
    "BB\n",
    "- 각 알파벳이 자리수에 따라 얼마나 나왔는지 기록(가중치 기록)  \n",
    "    ex) A가 천의 자리 3번, 십의 자리 1번, 일의 자리 1번 -> 3011\n",
    "- 가중치가 높은 순서로 정렬 후 앞에서부터 9, 8, 7... 차례로 곱해줌"
   ]
  },
  {
   "cell_type": "code",
   "execution_count": 8,
   "metadata": {
    "ExecuteTime": {
     "end_time": "2023-01-29T14:14:19.669589Z",
     "start_time": "2023-01-29T14:14:19.648030Z"
    }
   },
   "outputs": [
    {
     "name": "stdout",
     "output_type": "stream",
     "text": [
      "1790\n"
     ]
    }
   ],
   "source": [
    "# f = open(\"input.txt\")\n",
    "# input = f.readline\n",
    "\n",
    "from collections import defaultdict\n",
    "\n",
    "n = int(input())\n",
    "alph_dict = defaultdict(int)\n",
    "for _ in range(n) :\n",
    "    num = input().rstrip()\n",
    "    for i in range(len(num)) :\n",
    "        alph_dict[num[i]] += 10 ** (len(num) - 1 - i)\n",
    "\n",
    "alph_dict = dict(sorted(alph_dict.items(), key=lambda x : x[1], reverse=True))\n",
    "\n",
    "sol = 0\n",
    "x = 9\n",
    "for alph in alph_dict :\n",
    "    sol += alph_dict[alph] * x\n",
    "    x -= 1\n",
    "print(sol)"
   ]
  },
  {
   "cell_type": "markdown",
   "metadata": {},
   "source": [
    "## 백준 13305 주유소\n",
    "https://www.acmicpc.net/problem/13305"
   ]
  },
  {
   "cell_type": "code",
   "execution_count": 5,
   "metadata": {
    "ExecuteTime": {
     "end_time": "2023-01-30T01:11:55.232663Z",
     "start_time": "2023-01-30T01:11:55.218695Z"
    }
   },
   "outputs": [
    {
     "name": "stdout",
     "output_type": "stream",
     "text": [
      "18\n"
     ]
    }
   ],
   "source": [
    "# f = open(\"input.txt\")\n",
    "# input = f.readline\n",
    "\n",
    "n = int(input())\n",
    "routes = list(map(int, input().split()))\n",
    "price = list(map(int, input().split()))\n",
    "price.pop()\n",
    "\n",
    "for i in range(n-2) :\n",
    "    if price[i+1] > price[i] :\n",
    "        price[i+1] = price[i]\n",
    "        \n",
    "print(sum([r * p for r, p in zip(routes, price)]))"
   ]
  },
  {
   "cell_type": "markdown",
   "metadata": {},
   "source": [
    "## 백준 1946 신입사원\n",
    "https://www.acmicpc.net/problem/1946"
   ]
  },
  {
   "cell_type": "code",
   "execution_count": 13,
   "metadata": {
    "ExecuteTime": {
     "end_time": "2023-01-30T04:29:52.911529Z",
     "start_time": "2023-01-30T04:29:52.899530Z"
    }
   },
   "outputs": [
    {
     "name": "stdout",
     "output_type": "stream",
     "text": [
      "4\n",
      "3\n"
     ]
    }
   ],
   "source": [
    "# f = open(\"input.txt\")\n",
    "# input = f.readline\n",
    "\n",
    "t = int(input())\n",
    "for _ in range(t) :\n",
    "    n = int(input())\n",
    "    people = [tuple(map(int, input().split())) for _ in range(n)]\n",
    "    rank = sorted(people)\n",
    "    cnt = 0\n",
    "    min_rank = int(1e9)\n",
    "    for i in range(n) :\n",
    "        if min_rank < rank[i][1] :\n",
    "            continue\n",
    "        else :\n",
    "            cnt += 1\n",
    "            min_rank = rank[i][1]    \n",
    "    print(cnt)"
   ]
  },
  {
   "cell_type": "markdown",
   "metadata": {},
   "source": [
    "## 백준 1202 보석도둑\n",
    "https://www.acmicpc.net/problem/1202\n",
    "- 용량이 작은 가방부터\n",
    "- 가방안에 넣을 수 있는 보석의 가치를 따로 우선순위 큐에 저장\n",
    "- 최대 가치의 보석을 가방에 넣어줌\n",
    "- 다음 가방에서 대상에 맞는 보석을 탐색할 때 큐에 남아있는 보석들은 이미 그 가방에 들어갈 수 있음"
   ]
  },
  {
   "cell_type": "code",
   "execution_count": 29,
   "metadata": {
    "ExecuteTime": {
     "end_time": "2023-01-30T07:02:34.639412Z",
     "start_time": "2023-01-30T07:02:34.622457Z"
    }
   },
   "outputs": [
    {
     "name": "stdout",
     "output_type": "stream",
     "text": [
      "164\n"
     ]
    }
   ],
   "source": [
    "# f = open(\"input.txt\")\n",
    "# input = f.readline\n",
    "\n",
    "import heapq\n",
    "\n",
    "n, k = map(int, input().split())\n",
    "jewels = list()\n",
    "for _ in range(n) :\n",
    "    jewels.append(tuple(map(int, input().split())))\n",
    "# 무게 역순으로 정렬(pop 하기 위해서)\n",
    "jewels.sort(reverse=True)\n",
    "\n",
    "bags = list()\n",
    "for _ in range(k) :\n",
    "    bag = int(input())\n",
    "    bags.append(bag)\n",
    "bags.sort()\n",
    "\n",
    "answer = 0\n",
    "q = list()\n",
    "for bag in bags :\n",
    "    while jewels and jewels[-1][0] <= bag :\n",
    "        # 현 가방에 들어갈 수 있는 보석 중 무게가 가벼운 보석부터 pop\n",
    "        weight, value = jewels.pop()\n",
    "        heapq.heappush(q, -value)\n",
    "    if not q :\n",
    "        continue\n",
    "    answer += -heapq.heappop(q)\n",
    "print(answer)"
   ]
  },
  {
   "cell_type": "markdown",
   "metadata": {},
   "source": [
    "## 백준 1744 수 묶기\n",
    "https://www.acmicpc.net/problem/1744"
   ]
  },
  {
   "cell_type": "code",
   "execution_count": 1,
   "metadata": {
    "ExecuteTime": {
     "end_time": "2023-01-30T08:05:30.470970Z",
     "start_time": "2023-01-30T08:05:28.513508Z"
    }
   },
   "outputs": [
    {
     "name": "stdout",
     "output_type": "stream",
     "text": [
      "2\n",
      "1\n",
      "2\n",
      "2\n"
     ]
    }
   ],
   "source": [
    "# f = open(\"input.txt\")\n",
    "# input = f.readline\n",
    "\n",
    "import heapq\n",
    "\n",
    "n = int(input())\n",
    "pos = list()\n",
    "neg = list()\n",
    "answer = 0\n",
    "for _ in range(n) :\n",
    "    num = int(input())\n",
    "    if num <= 0 :\n",
    "        heapq.heappush(neg, num)\n",
    "    elif num > 1 :\n",
    "        heapq.heappush(pos, -num)\n",
    "    else :\n",
    "        answer += 1\n",
    "        \n",
    "while len(neg) > 1 :\n",
    "    neg_1 = heapq.heappop(neg)\n",
    "    neg_2 = heapq.heappop(neg)\n",
    "    answer += neg_1 * neg_2\n",
    "if neg :\n",
    "    answer += neg[0]\n",
    "\n",
    "while len(pos) > 1 :\n",
    "    pos_1 = heapq.heappop(pos)\n",
    "    pos_2 = heapq.heappop(pos)\n",
    "    answer += pos_1 * pos_2\n",
    "if pos :\n",
    "    answer += -pos[0]\n",
    "\n",
    "print(answer)"
   ]
  },
  {
   "cell_type": "markdown",
   "metadata": {},
   "source": [
    "## 백준 11000 강의실 배정\n",
    "https://www.acmicpc.net/problem/11000"
   ]
  },
  {
   "cell_type": "code",
   "execution_count": 14,
   "metadata": {
    "ExecuteTime": {
     "end_time": "2023-01-31T07:07:49.305380Z",
     "start_time": "2023-01-31T07:07:49.286403Z"
    }
   },
   "outputs": [
    {
     "name": "stdout",
     "output_type": "stream",
     "text": [
      "[(1, 7), (2, 10), (4, 5), (6, 7), (6, 10), (7, 10)]\n",
      "4\n"
     ]
    }
   ],
   "source": [
    "f = open(\"input.txt\")\n",
    "input = f.readline\n",
    "\n",
    "import heapq\n",
    "\n",
    "n = int(input())\n",
    "classes = [tuple(map(int, input().split())) for _ in range(n)]\n",
    "classes.sort()\n",
    "print(classes)\n",
    "# classes.sort(key=lambda x : (x[1], x[0]))\n",
    "\n",
    "ends = [classes[0][1]]\n",
    "\n",
    "for i in range(1, n) :\n",
    "    start, end = classes[i]\n",
    "    if start >= ends[0] :\n",
    "        heapq.heappop(ends)\n",
    "    heapq.heappush(ends, end)\n",
    "    \n",
    "print(len(ends))"
   ]
  },
  {
   "cell_type": "code",
   "execution_count": 26,
   "metadata": {
    "ExecuteTime": {
     "end_time": "2023-01-31T07:07:54.360320Z",
     "start_time": "2023-01-31T07:07:54.355337Z"
    }
   },
   "outputs": [
    {
     "name": "stdout",
     "output_type": "stream",
     "text": [
      "[(4, 5), (1, 7), (6, 7), (2, 10), (6, 10), (7, 10)]\n",
      "4\n"
     ]
    }
   ],
   "source": [
    "# 오답 나옴 왜????\n",
    "f = open(\"input.txt\")\n",
    "input = f.readline\n",
    "\n",
    "import heapq\n",
    "\n",
    "n = int(input())\n",
    "classes = [tuple(map(int, input().split())) for _ in range(n)]\n",
    "classes.sort(key=lambda x : (x[1], x[0]))\n",
    "print(classes)\n",
    "ends = [classes[0][1]]\n",
    "\n",
    "for i in range(1, n) :\n",
    "    start, end = classes[i]\n",
    "    if start >= ends[0] :\n",
    "        heapq.heappop(ends)\n",
    "    heapq.heappush(ends, end)\n",
    "        \n",
    "print(len(ends))"
   ]
  },
  {
   "cell_type": "markdown",
   "metadata": {},
   "source": [
    "## 백준 2437 저울\n",
    "https://www.acmicpc.net/problem/2437"
   ]
  },
  {
   "cell_type": "code",
   "execution_count": 48,
   "metadata": {
    "ExecuteTime": {
     "end_time": "2023-01-31T03:39:52.074101Z",
     "start_time": "2023-01-31T03:39:52.058112Z"
    }
   },
   "outputs": [
    {
     "name": "stdout",
     "output_type": "stream",
     "text": [
      "32\n"
     ]
    }
   ],
   "source": [
    "# f = open(\"input.txt\")\n",
    "# input = f.readline\n",
    "\n",
    "n = int(input())\n",
    "weights = sorted(map(int, input().split()))\n",
    "\n",
    "max_w = 0\n",
    "answer = 0\n",
    "for i in range(n) :\n",
    "    if weights[i] > max_w + 1 :\n",
    "        break\n",
    "    else :\n",
    "        max_w += weights[i]\n",
    "print(max_w + 1)"
   ]
  },
  {
   "cell_type": "markdown",
   "metadata": {},
   "source": [
    "## 백준 2212 센서\n",
    "https://www.acmicpc.net/problem/2212"
   ]
  },
  {
   "cell_type": "code",
   "execution_count": 54,
   "metadata": {
    "ExecuteTime": {
     "end_time": "2023-01-31T07:48:50.385340Z",
     "start_time": "2023-01-31T07:48:50.376365Z"
    }
   },
   "outputs": [
    {
     "name": "stdout",
     "output_type": "stream",
     "text": [
      "7\n"
     ]
    }
   ],
   "source": [
    "# f = open(\"input.txt\")\n",
    "# input = f.readline\n",
    "\n",
    "n = int(input())\n",
    "k = int(input())\n",
    "arr = sorted((map(int, input().split())))\n",
    "\n",
    "if k >= n :\n",
    "    print(0)\n",
    "else :\n",
    "    diff_q = list()\n",
    "    for i in range(1, n) :\n",
    "        diff_q.append(arr[i] - arr[i-1])\n",
    "    diff_q.sort()\n",
    "    answer = arr[-1] - arr[0]\n",
    "    for _ in range(k-1) :\n",
    "        answer -= diff_q.pop()\n",
    "    print(answer)"
   ]
  },
  {
   "cell_type": "markdown",
   "metadata": {
    "id": "E6T8f3VnFmEP"
   },
   "source": [
    "# Dynamic Programing"
   ]
  },
  {
   "cell_type": "markdown",
   "metadata": {},
   "source": [
    "## 백준 11053 가장 긴 증가하는 부분 수열\n",
    "https://www.acmicpc.net/problem/11053"
   ]
  },
  {
   "cell_type": "code",
   "execution_count": null,
   "metadata": {
    "colab": {
     "base_uri": "https://localhost:8080/"
    },
    "id": "VDgKDQNBFqBO",
    "outputId": "36584995-de0f-4bbb-cad3-cd34f8742db7"
   },
   "outputs": [],
   "source": [
    "# LIS = Longest Increasing Subsequence\n",
    "\n",
    "n = int(input())\n",
    "array = [0] + list(map(int, input().split()))\n",
    "# array = [0, 10, 20, 10, 30, 20, 50]\n",
    "\n",
    "dp = [0] * (n + 1)\n",
    "# array[i] 기준으로, 그 앞에 array[i] 보다 작은 값 array[j]가 있으면\n",
    "# array[j]를 최대값을 갖는 LIS 뒤 array[i]가 붙을 수 있음\n",
    "for i in range(1, n + 1) :\n",
    "    for j in range(i) :\n",
    "        if array[i] > array[j] :\n",
    "            dp[i] = max(dp[i], dp[j] + 1)\n",
    "\n",
    "print(max(dp))"
   ]
  },
  {
   "cell_type": "markdown",
   "metadata": {},
   "source": [
    "## 백준 11055 가장 큰 증가 부분 수열\n",
    "https://www.acmicpc.net/problem/11055"
   ]
  },
  {
   "cell_type": "code",
   "execution_count": null,
   "metadata": {
    "colab": {
     "base_uri": "https://localhost:8080/"
    },
    "id": "k1Xylyg-IVHc",
    "outputId": "059c1dcf-e1fe-4bca-8665-405672ed119e"
   },
   "outputs": [],
   "source": [
    "n = int(input())\n",
    "array = list(map(int, input().split()))\n",
    "# array = [1, 100, 2, 50, 60, 3, 5, 6, 7, 8]\n",
    "\n",
    "dp = array[:]\n",
    "for i in range(1, n) :\n",
    "    for j in range(i) :\n",
    "        if array[i] > array[j] :\n",
    "            dp[i] = max(dp[i], dp[j] + array[i])\n",
    "\n",
    "print(max(dp))"
   ]
  },
  {
   "cell_type": "markdown",
   "metadata": {},
   "source": [
    "## 백준 2579 계단 오르기\n",
    "https://www.acmicpc.net/problem/2579"
   ]
  },
  {
   "cell_type": "code",
   "execution_count": null,
   "metadata": {
    "colab": {
     "base_uri": "https://localhost:8080/"
    },
    "id": "vU7Gyfjj9-R3",
    "outputId": "717dbff4-2575-4f78-8c6f-caa059ddde51"
   },
   "outputs": [],
   "source": [
    "n = int(input())\n",
    "array = [0]\n",
    "for _ in range(n) :\n",
    "    array.append(int(input()))\n",
    "# array = [0, 10, 20, 15, 25, 10, 20]\n",
    "\n",
    "def stairs(array, n) :\n",
    "    if n == 1 or n == 2 :\n",
    "        return sum(array[:n+1])\n",
    "    dp = [0] * (n + 1)\n",
    "    dp[1] = array[1]\n",
    "    dp[2] = array[1] + array[2]\n",
    "    for i in range(3, n + 1) :\n",
    "        dp[i] = max(dp[i - 3] + array[i - 1], dp[i - 2]) + array[i]\n",
    "    return dp[n]\n",
    "\n",
    "print(stairs(array, n))"
   ]
  },
  {
   "cell_type": "markdown",
   "metadata": {},
   "source": [
    "## 프로그래머스 카페 확장\n",
    "https://school.programmers.co.kr/learn/courses/15009/lessons/121689"
   ]
  },
  {
   "cell_type": "code",
   "execution_count": null,
   "metadata": {
    "id": "FfjhHwPNmUSC"
   },
   "outputs": [],
   "source": [
    "def solution(menu, order, k) :\n",
    "    answer = 0\n",
    "    n = len(order)\n",
    "    leave = [0] * n\n",
    "    leave[0] = menu[order[0]]\n",
    "    arrive = list(range(0, (n-1)*k+1, k))\n",
    "    for i in range(1, n) :\n",
    "        leave[i] = max(leave[i - 1], arrive[i]) + menu[order[i]]\n",
    "    \n",
    "    waiting = [0] * n\n",
    "    for i in range(n) :\n",
    "        for a, l in zip(arrive, leave) :\n",
    "            if a <= arrive[i] < l :\n",
    "                waiting[i] += 1\n",
    "    return max(waiting)"
   ]
  },
  {
   "cell_type": "markdown",
   "metadata": {},
   "source": [
    "## 백준 9465 스티커\n",
    "https://www.acmicpc.net/problem/9465"
   ]
  },
  {
   "cell_type": "code",
   "execution_count": null,
   "metadata": {
    "ExecuteTime": {
     "end_time": "2023-01-18T06:38:22.212516Z",
     "start_time": "2023-01-18T06:37:55.672911Z"
    }
   },
   "outputs": [],
   "source": [
    "t = int(input())\n",
    "for _ in range(t) :\n",
    "    n = int(input())\n",
    "    array = [list(map(int, input().split())) for _ in range(2)]\n",
    "#    array = [[50, 10, 100, 20, 40],\n",
    "#            [30, 50, 70, 10, 60]]\n",
    "    # dp[0][i] : i번째 열의 위 스티커를 골랐을 때 가능한 최대값\n",
    "    # dp[1][i] : i번째 열의 아래 스티커를 골랐을 때 가능한 최대값\n",
    "    # 정확히는, i번째 열의 아래/위 스티커를 고르지 않았을 때 가능한 최대값\n",
    "    # dp[0][1]의 경우에, 50만 고르는게 30, 10을 고르는 것보다 더 큼\n",
    "    dp = [[0] * n for _ in range(2)]\n",
    "    dp[0][0] = array[0][0]\n",
    "    dp[1][0] = array[1][0]\n",
    "    for i in range(1, n) :\n",
    "        dp[0][i] = max(dp[0][i-1], dp[1][i-1] + array[0][i])\n",
    "        dp[1][i] = max(dp[1][i-1], dp[0][i-1] + array[1][i])\n",
    "    print(max(dp[0][-1], dp[1][-1]))"
   ]
  },
  {
   "cell_type": "markdown",
   "metadata": {},
   "source": [
    "## 백준 11660 구간 합 구하기\n",
    "https://www.acmicpc.net/problem/11660"
   ]
  },
  {
   "cell_type": "code",
   "execution_count": null,
   "metadata": {
    "ExecuteTime": {
     "end_time": "2023-01-18T08:29:48.130088Z",
     "start_time": "2023-01-18T08:29:30.118872Z"
    }
   },
   "outputs": [],
   "source": [
    "n, m = map(int, input().split())\n",
    "array = [[0] * (n + 1) for _ in range(n + 1)]\n",
    "for i in range(1, n + 1) :\n",
    "    array[i] = [0] + list(map(int, input().split()))\n",
    "# array = [[0, 0, 0, 0, 0],\n",
    "#          [0, 1, 2, 3, 4],\n",
    "#          [0, 2, 3, 4, 5],\n",
    "#          [0, 3, 4, 5, 6],\n",
    "#          [0, 4, 5, 6, 7]]\n",
    "    \n",
    "dp = [[0] * (n + 1) for _ in range(n + 1)]\n",
    "for i in range(1, n + 1) :\n",
    "    for j in range(1, n + 1) :\n",
    "        dp[i][j] = array[i][j] + dp[i][j-1] + dp[i-1][j] - dp[i-1][j-1]\n",
    "# dp = [[0, 0, 0, 0, 0],\n",
    "#       [0, 1, 3, 6, 10],\n",
    "#       [0, 3, 8, 15, 24],\n",
    "#       [0, 6, 15, 27, 42],\n",
    "#       [0, 10, 24, 42, 64]]\n",
    "for _ in range(m) :\n",
    "    x1, y1, x2, y2 = map(int, input().split())\n",
    "    print(dp[x2][y2] - dp[x1-1][y2] - dp[x2][y1-1] + dp[x1-1][y1-1])"
   ]
  },
  {
   "cell_type": "markdown",
   "metadata": {},
   "source": [
    "## 프로그래머스 가장 큰 정사각형 찾기\n",
    "https://school.programmers.co.kr/learn/courses/30/lessons/12905\n",
    "- 정사각형은 안쪽이 모두 1로 차있어야 함\n",
    "- (i, j) 위치를 기준으로 위, 왼쪽, 왼쪽 위 대각선 세 칸을 확인\n",
    "- 세 칸의 최소값 + 1한 값이 (i, j)를 우하단 꼭지점으로 하는 가장 큰 정사각형의 한 변 길이"
   ]
  },
  {
   "cell_type": "code",
   "execution_count": null,
   "metadata": {},
   "outputs": [],
   "source": [
    "def solution(board):\n",
    "    n = len(board)\n",
    "    m = len(board[0])\n",
    "        \n",
    "    for i in range(1, n) :\n",
    "        for j in range(1, m) :\n",
    "            if board[i][j] == 1 :\n",
    "                board[i][j] = min(board[i-1][j-1], board[i-1][j], board[i][j-1]) + 1\n",
    "    \n",
    "    max_len = max(map(max, board))\n",
    "    return max_len ** 2"
   ]
  },
  {
   "cell_type": "markdown",
   "metadata": {},
   "source": [
    "## 백준 2133 타일 채우기\n",
    "https://www.acmicpc.net/problem/2133"
   ]
  },
  {
   "cell_type": "code",
   "execution_count": 33,
   "metadata": {
    "ExecuteTime": {
     "end_time": "2023-01-28T13:27:26.208573Z",
     "start_time": "2023-01-28T13:27:25.343262Z"
    }
   },
   "outputs": [
    {
     "name": "stdout",
     "output_type": "stream",
     "text": [
      "3\n",
      "0\n"
     ]
    }
   ],
   "source": [
    "n = int(input())\n",
    "\n",
    "def dp_sol(n) :\n",
    "    if n % 2 == 1 :\n",
    "        return 0\n",
    "    dp = [0] * (n + 1)\n",
    "    dp[0] = 1\n",
    "    dp[2] = 3\n",
    "    for i in range(4, n+1, 2) :\n",
    "        dp[i] = dp[i-2] + sum(dp[:i]) * 2\n",
    "    return dp[n]\n",
    "\n",
    "print(dp_sol(n))"
   ]
  },
  {
   "cell_type": "markdown",
   "metadata": {
    "id": "mjH8lrwiv7pR"
   },
   "source": [
    "# DFS/BFS"
   ]
  },
  {
   "cell_type": "code",
   "execution_count": null,
   "metadata": {
    "colab": {
     "base_uri": "https://localhost:8080/"
    },
    "id": "kNFTa0J16aeh",
    "outputId": "efd1be82-8444-400d-fc67-7e8aeda5fa20"
   },
   "outputs": [],
   "source": [
    "# 재귀로 dfs\n",
    "\n",
    "v, e, start = map(int, input().split())\n",
    "# graph = [[] for _ in range(v + 1)]\n",
    "# for _ in range(e) :\n",
    "#     a, b = map(int, input().split())\n",
    "#     graph[a].append(b)\n",
    "#     graph[b].append(a)\n",
    "graph = [[], [2, 3], [5, 1], [4, 1], [5, 3], [4, 2]]\n",
    "visited = [False] * (v + 1)\n",
    "sol = []\n",
    "def dfs(n, x) :\n",
    "    global graph, visited, sol, v\n",
    "    if n == v :\n",
    "        return\n",
    "    else :\n",
    "        visited[x] = True\n",
    "        sol.append(x)\n",
    "        for i in graph[x] :\n",
    "            if not visited[i] :\n",
    "                dfs(n + 1, i)\n",
    "dfs(0, 1)\n",
    "print(sol)"
   ]
  },
  {
   "cell_type": "code",
   "execution_count": null,
   "metadata": {
    "colab": {
     "base_uri": "https://localhost:8080/"
    },
    "id": "in77uLIsaaCT",
    "outputId": "cf051293-f189-41e1-f87f-1b69971d3cd2"
   },
   "outputs": [],
   "source": [
    "# while 문으로 구현\n",
    "\n",
    "v, e, start = map(int, input().split())\n",
    "graph = [[], [2, 3], [5, 1], [4, 1], [5, 3], [4, 2]]\n",
    "sol = []\n",
    "def dfs2(start) :\n",
    "    visited = [False] * (v + 1)\n",
    "    to_visit = [start]\n",
    "    while to_visit :\n",
    "        x = to_visit.pop()\n",
    "        if not visited[x] :\n",
    "            visited[x] = True\n",
    "            sol.append(x)\n",
    "            if len(sol) == v :\n",
    "                return\n",
    "            for near in graph[x] :\n",
    "                to_visit.append(near)\n",
    "dfs2(1)\n",
    "print(sol)"
   ]
  },
  {
   "cell_type": "markdown",
   "metadata": {},
   "source": [
    "## 백준 1012 유기농 배추\n",
    "https://www.acmicpc.net/problem/1012"
   ]
  },
  {
   "cell_type": "code",
   "execution_count": null,
   "metadata": {
    "colab": {
     "base_uri": "https://localhost:8080/"
    },
    "id": "VPuTvi6k_BCx",
    "outputId": "45253f41-526b-44d7-896f-6178e7967d0d"
   },
   "outputs": [],
   "source": [
    "# 재귀로\n",
    "\n",
    "def dfs(x, y) :\n",
    "    global cnt\n",
    "    if x < 0 or x >= n or y < 0 or y >= m :\n",
    "        return\n",
    "    if graph[x][y] == 1 :\n",
    "        graph[x][y] = 0\n",
    "        dfs(x, y + 1)\n",
    "        dfs(x, y - 1)\n",
    "        dfs(x + 1, y)\n",
    "        dfs(x - 1, y)\n",
    "\n",
    "t = int(input())\n",
    "sol = list()\n",
    "for _ in range(t) :\n",
    "    m, n, k = map(int, input().split())\n",
    "    # graph = [[0] * m for _ in range(n)]\n",
    "    # for _ in range(k) :\n",
    "    #     y, x = map(int, input().split())\n",
    "    #     graph[x][y] = 1\n",
    "    graph = [[1, 1, 0, 0, 0, 0, 0, 0, 0, 0],\n",
    "             [0, 1, 0, 0, 0, 0, 0, 0, 0, 0],\n",
    "             [0, 0, 0, 0, 1, 0, 0, 0, 0, 0],\n",
    "             [0, 0, 0, 0, 1, 0, 0, 0, 0, 0],\n",
    "             [0, 0, 1, 1, 0, 0, 0, 1, 1, 1],\n",
    "             [0, 0, 0, 0, 1, 0, 0, 1, 1, 1],\n",
    "             [0, 0, 0, 0, 0, 0, 0, 1, 1, 1],\n",
    "             [0, 0, 0, 0, 0, 0, 0, 0, 0, 0]]\n",
    "    cnt = 0\n",
    "    for i in range(n) :\n",
    "        for j in range(m) :\n",
    "            if graph[i][j] == 1 :\n",
    "                dfs(i, j)\n",
    "                cnt += 1\n",
    "    sol.append(cnt)\n",
    "\n",
    "print(*sol, sep=\"\\n\")"
   ]
  },
  {
   "cell_type": "markdown",
   "metadata": {},
   "source": [
    "## 백준 11724 연결 요소의 개수\n",
    "https://www.acmicpc.net/problem/11724"
   ]
  },
  {
   "cell_type": "code",
   "execution_count": null,
   "metadata": {
    "colab": {
     "base_uri": "https://localhost:8080/"
    },
    "id": "M-JTklOEGCxU",
    "outputId": "162ceb6b-e25c-4ba8-a792-574200b03e4b"
   },
   "outputs": [],
   "source": [
    "def dfs(x) :\n",
    "    global visited\n",
    "    if visited[x] :\n",
    "        return\n",
    "    else :\n",
    "        visited[x] = True\n",
    "        for i in graph[x] :\n",
    "            dfs(i)\n",
    "\n",
    "n, m = map(int, input().split())\n",
    "graph = [[] for _ in range(n + 1)]\n",
    "for _ in range(m) :\n",
    "    u, v = map(int, input().split())\n",
    "    graph[u].append(v)\n",
    "    graph[v].append(u)\n",
    "\n",
    "visited = [False] * (n + 1)\n",
    "cnt = 0\n",
    "for i in range(1, n + 1) :\n",
    "    if not visited[i] :\n",
    "        dfs(i)\n",
    "        cnt += 1\n",
    "print(cnt)"
   ]
  },
  {
   "cell_type": "markdown",
   "metadata": {},
   "source": [
    "## 백준 10026 적록색약\n",
    "https://www.acmicpc.net/problem/10026"
   ]
  },
  {
   "cell_type": "code",
   "execution_count": null,
   "metadata": {
    "colab": {
     "base_uri": "https://localhost:8080/"
    },
    "id": "jHEmb22wv9xY",
    "outputId": "50ba9bbe-1477-49ca-c72d-1e32571439f0"
   },
   "outputs": [],
   "source": [
    "n = int(input())\n",
    "graph = [list(input()) for _ in range(n)]\n",
    "# graph = [['R', 'R', 'R', 'B', 'B'],\n",
    "#          ['G', 'G', 'B', 'B', 'B'],\n",
    "#          ['B', 'B', 'B', 'R', 'R'],\n",
    "#          ['B', 'B', 'R', 'R', 'R'],\n",
    "#          ['R', 'R', 'R', 'R', 'R']]\n",
    "\n",
    "def dfs(graph, n, start, color) :\n",
    "    global result\n",
    "    global visited\n",
    "    to_visit = [start]\n",
    "    dx = [0, 0, 1, -1]\n",
    "    dy = [1, -1, 0, 0]\n",
    "    while to_visit :\n",
    "        x, y = to_visit.pop()\n",
    "        visited[x][y] = 1\n",
    "        for i in range(4) :\n",
    "            nx = x + dx[i]\n",
    "            ny = y + dy[i]\n",
    "            if nx < 0 or nx >= n or ny < 0 or ny >= n :\n",
    "                continue\n",
    "            if graph[nx][ny] == color and visited[nx][ny] == 0 :\n",
    "                to_visit.append((nx, ny))\n",
    "    result += 1\n",
    "\n",
    "visited = [[0] * n for _ in range(n)]\n",
    "result = 0\n",
    "\n",
    "for i in range(n) :\n",
    "    for j in range(n) :\n",
    "        if visited[i][j] == 0 :\n",
    "            start = (i, j)\n",
    "            color = graph[i][j]\n",
    "            dfs(graph, n, start, color)\n",
    "\n",
    "# 정상\n",
    "print(result, end=\" \")\n",
    "\n",
    "visited = [[0] * n for _ in range(n)]\n",
    "result = 0\n",
    "\n",
    "for i in range(n) :\n",
    "    for j in range(n) :\n",
    "        if graph[i][j] == 'R' :\n",
    "            graph [i][j] = 'G'\n",
    "\n",
    "for i in range(n) :\n",
    "    for j in range(n) :\n",
    "        if visited[i][j] == 0 :\n",
    "            start = (i, j)\n",
    "            color = graph[i][j]\n",
    "            dfs(graph, n, start, color)\n",
    "\n",
    "# 적록색약\n",
    "print(result)"
   ]
  },
  {
   "cell_type": "markdown",
   "metadata": {},
   "source": [
    "## 백준 1520 내리막길\n",
    "https://www.acmicpc.net/problem/1520"
   ]
  },
  {
   "cell_type": "code",
   "execution_count": null,
   "metadata": {
    "colab": {
     "base_uri": "https://localhost:8080/"
    },
    "id": "m1ZsnS6S4mko",
    "outputId": "1de2a90c-b18d-4157-e227-623856b3cc99"
   },
   "outputs": [],
   "source": [
    "# DP + DFS\n",
    "\n",
    "m, n = map(int, input().split())\n",
    "graph = [list(map(int, input().split())) for _ in range(m)]\n",
    "# graph = [[50, 45, 37, 32, 30],\n",
    "#          [35, 50, 40, 20, 25],\n",
    "#          [30, 30, 25, 17, 28],\n",
    "#          [27, 24, 22, 15, 10]]\n",
    "\n",
    "# dp[i][j] : (i, j)에서 도착점까지 가는 경우의 수\n",
    "dp = [[-1] * n for _ in range(m)]\n",
    "dp[-1][-1] = 1\n",
    "move = [(0, 1), (0, -1), (1, 0), (-1, 0)]\n",
    "\n",
    "def dfs(x, y) :\n",
    "    # dp[x][y] != -1 -> (x, y)에 방문한적 있음 -> 도착점까지 가는 경우의 수 반환\n",
    "    if x == m - 1 and y == n - 1 :\n",
    "        return 1\n",
    "    # dp[x][y] == -1 -> (x, y)에 처음 방문\n",
    "    # 일단 경우의 수 0으로 초기화 (임시변수 way_xy 대신 dp[x][y] 직접 사용해도 가능)\n",
    "    way_xy = 0\n",
    "    for dx, dy in move :\n",
    "        nx = x + dx\n",
    "        ny = y + dy\n",
    "        # (x, y) 근처의 (nx, ny)가 범위를 벗어나면 검사 X\n",
    "        if nx < 0 or nx >= m or ny < 0 or ny >= n :\n",
    "            continue\n",
    "        # (nx, ny)가 범위를 벗어나지 않고 (x, y)에서 갈 수 있는 지점(=내리막)일 때\n",
    "        if graph[nx][ny] < graph[x][y] :\n",
    "            # (nx, ny)에서 출발하는 경우의 수를 (x, y)에서 출발하는 경우의 수에 더해줌\n",
    "            way_xy += dfs(nx, ny)\n",
    "    # dp[x][y]에 경우의 수 저장\n",
    "    dp[x][y] = way_xy\n",
    "    return dp[x][y]\n",
    "\n",
    "print(dfs(0, 0))"
   ]
  },
  {
   "cell_type": "markdown",
   "metadata": {},
   "source": [
    "## 백준 2667 단지번호붙이기\n",
    "https://www.acmicpc.net/problem/2667"
   ]
  },
  {
   "cell_type": "code",
   "execution_count": null,
   "metadata": {
    "colab": {
     "base_uri": "https://localhost:8080/"
    },
    "id": "4xVaUkrLQVsw",
    "outputId": "f4d7cdee-b046-4b19-8050-48d0b3064ce5"
   },
   "outputs": [],
   "source": [
    "n = int(input())\n",
    "graph = [list(map(int, list(input()))) for _ in range(n)]\n",
    "# graph = [[0, 1, 1, 0, 1, 0, 0],\n",
    "#          [0, 1, 1, 0, 1, 0, 1],\n",
    "#          [1, 1, 1, 0, 1, 0, 1],\n",
    "#          [0, 0, 0, 0, 1, 1, 1],\n",
    "#          [0, 1, 0, 0, 0, 0, 0],\n",
    "#          [0, 1, 1, 1, 1, 1, 0],\n",
    "#          [0, 1, 1, 1, 0, 0, 0]]\n",
    "\n",
    "def dfs(graph, x, y) :\n",
    "    cnt = 0\n",
    "    graph[x][y] = 0\n",
    "    to_visit = [(x, y)]\n",
    "    d_xy = [(0, 1), (0, -1), (1, 0), (-1, 0)]\n",
    "    while to_visit :\n",
    "        x, y = to_visit.pop()\n",
    "        cnt += 1\n",
    "        for dx, dy in d_xy :\n",
    "            nx = x + dx\n",
    "            ny = y + dy\n",
    "            if nx < 0 or nx >= n or ny < 0 or ny >=n :\n",
    "                continue\n",
    "            if graph[nx][ny] == 1 :\n",
    "                to_visit.append((nx, ny))\n",
    "                graph[nx][ny] = 0\n",
    "    return cnt\n",
    "\n",
    "sol = 0\n",
    "aparts = []\n",
    "for i in range(n) :\n",
    "    for j in range(n) :\n",
    "        if graph[i][j] == 1 :\n",
    "            aparts.append(dfs(graph, i, j))\n",
    "            sol += 1\n",
    "\n",
    "aparts.sort()\n",
    "print(sol)\n",
    "print(*aparts, sep=\"\\n\")"
   ]
  },
  {
   "cell_type": "markdown",
   "metadata": {},
   "source": [
    "## 백준 1697 숨바꼭질\n",
    "https://www.acmicpc.net/problem/1697"
   ]
  },
  {
   "cell_type": "code",
   "execution_count": null,
   "metadata": {
    "colab": {
     "base_uri": "https://localhost:8080/"
    },
    "id": "J_LQGwy6X384",
    "outputId": "f50eeb46-bb27-4bd9-9c43-aecaba7030a5"
   },
   "outputs": [],
   "source": [
    "from collections import deque\n",
    "\n",
    "n, k = map(int, input().split())\n",
    "\n",
    "def bfs(n, k) :\n",
    "    visited = [-1] * max(n + 1, 2 * k + 1)\n",
    "    len_v = len(visited)\n",
    "    to_visit = deque([n])\n",
    "    visited[n] = 0\n",
    "    while to_visit :\n",
    "        x = to_visit.popleft()\n",
    "        for nx in [x + 1, x - 1, 2 * x] :\n",
    "            if nx < 0 or nx >= len_v :\n",
    "                continue\n",
    "            if visited[nx] == -1 :\n",
    "                visited[nx] = visited[x] + 1\n",
    "                # 최초로 도착한 시점이 최단거리\n",
    "                if nx == k :\n",
    "                    return visited[k]\n",
    "                to_visit.append(nx)\n",
    "    return visited[k]\n",
    "\n",
    "print(bfs(n, k))"
   ]
  },
  {
   "cell_type": "markdown",
   "metadata": {
    "ExecuteTime": {
     "end_time": "2023-01-18T02:13:37.396977Z",
     "start_time": "2023-01-18T02:13:37.389036Z"
    }
   },
   "source": [
    "## 백준 7576 토마토\n",
    "https://www.acmicpc.net/problem/7576"
   ]
  },
  {
   "cell_type": "code",
   "execution_count": null,
   "metadata": {
    "colab": {
     "base_uri": "https://localhost:8080/"
    },
    "id": "9IE1VNN2YFBm",
    "outputId": "4e02dcc1-58b3-4336-a533-c9ebb234c003"
   },
   "outputs": [],
   "source": [
    "from collections import deque\n",
    "\n",
    "# m : 열의 개수, n : 행의 개수\n",
    "m, n = map(int, input().split())\n",
    "graph = [list(map(int, input().split())) for _ in range(n)]\n",
    "# graph = [[1, -1, 0, 0, 0, 0],\n",
    "#          [0, -1, 0, 0, 0, 0],\n",
    "#          [0, 0, 0, 0, -1, 0],\n",
    "#          [0, 0, 0, 0, -1, 1]]\n",
    "\n",
    "def bfs(graph, m, n) :\n",
    "    to_visit = deque()\n",
    "    for i in range(n) :\n",
    "        for j in range(m) :\n",
    "            if graph[i][j] == 1 :\n",
    "                to_visit.append((i, j))\n",
    "    dx = [0, 0, 1, -1]\n",
    "    dy = [1, -1, 0, 0]\n",
    "    while to_visit :\n",
    "        x, y = to_visit.popleft()\n",
    "        for i in range(4) :\n",
    "            nx = x + dx[i]\n",
    "            ny = y + dy[i]\n",
    "            if nx < 0 or nx >= n or ny < 0 or ny >= m :\n",
    "                continue\n",
    "            if graph[nx][ny] == 0 :\n",
    "                graph[nx][ny] = graph[x][y] + 1\n",
    "                to_visit.append((nx, ny))\n",
    "\n",
    "    for row in graph :\n",
    "        if 0 in row :\n",
    "            return -1\n",
    "\n",
    "    return max(map(max, graph)) - 1\n",
    "\n",
    "print(bfs(graph, m, n))"
   ]
  },
  {
   "cell_type": "markdown",
   "metadata": {},
   "source": [
    "## 백준 7569 토마토(3차원)\n",
    "https://www.acmicpc.net/problem/7569"
   ]
  },
  {
   "cell_type": "code",
   "execution_count": null,
   "metadata": {
    "colab": {
     "base_uri": "https://localhost:8080/"
    },
    "id": "-XK16QTeni0i",
    "outputId": "53e120cb-c9c8-42fb-8037-c4020737b07e"
   },
   "outputs": [],
   "source": [
    "from collections import deque\n",
    "\n",
    "# m : 열 수, n : 행 수, h : 높이 칸 수 \n",
    "m, n, h = map(int, input().split())\n",
    "graph = [[list(map(int, input().split())) for _ in range(n)] for _ in range(h)]\n",
    "# graph = [[[0, 0, 0, 0, 0],\n",
    "#           [0, 0, 0, 0, 0],\n",
    "#           [0, 0, 0, 0, 0]],\n",
    "#          [[0, 0, 0, 0, 0],\n",
    "#           [0, 0, 1, 0, 0],\n",
    "#           [0, 0, 0, 0, 0]]]\n",
    "\n",
    "def bfs(graph, m, n, h) :\n",
    "    to_visit = deque()\n",
    "    for z in range(h) :\n",
    "        for x in range(n) :\n",
    "            for y in range(m) :\n",
    "                if graph[z][x][y] == 1 :\n",
    "                    to_visit.append((z, x, y))\n",
    "    dz = [1, -1, 0, 0, 0, 0]          \n",
    "    dx = [0, 0, 1, -1, 0, 0]\n",
    "    dy = [0, 0, 0, 0, 1, -1]    \n",
    "    while to_visit :\n",
    "        z, x, y = to_visit.popleft()\n",
    "        for i in range(6) :\n",
    "            nz = z + dz[i]\n",
    "            nx = x + dx[i]\n",
    "            ny = y + dy[i]\n",
    "            if nz < 0 or nz >= h or nx < 0 or nx >= n or ny < 0 or ny >= m :\n",
    "                continue\n",
    "            if graph[nz][nx][ny] == 0 :\n",
    "                graph[nz][nx][ny] = graph[z][x][y] + 1\n",
    "                to_visit.append((nz, nx, ny))\n",
    "\n",
    "    for plane in graph :\n",
    "        for row in plane :\n",
    "            if 0 in row :\n",
    "                return -1\n",
    "    \n",
    "    sol = 0\n",
    "    for plane in graph :\n",
    "        sol = max(sol, max(map(max, plane)))\n",
    "    \n",
    "    return sol - 1\n",
    "\n",
    "print(bfs(graph, m, n, h))"
   ]
  },
  {
   "cell_type": "markdown",
   "metadata": {
    "colab": {
     "base_uri": "https://localhost:8080/"
    },
    "id": "W6uMsnZarydA",
    "outputId": "01db1512-796f-4493-92d4-25388acfc44c"
   },
   "source": [
    "## 백준 2206 벽 부수고 이동하기\n",
    "https://www.acmicpc.net/problem/2206"
   ]
  },
  {
   "cell_type": "code",
   "execution_count": null,
   "metadata": {
    "ExecuteTime": {
     "end_time": "2023-01-18T05:33:43.634050Z",
     "start_time": "2023-01-18T05:33:30.933315Z"
    }
   },
   "outputs": [],
   "source": [
    "from collections import deque\n",
    "\n",
    "# n : 행 개수 , m :열 개수\n",
    "n, m = map(int, input().split())\n",
    "graph = [list(input()) for _ in range(n)]\n",
    "# graph = [['0', '1', '0', '0'],\n",
    "#          ['1', '1', '1', '0'],\n",
    "#          ['1', '0', '0', '0'],\n",
    "#          ['0', '0', '0', '0'],\n",
    "#          ['0', '1', '1', '1'],\n",
    "#          ['0', '0', '0', '0']]\n",
    "# visited[0][x][y] : 벽을 안 부수고 (x, y)까지 최단거리\n",
    "# visited[1][x][y] : 벽을 1회 부수고 (x, y)까지 최단거리\n",
    "visited = [[[0] * m for _ in range(n)] for _ in range(2)]\n",
    "\n",
    "def bfs(start_x, start_y) :\n",
    "    visited[0][start_x][start_y] = 1\n",
    "    move =[(0, 1), (0, -1), (1, 0), (-1, 0)]\n",
    "    to_visit = deque([(start_x, start_y, 0)])\n",
    "    while to_visit :\n",
    "        # z : (x, y)까지 오면서 벽이 부섰는지 기록 (0 : 안 부숨, 1 : 부숨)\n",
    "        x, y, z = to_visit.popleft()\n",
    "        if x == n - 1 and y == m - 1 :\n",
    "            return visited[z][x][y]\n",
    "        for dx, dy in move :\n",
    "            nx = x + dx\n",
    "            ny = y + dy\n",
    "            # 범위 벗어나면 방문하지 않음\n",
    "            if nx < 0 or nx >= n or ny < 0 or ny >= m :\n",
    "                continue\n",
    "            # 벽 부순 적이 없는 경우\n",
    "            if z == 0 :\n",
    "                # (nx, ny)에 방문한 적 없고 벽 없으면 그대로 이동\n",
    "                if visited[0][nx][ny] == 0 and graph[nx][ny] == '0' :\n",
    "                    visited[0][nx][ny] = visited[0][x][y] + 1\n",
    "                    to_visit.append((nx, ny, 0))\n",
    "                # (nx, ny)에 방문한 적 없고 벽 있으면 부수고 이동\n",
    "                elif visited[1][nx][ny] == 0 and graph[nx][ny] == '1' :\n",
    "                    visited[1][nx][ny] = visited[0][x][y] + 1\n",
    "                    to_visit.append((nx, ny, 1))\n",
    "            # 벽 부순 적 있는 경우\n",
    "            else :\n",
    "                # (nx, ny)에 방문한 적 없고 벽이 없으면 그대로 이동\n",
    "                if visited[1][nx][ny] == 0 and graph[nx][ny] == '0' :\n",
    "                    visited[1][nx][ny] = visited[1][x][y] + 1\n",
    "                    to_visit.append((nx, ny, 1))\n",
    "    return -1\n",
    "\n",
    "print(bfs(0, 0))"
   ]
  },
  {
   "cell_type": "markdown",
   "metadata": {},
   "source": [
    "## 백준 2644 촌수 계산\n",
    "https://www.acmicpc.net/problem/2644"
   ]
  },
  {
   "cell_type": "code",
   "execution_count": null,
   "metadata": {
    "ExecuteTime": {
     "end_time": "2023-01-24T16:17:26.105906Z",
     "start_time": "2023-01-24T16:17:09.455920Z"
    }
   },
   "outputs": [],
   "source": [
    "# import sys\n",
    "\n",
    "# sys.stdin = open(\"input.txt\")\n",
    "# input = sys.stdin.readline\n",
    "\n",
    "from collections import deque\n",
    "\n",
    "n = int(input())\n",
    "a, b = map(int, input().split())\n",
    "m = int(input())\n",
    "graph = [[] for _ in range(n + 1)]\n",
    "for _ in range(m) :\n",
    "    x, y = map(int, input().split())\n",
    "    graph[x].append(y)\n",
    "    graph[y].append(x)\n",
    "\n",
    "def bfs(start, end) :\n",
    "    visited = [0] * (n + 1)\n",
    "    visited[start] = 1\n",
    "    to_visit = deque([start])\n",
    "    while to_visit :\n",
    "        now = to_visit.popleft()\n",
    "        if now == end :\n",
    "            return visited[end] - 1\n",
    "        for near in graph[now] :\n",
    "            if not visited[near] :\n",
    "                visited[near] = visited[now] + 1\n",
    "                to_visit.append(near)\n",
    "    return -1\n",
    "\n",
    "print(bfs(a, b))"
   ]
  },
  {
   "cell_type": "markdown",
   "metadata": {},
   "source": [
    "## 프로그래머스 가장 먼 노드\n",
    "https://school.programmers.co.kr/learn/courses/30/lessons/49189"
   ]
  },
  {
   "cell_type": "code",
   "execution_count": null,
   "metadata": {},
   "outputs": [],
   "source": [
    "# 인접 리스트로 그래프 형태 변경\n",
    "def set_graph(n, edge) :\n",
    "    graph = [[] for _ in range(n + 1)]\n",
    "    for v1, v2 in edge :\n",
    "        graph[v1].append(v2)\n",
    "        graph[v2].append(v1)\n",
    "    return graph\n",
    "\n",
    "from collections import defaultdict, deque\n",
    "\n",
    "def solution(n, edge):\n",
    "    graph = set_graph(n, edge)\n",
    "    visited = [0] * (n + 1)\n",
    "    visited[1] = 1\n",
    "    # 딕셔너리에 거리에 따른 노드 개수 저장\n",
    "    dist = defaultdict(int)\n",
    "    dist[1] += 1\n",
    "    to_visit = deque([1])\n",
    "    while to_visit :\n",
    "        now = to_visit.popleft()\n",
    "        for near in graph[now] :\n",
    "            if not visited[near] :\n",
    "                to_visit.append(near)\n",
    "                visited[near] = visited[now] + 1\n",
    "                dist[visited[near]] += 1\n",
    "                # 마지막으로 업데이트 된 거리가 현재 가장 먼 거리\n",
    "                max_dist = visited[near]\n",
    "    # 가장 먼 거리의 노드 개수 반환\n",
    "    return dist[max_dist]"
   ]
  },
  {
   "cell_type": "markdown",
   "metadata": {},
   "source": [
    "## 프로그래머스 단어 변환\n",
    "https://school.programmers.co.kr/learn/courses/30/lessons/43163"
   ]
  },
  {
   "cell_type": "code",
   "execution_count": null,
   "metadata": {},
   "outputs": [],
   "source": [
    "def near_word(string, compare) :\n",
    "        n = len(string)\n",
    "        cnt = 0\n",
    "        for i in range(n) :\n",
    "            if string[i] != compare[i] :\n",
    "                cnt += 1\n",
    "            if cnt > 1 :\n",
    "                return False\n",
    "        if cnt == 0 :\n",
    "            return False\n",
    "        else :\n",
    "            return True\n",
    "        \n",
    "from collections import deque  \n",
    "\n",
    "def solution(begin, target, words) :\n",
    "    if target not in set(words) :\n",
    "        return 0\n",
    "    words = set(words)\n",
    "    graph = {word : [] for word in words}\n",
    "    to_visit = deque()\n",
    "    for word in words :\n",
    "        for compare in words :\n",
    "            if near_word(word, compare) :\n",
    "                graph[word].append(compare)\n",
    "        if near_word(begin, word) :\n",
    "            to_visit.append(word)\n",
    "    visited = {word : 0 for word in words}\n",
    "    while to_visit :\n",
    "        now = to_visit.popleft()\n",
    "        if now == target :\n",
    "            return visited[target] + 1\n",
    "        for near in graph[now] :\n",
    "            if not visited[near] :\n",
    "                to_visit.append(near)\n",
    "                visited[near] = visited[now] + 1\n",
    "    return 0"
   ]
  },
  {
   "cell_type": "markdown",
   "metadata": {},
   "source": [
    "## 백준 16236 아기상어\n",
    "https://www.acmicpc.net/problem/16236"
   ]
  },
  {
   "cell_type": "code",
   "execution_count": null,
   "metadata": {},
   "outputs": [],
   "source": [
    "# 물고기 딕셔너리 형태로 저장 -> (좌표) : [크기]\n",
    "# bfs로 먹을 수 있는 모든 물고기에 대한 거리 갱신\n",
    "# 먹을 수 있는 물고기는 따로 fish_stack에 저장\n",
    "# 가장 가까운 물고기 먹고 상어 위치 갱신, 크기 갱신, 걸린 시간 갱신\n",
    "# 먹을 물고기 없으면 걸린 시간 return\n",
    "\n",
    "f = open('input.txt')\n",
    "input = f.readline\n",
    "\n",
    "from collections import deque\n",
    "\n",
    "answer = 0\n",
    "flag = False\n",
    "n = int(input())\n",
    "graph = list()\n",
    "fish = dict()\n",
    "shark = [0, 0]\n",
    "fish_stack = list()\n",
    "# [사이즈, 먹은 수]\n",
    "size = [2, 0]\n",
    "for i in range(n) :\n",
    "    arr = list(map(int, input().split()))\n",
    "    for j in range(n) :\n",
    "        if arr[j] == 9 :\n",
    "            shark = [i, j]\n",
    "        else :\n",
    "            if arr[j] != 0 :\n",
    "                # (좌표) : [크기, 거리]\n",
    "                fish[(i, j)] = arr[j]\n",
    "    graph.append(arr)\n",
    "# print(fish)\n",
    "# print(shark, size)\n",
    "def fish_dist(shark_x, shark_y) :\n",
    "    visited = [[0] * n for _ in range(n)]\n",
    "    visited[shark_x][shark_y] = 1\n",
    "    # 상어보다 큰 물고기가 있는 칸은 먼저 방문처리\n",
    "    for fx, fy in fish :\n",
    "        if fish[(fx, fy)] > size[0] :\n",
    "            visited[fx][fy] = 1\n",
    "    to_visit = deque([(shark_x, shark_y)])\n",
    "    move = [(-1, 0), (0, -1), (1, 0), (0, 1)]\n",
    "    while to_visit :\n",
    "        x, y = to_visit.popleft()\n",
    "        for dx, dy in move :\n",
    "            nx = x + dx\n",
    "            ny = y + dy\n",
    "            # 범위 벗어나거나 방문한적 있으면 탐색 중단\n",
    "            if nx < 0 or nx >= n or ny < 0 or ny >= n or visited[nx][ny]:\n",
    "                continue\n",
    "            else :\n",
    "                # 일단 방문할 수 있으면 방문 처리\n",
    "                visited[nx][ny] = visited[x][y] + 1                    \n",
    "                # (nx, ny)에 물고기 있고 먹을 수 있으면 fish_stack에 추가\n",
    "                if (nx, ny) in fish and fish[(nx, ny)] < size[0] :\n",
    "                    fish_stack.append(((nx, ny), visited[nx][ny]))\n",
    "                else :\n",
    "                    to_visit.append((nx, ny))\n",
    "                    # 먹을 수 있는 물고기 있는 칸은 to_visit 추가 안함                   \n",
    "    return\n",
    "\n",
    "def eat_fish(shark_x, shark_y) :\n",
    "    global fish_stack, shark, size, answer, flag\n",
    "    # 먹을 수 있는 물고기 없으면 탐색 종료\n",
    "    if not fish_q :\n",
    "        flag = True\n",
    "        return\n",
    "    # 거리에 따라 정렬, 거리가 같으면 좌표에 따라 정렬\n",
    "    fish_stack = sorted(fish_q, key=lambda f : (f[1], f[0][0], f[0][1]), reverse=True)\n",
    "#     print(fish)\n",
    "    # 제일 앞의 물고기 먹음\n",
    "    eaten = fish_stack.pop()\n",
    "    fish_stack.clear()\n",
    "    eaten_xy = eaten[0]\n",
    "    eaten_dist = eaten[1]\n",
    "#     print(eaten_xy, eaten_size, eaten_dist)\n",
    "    fish.pop(eaten_xy)\n",
    "#     print(fish)\n",
    "    # 먹은 수 갱신\n",
    "    size[1] += 1\n",
    "    # 사이즈 갱신\n",
    "    if size[0] == size[1] :\n",
    "        size[0] += 1\n",
    "        size[1] = 0\n",
    "    # 상어 위치 갱신\n",
    "    shark[0] = eaten_xy[0]\n",
    "    shark[1] = eaten_xy[1]\n",
    "    # 거리 갱신\n",
    "    answer += eaten_dist - 1\n",
    "    return\n",
    "                \n",
    "while True :\n",
    "    if not fish :\n",
    "        print(answer)\n",
    "        break\n",
    "    fish_dist(shark[0], shark[1])\n",
    "    eat_fish(shark[0], shark[1])\n",
    "#     print(f\"{shark}, {answer}, {size[0]}, {size[1]}\")\n",
    "    if flag == True :\n",
    "        print(answer)\n",
    "        break"
   ]
  },
  {
   "cell_type": "markdown",
   "metadata": {},
   "source": [
    "## 백준 11403 경로 찾기\n",
    "https://www.acmicpc.net/problem/11403"
   ]
  },
  {
   "cell_type": "code",
   "execution_count": 4,
   "metadata": {
    "ExecuteTime": {
     "end_time": "2023-01-27T11:48:45.826204Z",
     "start_time": "2023-01-27T11:48:45.809063Z"
    }
   },
   "outputs": [
    {
     "name": "stdout",
     "output_type": "stream",
     "text": [
      "1 0 1 1 1 1 1\n",
      "0 0 1 0 0 0 1\n",
      "0 0 0 0 0 0 0\n",
      "1 0 1 1 1 1 1\n",
      "1 0 1 1 1 1 1\n",
      "0 0 1 0 0 0 1\n",
      "0 0 1 0 0 0 0\n"
     ]
    }
   ],
   "source": [
    "# f = open(\"input.txt\")\n",
    "# input = f.readline\n",
    "\n",
    "n = int(input())\n",
    "graph = [list(map(int, input().split())) for _ in range(n)]\n",
    "\n",
    "for k in range(n) :\n",
    "    for a in range(n) :\n",
    "        for b in range(n) :\n",
    "            if not graph[a][b] :\n",
    "                # 비트 연산자 활용\n",
    "                graph[a][b] = graph[a][k] & graph[k][b]\n",
    "\n",
    "for row in graph :\n",
    "    print(*row)"
   ]
  },
  {
   "cell_type": "markdown",
   "metadata": {},
   "source": [
    "## 백준 9019 DSLR\n",
    "https://www.acmicpc.net/problem/9019\n",
    "- 숫자 문자열로 변환하면 메모리 or 시간 초과 발생"
   ]
  },
  {
   "cell_type": "code",
   "execution_count": 2,
   "metadata": {
    "ExecuteTime": {
     "end_time": "2023-01-27T11:47:30.669839Z",
     "start_time": "2023-01-27T11:47:30.665702Z"
    }
   },
   "outputs": [
    {
     "name": "stdout",
     "output_type": "stream",
     "text": [
      "1\n"
     ]
    }
   ],
   "source": [
    "# f = open(\"input.txt\")\n",
    "# input = f.readline\n",
    "\n",
    "from collections import deque\n",
    "\n",
    "def trans(a, command) :\n",
    "    if command == \"D\" :\n",
    "        a = (a * 2) % 10000\n",
    "    elif command == \"S\" :\n",
    "        a = (a - 1) % 10000\n",
    "    else :\n",
    "        if command == \"L\" :\n",
    "            a = (a % 1000) * 10 + (a // 1000)\n",
    "        else :\n",
    "            a = (a % 10) * 1000 + a // 10\n",
    "    return a\n",
    "    \n",
    "    \n",
    "def bfs(a, b) :\n",
    "    to_visit = deque([(a, \"\")])\n",
    "    visited = [0] * 10000\n",
    "    visited[a] = 1\n",
    "    commands = [\"D\", \"S\", \"L\", \"R\"]\n",
    "    while to_visit :\n",
    "        now, moves = to_visit.popleft()\n",
    "        for command in commands :\n",
    "            new = trans(now, command)\n",
    "            if new == b :\n",
    "                return moves + command\n",
    "            if not visited[new] :\n",
    "                visited[new] = 1\n",
    "                to_visit.append([new, moves + command])\n",
    "                \n",
    "t = int(input())\n",
    "for _ in range(t) :\n",
    "    a, b = map(int, input().split())\n",
    "    print(bfs(a, b))"
   ]
  },
  {
   "cell_type": "markdown",
   "metadata": {},
   "source": [
    "## 백준 16953 A -> B\n",
    "https://www.acmicpc.net/problem/16953"
   ]
  },
  {
   "cell_type": "code",
   "execution_count": 4,
   "metadata": {
    "ExecuteTime": {
     "end_time": "2023-01-30T05:19:15.065010Z",
     "start_time": "2023-01-30T05:19:11.670251Z"
    }
   },
   "outputs": [
    {
     "name": "stdout",
     "output_type": "stream",
     "text": [
      "100 40021\n",
      "5\n"
     ]
    }
   ],
   "source": [
    "from collections import deque\n",
    "\n",
    "a, b = map(int, input().split())\n",
    "\n",
    "def bfs(a, b) :\n",
    "    to_visit = deque([(a, 1)])\n",
    "    visited = set()\n",
    "    visited.add(a)\n",
    "\n",
    "    while to_visit :\n",
    "        now, cnt = to_visit.pop()\n",
    "        new_1 = 2 * now\n",
    "        if new_1 == b :\n",
    "            return cnt + 1\n",
    "        if new_1 not in visited and new_1 < b :\n",
    "            to_visit.append((new_1, cnt+1))\n",
    "        new_2 = 10 * now + 1\n",
    "        if new_2 == b :\n",
    "            return cnt + 1\n",
    "        if new_2 not in visited and new_2 < b :\n",
    "            to_visit.append((new_2, cnt+1))\n",
    "    return -1\n",
    "                            \n",
    "print(bfs(a, b))"
   ]
  },
  {
   "cell_type": "markdown",
   "metadata": {
    "id": "r4okYavZIRfk"
   },
   "source": [
    "# 재귀와 백트래킹"
   ]
  },
  {
   "cell_type": "code",
   "execution_count": null,
   "metadata": {
    "ExecuteTime": {
     "end_time": "2023-01-18T02:14:59.604513Z",
     "start_time": "2023-01-18T02:14:58.770263Z"
    },
    "colab": {
     "base_uri": "https://localhost:8080/"
    },
    "id": "4JdpKqvYcCl9",
    "outputId": "3c57c509-5a9b-4aea-926b-7d822d98a317"
   },
   "outputs": [],
   "source": [
    "n = int(input())\n",
    "array = []\n",
    "visited = [False] * (n + 1)\n",
    "cnt = 0\n",
    "def perm(n) :\n",
    "    global cnt\n",
    "    if len(array) == n :\n",
    "        cnt += 1\n",
    "        print(cnt, array)\n",
    "        return\n",
    "    else :\n",
    "        for i in range(1, n + 1) :\n",
    "            if not visited[i] :\n",
    "                visited[i] = True\n",
    "                array.append(i)\n",
    "                perm(n)\n",
    "                array.pop()\n",
    "                visited[i] = False\n",
    "perm(n)"
   ]
  },
  {
   "cell_type": "markdown",
   "metadata": {
    "ExecuteTime": {
     "end_time": "2023-01-18T02:15:19.812170Z",
     "start_time": "2023-01-18T02:15:19.797226Z"
    }
   },
   "source": [
    "## 백준 11729 하노이 탑 이동 순서\n",
    "https://www.acmicpc.net/problem/11729"
   ]
  },
  {
   "cell_type": "code",
   "execution_count": null,
   "metadata": {
    "colab": {
     "base_uri": "https://localhost:8080/"
    },
    "id": "gMEWiWF9ITRo",
    "outputId": "1a62f4db-2576-4d45-d257-b7b3d6ac5281"
   },
   "outputs": [],
   "source": [
    "def hanoi(n, start, end, mid) :\n",
    "    if n == 1 :\n",
    "        print(start, end)\n",
    "        return\n",
    "    else :\n",
    "        hanoi(n - 1, start, mid, end)\n",
    "        print(start, end)\n",
    "        hanoi(n - 1, mid, end, start)\n",
    "\n",
    "n = int(input())\n",
    "print(2 ** n - 1)\n",
    "hanoi(n, 1, 3, 2)"
   ]
  },
  {
   "cell_type": "markdown",
   "metadata": {
    "ExecuteTime": {
     "end_time": "2023-01-18T02:15:54.034912Z",
     "start_time": "2023-01-18T02:15:54.028953Z"
    }
   },
   "source": [
    "## 백준 17070 파이프 옮기기 1 실패\n",
    "https://www.acmicpc.net/problem/17070"
   ]
  },
  {
   "cell_type": "code",
   "execution_count": null,
   "metadata": {
    "id": "jObQ7Py5MdK3"
   },
   "outputs": [],
   "source": [
    "# 재귀만 쓰면 시간초과\n",
    "\n",
    "def recurs(x, y, shape) :\n",
    "    global ans\n",
    "    if x >= n or y >= n :\n",
    "        return\n",
    "    if shape == 1 and x == n - 1 and y != n - 1 :\n",
    "        return\n",
    "    if shape == 0 and y == n - 1 and x != n - 1 :\n",
    "        return\n",
    "    if x == n - 1 and y == n - 1 :\n",
    "        ans += 1\n",
    "    if y <= n - 2 and graph[x][y + 1] == 0 and (shape == 0 or shape == 2) :\n",
    "        recurs(x, y+1, 0)\n",
    "    if x <= n - 2 and graph[x + 1][y] == 0 and (shape == 1 or shape == 2) :\n",
    "        recurs(x+1, y, 1)\n",
    "    if x <= n - 2 and y <= n - 2 and graph[x][y + 1] == 0 and graph[x + 1][y] == 0 and graph[x + 1][y + 1] == 0 :\n",
    "        recurs(x+1, y+1, 2)\n",
    "\n",
    "n = int(input())\n",
    "graph = [list(map(int, input().split())) for _ in range(n)]\n",
    "ans = 0\n",
    "recurs(0, 1, 0)\n",
    "print(ans)"
   ]
  },
  {
   "cell_type": "markdown",
   "metadata": {},
   "source": [
    "## 백준 2630 색종이 만들기\n",
    "https://www.acmicpc.net/problem/2630"
   ]
  },
  {
   "cell_type": "code",
   "execution_count": null,
   "metadata": {
    "colab": {
     "base_uri": "https://localhost:8080/"
    },
    "id": "Ya9eeQliWITu",
    "outputId": "264a234b-b433-4223-e125-805e80aa8f84"
   },
   "outputs": [],
   "source": [
    "n = int(input())\n",
    "graph = [list(map(int, input().split())) for _ in range(n)]\n",
    "# graph = [[1, 1, 0, 0, 0, 0, 1, 1],\n",
    "#          [1, 1, 0, 0, 0, 0, 1, 1],\n",
    "#          [0, 0, 0, 0, 1, 1, 0, 0],\n",
    "#          [0, 0, 0, 0, 1, 1, 0, 0],\n",
    "#          [1, 0, 0, 0, 1, 1, 1, 1],\n",
    "#          [0, 1, 0, 0, 1, 1, 1, 1],\n",
    "#          [0, 0, 1, 1, 1, 1, 1, 1],\n",
    "#          [0, 0, 1, 1, 1, 1, 1, 1]]\n",
    "\n",
    "w, b = 0, 0\n",
    "def recurs(graph, n) :\n",
    "    global w, b\n",
    "    if sum([sum(i) for i in graph]) == 0 :\n",
    "        w += 1\n",
    "        return\n",
    "    if sum([sum(i) for i in graph]) == n ** 2 :\n",
    "        b += 1\n",
    "        return\n",
    "    else :\n",
    "        n_2 = n // 2\n",
    "        recurs([i[:n_2] for i in graph][:n_2], n_2)\n",
    "        recurs([i[:n_2] for i in graph][n_2:], n_2)\n",
    "        recurs([i[n_2:] for i in graph][:n_2], n_2)\n",
    "        recurs([i[n_2:] for i in graph][n_2:], n_2)\n",
    "\n",
    "recurs(graph, n)\n",
    "print(w)\n",
    "print(b)"
   ]
  },
  {
   "cell_type": "markdown",
   "metadata": {},
   "source": [
    "## 프로그래머스 쿼드압축 후 개수 세기\n",
    "https://school.programmers.co.kr/learn/courses/30/lessons/68936\n",
    "- 문제 구조는 백준 2630과 동일"
   ]
  },
  {
   "cell_type": "code",
   "execution_count": null,
   "metadata": {
    "ExecuteTime": {
     "end_time": "2023-01-23T12:55:58.265803Z",
     "start_time": "2023-01-23T12:55:58.252412Z"
    }
   },
   "outputs": [],
   "source": [
    "def solution(arr) :\n",
    "    answer = [0, 0]\n",
    "    n = len(arr)\n",
    "    # 탐색 시작점 (x, y)와 탐색범위 l 지정\n",
    "    def btr(x, y, l) :\n",
    "        start = arr[x][y]\n",
    "        for i in range(x, x + l) :\n",
    "            for j in range(y, y + l) :\n",
    "                # 시작점과 다른 값이 있으면 4분할 해서 탐색\n",
    "                # 그에 따른 시작점과 탐색범위 재지정\n",
    "                if arr[i][j] != start :\n",
    "                    btr(x, y, l//2)\n",
    "                    btr(x + l//2, y, l//2)\n",
    "                    btr(x, y + l//2, l//2)\n",
    "                    btr(x + l//2, y + l//2, l//2)\n",
    "                    return\n",
    "        # 시작점과 모두 같으면 +1\n",
    "        answer[start] += 1\n",
    "    \n",
    "    btr(0, 0, n)\n",
    "    return answer\n",
    "arr = [[1,1,1,1,1,1,1,1],\n",
    "       [0,1,1,1,1,1,1,1],\n",
    "       [0,0,0,0,1,1,1,1],\n",
    "       [0,1,0,0,1,1,1,1],\n",
    "       [0,0,0,0,0,0,1,1],\n",
    "       [0,0,0,0,0,0,0,1],\n",
    "       [0,0,0,0,1,0,0,1],\n",
    "       [0,0,0,0,1,1,1,1]]\n",
    "print(solution(arr))"
   ]
  },
  {
   "cell_type": "markdown",
   "metadata": {},
   "source": [
    "## 백준 1780 종이의 개수\n",
    "https://www.acmicpc.net/problem/1780"
   ]
  },
  {
   "cell_type": "code",
   "execution_count": null,
   "metadata": {
    "colab": {
     "base_uri": "https://localhost:8080/"
    },
    "id": "hO0Z16z5csOL",
    "outputId": "9a6bcce5-f025-4046-b089-b102490783c6"
   },
   "outputs": [],
   "source": [
    "n = int(input())\n",
    "graph = [list(map(int, input().split())) for _ in range(n)]\n",
    "# graph = [[0, 0, 0, 1, 1, 1, -1, -1, -1],\n",
    "#          [0, 0, 0, 1, 1, 1, -1, -1, -1],\n",
    "#          [0, 0, 0, 1, 1, 1, -1, -1, -1],\n",
    "#          [1, 1, 1, 0, 0, 0, 0, 0, 0],\n",
    "#          [1, 1, 1, 0, 0, 0, 0, 0, 0],\n",
    "#          [1, 1, 1, 0, 0, 0, 0, 0, 0],\n",
    "#          [0, 1, -1, 0, 1, -1, 0, 1, -1],\n",
    "#          [0, -1, 1, 0, 1, -1, 0, 1, -1],\n",
    "#          [0, 1, -1, 1, 0, -1, 0, 1, -1]]\n",
    "\n",
    "cnt__1, cnt_0, cnt_1 = 0, 0, 0\n",
    "def back_track(graph, n) :\n",
    "    global cnt__1, cnt_0, cnt_1\n",
    "    n_sq = n ** 2\n",
    "    sum_graph = sum([sum(row) for row in graph])\n",
    "    if sum_graph == n_sq :\n",
    "        cnt_1 += 1\n",
    "        return\n",
    "    elif sum_graph == -n_sq :\n",
    "        cnt__1 += 1\n",
    "        return\n",
    "    elif graph == [[0] * n for _ in range(n)] :\n",
    "        cnt_0 += 1\n",
    "        return\n",
    "    else :\n",
    "        n_d3 = n // 3\n",
    "        for i in range(3) :\n",
    "            for j in range(3) :\n",
    "                back_track([row[i * n_d3 : (i + 1) * n_d3] for row in graph][j * n_d3 : (j + 1) * n_d3], n_d3)\n",
    "\n",
    "back_track(graph, n)                           \n",
    "print(cnt__1)\n",
    "print(cnt_0)\n",
    "print(cnt_1)"
   ]
  },
  {
   "cell_type": "markdown",
   "metadata": {},
   "source": [
    "## 백준 9663 N-Queen\n",
    "https://www.acmicpc.net/problem/9663"
   ]
  },
  {
   "cell_type": "code",
   "execution_count": null,
   "metadata": {
    "colab": {
     "base_uri": "https://localhost:8080/"
    },
    "id": "CNtqcx1uM4cD",
    "outputId": "b04b6ac9-d0ce-4834-906a-7754556154fe"
   },
   "outputs": [],
   "source": [
    "n = int(input())\n",
    "# row[x] = i : x번째 행의 i번째 열에 퀸이 있음\n",
    "row = [0] * n\n",
    "# 전체 체스판에서 해당 index의 열에 퀸이 있으면 True, 없으면 False\n",
    "visited = [False] * n\n",
    "cnt = 0\n",
    "# x번째 행에 놓인 퀸이 조건을 만족하는지 탐색. 만족하면 True, 아니면 False\n",
    "def check(x) :\n",
    "    # 이전 row들과 비교해서 탐색. visited로 애초에 다른 열에 배치했으므로 대각선만 체크\n",
    "    for i in range(x) :\n",
    "        if abs(i - x) == abs(row[i] - row[x]) :\n",
    "            return False\n",
    "    return True\n",
    "\n",
    "# x : 현재 탐색하고 있는 행 index\n",
    "def nqueen(x) :\n",
    "    global cnt\n",
    "    # 마지막 행까지 퀸 놓았으면 cnt에 1 더하고 return\n",
    "    if x == n :\n",
    "        cnt += 1\n",
    "        return\n",
    "    else :\n",
    "        for i in range(n) :\n",
    "            # 전체 열 범위에서 아직 놓지 않은 열이 있으면 x행, i열에 퀸 놓음\n",
    "            if not visited[i] :\n",
    "                row[x] = i\n",
    "                # x행 i열에 퀸 놓는게 가능하면\n",
    "                if check(x) :\n",
    "                    # i열 방문 처리하고\n",
    "                    visited[i] = True\n",
    "                    # x+1행에서 탐색\n",
    "                    nqueen(x + 1)\n",
    "                    # 탐색 끝나면 i열 방문 처리 해제하고 다음 열 탐색\n",
    "                    visited[i] = False\n",
    "\n",
    "nqueen(0)\n",
    "print(cnt)"
   ]
  },
  {
   "cell_type": "markdown",
   "metadata": {},
   "source": [
    "## 백준 15654 N과 M (5)\n",
    "https://www.acmicpc.net/problem/15654"
   ]
  },
  {
   "cell_type": "code",
   "execution_count": null,
   "metadata": {
    "ExecuteTime": {
     "end_time": "2023-01-22T08:20:50.333100Z",
     "start_time": "2023-01-22T08:20:45.948358Z"
    }
   },
   "outputs": [],
   "source": [
    "n, m = map(int, input().split())\n",
    "array = sorted(map(int, input().split()))\n",
    "\n",
    "sol = list()\n",
    "visited = [False] * n\n",
    "def perm(n, m, array) :\n",
    "    if len(sol) == m :\n",
    "        print(*sol)\n",
    "        return\n",
    "    for i in range(n) :\n",
    "        if not visited[i] :\n",
    "            sol.append(array[i])\n",
    "            visited[i] = True\n",
    "            perm(n, m, array)\n",
    "            sol.pop()\n",
    "            visited[i] = False\n",
    "            \n",
    "perm(n, m, array)"
   ]
  },
  {
   "cell_type": "markdown",
   "metadata": {},
   "source": [
    "## 백준 10971 외판원 순회 2\n",
    "https://www.acmicpc.net/problem/10971"
   ]
  },
  {
   "cell_type": "code",
   "execution_count": null,
   "metadata": {
    "ExecuteTime": {
     "end_time": "2023-01-23T17:29:08.729768Z",
     "start_time": "2023-01-23T17:29:08.147381Z"
    }
   },
   "outputs": [],
   "source": [
    "n = int(input())\n",
    "graph = [list(map(int, input().split())) for _ in range(n)]\n",
    "# graph = [[0, 10, 15, 20],\n",
    "#          [5, 0, 9, 10],\n",
    "#          [6, 13, 0, 12],\n",
    "#          [8, 8, 9, 0]]\n",
    "# graph = [[0, 5, 9, 10],\n",
    "#          [6, 0, 13, 12],\n",
    "#          [8, 8, 0, 9],\n",
    "#          [20, 15, 20, 0]]\n",
    "\n",
    "\n",
    "min_cost = int(1e9)\n",
    "visited = [False] * n\n",
    "\n",
    "# now : 현재 방문 중인 도시, now_cost : 지금까지 비용, visits_cnt : 지금까지 방문한 도시 수\n",
    "def back_track(now, now_cost, visits_cnt) :\n",
    "    global min_cost\n",
    "    # 지금까지 비용이 최소 비용보다 크면 더 이상 탐색 X\n",
    "    if now_cost >= min_cost :\n",
    "        return\n",
    "    # 모든 도시 다 방문하면\n",
    "    if visits_cnt == n :\n",
    "        # 처음 시작한 도시로 돌아가야 함\n",
    "        if graph[now][start] != 0 :\n",
    "            min_cost = min(min_cost, now_cost + graph[now][start])\n",
    "        return\n",
    "    \n",
    "    for i in range(n) :\n",
    "        # 방문하지 않은 도시 i에 대해 현재 도시로부터 길이 있으면 방문\n",
    "        if visited[i] == False and graph[now][i] != 0 :\n",
    "            visited[i] = True\n",
    "            back_track(i, now_cost + graph[now][i], visits_cnt + 1)\n",
    "            visited[i] = False\n",
    "            \n",
    "\n",
    "# 순회할 수 있는 길이 있으면 어디서 시작해도 상관없음 -> 따라서 모든 시작점을 테스트할 필요 없음\n",
    "# 시작점이 0인 경우만 고려\n",
    "visited[0] = True\n",
    "start = 0\n",
    "back_track(0, 0, 1)\n",
    "'''\n",
    "# 모든 도시를 시작점으로 한번씩 지정\n",
    "for i in range(n) :\n",
    "    visited[i] = True\n",
    "    start = i\n",
    "    back_track(i, 0, 1)\n",
    "    visited[i] = False\n",
    "'''\n",
    "print(min_cost)"
   ]
  },
  {
   "cell_type": "code",
   "execution_count": null,
   "metadata": {
    "ExecuteTime": {
     "end_time": "2023-01-23T16:30:45.209478Z",
     "start_time": "2023-01-23T16:30:44.499985Z"
    }
   },
   "outputs": [],
   "source": [
    "from itertools import permutations as perm\n",
    "\n",
    "n = int(input())\n",
    "graph = [list(map(int, input().split())) for _ in range(n)]\n",
    "# graph = [[0, 10, 15, 20],\n",
    "#          [5, 0, 9, 10],\n",
    "#          [6, 13, 0, 12],\n",
    "#          [8, 8, 9, 0]]\n",
    "\n",
    "min_cost = int(1e9)\n",
    "for p in perm(range(n), n) :\n",
    "    now_cost = 0\n",
    "    route = list(p) + [p[0]]\n",
    "    for i in range(n) :\n",
    "        if graph[route[i]][route[i+1]] == 0 :\n",
    "            break\n",
    "        now_cost += graph[route[i]][route[i+1]]\n",
    "        if now_cost >= min_cost :\n",
    "            break\n",
    "    else :\n",
    "        min_cost = min(min_cost, now_cost)\n",
    "    \n",
    "print(min_cost)"
   ]
  },
  {
   "cell_type": "markdown",
   "metadata": {},
   "source": [
    "## 백준 24512 Bottleneck Travelling Salesman Problem (Small)\n",
    "https://www.acmicpc.net/problem/24512\n",
    "- 외판원 순회 문제의 변형\n",
    "- 현 비용이 나중에 더 낮게 갱신될 수 있음  \n",
    "  -> 비용이 누적되기만 하는 외.순과는 달리 현 비용이 최소 비용보다 크다고 탐색 종료 불가"
   ]
  },
  {
   "cell_type": "code",
   "execution_count": 3,
   "metadata": {
    "ExecuteTime": {
     "end_time": "2023-01-27T13:01:58.931448Z",
     "start_time": "2023-01-27T13:01:58.910864Z"
    }
   },
   "outputs": [
    {
     "name": "stdout",
     "output_type": "stream",
     "text": [
      "5\n",
      "1 3 4 5 2 6\n"
     ]
    }
   ],
   "source": [
    "# f = open(\"input.txt\")\n",
    "# input = f.readline\n",
    "\n",
    "n, m = map(int, input().split())\n",
    "graph = [[0] * (n + 1) for _ in range(n + 1)]\n",
    "for _ in range(m) :\n",
    "    a, b, c = map(int, input().split())\n",
    "    graph[a][b] = c\n",
    "\n",
    "min_cost = int(1e9)\n",
    "min_cost_route = list()\n",
    "route = list()\n",
    "visited = [0] * (n + 1)\n",
    "def back_track(now, cost, cnt) :\n",
    "    global min_cost, min_cost_route\n",
    "    if cnt == n :\n",
    "        if graph[now][1] and min_cost > max(cost, graph[now][1]) :\n",
    "            min_cost = max(cost, graph[now][1])\n",
    "            min_cost_route = route[:]\n",
    "        return\n",
    "    for i in range(1, n+1) :\n",
    "        if graph[now][i] and not visited[i] :\n",
    "            visited[i] = 1\n",
    "            route.append(i)\n",
    "            back_track(i, max(cost, graph[now][i]), cnt + 1)\n",
    "            visited[i] = 0\n",
    "            route.pop()\n",
    "            \n",
    "visited[1] = 1\n",
    "route.append(1)\n",
    "back_track(1, 0, 1)\n",
    "\n",
    "if not min_cost_route :\n",
    "    print(-1)\n",
    "else :\n",
    "    print(min_cost)\n",
    "    print(*min_cost_route)"
   ]
  },
  {
   "cell_type": "code",
   "execution_count": 23,
   "metadata": {
    "ExecuteTime": {
     "end_time": "2023-01-27T12:26:20.417245Z",
     "start_time": "2023-01-27T12:26:20.410120Z"
    }
   },
   "outputs": [
    {
     "name": "stdout",
     "output_type": "stream",
     "text": [
      "[1, 6, 8]\n"
     ]
    }
   ],
   "source": [
    "a = list()\n",
    "b = [1,6,8]\n",
    "a = b[:]\n",
    "b.pop()\n",
    "b.append(3)\n",
    "print(a)"
   ]
  },
  {
   "cell_type": "markdown",
   "metadata": {},
   "source": [
    "## 백준 2023 신기한 소수\n",
    "https://www.acmicpc.net/problem/2023"
   ]
  },
  {
   "cell_type": "code",
   "execution_count": null,
   "metadata": {
    "ExecuteTime": {
     "end_time": "2023-01-24T08:20:39.878727Z",
     "start_time": "2023-01-24T08:20:39.331050Z"
    }
   },
   "outputs": [],
   "source": [
    "n = int(input())\n",
    "\n",
    "# 소수 판별 함수 정의\n",
    "def isprime(n) :\n",
    "    n = int(n)\n",
    "    sqrt_n = int(n ** (1/2))\n",
    "    if n == 1 :\n",
    "        return False\n",
    "    if n == 2 or n == 3 :\n",
    "        return True\n",
    "    for i in range(2, sqrt_n + 1) :\n",
    "        if n % i == 0 :\n",
    "            return False\n",
    "    return True\n",
    "\n",
    "num = \"\"\n",
    "def back_track(depth) :\n",
    "    global num\n",
    "    # 지정한 자리수에 도달하면\n",
    "    if depth == n :\n",
    "        # 소수인지 확인해 소수면 출력하고 return\n",
    "        if isprime(num) :\n",
    "            print(num)\n",
    "        return\n",
    "    # 앞에서부터 하나씩 붙여가며 소수인지 판별\n",
    "    for i in range(1, 10) :\n",
    "        num += str(i)\n",
    "        # 소수면 탐색\n",
    "        if isprime(num) :\n",
    "            back_track(depth + 1)\n",
    "        num = num[:-1]\n",
    "        \n",
    "back_track(0)   "
   ]
  },
  {
   "cell_type": "markdown",
   "metadata": {
    "id": "6pt1gpfuKE2T"
   },
   "source": [
    "# 다익스트라, 플로이드-워셜 "
   ]
  },
  {
   "cell_type": "markdown",
   "metadata": {},
   "source": [
    "## 백준 1916 최소비용 구하기\n",
    "https://www.acmicpc.net/problem/1916"
   ]
  },
  {
   "cell_type": "code",
   "execution_count": null,
   "metadata": {
    "colab": {
     "base_uri": "https://localhost:8080/"
    },
    "id": "4To2QDNhKKcj",
    "outputId": "1622d83a-f9e9-470d-8eea-e8c2cb494b95"
   },
   "outputs": [],
   "source": [
    "import heapq\n",
    "\n",
    "n = int(input())\n",
    "m = int(input())\n",
    "\n",
    "graph = [[] for _ in range(n + 1)]\n",
    "for i in range(m) :\n",
    "    a, b, c = map(int, input().split())\n",
    "    graph[a].append((b, c))\n",
    "# graph = [[],\n",
    "#          [(2, 2), (3, 3), (4, 1), (5, 10)],\n",
    "#          [(4, 2)],\n",
    "#          [(4, 1), (5, 1)],\n",
    "#          [(5, 3)],\n",
    "#          []]\n",
    "start, end = map(int, input().split())\n",
    "INF = int(1e6)\n",
    "distance = [INF] * (n + 1)\n",
    "distance[start] = 0\n",
    "\n",
    "def dijkstra(graph, start, end) :\n",
    "    q = []\n",
    "    heapq.heappush(q, (0, start))\n",
    "    while q :\n",
    "        dist_now, now = heapq.heappop(q)\n",
    "        if distance[now] < dist_now :\n",
    "            continue\n",
    "        else :\n",
    "            for near, now_near in graph[now] :\n",
    "                if distance[near] > dist_now + now_near :\n",
    "                    distance[near] = dist_now + now_near\n",
    "                    heapq.heappush(q, (distance[near], near))\n",
    "    return\n",
    "\n",
    "dijkstra(graph, start, end)\n",
    "print(distance[end])"
   ]
  },
  {
   "cell_type": "markdown",
   "metadata": {},
   "source": [
    "## 백준 11404 플로이드\n",
    "https://www.acmicpc.net/problem/11404"
   ]
  },
  {
   "cell_type": "code",
   "execution_count": null,
   "metadata": {
    "colab": {
     "base_uri": "https://localhost:8080/"
    },
    "id": "I2k9tT-79EAD",
    "outputId": "466f2b30-8b4e-443b-e68e-debb0dd6e6c1"
   },
   "outputs": [],
   "source": [
    "n = int(input())\n",
    "m = int(input())\n",
    "\n",
    "INF = int(1e9)\n",
    "graph = [[INF] * (n + 1) for _ in range(n + 1)]\n",
    "for i in range(1, n + 1) :\n",
    "    graph[i][i] = 0\n",
    "\n",
    "for _ in range(m) :\n",
    "    a, b, c = map(int, input().split())\n",
    "    # 두 도시 사이 노선 하나가 아닐 수 있음\n",
    "    graph[a][b] = min(graph[a][b], c)\n",
    "# graph = [[INF, INF, INF, INF, INF, INF],\n",
    "#          [INF, 0, 2, 3, 2, 10],\n",
    "#          [INF, INF, 0, INF, 2, INF],\n",
    "#          [INF, 8, INF, 0, 2, 10],\n",
    "#          [INF, INF, INF, INF, 0, 3],\n",
    "#          [INF, 7, 4, INF, INF, 0]]\n",
    "\n",
    "for k in range(1, n + 1) :\n",
    "    for a in range(1, n + 1) :\n",
    "        for b in range(1, n + 1) :\n",
    "            if a == b or a == k or b == k :\n",
    "                continue\n",
    "            graph[a][b] = min(graph[a][b], graph[a][k] + graph[k][b])\n",
    "\n",
    "for i in range(1, n + 1) :\n",
    "    for j in range(1, n + 1) :\n",
    "        if graph[i][j] == INF :\n",
    "            print(0, end=\" \")\n",
    "        else :\n",
    "            print(graph[i][j], end=\" \")\n",
    "    print()"
   ]
  },
  {
   "cell_type": "markdown",
   "metadata": {},
   "source": [
    "## 백준 11779 최소비용 구하기 2\n",
    "https://www.acmicpc.net/problem/11779"
   ]
  },
  {
   "cell_type": "code",
   "execution_count": null,
   "metadata": {
    "colab": {
     "base_uri": "https://localhost:8080/"
    },
    "id": "LPd_1GXEWAfj",
    "outputId": "b25bf450-c4d1-4cff-d2df-3c01d3964ab0"
   },
   "outputs": [],
   "source": [
    "# 경로 출력\n",
    "\n",
    "import heapq\n",
    "\n",
    "n = int(input())\n",
    "m = int(input())\n",
    "graph = [[] for _ in range(n + 1)]\n",
    "for _ in range(m) :\n",
    "    a, b, c = map(int, input().split())\n",
    "    graph[a].append((b, c))\n",
    "# graph = [[], [(2, 2), (3, 3), (4, 1), (5, 10)], [(4, 2)], [(4, 1), (5, 1)], [(5, 3)], []]\n",
    "start, end = map(int, input().split())\n",
    "INF = int(1e9)\n",
    "distance = [[INF, 0] for _ in range(n + 1)]\n",
    "distance[start] = [0, start]\n",
    "\n",
    "def dijkstra(graph, start, end) :    \n",
    "    q = []\n",
    "    heapq.heappush(q, (0, start))\n",
    "    while q :\n",
    "        dist_node, node = heapq.heappop(q)\n",
    "        if distance[node][0] < dist_node :\n",
    "            continue\n",
    "        else :\n",
    "            for near, dist_node_near in graph[node] :\n",
    "                if distance[near][0] > dist_node + dist_node_near :\n",
    "                    distance[near][0] = dist_node + dist_node_near\n",
    "                    distance[near][1] = node\n",
    "                    heapq.heappush(q, (distance[near][0], near))\n",
    "\n",
    "dijkstra(graph, start, end)\n",
    "print(distance[end][0])\n",
    "route = [end]\n",
    "while True :\n",
    "    now = route[-1]\n",
    "    before = distance[now][1]\n",
    "    route.append(before)\n",
    "    if before == start :\n",
    "        break\n",
    "print(len(route))\n",
    "print(*route[::-1])"
   ]
  },
  {
   "cell_type": "markdown",
   "metadata": {},
   "source": [
    "## 백준 1389 케빈 베이컨의 6단계 법칙\n",
    "https://www.acmicpc.net/problem/1389"
   ]
  },
  {
   "cell_type": "code",
   "execution_count": null,
   "metadata": {
    "ExecuteTime": {
     "end_time": "2023-01-18T15:22:29.934356Z",
     "start_time": "2023-01-18T15:22:18.412140Z"
    },
    "colab": {
     "base_uri": "https://localhost:8080/",
     "height": 418
    },
    "id": "kvvCaF8Y71dn",
    "outputId": "faa606a4-7928-4f1c-f953-9b6278b0884f"
   },
   "outputs": [],
   "source": [
    "n, m = map(int, input().split())\n",
    "INF = int(1e4)\n",
    "graph = [[INF] * (n + 1) for _ in range(n + 1)]\n",
    "for _ in range(m) :\n",
    "    a, b = map(int, input().split())\n",
    "    graph[a][b] = 1\n",
    "    graph[b][a] = 1\n",
    "\n",
    "for i in range(1, n + 1) :\n",
    "    graph[i][i] = 0\n",
    "\n",
    "# graph = [[10000, 10000, 10000, 10000, 10000, 10000],\n",
    "#          [10000, 0, 10000, 1, 1, 10000],\n",
    "#          [10000, 10000, 0, 1, 10000, 10000],\n",
    "#          [10000, 1, 1, 0, 1, 10000],\n",
    "#          [10000, 1, 10000, 1, 0, 1],\n",
    "#          [10000, 10000, 10000, 10000, 1, 0]]\n",
    "\n",
    "for k in range(1, n + 1) :\n",
    "    for a in range(1, n + 1) :\n",
    "        for b in range(1, n + 1) :\n",
    "            if k == a or k == b or a == b :\n",
    "                continue\n",
    "            else :\n",
    "                graph[a][b] = min(graph[a][b], graph[a][k] + graph[k][b])\n",
    "min_bacon = INF\n",
    "sol = 0\n",
    "for i in range(1, n + 1) :\n",
    "    now_bacon = sum(graph[i][1:])\n",
    "    if min_bacon > now_bacon :\n",
    "        min_bacon = now_bacon\n",
    "        sol = i\n",
    "print(sol)"
   ]
  },
  {
   "cell_type": "markdown",
   "metadata": {},
   "source": [
    "## 백준 1238 파티\n",
    "https://www.acmicpc.net/problem/1238\n",
    "- 시작점을 x로 두고 다익스트라를 실행하면 x에서 집으로 오는 최단거리 반환  \n",
    "    \\-> back_graph에는 시작점, 끝점을 원래 입력대로 저장하고 dikstra(back_graph, x) 실행\n",
    "- 시작점과 끝점을 반대로 입력한 go_graph에서 시작점 x인 다익스트라를 실행하면, 원래 그래프의 집에서 x로 가는 최단거리 반환  \n",
    "    \\-> go_graph에 반대로 저장하고 dikstra(go_graph, x) 실행"
   ]
  },
  {
   "cell_type": "code",
   "execution_count": null,
   "metadata": {
    "ExecuteTime": {
     "end_time": "2023-01-19T01:13:18.422380Z",
     "start_time": "2023-01-19T01:12:57.029500Z"
    }
   },
   "outputs": [],
   "source": [
    "import heapq\n",
    "\n",
    "n, m, x = map(int, input().split())\n",
    "go_graph = [[] for _ in range(n + 1)]\n",
    "back_graph = [[] for _ in range(n + 1)]\n",
    "for _ in range(m) :\n",
    "    a, b, w = map(int, input().split())\n",
    "    back_graph[a].append((b, w))\n",
    "    go_graph[b].append((a, w))\n",
    "# graph = [[] for _ in range(n + 1)]\n",
    "# for _ in range(m) :\n",
    "#     a, b, w = map(int, input().split())\n",
    "#     graph[a].append((b, w))\n",
    "# # graph = [[],\n",
    "# #          [(2, 4), (3, 2), (4, 7)],\n",
    "# #          [(1, 1), (3, 5)],\n",
    "# #          [(1, 2), (4, 4)],\n",
    "# #          [(2, 3)]]\n",
    "\n",
    "def dikstra(graph, start) :\n",
    "    INF = int(1e9)\n",
    "    distance = [INF] * (n + 1)\n",
    "    distance[start] = 0\n",
    "    q = []\n",
    "    heapq.heappush(q, (0, start))\n",
    "    while q :\n",
    "        dist_now, now = heapq.heappop(q)\n",
    "        if distance[now] < dist_now :\n",
    "            continue\n",
    "        for near, dist_now_near in graph[now] :\n",
    "            if distance[near] > dist_now + dist_now_near :\n",
    "                distance[near] = dist_now + dist_now_near\n",
    "                heapq.heappush(q, (distance[near], near))\n",
    "    return distance\n",
    "sol = 0\n",
    "to_x = dikstra(go_graph, x)\n",
    "from_x = dikstra(back_graph, x)\n",
    "for i in range(1, n + 1) :\n",
    "    now_sol = to_x[i] + from_x[i]\n",
    "    sol = max(sol, now_sol)\n",
    "    \n",
    "print(sol)"
   ]
  },
  {
   "cell_type": "markdown",
   "metadata": {},
   "source": [
    "## 백준 17396 백도어\n",
    "https://www.acmicpc.net/problem/17396"
   ]
  },
  {
   "cell_type": "code",
   "execution_count": null,
   "metadata": {
    "ExecuteTime": {
     "end_time": "2023-01-25T14:39:54.371958Z",
     "start_time": "2023-01-25T14:39:54.353131Z"
    }
   },
   "outputs": [],
   "source": [
    "# f = open(\"input.txt\")\n",
    "# input = f.readline\n",
    "\n",
    "import sys, heapq\n",
    "\n",
    "n, m = map(int, input().split())\n",
    "vision = list(map(int, input().split()))\n",
    "vision[n-1] = 0\n",
    "graph = [[] for _ in range(n)]\n",
    "for _ in range(m) :\n",
    "    a, b, c = map(int, input().split())\n",
    "    if not vision[a] and not vision[b] :\n",
    "        graph[a].append((b, c))\n",
    "        graph[b].append((a, c))\n",
    "\n",
    "def dijkstra(start, end) :\n",
    "    # int(1e9)하면 충분히 크지 않아서 틀림\n",
    "    INF = sys.maxsize\n",
    "    dist = [INF] * n\n",
    "    dist[start] = 0\n",
    "    q = []\n",
    "    heapq.heappush(q, (0, start))\n",
    "    while q :\n",
    "        now_d, now = heapq.heappop(q)\n",
    "        if dist[now] < now_d :\n",
    "            continue\n",
    "        for near, near_d in graph[now] :\n",
    "            if dist[near] > near_d + now_d :\n",
    "                dist[near] = near_d + now_d\n",
    "                heapq.heappush(q, (dist[near], near))\n",
    "    if dist[end] == INF :\n",
    "        return -1\n",
    "    else :\n",
    "        return dist[end]\n",
    "\n",
    "print(dijkstra(0, n-1))"
   ]
  },
  {
   "cell_type": "markdown",
   "metadata": {
    "id": "e-dZXDlpUyfm"
   },
   "source": [
    "# 정렬"
   ]
  },
  {
   "cell_type": "markdown",
   "metadata": {},
   "source": [
    "## 프로그래머스 베스트앨범\n",
    "https://school.programmers.co.kr/learn/courses/30/lessons/42579"
   ]
  },
  {
   "cell_type": "code",
   "execution_count": null,
   "metadata": {
    "colab": {
     "base_uri": "https://localhost:8080/"
    },
    "id": "Pk-oLkJBV7sY",
    "outputId": "d40b8ea2-d3c3-4b42-c3be-521e5d8c49fc"
   },
   "outputs": [],
   "source": [
    "# lv 3\n",
    "\n",
    "genres = [\"classic\", \"pop\", \"classic\", \"classic\", \"pop\"]\n",
    "plays = [500, 600, 150, 800, 2500]\n",
    "def solution(genres, plays) :\n",
    "    answer = []\n",
    "    g_sums = dict((x, [0, []]) for x in set(genres))\n",
    "    n = len(genres)\n",
    "    for i in range(n) :\n",
    "        g_sums[genres[i]][0] += plays[i]\n",
    "        g_sums[genres[i]][1].append((i, plays[i]))\n",
    "    g_sums = dict(sorted(g_sums.items(), key=lambda x : x[1][0], reverse=True))\n",
    "    for genre in g_sums :\n",
    "        g_sums[genre][1] = sorted(g_sums[genre][1], key=lambda x : (x[1], -x[0]))\n",
    "        cnt = 0\n",
    "        while g_sums[genre][1] :\n",
    "            answer.append(g_sums[genre][1].pop()[0])\n",
    "            cnt += 1\n",
    "            if cnt == 2 :\n",
    "                break\n",
    "    return answer\n",
    "\n",
    "print(solution(genres, plays))"
   ]
  },
  {
   "cell_type": "markdown",
   "metadata": {},
   "source": [
    "## 프로그래머스 가장 큰 수\n",
    "https://school.programmers.co.kr/learn/courses/30/lessons/42746\n",
    "- 그냥 sort하면 3이 30 뒤에 옴\n",
    "- *3을 해서 비교하면 333 이 303030보다 앞에 옴\n",
    "- 최대 3자리까지 가능하므로 *3을 해서 자리수를 맞춰줌 (3이 330보다 앞에 오게 하려면 *3 필요)"
   ]
  },
  {
   "cell_type": "code",
   "execution_count": null,
   "metadata": {
    "ExecuteTime": {
     "end_time": "2023-01-23T12:07:12.706463Z",
     "start_time": "2023-01-23T12:07:12.700279Z"
    }
   },
   "outputs": [],
   "source": [
    "def solution(numbers) :\n",
    "    numbers = sorted(map(str, numbers), key=lambda x : x*3, reverse=True)\n",
    "#     print(numbers)\n",
    "    return str(int(\"\".join(numbers)))\n",
    "# numbers = [3, 30, 34, 5, 9]\n",
    "numbers = [3, 330, 5, 9]\n",
    "print(solution(numbers))"
   ]
  },
  {
   "cell_type": "markdown",
   "metadata": {},
   "source": [
    "# 이분 탐색, 투 포인터\n",
    "- 엄청나게 넓은 범위에서 최적의 값을 탐색할 때 많이 사용"
   ]
  },
  {
   "cell_type": "markdown",
   "metadata": {},
   "source": [
    "## 프로그래머스 입국심사\n",
    "https://school.programmers.co.kr/learn/courses/30/lessons/43238\n",
    "- 총 시간이 주어졌을 때, 각각이 심사관이 심사할 수 있는 사람의 수를 모두 더한 값(total)과 n을 비교\n",
    "- total이 n보다 크면 시간을 줄이고, total이 n보다 작으면 시간을 늘려야 한다.\n",
    "- 이분 탐색으로 최소의 총 시간 탐색\n",
    "- n과 total이 같으면 end를 줄여주다가, n이 total을 역전하면 start가 최소값"
   ]
  },
  {
   "cell_type": "code",
   "execution_count": null,
   "metadata": {},
   "outputs": [],
   "source": [
    "def bin_search(start, end, n, times) :\n",
    "    while start <= end :\n",
    "        mid = (start + end) // 2\n",
    "        total = sum(map(lambda x : mid // x, times))\n",
    "        if n <= total :   # 시간 줄여야함\n",
    "            end = mid - 1\n",
    "        else :              # 시간 늘려야함\n",
    "            start = mid + 1                \n",
    "    return start\n",
    "    \n",
    "def solution(n, times) :\n",
    "    if len(times) == 1 :\n",
    "        return times[0] * n\n",
    "    start = min(times)\n",
    "    end = max(times) * n\n",
    "    answer = bin_search(start, end, n, times)\n",
    "    return answer"
   ]
  },
  {
   "cell_type": "markdown",
   "metadata": {},
   "source": [
    "## 백준 1654 랜선 자르기\n",
    "https://www.acmicpc.net/problem/1654"
   ]
  },
  {
   "cell_type": "code",
   "execution_count": null,
   "metadata": {
    "ExecuteTime": {
     "end_time": "2023-01-26T02:11:08.824217Z",
     "start_time": "2023-01-26T02:11:08.808435Z"
    }
   },
   "outputs": [],
   "source": [
    "# f = open(\"input.txt\")\n",
    "# input = f.readline\n",
    "\n",
    "n, m = map(int, input().split())\n",
    "lans = [int(input()) for _ in range(n)]\n",
    "\n",
    "start = 1\n",
    "end = max(lans)\n",
    "def bin_search(start, end) :\n",
    "    while start <= end :\n",
    "        mid = (start + end) // 2\n",
    "        total = sum(map(lambda x : x // mid, lans))\n",
    "        # 길이 늘려야함\n",
    "        if m <= total :\n",
    "            start = mid + 1\n",
    "        # 길이 줄여야함\n",
    "        else :\n",
    "            end = mid - 1\n",
    "    # 최대값 구하므로 end\n",
    "    return end\n",
    "\n",
    "print(bin_search(start, end))"
   ]
  },
  {
   "cell_type": "markdown",
   "metadata": {},
   "source": [
    "## 백준 2470 두 용액\n",
    "https://www.acmicpc.net/problem/2470"
   ]
  },
  {
   "cell_type": "code",
   "execution_count": null,
   "metadata": {
    "ExecuteTime": {
     "end_time": "2023-01-26T04:53:16.508338Z",
     "start_time": "2023-01-26T04:53:16.501385Z"
    }
   },
   "outputs": [],
   "source": [
    "# f = open(\"input.txt\")\n",
    "# input = f.readline\n",
    "\n",
    "import sys\n",
    "\n",
    "n = int(input())\n",
    "arr = sorted(map(int, input().split()))\n",
    "\n",
    "def two_pointer(start, end) :\n",
    "    sol = sys.maxsize\n",
    "    answer = [0, 0]\n",
    "    while start < end :\n",
    "        temp = arr[start] + arr[end]\n",
    "        if temp == 0 :\n",
    "            answer[0], answer[1] = arr[start], arr[end]\n",
    "            return answer\n",
    "        if sol > abs(temp) :\n",
    "            sol = abs(temp)\n",
    "            answer[0], answer[1] = arr[start], arr[end]\n",
    "        if temp < 0 :\n",
    "            start += 1\n",
    "        elif temp > 0 :\n",
    "            end -= 1\n",
    "    return answer\n",
    "\n",
    "start = 0\n",
    "end = n - 1\n",
    "print(*two_pointer(start, end))"
   ]
  },
  {
   "cell_type": "markdown",
   "metadata": {
    "id": "Cf9Y6mDAW039"
   },
   "source": [
    "# 트리\n",
    "- 완전 이진트리\n",
    "    - 마지막 레벨 제외한 레벨의 노드는 모두 자식노드 2개씩 있음\n",
    "    - 마지막 레벨은 왼쪽부터 노드가 채워져 있음\n",
    "    - (A)는 완전 이진트리, (B)는 아님\n",
    "    - 특정 노드 탐색시 O(logn)의 시간복잡도\n",
    "    \n",
    "<img src=\"https://miro.medium.com/max/640/1*Etc4C2_vkbIgBUApJKMJag.webp\" width=\"400\"/>\n",
    "\n",
    "\n",
    "\n"
   ]
  },
  {
   "cell_type": "markdown",
   "metadata": {},
   "source": [
    "## 백준 11725 트리의 부모 찾기\n",
    "https://www.acmicpc.net/problem/11725"
   ]
  },
  {
   "cell_type": "code",
   "execution_count": null,
   "metadata": {
    "colab": {
     "base_uri": "https://localhost:8080/"
    },
    "id": "B2KuL9SMD3Jq",
    "outputId": "57b75efa-590d-4e2c-c18e-1d9854c3f35b"
   },
   "outputs": [],
   "source": [
    "n = int(input())\n",
    "graph = [[] for _ in range(n + 1)]\n",
    "for _ in range(n - 1) :\n",
    "    a, b = map(int, input().split())\n",
    "    graph[a].append(b)\n",
    "    graph[b].append(a)\n",
    "\n",
    "parent = [0] * (n + 1)\n",
    "parent[1] = 1\n",
    "def get_par(root, graph, parent) :\n",
    "    to_visit = [root]\n",
    "    while to_visit :\n",
    "        node = to_visit.pop()\n",
    "        for near in graph[node] :\n",
    "            if parent[near] == 0 :\n",
    "                parent[near] = node\n",
    "                to_visit.append(near)\n",
    "get_par(1, graph, parent)\n",
    "print(*parent[2:], sep=\"\\n\")"
   ]
  },
  {
   "cell_type": "markdown",
   "metadata": {},
   "source": [
    "## 백준 3584 가장 가까운 조상\n",
    "https://www.acmicpc.net/problem/3584"
   ]
  },
  {
   "cell_type": "code",
   "execution_count": null,
   "metadata": {
    "colab": {
     "base_uri": "https://localhost:8080/"
    },
    "id": "kRqD1QSfMoUu",
    "outputId": "310f27e1-31ce-45e2-a9d9-e1ae6c5d2363"
   },
   "outputs": [],
   "source": [
    "import math\n",
    "\n",
    "# 부모 노드는 주어져있으므로 각 노드의 깊이만 dfs로 탐색\n",
    "def get_depth(parent) :\n",
    "    root = 0\n",
    "    for node in range(1, n + 1) :\n",
    "        # 부모 노드가 0이면 root 노드\n",
    "        if parent[node][0] == 0 :\n",
    "            root = node\n",
    "            break\n",
    "    to_visit = [root]\n",
    "    visited = [False] * (n + 1)\n",
    "    visited[root] = True\n",
    "    while to_visit :\n",
    "        v = to_visit.pop()\n",
    "        for child in tree[v] :\n",
    "            if visited[child] :\n",
    "                continue\n",
    "            visited[child] = True\n",
    "            depth[child] = depth[v] + 1\n",
    "            to_visit.append(child)\n",
    "\n",
    "# 2 ** k 꼴 조상의 노드 탐색\n",
    "def exp_par(max_log_d) :\n",
    "    for k in range(1, max_log_d) :\n",
    "        # 순서대로 각 노드에 대해\n",
    "        for node in range(1, n + 1) :\n",
    "            # i번째 node의 2 ** k 조상은 i번째 node의 2 ** (k-1) 조상의 2 ** (k-1) 조상\n",
    "            parent[node][k] = parent[parent[node][k - 1]][k - 1]\n",
    "\n",
    "def lca(a, b) :\n",
    "    # b의 깊이가 더 깊도록 셋팅\n",
    "    if depth[a] > depth[b] :\n",
    "        a, b = b, a\n",
    "    # 동일 깊이로 맞춰줌\n",
    "    for i in range(max_log_d - 1, -1, -1) :\n",
    "        if depth[b] - depth[a] >= 2 ** i :\n",
    "            b = parent[b][i]\n",
    "    # 공통 조상 탐색\n",
    "    if a == b :\n",
    "        return a\n",
    "    else :\n",
    "        # 가장 먼 조상부터 비교\n",
    "        for i in range(max_log_d - 1, -1, -1) :\n",
    "            if parent[a][i] != parent[b][i] :\n",
    "                a = parent[a][i]\n",
    "                b = parent[b][i]\n",
    "        return parent[a][0]\n",
    "\n",
    "t = int(input())\n",
    "sol = []\n",
    "for _ in range(t) :\n",
    "    # 노드의 총 개수\n",
    "    n = int(input())\n",
    "    # 최대 로그 깊이 셋팅\n",
    "    max_log_d = int(math.log2(n)) + 1\n",
    "    parent = [[0] * (max_log_d) for _ in range(n + 1)]\n",
    "    tree = [[] for _ in range(n + 1)]\n",
    "    for i in range(n - 1) :\n",
    "        a, b = map(int, input().split())\n",
    "        tree[a].append(b)\n",
    "        parent[b][0] = a\n",
    "    # 공통 조상을 구할 두 노드\n",
    "    x, y = map(int, input().split())\n",
    "    # print(parent)\n",
    "    depth = [0] * (n + 1)\n",
    "    get_depth(parent)\n",
    "    exp_par(max_log_d)\n",
    "    sol.append(lca(x, y))\n",
    "    \n",
    "print(*sol, sep=\"\\n\")"
   ]
  },
  {
   "cell_type": "markdown",
   "metadata": {},
   "source": [
    "## 백준 11437 LCA, 11438 LCA 2\n",
    "LCA : https://www.acmicpc.net/problem/11437\n",
    "LCA 2 : https://www.acmicpc.net/problem/11438"
   ]
  },
  {
   "cell_type": "code",
   "execution_count": null,
   "metadata": {
    "colab": {
     "base_uri": "https://localhost:8080/"
    },
    "id": "jovFC-03AzAf",
    "outputId": "47b3feae-44d8-4e2a-dfdc-eb9fe7c7100b"
   },
   "outputs": [],
   "source": [
    "import math\n",
    "\n",
    "# 루트 노드부터 각 노드의 부모와 깊이 dfs로 탐색\n",
    "def get_par_depth(root) :\n",
    "    to_visit = [root]\n",
    "    visited = [False] * (n + 1)\n",
    "    while to_visit :\n",
    "        node = to_visit.pop()\n",
    "        visited[node] = True\n",
    "        for child in tree[node] :\n",
    "            if visited[child] :\n",
    "                continue\n",
    "            depth[child] = depth[node] + 1\n",
    "            parent[child][0] = node\n",
    "            to_visit.append(child)\n",
    "\n",
    "# 2 ** k 꼴 조상의 노드 탐색\n",
    "def exp_par(max_log_d) :\n",
    "    for k in range(1, max_log_d) :\n",
    "        # 순서대로 각 노드에 대해\n",
    "        for node in range(1, n + 1) :\n",
    "            # i번째 node의 2 ** k 조상은 i번째 node의 2 ** (k-1) 조상의 2 ** (k-1) 조상\n",
    "            parent[node][k] = parent[parent[node][k - 1]][k - 1]\n",
    "\n",
    "def lca(a, b) :\n",
    "    # b의 깊이가 더 깊도록 셋팅\n",
    "    if depth[a] > depth[b] :\n",
    "        a, b = b, a\n",
    "    # 동일 깊이로 맞춰줌\n",
    "    for i in range(max_log_d - 1, -1, -1) :\n",
    "        if depth[b] - depth[a] >= 2 ** i :\n",
    "            b = parent[b][i]\n",
    "    # 공통 조상 탐색\n",
    "    if a == b :\n",
    "        return a\n",
    "    else :\n",
    "        # 가장 먼 조상부터 비교\n",
    "        for i in range(max_log_d - 1, -1, -1) :\n",
    "            if parent[a][i] != parent[b][i] :\n",
    "                a = parent[a][i]\n",
    "                b = parent[b][i]\n",
    "        return parent[a][0]\n",
    "\n",
    "n = int(input())\n",
    "# 트리 입력\n",
    "tree = [[] for _ in range(n + 1)]\n",
    "for _ in range(n - 1) :    \n",
    "    a, b = map(int, input().split())\n",
    "    tree[a].append(b)\n",
    "    tree[b].append(a)\n",
    "# tree = [[], [2, 3], [1, 4, 6, 5], [1, 7, 8], [2, 9, 10], [2, 11, 12], [2], [3, 13, 14], [3], [4], [4], [5, 15], [5], [7], [7], [11]]\n",
    "\n",
    "# 공통 조상을 구할 노드쌍\n",
    "m = int(input())\n",
    "node_pairs = []\n",
    "for _ in range(m) :\n",
    "    node_pairs.append(tuple(map(int, input().split())))\n",
    "# node_pairs = [(6, 11), (10, 9), (2, 6), (7, 6), (8, 13), (8, 15)]\n",
    "# 최대 로그 깊이 셋팅\n",
    "max_log_d = int(math.log2(n)) + 1\n",
    "parent = [[0] * max_log_d for _ in range(n + 1)]\n",
    "# 루트 노드(1)의 부모 1로 셋팅\n",
    "parent[1][0] = 1\n",
    "depth = [0] * (n + 1)\n",
    "# 루트 노드(1)부터 dfs로 각 노드의 부모와 깊이 탐색\n",
    "get_par_depth(1)\n",
    "# 각 노드의 2 ** i 꼴 조상 노드 탐색\n",
    "exp_par(max_log_d)\n",
    "\n",
    "for pair in node_pairs :\n",
    "    x, y = pair\n",
    "    # lca 탐색\n",
    "    print(lca(x, y))"
   ]
  },
  {
   "cell_type": "markdown",
   "metadata": {},
   "source": [
    "## 백준 1197 최소 스패닝 트리\n",
    "https://www.acmicpc.net/problem/1197\n",
    "- find 함수  \n",
    "    - 노드의 루트 노드 재귀적으로 탐색  \n",
    "- union 함수  \n",
    "    - 연결된 두 노드 a, b 확인  \n",
    "    - find함수로 각각의 루트 노드 a', b' 찾음  \n",
    "    - a' < b' 이면 a'를 부모 노드로 설정  \n",
    "    - 모든 연결된 노드에 대해 반복하며 부모 노드 테이블 갱신\n",
    "    - 최종적으로 부모 테이블 확인해 루트 노드가 같으면 같은 집합, 아니면 서로소 집합\n",
    "- 사이클 판별\n",
    "    - 같은 집합(= 루트 노드가 같음)의 두 노드를 연결하면 사이클 발생\n",
    "- 최소 스패닝 트리  \n",
    "    - 모든 간선을 최소 비용으로 연결하는 트리(= 사이클 없음)  \n",
    "- 크루스칼 알고리즘\n",
    "    - 최소 스패닝 트리를 탐색하는 알고리즘\n",
    "    1. 모든 간선을 비용 순으로 정렬\n",
    "    2. 비용이 낮은 간선부터, 연결된 두 정점에서 사이클이 발생하는지 판별\n",
    "    3. 사이클이 발생하지 않으면 union 함수 적용, 부모 테이블 갱신\n",
    "    4. 마지막 간선까지 2~3 반복\n",
    "    - 낮은 비용의 간선부터 순서대로 확인한다는 점에서 일종의 그리디 알고리즘\n"
   ]
  },
  {
   "cell_type": "code",
   "execution_count": null,
   "metadata": {},
   "outputs": [],
   "source": [
    "# f = open(\"input.txt\")\n",
    "# input = f.readline\n",
    "\n",
    "v, e = map(int, input().split())\n",
    "edges = list()\n",
    "for _ in range(e) :\n",
    "    a, b, cost = map(int, input().split())\n",
    "    edges.append((cost, a, b))\n",
    "# 비용 순서로 정렬\n",
    "edges.sort()\n",
    "# 부모 테이블 자기 자신으로 초기화\n",
    "parent = list(range(v + 1))\n",
    "\n",
    "# find 함수 정의\n",
    "def find_par(x) :\n",
    "    # x가 자신의 루트 노드가 아니면 탐색\n",
    "    if parent[x] != x :\n",
    "        # x의 부모 노드의 부모 노드 ...재귀적으로 탐색\n",
    "        parent[x] = find_par(parent[x])\n",
    "    # 최종적으로 x의 루트 노드 반환\n",
    "    return parent[x]\n",
    "\n",
    "# union 함수 정의\n",
    "def union(a, b) :\n",
    "    # a와 b의 루트 노드를 찾아서\n",
    "    a = find_par(a)\n",
    "    b = find_par(b)\n",
    "    # 더 작은 쪽을 부모 노드로 설정\n",
    "    if a < b :\n",
    "        parent[b] = a\n",
    "    else :\n",
    "        parent[a] = b\n",
    "\n",
    "result = 0\n",
    "for edge in edges :\n",
    "    cost, a, b = edge\n",
    "    # 루트 노드가 다르다 -> 사이클 발생 X\n",
    "    if find_par(a) != find_par(b) :\n",
    "        # 같은 집합에 넣어줌\n",
    "        union(a, b)\n",
    "        result += cost\n",
    "        \n",
    "print(result)"
   ]
  },
  {
   "cell_type": "markdown",
   "metadata": {},
   "source": [
    "# 기타"
   ]
  },
  {
   "cell_type": "markdown",
   "metadata": {},
   "source": [
    "## 프로그래머스 2개 이하로 다른 비트\n",
    "https://school.programmers.co.kr/learn/courses/30/lessons/77885\n",
    "- 이진수로 변환 후 가장 마지막 0의 위치 탐색\n",
    "- 짝수면 마지막 0을 1로 변경 (ex 100 -> 101)\n",
    "- 홀수면 마지막 0을 1로 변경하고 바로 다음 1을 0으로 변경 (ex 100111 -> 101111 -> 101011)"
   ]
  },
  {
   "cell_type": "code",
   "execution_count": null,
   "metadata": {
    "ExecuteTime": {
     "end_time": "2023-01-23T11:07:14.295107Z",
     "start_time": "2023-01-23T11:07:14.276731Z"
    }
   },
   "outputs": [],
   "source": [
    "def solution(numbers) :\n",
    "    answer = []\n",
    "    for num in numbers :\n",
    "        bin_num = \"0\" + bin(num)[2:]\n",
    "        # rfind : 문자열 오른쪽부터 해당 문자 탐색해 인덱스 반환\n",
    "        idx = bin_num.rfind(\"0\")\n",
    "        bin_list = list(bin_num)\n",
    "        bin_list[idx] = \"1\"\n",
    "        if num % 2 == 1 :\n",
    "            bin_list[idx+1] = \"0\"\n",
    "        answer.append(int(\"\".join(bin_list), 2))\n",
    "    return answer\n",
    "numbers = [2, 7]\n",
    "print(solution(numbers))"
   ]
  },
  {
   "cell_type": "code",
   "execution_count": null,
   "metadata": {
    "ExecuteTime": {
     "end_time": "2023-01-22T12:52:27.288060Z",
     "start_time": "2023-01-22T12:52:27.270174Z"
    }
   },
   "outputs": [],
   "source": [
    "# 정수 n을 k진수로 변환\n",
    "def trans(n, k) :\n",
    "    result = \"\"\n",
    "    while n > 0 :\n",
    "        result += str(n % k)\n",
    "        n = n // k\n",
    "    return \"\".join(reversed(result))\n"
   ]
  }
 ],
 "metadata": {
  "colab": {
   "authorship_tag": "ABX9TyPk2+Oo8LbswdVt9EO9TFlj",
   "include_colab_link": true,
   "provenance": [],
   "toc_visible": true
  },
  "kernelspec": {
   "display_name": "Python 3 (ipykernel)",
   "language": "python",
   "name": "python3"
  },
  "language_info": {
   "codemirror_mode": {
    "name": "ipython",
    "version": 3
   },
   "file_extension": ".py",
   "mimetype": "text/x-python",
   "name": "python",
   "nbconvert_exporter": "python",
   "pygments_lexer": "ipython3",
   "version": "3.9.13"
  },
  "toc": {
   "base_numbering": 1,
   "nav_menu": {},
   "number_sections": true,
   "sideBar": true,
   "skip_h1_title": false,
   "title_cell": "Table of Contents",
   "title_sidebar": "Contents",
   "toc_cell": false,
   "toc_position": {
    "height": "calc(100% - 180px)",
    "left": "10px",
    "top": "150px",
    "width": "307.188px"
   },
   "toc_section_display": true,
   "toc_window_display": true
  },
  "varInspector": {
   "cols": {
    "lenName": 16,
    "lenType": 16,
    "lenVar": 40
   },
   "kernels_config": {
    "python": {
     "delete_cmd_postfix": "",
     "delete_cmd_prefix": "del ",
     "library": "var_list.py",
     "varRefreshCmd": "print(var_dic_list())"
    },
    "r": {
     "delete_cmd_postfix": ") ",
     "delete_cmd_prefix": "rm(",
     "library": "var_list.r",
     "varRefreshCmd": "cat(var_dic_list()) "
    }
   },
   "types_to_exclude": [
    "module",
    "function",
    "builtin_function_or_method",
    "instance",
    "_Feature"
   ],
   "window_display": false
  }
 },
 "nbformat": 4,
 "nbformat_minor": 1
}
