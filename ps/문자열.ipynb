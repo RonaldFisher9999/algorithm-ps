{
 "cells": [
  {
   "cell_type": "markdown",
   "id": "1b9434a4",
   "metadata": {},
   "source": [
    "# 문자열"
   ]
  },
  {
   "cell_type": "markdown",
   "id": "9e263955",
   "metadata": {},
   "source": [
    "## 백준 5052 전화번호 목록\n",
    "https://www.acmicpc.net/problem/5052  \n",
    "프로그래머스 : https://school.programmers.co.kr/learn/courses/30/lessons/42577  \n",
    "- `input = sys.stdin.readline` 쓰거나 pypy3로 제출해야함. 아니면 시간초과\n",
    "- 문자열 형태의 정수를 정렬했기 때문에, 어떤 숫자 n이 다른 숫자 m의 접두사라면 반드시 n 다음에 m이 정렬됨 "
   ]
  },
  {
   "cell_type": "code",
   "execution_count": null,
   "id": "80a115ba",
   "metadata": {},
   "outputs": [],
   "source": [
    "# f = open(\"input.txt\")\n",
    "# input = f.readline\n",
    "\n",
    "t = int(input())\n",
    "for _ in range(t) :\n",
    "    n = int(input())\n",
    "    nums = list()\n",
    "    for __ in range(n) :\n",
    "        nums.append(input().rstrip())\n",
    "    nums.sort()\n",
    "    for i in range(n-1) :\n",
    "        if nums[i+1].startswith(nums[i]) :\n",
    "            print(\"NO\")\n",
    "            break\n",
    "    else :\n",
    "        print(\"YES\")"
   ]
  },
  {
   "cell_type": "markdown",
   "id": "b95b2283",
   "metadata": {},
   "source": [
    "## 백준 17214 다항 함수의 적분\n",
    "https://www.acmicpc.net/problem/17214\n",
    "- 상수만 있는가? -> -1, 0, 1, 음수, 양수\n",
    "- x항만 있는가? -> -1, 1, 음수, 양수\n",
    "- 둘다 있는가? -> -1, 1, 음수, 양수"
   ]
  },
  {
   "cell_type": "code",
   "execution_count": null,
   "id": "926f5ede",
   "metadata": {},
   "outputs": [],
   "source": [
    "# input = open(\"input.txt\").readline\n",
    "\n",
    "poly = input()\n",
    "# 상수항만 있음\n",
    "if \"x\" not in poly :\n",
    "    if poly == \"0\" :\n",
    "        print(\"W\")\n",
    "    elif poly == \"1\" :\n",
    "        print(\"x+W\")\n",
    "    elif poly == \"-1\" :\n",
    "        print(\"-x+W\")\n",
    "    else :\n",
    "        print(poly + \"x+W\")\n",
    "else :\n",
    "    # x항만 있음\n",
    "    if poly[-1] == \"x\" :\n",
    "        if poly == \"2x\" :\n",
    "            print(\"xx+W\")\n",
    "        elif poly == \"-2x\" :\n",
    "            print(\"-xx+W\")\n",
    "        else :\n",
    "            coeff = int(poly[:-1])\n",
    "            print(f\"{coeff//2}xx+W\")\n",
    "    # 둘다 있음\n",
    "    else :\n",
    "        spl = poly.split(\"x\")\n",
    "        coeff = int(spl[0])\n",
    "        const = int(spl[1])\n",
    "        if const == 1 :\n",
    "            if coeff == 2 :\n",
    "                print(\"xx+x+W\")\n",
    "            elif coeff == -2 :\n",
    "                print(\"-xx+x+W\")\n",
    "            else :\n",
    "                print(f\"{coeff//2}xx+x+W\")\n",
    "        elif const == -1 :\n",
    "            if coeff == 2 :\n",
    "                print(\"xx-x+W\")\n",
    "            elif coeff == -2 :\n",
    "                print(\"-xx-x+W\")\n",
    "            else :\n",
    "                print(f\"{coeff//2}xx-x+W\")\n",
    "        elif const < 0 :\n",
    "            if coeff == 2 :\n",
    "                print(f\"xx{const}x+W\")\n",
    "            elif coeff == -2 :\n",
    "                print(f\"-xx{const}x+W\")\n",
    "            else :\n",
    "                print(f\"{coeff//2}xx{const}x+W\")\n",
    "        elif const > 0 :\n",
    "            if coeff == 2 :\n",
    "                print(f\"xx+{const}x+W\")\n",
    "            elif coeff == -2 :\n",
    "                print(f\"-xx+{const}x+W\")\n",
    "            else :\n",
    "                print(f\"{coeff//2}xx+{const}x+W\")"
   ]
  },
  {
   "cell_type": "markdown",
   "id": "98aee13a",
   "metadata": {
    "ExecuteTime": {
     "end_time": "2023-02-04T18:22:42.661950Z",
     "start_time": "2023-02-04T18:22:42.656562Z"
    }
   },
   "source": [
    "## 백준 5430 AC\n",
    "https://www.acmicpc.net/problem/5430"
   ]
  },
  {
   "cell_type": "code",
   "execution_count": null,
   "id": "78516873",
   "metadata": {},
   "outputs": [],
   "source": [
    "from collections import deque\n",
    "\n",
    "input = open(\"input.txt\").readline\n",
    "\n",
    "# 인덱스 i부터 연속된 R의 개수\n",
    "def cnt_R(p, i) :\n",
    "    cnt = 0\n",
    "    while p[i] == \"R\":\n",
    "        cnt += 1\n",
    "        i += 1\n",
    "        if i >= len(p) :\n",
    "            break\n",
    "    return cnt\n",
    "\n",
    "# 인덱스 i부터 연속된 D의 개수\n",
    "# R을 세고 D를 세기 때문에 범위 벗어나면 0 반환\n",
    "def cnt_D(p, i) :\n",
    "    cnt = 0\n",
    "    if i >= len(p) :\n",
    "        return cnt\n",
    "    while p[i] == \"D\":\n",
    "        cnt += 1\n",
    "        i += 1\n",
    "        if i >= len(p) :\n",
    "            break\n",
    "    return cnt\n",
    "\n",
    "# 정방향이면 앞에서 pop, 역방향이면 뒤에서 pop\n",
    "# 배열 비었는데 D가 남았으면 error\n",
    "def command(arr, d, status) :\n",
    "    if status == 0 :\n",
    "        for _ in range(d) :\n",
    "            if not arr :\n",
    "                return \"error\"\n",
    "            arr.popleft()\n",
    "    else :\n",
    "        for _ in range(d) :\n",
    "            if not arr :\n",
    "                return \"error\"\n",
    "            arr.pop()\n",
    "    \n",
    "t = int(input())\n",
    "for _ in range(t) :\n",
    "    p = input().rstrip()\n",
    "    n = int(input())\n",
    "    arr = input().rstrip()\n",
    "    # 빈 배열은 따로 처리\n",
    "    if n == 0 :\n",
    "        arr = deque()\n",
    "    else :\n",
    "        arr = deque(arr[1:-1].split(\",\"))\n",
    "    i = 0\n",
    "    status = 0\n",
    "    while i < len(p) :\n",
    "        r = cnt_R(p, i)\n",
    "        d = cnt_D(p, i+r)\n",
    "        status = (status + r) % 2\n",
    "        result = command(arr, d, status)\n",
    "        # error 뜨면 더 진행하지 않고 break\n",
    "        if result == \"error\" :\n",
    "            break\n",
    "        i += r + d\n",
    "    if result == \"error\" :\n",
    "        print(result)\n",
    "    else :\n",
    "        if status == 1 :\n",
    "            print(\"[\" + \",\".join(list(arr)[::-1]) + \"]\")\n",
    "        else :\n",
    "            print(\"[\" + \",\".join(list(arr)) + \"]\")"
   ]
  },
  {
   "cell_type": "markdown",
   "id": "e6e6d56c",
   "metadata": {},
   "source": [
    "## 백준 16120 PPAP\n",
    "https://www.acmicpc.net/problem/16120"
   ]
  },
  {
   "cell_type": "code",
   "execution_count": null,
   "id": "d1c51660",
   "metadata": {},
   "outputs": [],
   "source": [
    "from collections import deque\n",
    "\n",
    "word = deque(input())\n",
    "n = len(word)\n",
    "stack = list()\n",
    "\n",
    "if word == deque([\"P\"]) :\n",
    "    print(\"PPAP\")\n",
    "else :\n",
    "    while word :\n",
    "        if not stack :\n",
    "            stack.append(word.popleft())\n",
    "        else :\n",
    "            if stack[-3:] == [\"P\", \"P\", \"A\"] and word[0] == \"P\" :\n",
    "                if len(word) == 1 :\n",
    "                    stack.append(word.popleft())\n",
    "                    break\n",
    "                for _ in range(3) :\n",
    "                    stack.pop()\n",
    "            stack.append(word.popleft())\n",
    "\n",
    "    if \"\".join(stack) == \"PPAP\" :\n",
    "        print(\"PPAP\")\n",
    "    else :\n",
    "        print(\"NP\")"
   ]
  },
  {
   "cell_type": "markdown",
   "id": "c043f220",
   "metadata": {},
   "source": [
    "## KMP"
   ]
  },
  {
   "cell_type": "markdown",
   "id": "87050849",
   "metadata": {},
   "source": [
    "- 참고 : https://blog.encrypted.gg/1040\n",
    "- 실패 함수\n",
    "    - LPS : Longest Prefix Suffix\n",
    "    - 패턴 문자열의 길이만큼 리스트 생성\n",
    "    - `F(i)` : i번째 인덱스까지의 문자열(= `S[:i+1]`)에서 접두사와 접미사가 일치하는 최대 길이(자기 자신 제외)  \n",
    "        ex) ABCABD 라는 문자열에서 `F(4) = 2`\n",
    "    - `F(i)`를 구하기 위해서는 `j = F(i-1)`을 가져오고 `S[i]`과 `S[j]`만 비교하면 됨\n",
    "        - 일치하면 `F(i) = F(i-1) + 1`\n",
    "        \n",
    "    <img align=\"left\" src = \"https://img1.daumcdn.net/thumb/R1280x0/?scode=mtistory2&fname=https%3A%2F%2Fblog.kakaocdn.net%2Fdn%2FcezMow%2FbtrIyZeek6B%2FCZ8kKjIGH7QzhoMrDMWQOk%2Fimg.png\"\n",
    "     width = \"50%\" height = \"50%\">\n",
    "     <br>\n",
    "     <br>\n",
    "     <br>\n",
    "     <br>\n",
    "     <br>\n",
    "     <br>\n",
    "     <br>\n",
    "     <br>\n",
    "     <br>\n",
    "    - `S[i]` 와 `S[j]`가 일치하지 않는 경우\n",
    "        - 그러면 다시 접두사와 접미사가 일치하는 최대 길이를 찾아야 하는데\n",
    "        - 이를 초록색 영역으로 표시하면 이 길이는 `F(j-1)`(j-1인덱스 포함하는 문자열까지)이 된다.\n",
    "        - 따라서 j를 `F(j-1)`로 이동해 `S[F(j-1)]`과 `S[i]`를 비교\n",
    "        - 일치할때까지 비교 반복\n",
    "    \n",
    "    <img align=\"left\" src = \"https://img1.daumcdn.net/thumb/R1280x0/?scode=mtistory2&fname=https%3A%2F%2Fblog.kakaocdn.net%2Fdn%2FJnPHq%2FbtrIGxNOdwz%2F8g0ARjj5hIskwjxKgPvDa0%2Fimg.png\"\n",
    "     width = \"50%\" height = \"50%\">\n",
    "     <br>\n",
    "     <br>\n",
    "     <br>\n",
    "     <br>\n",
    "     <br>\n",
    "     <br>\n",
    "     <br>\n",
    "     <br>\n",
    "     <br>\n",
    "     <br>\n",
    "     <img align=\"left\" src = \"https://img1.daumcdn.net/thumb/R1280x0/?scode=mtistory2&fname=https%3A%2F%2Fblog.kakaocdn.net%2Fdn%2FbENJOx%2FbtrIyZyAjYt%2FkTQolWAn4ByMYwso2t0k1k%2Fimg.png\"\n",
    "     width = \"50%\" height = \"50%\">\n",
    "    "
   ]
  },
  {
   "cell_type": "markdown",
   "id": "834c6517",
   "metadata": {},
   "source": [
    "- 원본 문자열과 패턴 문자열 비교\n",
    "    - 원본 문자열 인덱스 : i, 패턴 문자열 인덱스 : j\n",
    "    - 인덱스를 하나씩 늘려가면서 비교\n",
    "    - 불일치시 `lps[j-1]` 확인\n",
    "        - 여기서 비교 위치를 `i = 1, j = 0` 로 옮기면 brute force 탐색과 같음\n",
    "        \n",
    "    <img align=\"left\" src = \"https://img1.daumcdn.net/thumb/R1280x0/?scode=mtistory2&fname=https%3A%2F%2Fblog.kakaocdn.net%2Fdn%2FnT1b7%2FbtrIEYSscH8%2FhemNgneZNw5sOO3VdUMXtK%2Fimg.png\"\n",
    "     width = \"50%\" height = \"50%\">\n",
    "     <br>\n",
    "     <br>\n",
    "     <br>\n",
    "     <br>\n",
    "     <br>\n",
    "     <br>\n",
    "     <br>\n",
    "     <br>\n",
    "     <br>\n",
    "     <br>\n",
    "    - 대신 i는 그대로 두고 `j = lps[j-1]`로 이동해서 비교 계속\n",
    "     \n",
    "     <img align=\"left\" src = \"https://img1.daumcdn.net/thumb/R1280x0/?scode=mtistory2&fname=https%3A%2F%2Fblog.kakaocdn.net%2Fdn%2Fn4gB8%2FbtrIBUQNEW6%2FOL7ECBccfwK9beKGkB2sf0%2Fimg.png\"\n",
    "     width = \"50%\" height = \"50%\">"
   ]
  },
  {
   "cell_type": "markdown",
   "id": "93d6bec7",
   "metadata": {},
   "source": [
    "## 백준 1786 찾기\n",
    "https://www.acmicpc.net/problem/1786\n",
    "- KMP를 구현하는 기초 유형"
   ]
  },
  {
   "cell_type": "code",
   "execution_count": null,
   "id": "137acc86",
   "metadata": {},
   "outputs": [],
   "source": [
    "t = input()\n",
    "p = input()\n",
    "\n",
    "def set_lps(p) :\n",
    "    lps = [0] * len(p)\n",
    "    j = 0\n",
    "    i = 1\n",
    "    while i < len(p) :\n",
    "        # 일치\n",
    "        if p[j] == p[i] :\n",
    "            j += 1\n",
    "            lps[i] = j\n",
    "            i += 1\n",
    "        # 불일치\n",
    "        else :\n",
    "            if j == 0 :\n",
    "                lps[i] = 0\n",
    "                i += 1\n",
    "            else :\n",
    "                j = lps[j - 1]\n",
    "    return lps\n",
    "\n",
    "def kmp(t, p) :\n",
    "    cnt = 0\n",
    "    idx = list()\n",
    "    i = 0\n",
    "    j = 0\n",
    "    while i < len(t) :\n",
    "        if t[i] == p[j] :\n",
    "            i += 1\n",
    "            j += 1\n",
    "        else :\n",
    "            if j == 0 :\n",
    "                i += 1\n",
    "            else :\n",
    "                j = lps[j-1]\n",
    "        if j == len(p) :\n",
    "            # i번째 인덱스 전까지 p와 일치\n",
    "            cnt += 1\n",
    "            idx.append(i - len(p) + 1)\n",
    "            j = lps[j-1]\n",
    "    return cnt, idx\n",
    "            \n",
    "lps = set_lps(p)\n",
    "cnt, idx = kmp(t, p)\n",
    "print(cnt)\n",
    "print(*idx)"
   ]
  },
  {
   "cell_type": "markdown",
   "id": "3064bd21",
   "metadata": {
    "ExecuteTime": {
     "end_time": "2023-02-09T13:56:11.763894Z",
     "start_time": "2023-02-09T13:56:09.327173Z"
    }
   },
   "source": [
    "## 백준 1305 광고\n",
    "https://www.acmicpc.net/problem/1305\n",
    "- 광고의 길이를 i라 하면 (i <= n)\n",
    "- 온전한 광고 뒤에 길이 n - i 의 접두사가 추가로 붙는다\n",
    "- 따라서 접두사와 일치하는 접미사 중 최장 길이를 찾는다(= lps 테이블)"
   ]
  },
  {
   "cell_type": "code",
   "execution_count": 8,
   "id": "5ea11fcb",
   "metadata": {
    "ExecuteTime": {
     "end_time": "2023-02-09T13:56:11.763894Z",
     "start_time": "2023-02-09T13:56:09.327173Z"
    }
   },
   "outputs": [
    {
     "name": "stdout",
     "output_type": "stream",
     "text": [
      "12\n",
      "abcdababcdab\n",
      "6\n"
     ]
    }
   ],
   "source": [
    "n = int(input())\n",
    "p = input()\n",
    "\n",
    "lps = [0] * n\n",
    "def set_lps(p, n) :\n",
    "    i = 1\n",
    "    j = 0\n",
    "    while i < n :\n",
    "        if p[j] == p[i] :\n",
    "            j += 1\n",
    "            lps[i] = j\n",
    "            i += 1\n",
    "        else :\n",
    "            if j == 0 :\n",
    "                lps[i] = 0\n",
    "                i += 1\n",
    "            else :\n",
    "                j = lps[j-1]\n",
    "                \n",
    "set_lps(p, n)\n",
    "print(n - lps[-1])"
   ]
  },
  {
   "cell_type": "markdown",
   "id": "933da57f",
   "metadata": {},
   "source": [
    "## 백준 5525 IOIOI\n",
    "https://www.acmicpc.net/problem/5525"
   ]
  },
  {
   "cell_type": "code",
   "execution_count": null,
   "id": "fdda12ca",
   "metadata": {},
   "outputs": [],
   "source": [
    "n = int(input())\n",
    "m = int(input())\n",
    "s = input().rstrip()\n",
    "\n",
    "p = \"IO\" * n + \"I\"\n",
    "lps = [0, 0] + list(range(1, 2*n))\n",
    "\n",
    "def kmp(s, p) :\n",
    "    cnt = 0\n",
    "    i = 0\n",
    "    j = 0\n",
    "    while i < m :\n",
    "        if s[i] == p[j] :\n",
    "            i += 1\n",
    "            j += 1\n",
    "        else :\n",
    "            if j == 0 :\n",
    "                i += 1\n",
    "            else :\n",
    "                j = lps[j-1]\n",
    "        if j == 2 * n + 1 :\n",
    "            cnt += 1\n",
    "            j = lps[j-1]\n",
    "    return cnt\n",
    "\n",
    "print(kmp(s, p))"
   ]
  }
 ],
 "metadata": {
  "kernelspec": {
   "display_name": "Python 3 (ipykernel)",
   "language": "python",
   "name": "python3"
  },
  "language_info": {
   "codemirror_mode": {
    "name": "ipython",
    "version": 3
   },
   "file_extension": ".py",
   "mimetype": "text/x-python",
   "name": "python",
   "nbconvert_exporter": "python",
   "pygments_lexer": "ipython3",
   "version": "3.9.13"
  },
  "toc": {
   "base_numbering": 1,
   "nav_menu": {},
   "number_sections": true,
   "sideBar": true,
   "skip_h1_title": false,
   "title_cell": "Table of Contents",
   "title_sidebar": "Contents",
   "toc_cell": false,
   "toc_position": {},
   "toc_section_display": true,
   "toc_window_display": true
  },
  "varInspector": {
   "cols": {
    "lenName": 16,
    "lenType": 16,
    "lenVar": 40
   },
   "kernels_config": {
    "python": {
     "delete_cmd_postfix": "",
     "delete_cmd_prefix": "del ",
     "library": "var_list.py",
     "varRefreshCmd": "print(var_dic_list())"
    },
    "r": {
     "delete_cmd_postfix": ") ",
     "delete_cmd_prefix": "rm(",
     "library": "var_list.r",
     "varRefreshCmd": "cat(var_dic_list()) "
    }
   },
   "types_to_exclude": [
    "module",
    "function",
    "builtin_function_or_method",
    "instance",
    "_Feature"
   ],
   "window_display": false
  }
 },
 "nbformat": 4,
 "nbformat_minor": 5
}
