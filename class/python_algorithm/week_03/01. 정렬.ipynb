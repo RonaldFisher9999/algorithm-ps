{
 "cells": [
  {
   "cell_type": "markdown",
   "id": "7bd027b5",
   "metadata": {},
   "source": [
    "# 정렬"
   ]
  },
  {
   "cell_type": "markdown",
   "id": "1afcc3fd",
   "metadata": {},
   "source": [
    "## 버블 정렬 (Bubble Sort)\n",
    "- 인접한 두 원소끼리 비교해 큰 수를 뒤로 보냄\n",
    "- k번째 정렬이 끝나면 k번째로 큰 값이 제위치에 정렬(뒤에서부터 k번째) -> 총 n-1번 정렬\n",
    "- 시간복잡도 : $O(n^2)$, n은 원소의 개수"
   ]
  },
  {
   "cell_type": "code",
   "execution_count": 8,
   "id": "6f03141d",
   "metadata": {
    "ExecuteTime": {
     "end_time": "2023-02-02T00:16:50.188185Z",
     "start_time": "2023-02-02T00:16:50.181203Z"
    }
   },
   "outputs": [
    {
     "name": "stdout",
     "output_type": "stream",
     "text": [
      "[6, 7, 8, 9, 10, 11, 14, 16, 17, 18]\n"
     ]
    }
   ],
   "source": [
    "def bubble_sort(arr) :\n",
    "    end = len(arr) - 1\n",
    "    while True :\n",
    "        if end == 0 :\n",
    "            return arr\n",
    "        for i in range(end) :\n",
    "            if arr[i] > arr[i+1] :\n",
    "                arr[i], arr[i+1] = arr[i+1], arr[i]\n",
    "#         print(f\"{len(arr) - end}번째 정렬\")\n",
    "#         print(arr)\n",
    "        end -= 1\n",
    "    \n",
    "arr = [10, 7, 14, 11, 18, 9, 16, 17, 8, 6]        \n",
    "print(bubble_sort(arr))"
   ]
  },
  {
   "cell_type": "markdown",
   "id": "e9329425",
   "metadata": {},
   "source": [
    "## 카운팅 정렬 (Counting Sort)\n",
    "- 정수로 표현할 수 있는 자료에만 적용 가능\n",
    "- 각 정수에 대응하는 값이 몇개나 있는지 리스트의 인덱스에 저장\n",
    "- 집합 내의 최소, 최대값을 알아야 리스트의 크기 할당 가능 (최대값은 최소한 알아야함)\n",
    "- 시간복잡도 : $O(n+k)$, n은 원소의 개수, k는 집합의 범위"
   ]
  },
  {
   "cell_type": "code",
   "execution_count": 22,
   "id": "b715650b",
   "metadata": {
    "ExecuteTime": {
     "end_time": "2023-02-07T01:36:11.775641Z",
     "start_time": "2023-02-07T01:36:11.768657Z"
    }
   },
   "outputs": [
    {
     "name": "stdout",
     "output_type": "stream",
     "text": [
      "[2, 2, 2, 2, 3, 3, 5, 6, 7, 7, 7, 7, 7, 8, 10, 12, 13, 13]\n"
     ]
    }
   ],
   "source": [
    "def counting_sort(arr, n, min_val, max_val) :\n",
    "    range_arr = max_val - min_val\n",
    "    cnt_arr = [0] * (range_arr + 1)\n",
    "    for num in arr :\n",
    "        cnt_arr[num - min_val] += 1\n",
    "    result = list()\n",
    "    for num in range(min_val, max_val) :\n",
    "        result.extend(([num]) * cnt_arr[num - min_val])\n",
    "    return result\n",
    "\n",
    "arr = [13, 12, 14, 13, 3, 2, 2, 7, 7, 2, 2, 7, 7, 5, 3, 14, 7, 8, 6, 10]\n",
    "n = 20\n",
    "min_val = 2\n",
    "max_val = 14\n",
    "print(counting_sort(arr, n, min_val, max_val))"
   ]
  },
  {
   "cell_type": "markdown",
   "id": "e25881f6",
   "metadata": {},
   "source": [
    "### Baby-Gin Game\n",
    "- 0~9까지 숫자\n",
    "- 연속된 숫자 3개가 있으면 run\n",
    "- 동일한 숫자 3개가 있으면 triplet\n",
    "- 6개 숫자가 주어졌을 때 run 혹은 triplet으로만 구성되도록 할 수 있으면 Baby-Gin\n",
    "    - 0, 7, 2, 7, 1, 7 -> (0, 1, 2) = run, (7, 7, 7) = triplet -> Baby-Gin\n",
    "    - 1, 2, 3, 4, 5, 6 -> (1, 2, 3), (4, 5, 6) = run -> Baby-Gin\n",
    "    - 4, 5, 4, 4, 2, 3 -> Baby-Gin 아님\n",
    "- Baby-Gin인지 판별하는 코드 작성"
   ]
  },
  {
   "cell_type": "code",
   "execution_count": 44,
   "id": "136bb1c2",
   "metadata": {
    "ExecuteTime": {
     "end_time": "2023-02-02T01:59:18.685318Z",
     "start_time": "2023-02-02T01:59:16.126003Z"
    }
   },
   "outputs": [
    {
     "name": "stdout",
     "output_type": "stream",
     "text": [
      "1\n",
      "223344\n",
      "#1 1\n"
     ]
    }
   ],
   "source": [
    "def counts(arr) :\n",
    "    cnt_arr = [0] * 10\n",
    "    for num in arr :\n",
    "        cnt_arr[num] += 1\n",
    "    return cnt_arr\n",
    "\n",
    "for t in range(1, int(input())+1) : \n",
    "    cnt_arr = counts(map(int, list(input())))\n",
    "    check = 2\n",
    "    run_trip = 0\n",
    "    while check > 0 :\n",
    "        for i in range(10) :\n",
    "            if cnt_arr[i] == 3 :\n",
    "                cnt_arr[i] -= 3\n",
    "                check -= 1\n",
    "                run_trip += 1\n",
    "                break\n",
    "            if cnt_arr[i] and cnt_arr[i+1] and cnt_arr[i+2] :\n",
    "                cnt_arr[i] -= 1\n",
    "                cnt_arr[i+1] -= 1\n",
    "                cnt_arr[i+2] -= 1\n",
    "                check -= 1\n",
    "                run_trip += 1\n",
    "                break\n",
    "        else :\n",
    "            check -= 1\n",
    "        answer = 0\n",
    "        if run_trip == 2 :\n",
    "            answer = 1\n",
    "    print(f\"#{t} {answer}\")"
   ]
  },
  {
   "cell_type": "markdown",
   "id": "df7bbae9",
   "metadata": {},
   "source": [
    "## 이분 탐색 (Binary Search)\n",
    "- 정렬된 자료에서만 사용 가능\n",
    "- up-down 게임과 유사\n",
    "- 탐색의 시작과 끝점 지정\n",
    "- 중간 값이 목표 값보다 크면 끝점을 중간으로 이동\n",
    "- 중간 값이 목표 값보다 작으면 시작점을 중간으로 이동\n",
    "- 일치하면 인덱스 반환\n",
    "- 일치하는 값 없을 땐 해당 값이 자료에 들어가서 정렬될 때의 인덱스 반환\n",
    "- 시간 복잡도 : $O(log_2n)$\n",
    "    - 한번 탐색할때마다 범위가 최소 절반씩 줄어들기 때문에"
   ]
  },
  {
   "cell_type": "code",
   "execution_count": 49,
   "id": "75194f14",
   "metadata": {
    "ExecuteTime": {
     "end_time": "2023-02-07T01:51:37.373358Z",
     "start_time": "2023-02-07T01:51:37.358470Z"
    }
   },
   "outputs": [
    {
     "name": "stdout",
     "output_type": "stream",
     "text": [
      "4\n"
     ]
    }
   ],
   "source": [
    "def binary_search(arr, target) :\n",
    "    start = 0\n",
    "    end = len(arr) - 1\n",
    "    while start < end :\n",
    "        mid = (start + end) // 2\n",
    "        if arr[mid] == target :\n",
    "            return mid\n",
    "        if arr[mid] < target :\n",
    "            start = mid + 1\n",
    "            continue\n",
    "        if arr[mid] > target :\n",
    "            end = mid - 1\n",
    "            continue\n",
    "    return start\n",
    "\n",
    "arr = [1, 2, 3, 3, 5, 6, 8]\n",
    "target = 4\n",
    "print(binary_search(arr, target))"
   ]
  },
  {
   "cell_type": "markdown",
   "id": "43983933",
   "metadata": {},
   "source": [
    "## 선택 정렬 (Selection Sort)\n",
    "- 주어진 자료들 중 가장 작은 값의 원소부터 차례대로 선택하여 위치 교환\n",
    "- 주어진 리스트 중 최소값 탐색\n",
    "- 최소값을 리스트의 가장 앞의 값과 교환\n",
    "- 가장 앞의 값을 제외한 범위에서 정렬 계속\n",
    "- 시간 복잡도 : $O(n^2)$, n은 원소의 개수\n",
    "    - 2중 for문 돌기 때문에"
   ]
  },
  {
   "cell_type": "code",
   "execution_count": 1,
   "id": "dc79e1b2",
   "metadata": {
    "ExecuteTime": {
     "end_time": "2023-02-07T01:34:37.718010Z",
     "start_time": "2023-02-07T01:34:37.712031Z"
    }
   },
   "outputs": [
    {
     "name": "stdout",
     "output_type": "stream",
     "text": [
      "[0, 1, 2, 5, 7, 13, 13, 14, 17, 18]\n"
     ]
    }
   ],
   "source": [
    "def selection_sort(arr, n) :\n",
    "    for start in range(n - 1) :\n",
    "        min_idx = start\n",
    "        for i in range(start + 1, n) :\n",
    "            if arr[min_idx] > arr[i] :\n",
    "                min_idx = i\n",
    "        arr[start], arr[min_idx] = arr[min_idx], arr[start]\n",
    "    return arr\n",
    "\n",
    "arr = [5, 18, 2, 13, 14, 7, 0, 1, 13, 17]\n",
    "n = len(arr)\n",
    "print(selection_sort(arr, n))"
   ]
  },
  {
   "cell_type": "markdown",
   "id": "829b27fd",
   "metadata": {},
   "source": [
    "### 선택 알고리즘 (Selection Algorithm)\n",
    "- 자료에서 k번째로 작거나 큰 원소를 찾는 알고리즘\n",
    "- 선택 정렬을 전체 구간에서 실행하지 않고 k번만 실행"
   ]
  },
  {
   "cell_type": "code",
   "execution_count": null,
   "id": "f82df321",
   "metadata": {},
   "outputs": [],
   "source": []
  }
 ],
 "metadata": {
  "kernelspec": {
   "display_name": "Python 3",
   "language": "python",
   "name": "python3"
  },
  "language_info": {
   "codemirror_mode": {
    "name": "ipython",
    "version": 3
   },
   "file_extension": ".py",
   "mimetype": "text/x-python",
   "name": "python",
   "nbconvert_exporter": "python",
   "pygments_lexer": "ipython3",
   "version": "3.9.13"
  },
  "toc": {
   "base_numbering": 1,
   "nav_menu": {},
   "number_sections": true,
   "sideBar": true,
   "skip_h1_title": false,
   "title_cell": "Table of Contents",
   "title_sidebar": "Contents",
   "toc_cell": false,
   "toc_position": {},
   "toc_section_display": true,
   "toc_window_display": true
  },
  "varInspector": {
   "cols": {
    "lenName": 16,
    "lenType": 16,
    "lenVar": 40
   },
   "kernels_config": {
    "python": {
     "delete_cmd_postfix": "",
     "delete_cmd_prefix": "del ",
     "library": "var_list.py",
     "varRefreshCmd": "print(var_dic_list())"
    },
    "r": {
     "delete_cmd_postfix": ") ",
     "delete_cmd_prefix": "rm(",
     "library": "var_list.r",
     "varRefreshCmd": "cat(var_dic_list()) "
    }
   },
   "types_to_exclude": [
    "module",
    "function",
    "builtin_function_or_method",
    "instance",
    "_Feature"
   ],
   "window_display": false
  },
  "vscode": {
   "interpreter": {
    "hash": "c4b9ebf4ca459396e2ad1150752490c26670c1a037c08cad955a4425787bec2e"
   }
  }
 },
 "nbformat": 4,
 "nbformat_minor": 5
}
