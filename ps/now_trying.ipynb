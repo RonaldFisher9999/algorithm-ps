{
 "cells": [
  {
   "cell_type": "code",
   "execution_count": 63,
   "id": "a20c6658",
   "metadata": {
    "ExecuteTime": {
     "end_time": "2023-03-13T14:33:03.903866Z",
     "start_time": "2023-03-13T14:33:03.892106Z"
    },
    "scrolled": true
   },
   "outputs": [
    {
     "name": "stdout",
     "output_type": "stream",
     "text": [
      "2.00\n",
      "1.67\n",
      "2.71\n"
     ]
    }
   ],
   "source": [
    "# 휴대폰 자판 https://www.acmicpc.net/problem/5670\n",
    "input = open(\"input.txt\").readline\n",
    "\n",
    "def check_cnt(tree, word) :\n",
    "    cnt = 0\n",
    "    cur = tree\n",
    "    for w in word :\n",
    "        if len(cur[w]) > 1 :\n",
    "            cnt += 1\n",
    "        cur = cur[w]\n",
    "        if cur == {\"*\" : \"\"} :\n",
    "            cnt += 1\n",
    "    return cnt\n",
    "try :       \n",
    "    while True :\n",
    "        n = int(input())\n",
    "        tree = dict()\n",
    "        words = [input().rstrip() for _ in range(n)]\n",
    "        for word in words :\n",
    "            cur = tree\n",
    "            for w in word :\n",
    "                if w not in cur :\n",
    "                    cur[w] = dict()\n",
    "                cur = cur[w]\n",
    "            cur[\"*\"] = \"\"\n",
    "        answer = 0\n",
    "        for word in words :\n",
    "            cnt = check_cnt(tree, word)\n",
    "            answer += cnt\n",
    "        print(f\"{answer / n:.2f}\")\n",
    "except :\n",
    "    pass"
   ]
  },
  {
   "cell_type": "code",
   "execution_count": 38,
   "id": "985d283c",
   "metadata": {
    "ExecuteTime": {
     "end_time": "2023-03-13T14:07:01.478975Z",
     "start_time": "2023-03-13T14:07:01.466826Z"
    }
   },
   "outputs": [
    {
     "data": {
      "text/plain": [
       "True"
      ]
     },
     "execution_count": 38,
     "metadata": {},
     "output_type": "execute_result"
    }
   ],
   "source": [
    "x = {\"o\" : {\"*\" : \"\"}}\n",
    "x[\"o\"] == {\"*\" : \"\"}"
   ]
  },
  {
   "cell_type": "code",
   "execution_count": 9,
   "id": "13254c3b",
   "metadata": {
    "ExecuteTime": {
     "end_time": "2023-03-13T01:07:14.942506Z",
     "start_time": "2023-03-13T01:07:14.937566Z"
    }
   },
   "outputs": [
    {
     "data": {
      "text/plain": [
       "'d'"
      ]
     },
     "execution_count": 9,
     "metadata": {},
     "output_type": "execute_result"
    }
   ],
   "source": [
    "x = {'a' : {\"b\" : \"d\"}}\n",
    "x['a']['b']"
   ]
  }
 ],
 "metadata": {
  "kernelspec": {
   "display_name": "Python 3 (ipykernel)",
   "language": "python",
   "name": "python3"
  },
  "language_info": {
   "codemirror_mode": {
    "name": "ipython",
    "version": 3
   },
   "file_extension": ".py",
   "mimetype": "text/x-python",
   "name": "python",
   "nbconvert_exporter": "python",
   "pygments_lexer": "ipython3",
   "version": "3.9.13"
  },
  "toc": {
   "base_numbering": 1,
   "nav_menu": {},
   "number_sections": true,
   "sideBar": true,
   "skip_h1_title": false,
   "title_cell": "Table of Contents",
   "title_sidebar": "Contents",
   "toc_cell": false,
   "toc_position": {},
   "toc_section_display": true,
   "toc_window_display": false
  },
  "varInspector": {
   "cols": {
    "lenName": 16,
    "lenType": 16,
    "lenVar": 40
   },
   "kernels_config": {
    "python": {
     "delete_cmd_postfix": "",
     "delete_cmd_prefix": "del ",
     "library": "var_list.py",
     "varRefreshCmd": "print(var_dic_list())"
    },
    "r": {
     "delete_cmd_postfix": ") ",
     "delete_cmd_prefix": "rm(",
     "library": "var_list.r",
     "varRefreshCmd": "cat(var_dic_list()) "
    }
   },
   "types_to_exclude": [
    "module",
    "function",
    "builtin_function_or_method",
    "instance",
    "_Feature"
   ],
   "window_display": false
  },
  "vscode": {
   "interpreter": {
    "hash": "dfacda2fdeeaacdd740fe5c66c89c97705c9508b64028ea0dce702e0ae9956cd"
   }
  }
 },
 "nbformat": 4,
 "nbformat_minor": 5
}
