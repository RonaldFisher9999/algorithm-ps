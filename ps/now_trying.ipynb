{
 "cells": [
  {
   "cell_type": "code",
   "execution_count": 29,
   "id": "e6d92db4",
   "metadata": {
    "ExecuteTime": {
     "end_time": "2023-03-17T09:21:20.973698Z",
     "start_time": "2023-03-17T09:21:20.956334Z"
    }
   },
   "outputs": [
    {
     "name": "stdout",
     "output_type": "stream",
     "text": [
      "13\n"
     ]
    }
   ],
   "source": [
    "# 뱀 https://www.acmicpc.net/problem/3190\n",
    "input = open(\"input.txt\").readline\n",
    "\n",
    "from collections import deque\n",
    "\n",
    "n = int(input())\n",
    "board = [[0] * (n + 1) for _ in range(n + 1)]\n",
    "k = int(input())\n",
    "for _ in range(k) :\n",
    "    x, y = map(int, input().split())\n",
    "    board[x][y] = 1\n",
    "\n",
    "l = int(input())\n",
    "rotate = deque()\n",
    "for _ in range(l) :\n",
    "    x, c = input().split()\n",
    "    rotate.append((int(x), c))\n",
    "\n",
    "time = 0\n",
    "# 몸 좌표\n",
    "snake = deque([(1, 1)])\n",
    "# 방향 (0 : 오른, 1 : 아래, 2 : 왼, 3 : 위)\n",
    "# D : 오른쪽, L : 왼쪽\n",
    "d = 0\n",
    "def change_dir(d) :\n",
    "    if rotate[0][1] == \"D\" :\n",
    "        d = (d + 1) % 4\n",
    "        return d\n",
    "    if rotate[0][1] == \"L\" :\n",
    "        d = (d - 1) % 4\n",
    "        return d\n",
    "\n",
    "def move(d, head) :\n",
    "    x, y = head\n",
    "    # 방향에 따라 머리 이동\n",
    "    if d == 0 :\n",
    "        y += 1\n",
    "    elif d == 1 :\n",
    "        x += 1\n",
    "    elif d == 2 :\n",
    "        y -= 1\n",
    "    elif d == 3 :\n",
    "        x -= 1\n",
    "    snake.appendleft((x, y))\n",
    "        \n",
    "def check(head) :\n",
    "    # 몸에 부딪혔는지 체크\n",
    "    if head in list(snake)[1:] :\n",
    "        return False\n",
    "    # 벽에 부딪혔는지 체크\n",
    "    x, y = head\n",
    "    if not 1 <= x < n+1 or not 1 <= y < n+1 :\n",
    "        return False\n",
    "    # 사과 있는지 체크\n",
    "    if board[x][y] == 1 :\n",
    "        board[x][y] = 0\n",
    "    else :\n",
    "        snake.pop()\n",
    "    return True\n",
    "\n",
    "while True :\n",
    "    # 방향 전환\n",
    "    if rotate and time == rotate[0][0] :\n",
    "        d = change_dir(d)\n",
    "        rotate.popleft()\n",
    "    # 이동\n",
    "    time += 1\n",
    "    move(d, snake[0])\n",
    "    # 게임 끝나는지, 사과 있는지 체크\n",
    "    if not check(snake[0]) :\n",
    "        break\n",
    "        \n",
    "print(time)\n"
   ]
  },
  {
   "cell_type": "code",
   "execution_count": 17,
   "id": "a13c895b",
   "metadata": {
    "ExecuteTime": {
     "end_time": "2023-03-17T09:05:26.537326Z",
     "start_time": "2023-03-17T09:05:26.525285Z"
    }
   },
   "outputs": [
    {
     "data": {
      "text/plain": [
       "True"
      ]
     },
     "execution_count": 17,
     "metadata": {},
     "output_type": "execute_result"
    }
   ],
   "source": [
    "x = deque([(3, 4), (4, 5), (3, 4)])\n",
    "x[0] in list(x)[1:]"
   ]
  },
  {
   "cell_type": "code",
   "execution_count": null,
   "id": "0da432d4",
   "metadata": {},
   "outputs": [],
   "source": []
  }
 ],
 "metadata": {
  "kernelspec": {
   "display_name": "Python 3 (ipykernel)",
   "language": "python",
   "name": "python3"
  },
  "language_info": {
   "codemirror_mode": {
    "name": "ipython",
    "version": 3
   },
   "file_extension": ".py",
   "mimetype": "text/x-python",
   "name": "python",
   "nbconvert_exporter": "python",
   "pygments_lexer": "ipython3",
   "version": "3.9.13"
  },
  "toc": {
   "base_numbering": 1,
   "nav_menu": {},
   "number_sections": true,
   "sideBar": true,
   "skip_h1_title": false,
   "title_cell": "Table of Contents",
   "title_sidebar": "Contents",
   "toc_cell": false,
   "toc_position": {},
   "toc_section_display": true,
   "toc_window_display": false
  },
  "varInspector": {
   "cols": {
    "lenName": 16,
    "lenType": 16,
    "lenVar": 40
   },
   "kernels_config": {
    "python": {
     "delete_cmd_postfix": "",
     "delete_cmd_prefix": "del ",
     "library": "var_list.py",
     "varRefreshCmd": "print(var_dic_list())"
    },
    "r": {
     "delete_cmd_postfix": ") ",
     "delete_cmd_prefix": "rm(",
     "library": "var_list.r",
     "varRefreshCmd": "cat(var_dic_list()) "
    }
   },
   "types_to_exclude": [
    "module",
    "function",
    "builtin_function_or_method",
    "instance",
    "_Feature"
   ],
   "window_display": false
  },
  "vscode": {
   "interpreter": {
    "hash": "dfacda2fdeeaacdd740fe5c66c89c97705c9508b64028ea0dce702e0ae9956cd"
   }
  }
 },
 "nbformat": 4,
 "nbformat_minor": 5
}
