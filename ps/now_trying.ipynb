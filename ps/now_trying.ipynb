{
 "cells": [
  {
   "cell_type": "code",
   "execution_count": 35,
   "id": "8f21f83c",
   "metadata": {
    "ExecuteTime": {
     "end_time": "2023-02-25T09:01:25.660883Z",
     "start_time": "2023-02-25T09:01:25.650662Z"
    }
   },
   "outputs": [
    {
     "name": "stdout",
     "output_type": "stream",
     "text": [
      "150\n"
     ]
    }
   ],
   "source": [
    "# 택배 https://www.acmicpc.net/problem/8980\n",
    "\n",
    "input = open(\"input.txt\").readline\n",
    "\n",
    "n, c = map(int, input().split())\n",
    "m = int(input())\n",
    "box_info = [tuple(map(int, input().split())) for _ in range(m)]\n",
    "# 도착지점 순으로 정렬\n",
    "box_info.sort(key=lambda x : x[1], reverse=True)\n",
    "\n",
    "answer = 0\n",
    "# 트럭이 각 마을에서 상자를 싣고 출발할 때 남은 용량\n",
    "truck = [c] * n\n",
    "while box_info :\n",
    "    x, y, w = box_info.pop()\n",
    "    # 상자가 용량을 차지하는 구간 [x:y]에서 실을 수 있는 최대 용량만큼 실어줌\n",
    "    load = min(min(truck[x:y]), w)\n",
    "    answer += load\n",
    "    # 해당 구간에서 상자 실은 만큼 용량 감소\n",
    "    for i in range(x, y) :\n",
    "        truck[i] -= load\n",
    "        \n",
    "print(answer)"
   ]
  }
 ],
 "metadata": {
  "kernelspec": {
   "display_name": "Python 3 (ipykernel)",
   "language": "python",
   "name": "python3"
  },
  "language_info": {
   "codemirror_mode": {
    "name": "ipython",
    "version": 3
   },
   "file_extension": ".py",
   "mimetype": "text/x-python",
   "name": "python",
   "nbconvert_exporter": "python",
   "pygments_lexer": "ipython3",
   "version": "3.9.13"
  },
  "toc": {
   "base_numbering": 1,
   "nav_menu": {},
   "number_sections": true,
   "sideBar": true,
   "skip_h1_title": false,
   "title_cell": "Table of Contents",
   "title_sidebar": "Contents",
   "toc_cell": false,
   "toc_position": {},
   "toc_section_display": true,
   "toc_window_display": false
  },
  "varInspector": {
   "cols": {
    "lenName": 16,
    "lenType": 16,
    "lenVar": 40
   },
   "kernels_config": {
    "python": {
     "delete_cmd_postfix": "",
     "delete_cmd_prefix": "del ",
     "library": "var_list.py",
     "varRefreshCmd": "print(var_dic_list())"
    },
    "r": {
     "delete_cmd_postfix": ") ",
     "delete_cmd_prefix": "rm(",
     "library": "var_list.r",
     "varRefreshCmd": "cat(var_dic_list()) "
    }
   },
   "types_to_exclude": [
    "module",
    "function",
    "builtin_function_or_method",
    "instance",
    "_Feature"
   ],
   "window_display": false
  },
  "vscode": {
   "interpreter": {
    "hash": "dfacda2fdeeaacdd740fe5c66c89c97705c9508b64028ea0dce702e0ae9956cd"
   }
  }
 },
 "nbformat": 4,
 "nbformat_minor": 5
}
