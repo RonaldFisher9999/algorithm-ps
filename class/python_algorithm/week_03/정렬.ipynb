{
 "cells": [
  {
   "cell_type": "markdown",
   "id": "7bd027b5",
   "metadata": {},
   "source": [
    "# 정렬"
   ]
  },
  {
   "cell_type": "markdown",
   "id": "1afcc3fd",
   "metadata": {},
   "source": [
    "## 버블정렬\n",
    "- 인접한 두 원소끼리 비교해 큰 수를 뒤로 보냄\n",
    "- k번째 정렬이 끝나면 k번째로 큰 값이 제위치에 정렬(뒤에서부터 k번째) -> 총 n-1번 정렬\n",
    "- 시간복잡도 $O(n^2)$"
   ]
  },
  {
   "cell_type": "code",
   "execution_count": 9,
   "id": "6f03141d",
   "metadata": {
    "ExecuteTime": {
     "end_time": "2023-02-01T01:42:36.980296Z",
     "start_time": "2023-02-01T01:42:36.965044Z"
    }
   },
   "outputs": [
    {
     "name": "stdout",
     "output_type": "stream",
     "text": [
      "1번째 정렬\n",
      "[7, 10, 11, 14, 9, 16, 17, 8, 6, 18]\n",
      "2번째 정렬\n",
      "[7, 10, 11, 9, 14, 16, 8, 6, 17, 18]\n",
      "3번째 정렬\n",
      "[7, 10, 9, 11, 14, 8, 6, 16, 17, 18]\n",
      "4번째 정렬\n",
      "[7, 9, 10, 11, 8, 6, 14, 16, 17, 18]\n",
      "5번째 정렬\n",
      "[7, 9, 10, 8, 6, 11, 14, 16, 17, 18]\n",
      "6번째 정렬\n",
      "[7, 9, 8, 6, 10, 11, 14, 16, 17, 18]\n",
      "7번째 정렬\n",
      "[7, 8, 6, 9, 10, 11, 14, 16, 17, 18]\n",
      "8번째 정렬\n",
      "[7, 6, 8, 9, 10, 11, 14, 16, 17, 18]\n",
      "9번째 정렬\n",
      "[6, 7, 8, 9, 10, 11, 14, 16, 17, 18]\n"
     ]
    }
   ],
   "source": [
    "arr = [10, 7, 14, 11, 18, 9, 16, 17, 8, 6]\n",
    "n = len(arr)\n",
    "end = n - 1\n",
    "while True :\n",
    "    if end == 0 :\n",
    "        break\n",
    "    for i in range(end) :\n",
    "        if arr[i] > arr[i+1] :\n",
    "            arr[i], arr[i+1] = arr[i+1], arr[i]\n",
    "    print(f\"{n - end}번째 정렬\")\n",
    "    print(arr)\n",
    "    end -= 1"
   ]
  },
  {
   "cell_type": "code",
   "execution_count": null,
   "id": "4be0c204",
   "metadata": {},
   "outputs": [],
   "source": []
  }
 ],
 "metadata": {
  "kernelspec": {
   "display_name": "Python 3 (ipykernel)",
   "language": "python",
   "name": "python3"
  },
  "language_info": {
   "codemirror_mode": {
    "name": "ipython",
    "version": 3
   },
   "file_extension": ".py",
   "mimetype": "text/x-python",
   "name": "python",
   "nbconvert_exporter": "python",
   "pygments_lexer": "ipython3",
   "version": "3.9.13"
  },
  "toc": {
   "base_numbering": 1,
   "nav_menu": {},
   "number_sections": true,
   "sideBar": true,
   "skip_h1_title": false,
   "title_cell": "Table of Contents",
   "title_sidebar": "Contents",
   "toc_cell": false,
   "toc_position": {},
   "toc_section_display": true,
   "toc_window_display": false
  },
  "varInspector": {
   "cols": {
    "lenName": 16,
    "lenType": 16,
    "lenVar": 40
   },
   "kernels_config": {
    "python": {
     "delete_cmd_postfix": "",
     "delete_cmd_prefix": "del ",
     "library": "var_list.py",
     "varRefreshCmd": "print(var_dic_list())"
    },
    "r": {
     "delete_cmd_postfix": ") ",
     "delete_cmd_prefix": "rm(",
     "library": "var_list.r",
     "varRefreshCmd": "cat(var_dic_list()) "
    }
   },
   "types_to_exclude": [
    "module",
    "function",
    "builtin_function_or_method",
    "instance",
    "_Feature"
   ],
   "window_display": false
  }
 },
 "nbformat": 4,
 "nbformat_minor": 5
}
