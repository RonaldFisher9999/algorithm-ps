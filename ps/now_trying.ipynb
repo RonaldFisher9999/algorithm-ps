{
 "cells": [
  {
   "cell_type": "code",
   "execution_count": 40,
   "id": "bb1fa11a",
   "metadata": {},
   "outputs": [
    {
     "name": "stdout",
     "output_type": "stream",
     "text": [
      "[]\n",
      "[(1, 2), (4, 4), (2, 3)]\n",
      "[(1, 1), (2, 4)]\n",
      "[(2, 1), (3, 4)]\n",
      "[(4, 1), (2, 2), (3, 3)]\n",
      "[[0], [1], [2], [3], [4]]\n",
      "[0, 1, 2, 3]\n"
     ]
    }
   ],
   "source": [
    "# 네트워크 복구 https://www.acmicpc.net/problem/2211\n",
    "input = open(\"input.txt\").readline\n",
    "\n",
    "import heapq\n",
    "\n",
    "n, m = map(int, input().split())\n",
    "graph = [[] for _ in range(n+1)]\n",
    "for _ in range(m):\n",
    "    a, b, w = map(int, input().split())\n",
    "    graph[a].append((w, b))\n",
    "    graph[b].append((w, a))\n",
    "print(*graph, sep=\"\\n\")\n",
    "\n",
    "INF = 10001\n",
    "def dijkstra(start, graph, n):\n",
    "    dist = [INF] * (n+1)\n",
    "    dist[start] = 0\n",
    "    pq = []\n",
    "    heapq.heappush(pq, (0, start))\n",
    "    route = [[i] for i in range(n+1)]\n",
    "    while pq:\n",
    "        dist_cur, cur = heapq.heappop(pq)\n",
    "        if dist[cur] < dist_cur:\n",
    "            continue\n",
    "        for dist_cur2near, near in graph[cur]:\n",
    "            if dist[near] > dist_cur + dist_cur2near:\n",
    "                dist[near] = dist_cur + dist_cur2near\n",
    "                heapq.heappush(pq, (dist[near], near))\n",
    "    return dist[1:]\n",
    "\n",
    "print(dijkstra(1, graph, n))"
   ]
  }
 ],
 "metadata": {
  "kernelspec": {
   "display_name": "Python 3 (ipykernel)",
   "language": "python",
   "name": "python3"
  },
  "language_info": {
   "codemirror_mode": {
    "name": "ipython",
    "version": 3
   },
   "file_extension": ".py",
   "mimetype": "text/x-python",
   "name": "python",
   "nbconvert_exporter": "python",
   "pygments_lexer": "ipython3",
   "version": "3.10.3"
  },
  "toc": {
   "base_numbering": 1,
   "nav_menu": {},
   "number_sections": true,
   "sideBar": true,
   "skip_h1_title": false,
   "title_cell": "Table of Contents",
   "title_sidebar": "Contents",
   "toc_cell": false,
   "toc_position": {},
   "toc_section_display": true,
   "toc_window_display": false
  },
  "varInspector": {
   "cols": {
    "lenName": 16,
    "lenType": 16,
    "lenVar": 40
   },
   "kernels_config": {
    "python": {
     "delete_cmd_postfix": "",
     "delete_cmd_prefix": "del ",
     "library": "var_list.py",
     "varRefreshCmd": "print(var_dic_list())"
    },
    "r": {
     "delete_cmd_postfix": ") ",
     "delete_cmd_prefix": "rm(",
     "library": "var_list.r",
     "varRefreshCmd": "cat(var_dic_list()) "
    }
   },
   "types_to_exclude": [
    "module",
    "function",
    "builtin_function_or_method",
    "instance",
    "_Feature"
   ],
   "window_display": false
  },
  "vscode": {
   "interpreter": {
    "hash": "dfacda2fdeeaacdd740fe5c66c89c97705c9508b64028ea0dce702e0ae9956cd"
   }
  }
 },
 "nbformat": 4,
 "nbformat_minor": 5
}
