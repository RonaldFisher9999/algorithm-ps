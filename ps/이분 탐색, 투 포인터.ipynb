{
 "cells": [
  {
   "cell_type": "markdown",
   "id": "fc5616b4",
   "metadata": {},
   "source": [
    "# 이분 탐색, 투 포인터\n",
    "- 엄청나게 넓은 범위에서 최적의 값을 탐색할 때 많이 사용"
   ]
  },
  {
   "cell_type": "markdown",
   "id": "e5ab25b2",
   "metadata": {},
   "source": [
    "## 프로그래머스 입국심사\n",
    "https://school.programmers.co.kr/learn/courses/30/lessons/43238\n",
    "- 총 시간이 주어졌을 때, 각각이 심사관이 심사할 수 있는 사람의 수를 모두 더한 값(total)과 n을 비교\n",
    "- total이 n보다 크면 시간을 줄이고, total이 n보다 작으면 시간을 늘려야 한다.\n",
    "- 이분 탐색으로 최소의 총 시간 탐색\n",
    "- n과 total이 같으면 end를 줄여주다가, n이 total을 역전하면 start가 최소값"
   ]
  },
  {
   "cell_type": "code",
   "execution_count": null,
   "id": "8aaf2575",
   "metadata": {},
   "outputs": [],
   "source": [
    "def bin_search(start, end, n, times) :\n",
    "    while start <= end :\n",
    "        mid = (start + end) // 2\n",
    "        total = sum(map(lambda x : mid // x, times))\n",
    "        if n <= total :   # 시간 줄여야함\n",
    "            end = mid - 1\n",
    "        else :              # 시간 늘려야함\n",
    "            start = mid + 1                \n",
    "    return start\n",
    "    \n",
    "def solution(n, times) :\n",
    "    if len(times) == 1 :\n",
    "        return times[0] * n\n",
    "    start = min(times)\n",
    "    end = max(times) * n\n",
    "    answer = bin_search(start, end, n, times)\n",
    "    return answer"
   ]
  },
  {
   "cell_type": "markdown",
   "id": "5e1536f0",
   "metadata": {},
   "source": [
    "## 백준 1654 랜선 자르기\n",
    "https://www.acmicpc.net/problem/1654"
   ]
  },
  {
   "cell_type": "code",
   "execution_count": null,
   "id": "10951d06",
   "metadata": {},
   "outputs": [],
   "source": [
    "# f = open(\"input.txt\")\n",
    "# input = f.readline\n",
    "\n",
    "n, m = map(int, input().split())\n",
    "lans = [int(input()) for _ in range(n)]\n",
    "\n",
    "start = 1\n",
    "end = max(lans)\n",
    "def bin_search(start, end) :\n",
    "    while start <= end :\n",
    "        mid = (start + end) // 2\n",
    "        total = sum(map(lambda x : x // mid, lans))\n",
    "        # 길이 늘려야함\n",
    "        if m <= total :\n",
    "            start = mid + 1\n",
    "        # 길이 줄여야함\n",
    "        else :\n",
    "            end = mid - 1\n",
    "    # 최대값 구하므로 end\n",
    "    return end\n",
    "\n",
    "print(bin_search(start, end))"
   ]
  },
  {
   "cell_type": "markdown",
   "id": "7626d10a",
   "metadata": {},
   "source": [
    "## 백준 2470 두 용액\n",
    "https://www.acmicpc.net/problem/2470"
   ]
  },
  {
   "cell_type": "code",
   "execution_count": null,
   "id": "96b8e020",
   "metadata": {},
   "outputs": [],
   "source": [
    "# f = open(\"input.txt\")\n",
    "# input = f.readline\n",
    "\n",
    "import sys\n",
    "\n",
    "n = int(input())\n",
    "arr = sorted(map(int, input().split()))\n",
    "\n",
    "def two_pointer(start, end) :\n",
    "    sol = sys.maxsize\n",
    "    answer = [0, 0]\n",
    "    while start < end :\n",
    "        temp = arr[start] + arr[end]\n",
    "        if temp == 0 :\n",
    "            answer[0], answer[1] = arr[start], arr[end]\n",
    "            return answer\n",
    "        if sol > abs(temp) :\n",
    "            sol = abs(temp)\n",
    "            answer[0], answer[1] = arr[start], arr[end]\n",
    "        if temp < 0 :\n",
    "            start += 1\n",
    "        elif temp > 0 :\n",
    "            end -= 1\n",
    "    return answer\n",
    "\n",
    "start = 0\n",
    "end = n - 1\n",
    "print(*two_pointer(start, end))"
   ]
  },
  {
   "cell_type": "markdown",
   "id": "03669d4e",
   "metadata": {},
   "source": [
    "## 백준 1092 배\n",
    "https://www.acmicpc.net/problem/1092\n",
    "- 정렬 후 가장 무거운 크레인부터 움직일 수 있는 가장 무거운 짐을 옮긴다.\n",
    "- 옮긴 짐은 pop으로 제거\n",
    "- 2중 for문을 돌아도 되지만 이분탐색으로 짐을 고르는게 훨씬 빠르다."
   ]
  },
  {
   "cell_type": "code",
   "execution_count": null,
   "id": "3ed6f298",
   "metadata": {},
   "outputs": [],
   "source": [
    "import bisect\n",
    "\n",
    "n = int(input())\n",
    "crane = sorted(map(int, input().split()))\n",
    "m = int(input())\n",
    "box = sorted(map(int, input().split()))\n",
    "\n",
    "answer = 0\n",
    "if crane[-1] < box[-1] :\n",
    "    answer = -1\n",
    "else :\n",
    "    while box :\n",
    "        for i in range(n - 1, -1, -1) :\n",
    "            idx = bisect.bisect(box, crane[i])\n",
    "            if idx > 0 :\n",
    "                box.pop(idx - 1)\n",
    "            else :\n",
    "                break\n",
    "        answer += 1\n",
    "print(answer)         "
   ]
  }
 ],
 "metadata": {
  "kernelspec": {
   "display_name": "Python 3 (ipykernel)",
   "language": "python",
   "name": "python3"
  },
  "language_info": {
   "codemirror_mode": {
    "name": "ipython",
    "version": 3
   },
   "file_extension": ".py",
   "mimetype": "text/x-python",
   "name": "python",
   "nbconvert_exporter": "python",
   "pygments_lexer": "ipython3",
   "version": "3.9.13"
  },
  "toc": {
   "base_numbering": 1,
   "nav_menu": {},
   "number_sections": true,
   "sideBar": true,
   "skip_h1_title": false,
   "title_cell": "Table of Contents",
   "title_sidebar": "Contents",
   "toc_cell": false,
   "toc_position": {},
   "toc_section_display": true,
   "toc_window_display": true
  },
  "varInspector": {
   "cols": {
    "lenName": 16,
    "lenType": 16,
    "lenVar": 40
   },
   "kernels_config": {
    "python": {
     "delete_cmd_postfix": "",
     "delete_cmd_prefix": "del ",
     "library": "var_list.py",
     "varRefreshCmd": "print(var_dic_list())"
    },
    "r": {
     "delete_cmd_postfix": ") ",
     "delete_cmd_prefix": "rm(",
     "library": "var_list.r",
     "varRefreshCmd": "cat(var_dic_list()) "
    }
   },
   "types_to_exclude": [
    "module",
    "function",
    "builtin_function_or_method",
    "instance",
    "_Feature"
   ],
   "window_display": false
  }
 },
 "nbformat": 4,
 "nbformat_minor": 5
}
