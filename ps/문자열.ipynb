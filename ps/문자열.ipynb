{
 "cells": [
  {
   "cell_type": "markdown",
   "id": "1b9434a4",
   "metadata": {},
   "source": [
    "# 문자열"
   ]
  },
  {
   "cell_type": "markdown",
   "id": "9e263955",
   "metadata": {},
   "source": [
    "## 백준 5052 전화번호 목록\n",
    "https://www.acmicpc.net/problem/5052  \n",
    "프로그래머스 : https://school.programmers.co.kr/learn/courses/30/lessons/42577  \n",
    "- `input = sys.stdin.readline` 쓰거나 pypy3로 제출해야함. 아니면 시간초과\n",
    "- 문자열 형태의 정수를 정렬했기 때문에, 어떤 숫자 n이 다른 숫자 m의 접두사라면 반드시 n 다음에 m이 정렬됨 "
   ]
  },
  {
   "cell_type": "code",
   "execution_count": null,
   "id": "80a115ba",
   "metadata": {},
   "outputs": [],
   "source": [
    "# f = open(\"input.txt\")\n",
    "# input = f.readline\n",
    "\n",
    "t = int(input())\n",
    "for _ in range(t) :\n",
    "    n = int(input())\n",
    "    nums = list()\n",
    "    for __ in range(n) :\n",
    "        nums.append(input().rstrip())\n",
    "    nums.sort()\n",
    "    for i in range(n-1) :\n",
    "        if nums[i+1].startswith(nums[i]) :\n",
    "            print(\"NO\")\n",
    "            break\n",
    "    else :\n",
    "        print(\"YES\")"
   ]
  },
  {
   "cell_type": "markdown",
   "id": "b95b2283",
   "metadata": {},
   "source": [
    "## 백준 17214 다항 함수의 적분\n",
    "https://www.acmicpc.net/problem/17214\n",
    "- 상수만 있는가? -> -1, 0, 1, 음수, 양수\n",
    "- x항만 있는가? -> -1, 1, 음수, 양수\n",
    "- 둘다 있는가? -> -1, 1, 음수, 양수"
   ]
  },
  {
   "cell_type": "code",
   "execution_count": null,
   "id": "926f5ede",
   "metadata": {},
   "outputs": [],
   "source": [
    "# input = open(\"input.txt\").readline\n",
    "\n",
    "poly = input()\n",
    "# 상수항만 있음\n",
    "if \"x\" not in poly :\n",
    "    if poly == \"0\" :\n",
    "        print(\"W\")\n",
    "    elif poly == \"1\" :\n",
    "        print(\"x+W\")\n",
    "    elif poly == \"-1\" :\n",
    "        print(\"-x+W\")\n",
    "    else :\n",
    "        print(poly + \"x+W\")\n",
    "else :\n",
    "    # x항만 있음\n",
    "    if poly[-1] == \"x\" :\n",
    "        if poly == \"2x\" :\n",
    "            print(\"xx+W\")\n",
    "        elif poly == \"-2x\" :\n",
    "            print(\"-xx+W\")\n",
    "        else :\n",
    "            coeff = int(poly[:-1])\n",
    "            print(f\"{coeff//2}xx+W\")\n",
    "    # 둘다 있음\n",
    "    else :\n",
    "        spl = poly.split(\"x\")\n",
    "        coeff = int(spl[0])\n",
    "        const = int(spl[1])\n",
    "        if const == 1 :\n",
    "            if coeff == 2 :\n",
    "                print(\"xx+x+W\")\n",
    "            elif coeff == -2 :\n",
    "                print(\"-xx+x+W\")\n",
    "            else :\n",
    "                print(f\"{coeff//2}xx+x+W\")\n",
    "        elif const == -1 :\n",
    "            if coeff == 2 :\n",
    "                print(\"xx-x+W\")\n",
    "            elif coeff == -2 :\n",
    "                print(\"-xx-x+W\")\n",
    "            else :\n",
    "                print(f\"{coeff//2}xx-x+W\")\n",
    "        elif const < 0 :\n",
    "            if coeff == 2 :\n",
    "                print(f\"xx{const}x+W\")\n",
    "            elif coeff == -2 :\n",
    "                print(f\"-xx{const}x+W\")\n",
    "            else :\n",
    "                print(f\"{coeff//2}xx{const}x+W\")\n",
    "        elif const > 0 :\n",
    "            if coeff == 2 :\n",
    "                print(f\"xx+{const}x+W\")\n",
    "            elif coeff == -2 :\n",
    "                print(f\"-xx+{const}x+W\")\n",
    "            else :\n",
    "                print(f\"{coeff//2}xx+{const}x+W\")"
   ]
  },
  {
   "cell_type": "markdown",
   "id": "98aee13a",
   "metadata": {
    "ExecuteTime": {
     "end_time": "2023-02-04T18:22:42.661950Z",
     "start_time": "2023-02-04T18:22:42.656562Z"
    }
   },
   "source": [
    "## 백준 5430 AC\n",
    "https://www.acmicpc.net/problem/5430"
   ]
  },
  {
   "cell_type": "code",
   "execution_count": null,
   "id": "78516873",
   "metadata": {},
   "outputs": [],
   "source": [
    "from collections import deque\n",
    "\n",
    "input = open(\"input.txt\").readline\n",
    "\n",
    "# 인덱스 i부터 연속된 R의 개수\n",
    "def cnt_R(p, i) :\n",
    "    cnt = 0\n",
    "    while p[i] == \"R\":\n",
    "        cnt += 1\n",
    "        i += 1\n",
    "        if i >= len(p) :\n",
    "            break\n",
    "    return cnt\n",
    "\n",
    "# 인덱스 i부터 연속된 D의 개수\n",
    "# R을 세고 D를 세기 때문에 범위 벗어나면 0 반환\n",
    "def cnt_D(p, i) :\n",
    "    cnt = 0\n",
    "    if i >= len(p) :\n",
    "        return cnt\n",
    "    while p[i] == \"D\":\n",
    "        cnt += 1\n",
    "        i += 1\n",
    "        if i >= len(p) :\n",
    "            break\n",
    "    return cnt\n",
    "\n",
    "# 정방향이면 앞에서 pop, 역방향이면 뒤에서 pop\n",
    "# 배열 비었는데 D가 남았으면 error\n",
    "def command(arr, d, status) :\n",
    "    if status == 0 :\n",
    "        for _ in range(d) :\n",
    "            if not arr :\n",
    "                return \"error\"\n",
    "            arr.popleft()\n",
    "    else :\n",
    "        for _ in range(d) :\n",
    "            if not arr :\n",
    "                return \"error\"\n",
    "            arr.pop()\n",
    "    \n",
    "t = int(input())\n",
    "for _ in range(t) :\n",
    "    p = input().rstrip()\n",
    "    n = int(input())\n",
    "    arr = input().rstrip()\n",
    "    # 빈 배열은 따로 처리\n",
    "    if n == 0 :\n",
    "        arr = deque()\n",
    "    else :\n",
    "        arr = deque(arr[1:-1].split(\",\"))\n",
    "    i = 0\n",
    "    status = 0\n",
    "    while i < len(p) :\n",
    "        r = cnt_R(p, i)\n",
    "        d = cnt_D(p, i+r)\n",
    "        status = (status + r) % 2\n",
    "        result = command(arr, d, status)\n",
    "        # error 뜨면 더 진행하지 않고 break\n",
    "        if result == \"error\" :\n",
    "            break\n",
    "        i += r + d\n",
    "    if result == \"error\" :\n",
    "        print(result)\n",
    "    else :\n",
    "        if status == 1 :\n",
    "            print(\"[\" + \",\".join(list(arr)[::-1]) + \"]\")\n",
    "        else :\n",
    "            print(\"[\" + \",\".join(list(arr)) + \"]\")"
   ]
  }
 ],
 "metadata": {
  "kernelspec": {
   "display_name": "Python 3 (ipykernel)",
   "language": "python",
   "name": "python3"
  },
  "language_info": {
   "codemirror_mode": {
    "name": "ipython",
    "version": 3
   },
   "file_extension": ".py",
   "mimetype": "text/x-python",
   "name": "python",
   "nbconvert_exporter": "python",
   "pygments_lexer": "ipython3",
   "version": "3.9.13"
  },
  "toc": {
   "base_numbering": 1,
   "nav_menu": {},
   "number_sections": true,
   "sideBar": true,
   "skip_h1_title": false,
   "title_cell": "Table of Contents",
   "title_sidebar": "Contents",
   "toc_cell": false,
   "toc_position": {},
   "toc_section_display": true,
   "toc_window_display": true
  },
  "varInspector": {
   "cols": {
    "lenName": 16,
    "lenType": 16,
    "lenVar": 40
   },
   "kernels_config": {
    "python": {
     "delete_cmd_postfix": "",
     "delete_cmd_prefix": "del ",
     "library": "var_list.py",
     "varRefreshCmd": "print(var_dic_list())"
    },
    "r": {
     "delete_cmd_postfix": ") ",
     "delete_cmd_prefix": "rm(",
     "library": "var_list.r",
     "varRefreshCmd": "cat(var_dic_list()) "
    }
   },
   "types_to_exclude": [
    "module",
    "function",
    "builtin_function_or_method",
    "instance",
    "_Feature"
   ],
   "window_display": false
  }
 },
 "nbformat": 4,
 "nbformat_minor": 5
}
