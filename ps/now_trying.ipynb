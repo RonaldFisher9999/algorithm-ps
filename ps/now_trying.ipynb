{
 "cells": [
  {
   "cell_type": "code",
   "execution_count": 64,
   "id": "942cf397",
   "metadata": {},
   "outputs": [
    {
     "name": "stdout",
     "output_type": "stream",
     "text": [
      "cycle_node {1, 2, 3, 4, 5, 6}\n",
      "0 0 0 0 0 0 1 2 3 4 5 6 7 8 9 10 11 12 13 14 15 16 17 18 19 20 21 22 23 24 25 26 27 28 29 30 31 32\n"
     ]
    }
   ],
   "source": [
    "# 서울 지하철 2호선 https://www.acmicpc.net/problem/16947\n",
    "input = open(\"input.txt\").readline\n",
    "\n",
    "from collections import deque\n",
    "\n",
    "n = int(input())\n",
    "graph = [[] for _ in range(n+1)]\n",
    "for _ in range(n):\n",
    "    a, b = map(int, input().split())\n",
    "    graph[a].append(b)\n",
    "    graph[b].append(a)\n",
    "# print(*graph, sep=\"\\n\")\n",
    "\n",
    "cand = [i for i in range(1, n+1) if len(graph[i]) > 1]\n",
    "# print(\"cand\", cand)\n",
    "\n",
    "def find_cycle_node(cand, graph, n):\n",
    "    visited = [False] * (n+1)\n",
    "    stack = list()\n",
    "    stack_set = set()\n",
    "\n",
    "    def dfs(now, parent):\n",
    "        stack.append(now)\n",
    "        stack_set.add(now)\n",
    "\n",
    "        for near in graph[now]:\n",
    "            if near == parent or visited[near]:\n",
    "                continue\n",
    "            if near in stack_set:\n",
    "                cycle_node = set()\n",
    "                while stack[-1] != near:\n",
    "                    cycle_node.add(stack.pop())\n",
    "                cycle_node.add(stack.pop())\n",
    "                return cycle_node\n",
    "            cycle_node = dfs(near, now)\n",
    "            if cycle_node:\n",
    "                return cycle_node\n",
    "        \n",
    "        visited[now] = True\n",
    "        stack.pop()\n",
    "        stack_set.remove(now)\n",
    "\n",
    "        return None\n",
    "    \n",
    "    for node in cand:\n",
    "        if not visited[node]:\n",
    "            cycle_node = dfs(node, None)\n",
    "            if cycle_node:\n",
    "                return cycle_node\n",
    "\n",
    "def dist_to_cycle(start, cycle_node, graph, n):\n",
    "    visited = [False] * (n+1)\n",
    "    visited[start] = True\n",
    "    q = deque([(start, 0)])\n",
    "    while q:\n",
    "        now, dist = q.popleft()\n",
    "        for near in graph[now]:\n",
    "            if near in cycle_node:\n",
    "                return dist + 1\n",
    "            if not visited[near]:\n",
    "                visited[near] = True\n",
    "                q.append((near, dist + 1))\n",
    "\n",
    "cycle_node = find_cycle_node(cand, graph, n)\n",
    "# print(\"cycle_node\", cycle_node)\n",
    "\n",
    "dist = list()\n",
    "for node in range(1, n+1):\n",
    "    if node in cycle_node:\n",
    "        dist.append(0)\n",
    "    else:\n",
    "        dist.append(dist_to_cycle(node, cycle_node, graph, n))\n",
    "print(*dist)"
   ]
  },
  {
   "cell_type": "code",
   "execution_count": null,
   "id": "b69bed36",
   "metadata": {},
   "outputs": [],
   "source": [
    "\n",
    "def get_cycle_node(cand, graph, n):\n",
    "    cycle_node = set()\n",
    "    def check_cycle(node, graph):\n",
    "        # for near in graph[node]:\n",
    "        #     if \n",
    "        pass\n",
    "    for node in cand:\n",
    "        visited = [False] * (n+1)\n",
    "        cycle = []\n",
    "        cycle, visited = check_cycle(node, graph)\n",
    "        if cycle:\n",
    "            return visited\n",
    "\n",
    "\n",
    "\n"
   ]
  },
  {
   "cell_type": "code",
   "execution_count": null,
   "id": "8d684780",
   "metadata": {},
   "outputs": [],
   "source": [
    "\n",
    "n = int(input())\n",
    "graph = {i:[] for i in range(1, n+1)}\n",
    "start = None\n",
    "for _ in range(n):\n",
    "    a, b = map(int, input().split())\n",
    "    graph[a].append(b)\n",
    "    graph[b].append(a)\n",
    "    if not start:\n",
    "        if len(graph[a]) > 2:\n",
    "            start = a\n",
    "            continue\n",
    "        if len(graph[b]) > 2:\n",
    "            start = b\n",
    "# print(*graph, sep=\"\\n\")\n",
    "print(graph)\n",
    "print(start)\n",
    "def find_cycle(start, graph, n):\n",
    "    visited = [-1] * (n+1)\n",
    "    visited[start] = 0\n",
    "    \n",
    "\n"
   ]
  }
 ],
 "metadata": {
  "kernelspec": {
   "display_name": "Python 3 (ipykernel)",
   "language": "python",
   "name": "python3"
  },
  "language_info": {
   "codemirror_mode": {
    "name": "ipython",
    "version": 3
   },
   "file_extension": ".py",
   "mimetype": "text/x-python",
   "name": "python",
   "nbconvert_exporter": "python",
   "pygments_lexer": "ipython3",
   "version": "3.10.3"
  },
  "toc": {
   "base_numbering": 1,
   "nav_menu": {},
   "number_sections": true,
   "sideBar": true,
   "skip_h1_title": false,
   "title_cell": "Table of Contents",
   "title_sidebar": "Contents",
   "toc_cell": false,
   "toc_position": {},
   "toc_section_display": true,
   "toc_window_display": false
  },
  "varInspector": {
   "cols": {
    "lenName": 16,
    "lenType": 16,
    "lenVar": 40
   },
   "kernels_config": {
    "python": {
     "delete_cmd_postfix": "",
     "delete_cmd_prefix": "del ",
     "library": "var_list.py",
     "varRefreshCmd": "print(var_dic_list())"
    },
    "r": {
     "delete_cmd_postfix": ") ",
     "delete_cmd_prefix": "rm(",
     "library": "var_list.r",
     "varRefreshCmd": "cat(var_dic_list()) "
    }
   },
   "types_to_exclude": [
    "module",
    "function",
    "builtin_function_or_method",
    "instance",
    "_Feature"
   ],
   "window_display": false
  },
  "vscode": {
   "interpreter": {
    "hash": "dfacda2fdeeaacdd740fe5c66c89c97705c9508b64028ea0dce702e0ae9956cd"
   }
  }
 },
 "nbformat": 4,
 "nbformat_minor": 5
}
