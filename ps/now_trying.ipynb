{
 "cells": [
  {
   "cell_type": "code",
   "execution_count": 21,
   "id": "a20c6658",
   "metadata": {
    "ExecuteTime": {
     "end_time": "2023-03-11T09:43:36.179446Z",
     "start_time": "2023-03-11T09:43:36.171083Z"
    },
    "scrolled": true
   },
   "outputs": [
    {
     "name": "stdout",
     "output_type": "stream",
     "text": [
      "2\n"
     ]
    }
   ],
   "source": [
    "# 부분합 https://www.acmicpc.net/problem/1806\n",
    "input = open(\"input.txt\").readline\n",
    "\n",
    "n, s = map(int, input().split())\n",
    "arr = list(map(int, input().split()))\n",
    "\n",
    "cum_sum = [0]\n",
    "for i in range(n) :\n",
    "    cum_sum.append(cum_sum[-1] + arr[i])\n",
    "\n",
    "min_len = n + 1\n",
    "start, end = 0, 0\n",
    "temp = arr[0]\n",
    "while True :\n",
    "    if min_len == 1 :\n",
    "        break\n",
    "    if temp >= s :\n",
    "        min_len = min(min_len, end - start + 1)\n",
    "        temp -= arr[start]\n",
    "        start += 1\n",
    "        if start >= n :\n",
    "            break\n",
    "        continue\n",
    "    if temp < s :\n",
    "        end += 1\n",
    "        if end >= n :\n",
    "            break\n",
    "        temp += arr[end]\n",
    "        continue\n",
    "\n",
    "if min_len > n :\n",
    "    print(0)\n",
    "else :\n",
    "    print(min_len)\n"
   ]
  },
  {
   "cell_type": "code",
   "execution_count": 1,
   "id": "4fe3c5dc",
   "metadata": {
    "ExecuteTime": {
     "end_time": "2023-03-11T09:14:55.962435Z",
     "start_time": "2023-03-11T09:14:55.954490Z"
    }
   },
   "outputs": [
    {
     "name": "stdout",
     "output_type": "stream",
     "text": [
      "None\n"
     ]
    }
   ],
   "source": [
    "x = [12, 3, 4]\n",
    "print(x.append(3))"
   ]
  }
 ],
 "metadata": {
  "kernelspec": {
   "display_name": "Python 3 (ipykernel)",
   "language": "python",
   "name": "python3"
  },
  "language_info": {
   "codemirror_mode": {
    "name": "ipython",
    "version": 3
   },
   "file_extension": ".py",
   "mimetype": "text/x-python",
   "name": "python",
   "nbconvert_exporter": "python",
   "pygments_lexer": "ipython3",
   "version": "3.9.13"
  },
  "toc": {
   "base_numbering": 1,
   "nav_menu": {},
   "number_sections": true,
   "sideBar": true,
   "skip_h1_title": false,
   "title_cell": "Table of Contents",
   "title_sidebar": "Contents",
   "toc_cell": false,
   "toc_position": {},
   "toc_section_display": true,
   "toc_window_display": false
  },
  "varInspector": {
   "cols": {
    "lenName": 16,
    "lenType": 16,
    "lenVar": 40
   },
   "kernels_config": {
    "python": {
     "delete_cmd_postfix": "",
     "delete_cmd_prefix": "del ",
     "library": "var_list.py",
     "varRefreshCmd": "print(var_dic_list())"
    },
    "r": {
     "delete_cmd_postfix": ") ",
     "delete_cmd_prefix": "rm(",
     "library": "var_list.r",
     "varRefreshCmd": "cat(var_dic_list()) "
    }
   },
   "types_to_exclude": [
    "module",
    "function",
    "builtin_function_or_method",
    "instance",
    "_Feature"
   ],
   "window_display": false
  },
  "vscode": {
   "interpreter": {
    "hash": "dfacda2fdeeaacdd740fe5c66c89c97705c9508b64028ea0dce702e0ae9956cd"
   }
  }
 },
 "nbformat": 4,
 "nbformat_minor": 5
}
