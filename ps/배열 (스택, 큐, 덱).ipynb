{
 "cells": [
  {
   "cell_type": "markdown",
   "id": "d1112290",
   "metadata": {},
   "source": [
    "# 배열 (스택, 큐, 덱)"
   ]
  },
  {
   "cell_type": "markdown",
   "id": "41c8126f",
   "metadata": {},
   "source": [
    "## 백준 10828 스택\n",
    "https://www.acmicpc.net/problem/10828"
   ]
  },
  {
   "cell_type": "code",
   "execution_count": null,
   "id": "5adcb3ba",
   "metadata": {},
   "outputs": [],
   "source": [
    "n = int(input())\n",
    "\n",
    "stack = list()\n",
    "for _ in range(n) :\n",
    "    command = input().split()\n",
    "    if command[0] == \"push\" :\n",
    "        stack.append(int(command[1]))   \n",
    "    elif command[0] == \"pop\" :\n",
    "        if stack :\n",
    "            print(stack.pop())\n",
    "        else :\n",
    "            print(-1)\n",
    "    elif command[0] == \"size\" :\n",
    "        print(len(stack))\n",
    "    elif command[0] == \"empty\" :\n",
    "        if stack :\n",
    "            print(0)\n",
    "        else :\n",
    "            print(1)\n",
    "    elif command[0] == \"top\" :\n",
    "        if stack :\n",
    "            print(stack[-1])\n",
    "        else :\n",
    "            print(-1)"
   ]
  },
  {
   "cell_type": "markdown",
   "id": "78c3e36c",
   "metadata": {},
   "source": [
    "## 백준 10799 쇠막대기\n",
    "https://www.acmicpc.net/problem/10799\n",
    "- ( -> 스택에 막대기 추가\n",
    "- () -> n이 스택 크기만큼 증가(현재 막대기 3개가가 있는데 레이저로 한번 자르면 3개가 더 생김)\n",
    "- ) -> n이 1 증가, 스택에서 막대기 제거"
   ]
  },
  {
   "cell_type": "code",
   "execution_count": null,
   "id": "94bc4be8",
   "metadata": {},
   "outputs": [],
   "source": [
    "n = 0\n",
    "stack = list()\n",
    "laser_stick = input()\n",
    "for i in range(len(laser_stick)) :\n",
    "    if laser_stick[i] == \"(\" :\n",
    "        if laser_stick[i + 1] == \")\" :\n",
    "            n += len(stack)\n",
    "        else :\n",
    "            stack.append(1)\n",
    "    elif laser_stick[i] == \")\" :\n",
    "        if laser_stick[i - 1] == \"(\" :\n",
    "            continue\n",
    "        n += 1\n",
    "        stack.pop()\n",
    "\n",
    "print(n)"
   ]
  },
  {
   "cell_type": "markdown",
   "id": "d499c067",
   "metadata": {},
   "source": [
    "## 백준 2812 크게 만들기\n",
    "https://www.acmicpc.net/problem/2812  \n",
    "프로그래머스 https://school.programmers.co.kr/learn/courses/30/lessons/42883"
   ]
  },
  {
   "cell_type": "code",
   "execution_count": null,
   "id": "64a1a646",
   "metadata": {},
   "outputs": [],
   "source": [
    "n, k = map(int, input().split())\n",
    "number = input()\n",
    "stack = [number[0]]\n",
    "\n",
    "# 앞에서부터 하나씩 스택에 넣어줌\n",
    "for i in number[1:] :\n",
    "    # 지금 넣어줄 수보다 스택 최상단의 수가 작으면 하나씩 pop\n",
    "    # pop할 때마다 k 1씩 감소\n",
    "    while stack and int(stack[-1]) < int(i) and k > 0 :\n",
    "        stack.pop()\n",
    "        k -= 1\n",
    "    stack.append(i)\n",
    "# 만약 스택에 다 넣었는데 k가 남았으면 남은 k 만큼 스택에서 pop\n",
    "while k > 0 :\n",
    "    stack.pop()\n",
    "    k -= 1\n",
    "print(\"\".join(stack))\n",
    "# print(\"\".join(stack[:len(stack) - k]))"
   ]
  },
  {
   "cell_type": "markdown",
   "id": "da33f8b4",
   "metadata": {},
   "source": [
    "## 백준 10845 큐\n",
    "https://www.acmicpc.net/problem/10845"
   ]
  },
  {
   "cell_type": "code",
   "execution_count": null,
   "id": "4cf464b3",
   "metadata": {},
   "outputs": [],
   "source": [
    "from collections import deque\n",
    "\n",
    "n = int(input())\n",
    "q = deque()\n",
    "for _ in range(n) :\n",
    "    command = input().split()\n",
    "    if command[0] == \"push\" :\n",
    "        q.append(command[1])\n",
    "    elif command[0] == \"pop\" :\n",
    "        if q :\n",
    "            print(q.popleft())\n",
    "        else :\n",
    "            print(-1)\n",
    "    elif command[0] == \"size\" :\n",
    "        print(len(q))\n",
    "    elif command[0] == \"empty\" :\n",
    "        if q :\n",
    "            print(0)\n",
    "        else :\n",
    "            print(1)\n",
    "    elif command[0] == \"front\" :\n",
    "        if q :\n",
    "            print(q[0])\n",
    "        else :\n",
    "            print(-1)\n",
    "    elif command[0] == \"back\" :\n",
    "        if q :\n",
    "            print(q[-1])\n",
    "        else :\n",
    "            print(-1)"
   ]
  },
  {
   "cell_type": "markdown",
   "id": "c7b13b7c",
   "metadata": {},
   "source": [
    "## 백준 2164 카드 2\n",
    "https://www.acmicpc.net/problem/2164"
   ]
  },
  {
   "cell_type": "code",
   "execution_count": null,
   "id": "6afa5b9b",
   "metadata": {},
   "outputs": [],
   "source": [
    "from collections import deque\n",
    "\n",
    "n = int(input())\n",
    "array = deque(range(n, 0 , -1))\n",
    "\n",
    "while len(array) > 1 :\n",
    "    array.pop()\n",
    "    move = array[-1]\n",
    "    array.appendleft(move)\n",
    "    array.pop()\n",
    "    \n",
    "print(array[0])"
   ]
  },
  {
   "cell_type": "markdown",
   "id": "9837d3db",
   "metadata": {},
   "source": [
    "## 백준 9935 문자열 폭발\n",
    "https://www.acmicpc.net/problem/9935"
   ]
  },
  {
   "cell_type": "code",
   "execution_count": null,
   "id": "eaa5f219",
   "metadata": {},
   "outputs": [],
   "source": [
    "from collections import deque\n",
    "\n",
    "s = deque(input())\n",
    "# s = deque(\"12ab112ab2ab\")\n",
    "explode = list(input())\n",
    "\n",
    "new_s = list()\n",
    "n = len(explode)\n",
    "while len(s) >= 0 :\n",
    "    if len(new_s) >= n and new_s[-n:] == explode :\n",
    "            for _ in range(n) :\n",
    "                new_s.pop()\n",
    "    else :\n",
    "        if s :\n",
    "            new_s.append(s.popleft())\n",
    "        else :\n",
    "            break\n",
    "if new_s :\n",
    "    print(\"\".join(new_s))\n",
    "else :\n",
    "    print(\"FRULA\")"
   ]
  },
  {
   "cell_type": "code",
   "execution_count": null,
   "id": "4eaed0a4",
   "metadata": {},
   "outputs": [],
   "source": [
    "# AC\n",
    "from collections import deque\n",
    "\n",
    "def ac(command, array) :\n",
    "    while command :\n",
    "        if command[0] == 'D' :\n",
    "            if array :\n",
    "                command.popleft()\n",
    "                array.popleft()\n",
    "            else :\n",
    "                print(\"error\")\n",
    "                return\n",
    "        elif command[0] == 'R' :\n",
    "            cnt = 0\n",
    "            while command[0] == 'R' :\n",
    "                command.popleft()\n",
    "                cnt += 1\n",
    "                if not command :\n",
    "                    break\n",
    "            if cnt % 2 == 1 :\n",
    "                array = deque(list(array)[::-1])\n",
    "    if array :\n",
    "        print(\"[\", \",\".join(map(str, array)), \"]\", sep=\"\")\n",
    "        return\n",
    "    else :\n",
    "        print(\"error\")\n",
    "        return\n",
    "\n",
    "t = int(input())\n",
    "for _ in range(t) :\n",
    "    command = deque(input())\n",
    "    n = int(input())\n",
    "    array = deque(input().rstrip(\"]\").lstrip(\"[\").split(\",\"))\n",
    "    ac(command, array)"
   ]
  },
  {
   "cell_type": "markdown",
   "id": "518c3f16",
   "metadata": {},
   "source": [
    "## 백준 1918 후위 표기식\n",
    "https://www.acmicpc.net/problem/1918\n",
    "- 숫자는 바로 정답에 추가\n",
    "- 숫자가 아닐 경우\n",
    "    - ( : 스택에 넣어줌\n",
    "    - ) : ( 가 나올때까지 스택에서 pop해서 정답에 추가. ( 는 pop으로 버림\n",
    "    - 연산자(+, -, *, /)\n",
    "        - 스택이 비었거나 top이 ( 면 스택에 넣어줌\n",
    "        - +, -\n",
    "            - 스택이 비거나 top이 ( 일때까지 pop해서 정답에 추가 후 스택에 넣어줌\n",
    "        - *, /\n",
    "            - top이 +, - 면 스택에 넣어줌\n",
    "            - top이 *, / 면 스택이 비거나 top이 ( 일때까지 pop해서 정답에 추가 후 스택에 넣어줌\n",
    "- 스택이 남았으면 전부 pop해서 정답에 추가"
   ]
  },
  {
   "cell_type": "code",
   "execution_count": null,
   "id": "ca3ae2ac",
   "metadata": {},
   "outputs": [],
   "source": [
    "equation = input().rstrip()\n",
    "stack = list()\n",
    "answer = \"\"\n",
    "p_m = {\"+\", \"-\"}\n",
    "m_d = {\"*\", \"/\"}\n",
    "for e in equation :\n",
    "    if e.isalpha() :\n",
    "        answer += e\n",
    "    else :\n",
    "        # 괄호\n",
    "        if e == \"(\" :\n",
    "            stack.append(e)\n",
    "            continue\n",
    "        if e == \")\" :\n",
    "            while stack[-1] != \"(\" :\n",
    "                answer += stack.pop()\n",
    "            stack.pop()\n",
    "        # 연산자\n",
    "        else :\n",
    "            # 스택 비었거나 마지막이 ( 면 넣어줌\n",
    "            if not stack or stack[-1] == \"(\":\n",
    "                stack.append(e)\n",
    "                continue\n",
    "            # e가 +나 -면\n",
    "            if e in p_m :\n",
    "                while stack and stack[-1] != \"(\":\n",
    "                    answer += stack.pop()\n",
    "                stack.append(e)\n",
    "                continue\n",
    "            # e가 *나 /면\n",
    "            if e in m_d :\n",
    "                if stack[-1] in p_m :\n",
    "                    stack.append(e)\n",
    "                    continue\n",
    "                if stack[-1] in m_d :\n",
    "                    answer += stack.pop()\n",
    "                    stack.append(e)\n",
    "                    continue\n",
    "while stack :\n",
    "    answer += stack.pop()\n",
    "    \n",
    "print(answer)    "
   ]
  }
 ],
 "metadata": {
  "kernelspec": {
   "display_name": "Python 3 (ipykernel)",
   "language": "python",
   "name": "python3"
  },
  "language_info": {
   "codemirror_mode": {
    "name": "ipython",
    "version": 3
   },
   "file_extension": ".py",
   "mimetype": "text/x-python",
   "name": "python",
   "nbconvert_exporter": "python",
   "pygments_lexer": "ipython3",
   "version": "3.9.13"
  },
  "toc": {
   "base_numbering": 1,
   "nav_menu": {},
   "number_sections": true,
   "sideBar": true,
   "skip_h1_title": false,
   "title_cell": "Table of Contents",
   "title_sidebar": "Contents",
   "toc_cell": false,
   "toc_position": {},
   "toc_section_display": true,
   "toc_window_display": true
  },
  "varInspector": {
   "cols": {
    "lenName": 16,
    "lenType": 16,
    "lenVar": 40
   },
   "kernels_config": {
    "python": {
     "delete_cmd_postfix": "",
     "delete_cmd_prefix": "del ",
     "library": "var_list.py",
     "varRefreshCmd": "print(var_dic_list())"
    },
    "r": {
     "delete_cmd_postfix": ") ",
     "delete_cmd_prefix": "rm(",
     "library": "var_list.r",
     "varRefreshCmd": "cat(var_dic_list()) "
    }
   },
   "types_to_exclude": [
    "module",
    "function",
    "builtin_function_or_method",
    "instance",
    "_Feature"
   ],
   "window_display": false
  }
 },
 "nbformat": 4,
 "nbformat_minor": 5
}
