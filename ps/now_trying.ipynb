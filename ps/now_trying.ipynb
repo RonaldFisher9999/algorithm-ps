{
 "cells": [
  {
   "cell_type": "code",
   "execution_count": 3,
   "id": "f6f493aa",
   "metadata": {
    "ExecuteTime": {
     "end_time": "2023-02-15T15:32:16.352029Z",
     "start_time": "2023-02-15T15:32:16.336272Z"
    }
   },
   "outputs": [
    {
     "name": "stdout",
     "output_type": "stream",
     "text": [
      "1 2\n"
     ]
    }
   ],
   "source": [
    "# 1325\n",
    "# input = open(\"input.txt\").readline\n",
    "\n",
    "# import sys\n",
    "# input = sys.stdin.readline\n",
    "from collections import deque\n",
    "\n",
    "n, m = map(int, input().split())\n",
    "graph = [[] for _ in range(n + 1)]\n",
    "for _ in range(m) :\n",
    "    a, b = map(int, input().split())\n",
    "    graph[b].append(a)\n",
    "\n",
    "def bfs(start) :\n",
    "    cnt = 0\n",
    "    visited = set([start])\n",
    "    to_visit = deque([start])\n",
    "    while to_visit :\n",
    "        now = to_visit.popleft()\n",
    "        for near in graph[now] :\n",
    "            if near not in visited :\n",
    "                to_visit.append(near)\n",
    "                cnt += 1\n",
    "    return cnt\n",
    "\n",
    "max_hack = 1\n",
    "answer = dict()\n",
    "for i in range(1, n + 1) :\n",
    "    i_hack = bfs(i)\n",
    "    if max_hack < i_hack :\n",
    "        max_hack = i_hack\n",
    "        answer[max_hack] = [i]\n",
    "    elif max_hack == i_hack :\n",
    "        answer[max_hack].append(i)\n",
    "print(*answer[max_hack])"
   ]
  }
 ],
 "metadata": {
  "kernelspec": {
   "display_name": "Python 3 (ipykernel)",
   "language": "python",
   "name": "python3"
  },
  "language_info": {
   "codemirror_mode": {
    "name": "ipython",
    "version": 3
   },
   "file_extension": ".py",
   "mimetype": "text/x-python",
   "name": "python",
   "nbconvert_exporter": "python",
   "pygments_lexer": "ipython3",
   "version": "3.9.13"
  },
  "toc": {
   "base_numbering": 1,
   "nav_menu": {},
   "number_sections": true,
   "sideBar": true,
   "skip_h1_title": false,
   "title_cell": "Table of Contents",
   "title_sidebar": "Contents",
   "toc_cell": false,
   "toc_position": {},
   "toc_section_display": true,
   "toc_window_display": false
  },
  "varInspector": {
   "cols": {
    "lenName": 16,
    "lenType": 16,
    "lenVar": 40
   },
   "kernels_config": {
    "python": {
     "delete_cmd_postfix": "",
     "delete_cmd_prefix": "del ",
     "library": "var_list.py",
     "varRefreshCmd": "print(var_dic_list())"
    },
    "r": {
     "delete_cmd_postfix": ") ",
     "delete_cmd_prefix": "rm(",
     "library": "var_list.r",
     "varRefreshCmd": "cat(var_dic_list()) "
    }
   },
   "types_to_exclude": [
    "module",
    "function",
    "builtin_function_or_method",
    "instance",
    "_Feature"
   ],
   "window_display": false
  }
 },
 "nbformat": 4,
 "nbformat_minor": 5
}
