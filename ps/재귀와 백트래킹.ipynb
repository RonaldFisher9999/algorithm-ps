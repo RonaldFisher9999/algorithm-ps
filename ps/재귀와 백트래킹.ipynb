{
 "cells": [
  {
   "cell_type": "markdown",
   "id": "93ae7b99",
   "metadata": {},
   "source": [
    "# 재귀와 백트래킹"
   ]
  },
  {
   "cell_type": "markdown",
   "id": "05d104d0",
   "metadata": {
    "ExecuteTime": {
     "end_time": "2023-02-02T00:47:05.105225Z",
     "start_time": "2023-02-02T00:47:05.099198Z"
    }
   },
   "source": [
    "## 백준 15649 N과 M (1)\n",
    "https://www.acmicpc.net/problem/15649\n",
    "- 순열"
   ]
  },
  {
   "cell_type": "code",
   "execution_count": null,
   "id": "60597892",
   "metadata": {},
   "outputs": [],
   "source": [
    "n = int(input())\n",
    "array = []\n",
    "visited = [False] * (n + 1)\n",
    "cnt = 0\n",
    "def perm(n) :\n",
    "    global cnt\n",
    "    if len(array) == n :\n",
    "        cnt += 1\n",
    "        print(cnt, array)\n",
    "        return\n",
    "    else :\n",
    "        for i in range(1, n + 1) :\n",
    "            if not visited[i] :\n",
    "                visited[i] = True\n",
    "                array.append(i)\n",
    "                perm(n)\n",
    "                array.pop()\n",
    "                visited[i] = False\n",
    "perm(n)"
   ]
  },
  {
   "cell_type": "markdown",
   "id": "950be3c5",
   "metadata": {
    "ExecuteTime": {
     "end_time": "2023-02-02T00:49:44.880079Z",
     "start_time": "2023-02-02T00:49:44.875048Z"
    }
   },
   "source": [
    "## 백준 11729 하노이 탑 이동 순서\n",
    "https://www.acmicpc.net/problem/11729"
   ]
  },
  {
   "cell_type": "code",
   "execution_count": null,
   "id": "16d63a41",
   "metadata": {},
   "outputs": [],
   "source": [
    "def hanoi(n, start, end, mid) :\n",
    "\n",
    "    if n == 1 :\n",
    "        print(start, end)\n",
    "        return\n",
    "    else :\n",
    "        hanoi(n - 1, start, mid, end)\n",
    "        print(start, end)\n",
    "        hanoi(n - 1, mid, end, start)\n",
    "\n",
    "n = int(input())\n",
    "print(2 ** n - 1)\n",
    "hanoi(n, 1, 3, 2)"
   ]
  },
  {
   "cell_type": "markdown",
   "id": "159df44d",
   "metadata": {},
   "source": [
    "## 백준 17070 파이프 옮기기 1 실패\n",
    "https://www.acmicpc.net/problem/17070\n",
    "- 재귀만 쓰면 시간초과"
   ]
  },
  {
   "cell_type": "code",
   "execution_count": null,
   "id": "fb89acbd",
   "metadata": {},
   "outputs": [],
   "source": [
    "def recurs(x, y, shape) :\n",
    "\n",
    "    global ans\n",
    "    if x >= n or y >= n :\n",
    "        return\n",
    "    if shape == 1 and x == n - 1 and y != n - 1 :\n",
    "        return\n",
    "    if shape == 0 and y == n - 1 and x != n - 1 :\n",
    "        return\n",
    "    if x == n - 1 and y == n - 1 :\n",
    "        ans += 1\n",
    "    if y <= n - 2 and graph[x][y + 1] == 0 and (shape == 0 or shape == 2) :\n",
    "        recurs(x, y+1, 0)\n",
    "    if x <= n - 2 and graph[x + 1][y] == 0 and (shape == 1 or shape == 2) :\n",
    "        recurs(x+1, y, 1)\n",
    "    if x <= n - 2 and y <= n - 2 and graph[x][y + 1] == 0 and graph[x + 1][y] == 0 and graph[x + 1][y + 1] == 0 :\n",
    "        recurs(x+1, y+1, 2)\n",
    "\n",
    "n = int(input())\n",
    "graph = [list(map(int, input().split())) for _ in range(n)]\n",
    "ans = 0\n",
    "recurs(0, 1, 0)\n",
    "print(ans)"
   ]
  },
  {
   "cell_type": "markdown",
   "id": "6e1f9dcd",
   "metadata": {},
   "source": [
    "## 백준 2630 색종이 만들기\n",
    "https://www.acmicpc.net/problem/2630"
   ]
  },
  {
   "cell_type": "code",
   "execution_count": null,
   "id": "edaf6a6f",
   "metadata": {},
   "outputs": [],
   "source": [
    "n = int(input())\n",
    "graph = [list(map(int, input().split())) for _ in range(n)]\n",
    "# graph = [[1, 1, 0, 0, 0, 0, 1, 1],\n",
    "#          [1, 1, 0, 0, 0, 0, 1, 1],\n",
    "#          [0, 0, 0, 0, 1, 1, 0, 0],\n",
    "#          [0, 0, 0, 0, 1, 1, 0, 0],\n",
    "#          [1, 0, 0, 0, 1, 1, 1, 1],\n",
    "#          [0, 1, 0, 0, 1, 1, 1, 1],\n",
    "#          [0, 0, 1, 1, 1, 1, 1, 1],\n",
    "#          [0, 0, 1, 1, 1, 1, 1, 1]]\n",
    "\n",
    "w, b = 0, 0\n",
    "def recurs(graph, n) :\n",
    "    global w, b\n",
    "    if sum([sum(i) for i in graph]) == 0 :\n",
    "        w += 1\n",
    "        return\n",
    "    if sum([sum(i) for i in graph]) == n ** 2 :\n",
    "        b += 1\n",
    "        return\n",
    "    else :\n",
    "        n_2 = n // 2\n",
    "        recurs([i[:n_2] for i in graph][:n_2], n_2)\n",
    "        recurs([i[:n_2] for i in graph][n_2:], n_2)\n",
    "        recurs([i[n_2:] for i in graph][:n_2], n_2)\n",
    "        recurs([i[n_2:] for i in graph][n_2:], n_2)\n",
    "\n",
    "recurs(graph, n)\n",
    "print(w)\n",
    "print(b)"
   ]
  },
  {
   "cell_type": "markdown",
   "id": "cf9a373a",
   "metadata": {},
   "source": [
    "## 프로그래머스 쿼드압축 후 개수 세기\n",
    "https://school.programmers.co.kr/learn/courses/30/lessons/68936\n",
    "- 문제 구조는 백준 2630과 동일"
   ]
  },
  {
   "cell_type": "code",
   "execution_count": null,
   "id": "1dd937d9",
   "metadata": {},
   "outputs": [],
   "source": [
    "def solution(arr) :\n",
    "    answer = [0, 0]\n",
    "    n = len(arr)\n",
    "    # 탐색 시작점 (x, y)와 탐색범위 l 지정\n",
    "    def btr(x, y, l) :\n",
    "        start = arr[x][y]\n",
    "        for i in range(x, x + l) :\n",
    "            for j in range(y, y + l) :\n",
    "                # 시작점과 다른 값이 있으면 4분할 해서 탐색\n",
    "                # 그에 따른 시작점과 탐색범위 재지정\n",
    "                if arr[i][j] != start :\n",
    "                    btr(x, y, l//2)\n",
    "                    btr(x + l//2, y, l//2)\n",
    "                    btr(x, y + l//2, l//2)\n",
    "                    btr(x + l//2, y + l//2, l//2)\n",
    "                    return\n",
    "        # 시작점과 모두 같으면 +1\n",
    "        answer[start] += 1\n",
    "    \n",
    "    btr(0, 0, n)\n",
    "    return answer\n",
    "arr = [[1,1,1,1,1,1,1,1],\n",
    "       [0,1,1,1,1,1,1,1],\n",
    "       [0,0,0,0,1,1,1,1],\n",
    "       [0,1,0,0,1,1,1,1],\n",
    "       [0,0,0,0,0,0,1,1],\n",
    "       [0,0,0,0,0,0,0,1],\n",
    "       [0,0,0,0,1,0,0,1],\n",
    "       [0,0,0,0,1,1,1,1]]\n",
    "print(solution(arr))"
   ]
  },
  {
   "cell_type": "markdown",
   "id": "a0d30b7d",
   "metadata": {},
   "source": [
    "## 백준 1780 종이의 개수\n",
    "https://www.acmicpc.net/problem/1780"
   ]
  },
  {
   "cell_type": "code",
   "execution_count": null,
   "id": "5e7a7331",
   "metadata": {},
   "outputs": [],
   "source": [
    "n = int(input())\n",
    "graph = [list(map(int, input().split())) for _ in range(n)]\n",
    "# graph = [[0, 0, 0, 1, 1, 1, -1, -1, -1],\n",
    "#          [0, 0, 0, 1, 1, 1, -1, -1, -1],\n",
    "#          [0, 0, 0, 1, 1, 1, -1, -1, -1],\n",
    "#          [1, 1, 1, 0, 0, 0, 0, 0, 0],\n",
    "#          [1, 1, 1, 0, 0, 0, 0, 0, 0],\n",
    "#          [1, 1, 1, 0, 0, 0, 0, 0, 0],\n",
    "#          [0, 1, -1, 0, 1, -1, 0, 1, -1],\n",
    "#          [0, -1, 1, 0, 1, -1, 0, 1, -1],\n",
    "#          [0, 1, -1, 1, 0, -1, 0, 1, -1]]\n",
    "\n",
    "cnt__1, cnt_0, cnt_1 = 0, 0, 0\n",
    "def back_track(graph, n) :\n",
    "    global cnt__1, cnt_0, cnt_1\n",
    "    n_sq = n ** 2\n",
    "    sum_graph = sum([sum(row) for row in graph])\n",
    "    if sum_graph == n_sq :\n",
    "        cnt_1 += 1\n",
    "        return\n",
    "    elif sum_graph == -n_sq :\n",
    "        cnt__1 += 1\n",
    "        return\n",
    "    elif graph == [[0] * n for _ in range(n)] :\n",
    "        cnt_0 += 1\n",
    "        return\n",
    "    else :\n",
    "        n_d3 = n // 3\n",
    "        for i in range(3) :\n",
    "            for j in range(3) :\n",
    "                back_track([row[i * n_d3 : (i + 1) * n_d3] for row in graph][j * n_d3 : (j + 1) * n_d3], n_d3)\n",
    "\n",
    "back_track(graph, n)                           \n",
    "print(cnt__1)\n",
    "print(cnt_0)\n",
    "print(cnt_1)"
   ]
  },
  {
   "cell_type": "markdown",
   "id": "1ab7a615",
   "metadata": {},
   "source": [
    "## 백준 9663 N-Queen\n",
    "https://www.acmicpc.net/problem/9663"
   ]
  },
  {
   "cell_type": "code",
   "execution_count": null,
   "id": "c0abb4b2",
   "metadata": {},
   "outputs": [],
   "source": [
    "n = int(input())\n",
    "# row[x] = i : x번째 행의 i번째 열에 퀸이 있음\n",
    "row = [0] * n\n",
    "# 전체 체스판에서 해당 index의 열에 퀸이 있으면 True, 없으면 False\n",
    "visited = [False] * n\n",
    "cnt = 0\n",
    "# x번째 행에 놓인 퀸이 조건을 만족하는지 탐색. 만족하면 True, 아니면 False\n",
    "def check(x) :\n",
    "    # 이전 row들과 비교해서 탐색. visited로 애초에 다른 열에 배치했으므로 대각선만 체크\n",
    "    for i in range(x) :\n",
    "        if abs(i - x) == abs(row[i] - row[x]) :\n",
    "            return False\n",
    "    return True\n",
    "\n",
    "# x : 현재 탐색하고 있는 행 index\n",
    "def nqueen(x) :\n",
    "    global cnt\n",
    "    # 마지막 행까지 퀸 놓았으면 cnt에 1 더하고 return\n",
    "    if x == n :\n",
    "        cnt += 1\n",
    "        return\n",
    "    else :\n",
    "        for i in range(n) :\n",
    "            # 전체 열 범위에서 아직 놓지 않은 열이 있으면 x행, i열에 퀸 놓음\n",
    "            if not visited[i] :\n",
    "                row[x] = i\n",
    "                # x행 i열에 퀸 놓는게 가능하면\n",
    "                if check(x) :\n",
    "                    # i열 방문 처리하고\n",
    "                    visited[i] = True\n",
    "                    # x+1행에서 탐색\n",
    "                    nqueen(x + 1)\n",
    "                    # 탐색 끝나면 i열 방문 처리 해제하고 다음 열 탐색\n",
    "                    visited[i] = False\n",
    "\n",
    "nqueen(0)\n",
    "print(cnt)"
   ]
  },
  {
   "cell_type": "markdown",
   "id": "bbb55be4",
   "metadata": {},
   "source": [
    "## 백준 10971 외판원 순회 2\n",
    "https://www.acmicpc.net/problem/10971"
   ]
  },
  {
   "cell_type": "code",
   "execution_count": null,
   "id": "6d7b1b75",
   "metadata": {},
   "outputs": [],
   "source": [
    "n = int(input())\n",
    "graph = [list(map(int, input().split())) for _ in range(n)]\n",
    "# graph = [[0, 10, 15, 20],\n",
    "#          [5, 0, 9, 10],\n",
    "#          [6, 13, 0, 12],\n",
    "#          [8, 8, 9, 0]]\n",
    "# graph = [[0, 5, 9, 10],\n",
    "#          [6, 0, 13, 12],\n",
    "#          [8, 8, 0, 9],\n",
    "#          [20, 15, 20, 0]]\n",
    "\n",
    "\n",
    "min_cost = int(1e9)\n",
    "visited = [False] * n\n",
    "\n",
    "# now : 현재 방문 중인 도시, now_cost : 지금까지 비용, visits_cnt : 지금까지 방문한 도시 수\n",
    "def back_track(now, now_cost, visits_cnt) :\n",
    "    global min_cost\n",
    "    # 지금까지 비용이 최소 비용보다 크면 더 이상 탐색 X\n",
    "    if now_cost >= min_cost :\n",
    "        return\n",
    "    # 모든 도시 다 방문하면\n",
    "    if visits_cnt == n :\n",
    "        # 처음 시작한 도시로 돌아가야 함\n",
    "        if graph[now][start] != 0 :\n",
    "            min_cost = min(min_cost, now_cost + graph[now][start])\n",
    "        return\n",
    "    \n",
    "    for i in range(n) :\n",
    "        # 방문하지 않은 도시 i에 대해 현재 도시로부터 길이 있으면 방문\n",
    "        if visited[i] == False and graph[now][i] != 0 :\n",
    "            visited[i] = True\n",
    "            back_track(i, now_cost + graph[now][i], visits_cnt + 1)\n",
    "            visited[i] = False\n",
    "            \n",
    "\n",
    "# 순회할 수 있는 길이 있으면 어디서 시작해도 상관없음 -> 따라서 모든 시작점을 테스트할 필요 없음\n",
    "# 시작점이 0인 경우만 고려\n",
    "visited[0] = True\n",
    "start = 0\n",
    "back_track(0, 0, 1)\n",
    "'''\n",
    "# 모든 도시를 시작점으로 한번씩 지정\n",
    "for i in range(n) :\n",
    "    visited[i] = True\n",
    "    start = i\n",
    "    back_track(i, 0, 1)\n",
    "    visited[i] = False\n",
    "'''\n",
    "print(min_cost)"
   ]
  },
  {
   "cell_type": "code",
   "execution_count": null,
   "id": "3dca9ec7",
   "metadata": {},
   "outputs": [],
   "source": [
    "# itertools 사용한 풀이\n",
    "from itertools import permutations as perm\n",
    "\n",
    "n = int(input())\n",
    "graph = [list(map(int, input().split())) for _ in range(n)]\n",
    "# graph = [[0, 10, 15, 20],\n",
    "#          [5, 0, 9, 10],\n",
    "#          [6, 13, 0, 12],\n",
    "#          [8, 8, 9, 0]]\n",
    "\n",
    "min_cost = int(1e9)\n",
    "for p in perm(range(n), n) :\n",
    "    now_cost = 0\n",
    "    route = list(p) + [p[0]]\n",
    "    for i in range(n) :\n",
    "        if graph[route[i]][route[i+1]] == 0 :\n",
    "            break\n",
    "        now_cost += graph[route[i]][route[i+1]]\n",
    "        if now_cost >= min_cost :\n",
    "            break\n",
    "    else :\n",
    "        min_cost = min(min_cost, now_cost)\n",
    "    \n",
    "print(min_cost)"
   ]
  },
  {
   "cell_type": "markdown",
   "id": "2d58d80d",
   "metadata": {},
   "source": [
    "## 백준 24512 Bottleneck Travelling Salesman Problem (Small)\n",
    "https://www.acmicpc.net/problem/24512\n",
    "- 외판원 순회 문제의 변형\n",
    "- 현 비용이 나중에 더 낮게 갱신될 수 있음  \n",
    "  -> 비용이 누적되기만 하는 외.순과는 달리 현 비용이 최소 비용보다 크다고 탐색 종료 불가"
   ]
  },
  {
   "cell_type": "code",
   "execution_count": null,
   "id": "0e63b4d0",
   "metadata": {},
   "outputs": [],
   "source": [
    "# f = open(\"input.txt\")\n",
    "# input = f.readline\n",
    "\n",
    "n, m = map(int, input().split())\n",
    "graph = [[0] * (n + 1) for _ in range(n + 1)]\n",
    "for _ in range(m) :\n",
    "    a, b, c = map(int, input().split())\n",
    "    graph[a][b] = c\n",
    "\n",
    "min_cost = int(1e9)\n",
    "min_cost_route = list()\n",
    "route = list()\n",
    "visited = [0] * (n + 1)\n",
    "def back_track(now, cost, cnt) :\n",
    "    global min_cost, min_cost_route\n",
    "    if cnt == n :\n",
    "        if graph[now][1] and min_cost > max(cost, graph[now][1]) :\n",
    "            min_cost = max(cost, graph[now][1])\n",
    "            min_cost_route = route[:]\n",
    "        return\n",
    "    for i in range(1, n+1) :\n",
    "        if graph[now][i] and not visited[i] :\n",
    "            visited[i] = 1\n",
    "            route.append(i)\n",
    "            back_track(i, max(cost, graph[now][i]), cnt + 1)\n",
    "            visited[i] = 0\n",
    "            route.pop()\n",
    "            \n",
    "visited[1] = 1\n",
    "route.append(1)\n",
    "back_track(1, 0, 1)\n",
    "\n",
    "if not min_cost_route :\n",
    "    print(-1)\n",
    "else :\n",
    "    print(min_cost)\n",
    "    print(*min_cost_route)"
   ]
  }
 ],
 "metadata": {
  "kernelspec": {
   "display_name": "Python 3 (ipykernel)",
   "language": "python",
   "name": "python3"
  },
  "language_info": {
   "codemirror_mode": {
    "name": "ipython",
    "version": 3
   },
   "file_extension": ".py",
   "mimetype": "text/x-python",
   "name": "python",
   "nbconvert_exporter": "python",
   "pygments_lexer": "ipython3",
   "version": "3.9.13"
  },
  "toc": {
   "base_numbering": 1,
   "nav_menu": {},
   "number_sections": true,
   "sideBar": true,
   "skip_h1_title": false,
   "title_cell": "Table of Contents",
   "title_sidebar": "Contents",
   "toc_cell": false,
   "toc_position": {},
   "toc_section_display": true,
   "toc_window_display": true
  },
  "varInspector": {
   "cols": {
    "lenName": 16,
    "lenType": 16,
    "lenVar": 40
   },
   "kernels_config": {
    "python": {
     "delete_cmd_postfix": "",
     "delete_cmd_prefix": "del ",
     "library": "var_list.py",
     "varRefreshCmd": "print(var_dic_list())"
    },
    "r": {
     "delete_cmd_postfix": ") ",
     "delete_cmd_prefix": "rm(",
     "library": "var_list.r",
     "varRefreshCmd": "cat(var_dic_list()) "
    }
   },
   "types_to_exclude": [
    "module",
    "function",
    "builtin_function_or_method",
    "instance",
    "_Feature"
   ],
   "window_display": false
  }
 },
 "nbformat": 4,
 "nbformat_minor": 5
}
